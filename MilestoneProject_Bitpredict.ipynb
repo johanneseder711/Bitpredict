{
 "cells": [
  {
   "cell_type": "markdown",
   "id": "7ce3ed8f",
   "metadata": {},
   "source": [
    "# Get the data into our notebook"
   ]
  },
  {
   "cell_type": "markdown",
   "id": "ae0a6d24",
   "metadata": {},
   "source": [
    "> <font size=\"5\"> 📚 Check out the [Github reference](https://github.com/mrdbourke/tensorflow-deep-learning) of Daniel Bourke </font> "
   ]
  },
  {
   "cell_type": "markdown",
   "id": "bc9958ae",
   "metadata": {},
   "source": [
    "## IMPORTS"
   ]
  },
  {
   "cell_type": "code",
   "execution_count": 354,
   "id": "b1b690d0",
   "metadata": {},
   "outputs": [],
   "source": [
    "import os\n",
    "import pandas as pd\n",
    "import matplotlib.pyplot as plt\n",
    "import numpy as np\n",
    "import tensorflow as tf"
   ]
  },
  {
   "cell_type": "markdown",
   "id": "4b541d76",
   "metadata": {},
   "source": [
    "## Download the data with wget"
   ]
  },
  {
   "cell_type": "code",
   "execution_count": 355,
   "id": "d8a1cfec",
   "metadata": {},
   "outputs": [
    {
     "name": "stdout",
     "output_type": "stream",
     "text": [
      "CSV file already downloaded and accessible in the directory\n"
     ]
    }
   ],
   "source": [
    "if \"BTC_USD_2013-10-01_2021-05-18-CoinDesk.csv\" in os.listdir():\n",
    "    print('CSV file already downloaded and accessible in the directory')\n",
    "else:\n",
    "    try:\n",
    "        !wget https://raw.githubusercontent.com/mrdbourke/tensorflow-deep-learning/main/extras/BTC_USD_2013-10-01_2021-05-18-CoinDesk.csv\n",
    "    except:\n",
    "        print(\"command wget not working - Install by 'brew install wget'\")"
   ]
  },
  {
   "cell_type": "markdown",
   "id": "d3c9bae0",
   "metadata": {},
   "source": [
    "## Import CSV with pandas"
   ]
  },
  {
   "cell_type": "code",
   "execution_count": 356,
   "id": "02874088",
   "metadata": {},
   "outputs": [],
   "source": [
    "# read in data from csv\n",
    "# fromat dates to datetime and set as index\n",
    "path = 'BTC_USD_2013-10-01_2021-05-18-CoinDesk.csv'\n",
    "df = pd.read_csv(path,sep=',',parse_dates=['Date'],index_col = 'Date')"
   ]
  },
  {
   "cell_type": "code",
   "execution_count": 357,
   "id": "38b2f405",
   "metadata": {},
   "outputs": [
    {
     "data": {
      "text/html": [
       "<div>\n",
       "<style scoped>\n",
       "    .dataframe tbody tr th:only-of-type {\n",
       "        vertical-align: middle;\n",
       "    }\n",
       "\n",
       "    .dataframe tbody tr th {\n",
       "        vertical-align: top;\n",
       "    }\n",
       "\n",
       "    .dataframe thead th {\n",
       "        text-align: right;\n",
       "    }\n",
       "</style>\n",
       "<table border=\"1\" class=\"dataframe\">\n",
       "  <thead>\n",
       "    <tr style=\"text-align: right;\">\n",
       "      <th></th>\n",
       "      <th>Currency</th>\n",
       "      <th>Closing Price (USD)</th>\n",
       "      <th>24h Open (USD)</th>\n",
       "      <th>24h High (USD)</th>\n",
       "      <th>24h Low (USD)</th>\n",
       "    </tr>\n",
       "    <tr>\n",
       "      <th>Date</th>\n",
       "      <th></th>\n",
       "      <th></th>\n",
       "      <th></th>\n",
       "      <th></th>\n",
       "      <th></th>\n",
       "    </tr>\n",
       "  </thead>\n",
       "  <tbody>\n",
       "    <tr>\n",
       "      <th>2013-10-01</th>\n",
       "      <td>BTC</td>\n",
       "      <td>123.65499</td>\n",
       "      <td>124.30466</td>\n",
       "      <td>124.75166</td>\n",
       "      <td>122.56349</td>\n",
       "    </tr>\n",
       "    <tr>\n",
       "      <th>2013-10-02</th>\n",
       "      <td>BTC</td>\n",
       "      <td>125.45500</td>\n",
       "      <td>123.65499</td>\n",
       "      <td>125.75850</td>\n",
       "      <td>123.63383</td>\n",
       "    </tr>\n",
       "    <tr>\n",
       "      <th>2013-10-03</th>\n",
       "      <td>BTC</td>\n",
       "      <td>108.58483</td>\n",
       "      <td>125.45500</td>\n",
       "      <td>125.66566</td>\n",
       "      <td>83.32833</td>\n",
       "    </tr>\n",
       "    <tr>\n",
       "      <th>2013-10-04</th>\n",
       "      <td>BTC</td>\n",
       "      <td>118.67466</td>\n",
       "      <td>108.58483</td>\n",
       "      <td>118.67500</td>\n",
       "      <td>107.05816</td>\n",
       "    </tr>\n",
       "    <tr>\n",
       "      <th>2013-10-05</th>\n",
       "      <td>BTC</td>\n",
       "      <td>121.33866</td>\n",
       "      <td>118.67466</td>\n",
       "      <td>121.93633</td>\n",
       "      <td>118.00566</td>\n",
       "    </tr>\n",
       "  </tbody>\n",
       "</table>\n",
       "</div>"
      ],
      "text/plain": [
       "           Currency  Closing Price (USD)  24h Open (USD)  24h High (USD)  \\\n",
       "Date                                                                       \n",
       "2013-10-01      BTC            123.65499       124.30466       124.75166   \n",
       "2013-10-02      BTC            125.45500       123.65499       125.75850   \n",
       "2013-10-03      BTC            108.58483       125.45500       125.66566   \n",
       "2013-10-04      BTC            118.67466       108.58483       118.67500   \n",
       "2013-10-05      BTC            121.33866       118.67466       121.93633   \n",
       "\n",
       "            24h Low (USD)  \n",
       "Date                       \n",
       "2013-10-01      122.56349  \n",
       "2013-10-02      123.63383  \n",
       "2013-10-03       83.32833  \n",
       "2013-10-04      107.05816  \n",
       "2013-10-05      118.00566  "
      ]
     },
     "execution_count": 357,
     "metadata": {},
     "output_type": "execute_result"
    }
   ],
   "source": [
    "df.head()"
   ]
  },
  {
   "cell_type": "code",
   "execution_count": 358,
   "id": "06feb691",
   "metadata": {},
   "outputs": [
    {
     "data": {
      "text/html": [
       "<div>\n",
       "<style scoped>\n",
       "    .dataframe tbody tr th:only-of-type {\n",
       "        vertical-align: middle;\n",
       "    }\n",
       "\n",
       "    .dataframe tbody tr th {\n",
       "        vertical-align: top;\n",
       "    }\n",
       "\n",
       "    .dataframe thead th {\n",
       "        text-align: right;\n",
       "    }\n",
       "</style>\n",
       "<table border=\"1\" class=\"dataframe\">\n",
       "  <thead>\n",
       "    <tr style=\"text-align: right;\">\n",
       "      <th></th>\n",
       "      <th>Currency</th>\n",
       "      <th>Closing Price (USD)</th>\n",
       "      <th>24h Open (USD)</th>\n",
       "      <th>24h High (USD)</th>\n",
       "      <th>24h Low (USD)</th>\n",
       "    </tr>\n",
       "    <tr>\n",
       "      <th>Date</th>\n",
       "      <th></th>\n",
       "      <th></th>\n",
       "      <th></th>\n",
       "      <th></th>\n",
       "      <th></th>\n",
       "    </tr>\n",
       "  </thead>\n",
       "  <tbody>\n",
       "    <tr>\n",
       "      <th>2021-05-14</th>\n",
       "      <td>BTC</td>\n",
       "      <td>49764.132082</td>\n",
       "      <td>49596.778891</td>\n",
       "      <td>51448.798576</td>\n",
       "      <td>46294.720180</td>\n",
       "    </tr>\n",
       "    <tr>\n",
       "      <th>2021-05-15</th>\n",
       "      <td>BTC</td>\n",
       "      <td>50032.693137</td>\n",
       "      <td>49717.354353</td>\n",
       "      <td>51578.312545</td>\n",
       "      <td>48944.346536</td>\n",
       "    </tr>\n",
       "    <tr>\n",
       "      <th>2021-05-16</th>\n",
       "      <td>BTC</td>\n",
       "      <td>47885.625255</td>\n",
       "      <td>49926.035067</td>\n",
       "      <td>50690.802950</td>\n",
       "      <td>47005.102292</td>\n",
       "    </tr>\n",
       "    <tr>\n",
       "      <th>2021-05-17</th>\n",
       "      <td>BTC</td>\n",
       "      <td>45604.615754</td>\n",
       "      <td>46805.537852</td>\n",
       "      <td>49670.414174</td>\n",
       "      <td>43868.638969</td>\n",
       "    </tr>\n",
       "    <tr>\n",
       "      <th>2021-05-18</th>\n",
       "      <td>BTC</td>\n",
       "      <td>43144.471291</td>\n",
       "      <td>46439.336570</td>\n",
       "      <td>46622.853437</td>\n",
       "      <td>42102.346430</td>\n",
       "    </tr>\n",
       "  </tbody>\n",
       "</table>\n",
       "</div>"
      ],
      "text/plain": [
       "           Currency  Closing Price (USD)  24h Open (USD)  24h High (USD)  \\\n",
       "Date                                                                       \n",
       "2021-05-14      BTC         49764.132082    49596.778891    51448.798576   \n",
       "2021-05-15      BTC         50032.693137    49717.354353    51578.312545   \n",
       "2021-05-16      BTC         47885.625255    49926.035067    50690.802950   \n",
       "2021-05-17      BTC         45604.615754    46805.537852    49670.414174   \n",
       "2021-05-18      BTC         43144.471291    46439.336570    46622.853437   \n",
       "\n",
       "            24h Low (USD)  \n",
       "Date                       \n",
       "2021-05-14   46294.720180  \n",
       "2021-05-15   48944.346536  \n",
       "2021-05-16   47005.102292  \n",
       "2021-05-17   43868.638969  \n",
       "2021-05-18   42102.346430  "
      ]
     },
     "execution_count": 358,
     "metadata": {},
     "output_type": "execute_result"
    }
   ],
   "source": [
    "df.tail()"
   ]
  },
  {
   "cell_type": "code",
   "execution_count": 359,
   "id": "87ec444d",
   "metadata": {},
   "outputs": [
    {
     "name": "stdout",
     "output_type": "stream",
     "text": [
      "<class 'pandas.core.frame.DataFrame'>\n",
      "DatetimeIndex: 2787 entries, 2013-10-01 to 2021-05-18\n",
      "Data columns (total 5 columns):\n",
      " #   Column               Non-Null Count  Dtype  \n",
      "---  ------               --------------  -----  \n",
      " 0   Currency             2787 non-null   object \n",
      " 1   Closing Price (USD)  2787 non-null   float64\n",
      " 2   24h Open (USD)       2787 non-null   float64\n",
      " 3   24h High (USD)       2787 non-null   float64\n",
      " 4   24h Low (USD)        2787 non-null   float64\n",
      "dtypes: float64(4), object(1)\n",
      "memory usage: 130.6+ KB\n"
     ]
    }
   ],
   "source": [
    "df.info()"
   ]
  },
  {
   "cell_type": "markdown",
   "id": "324976cc",
   "metadata": {},
   "source": [
    "## Plot the data using pandas"
   ]
  },
  {
   "cell_type": "code",
   "execution_count": 360,
   "id": "c7e5d26a",
   "metadata": {},
   "outputs": [
    {
     "data": {
      "image/png": "[encoded data removed]",
      "text/plain": [
       "<Figure size 720x504 with 1 Axes>"
      ]
     },
     "metadata": {
      "needs_background": "light"
     },
     "output_type": "display_data"
    }
   ],
   "source": [
    "df.iloc[:,1].plot(figsize=(10,7))\n",
    "plt.title('Bitcoin Closing Price Data',fontsize=17)\n",
    "plt.ylabel('Price in USD')\n",
    "plt.show()"
   ]
  },
  {
   "cell_type": "markdown",
   "id": "663df21f",
   "metadata": {},
   "source": [
    "> 🔑 **Seasonality**: The seasonality of time series data is how many samples do we have of this data per year. So for our Bitcoin data we have a saisonality of daily or a value of 365."
   ]
  },
  {
   "cell_type": "code",
   "execution_count": 361,
   "id": "e1a19673",
   "metadata": {},
   "outputs": [],
   "source": [
    "bitcion_prices = df[['Closing Price (USD)']].rename(columns={'Closing Price (USD)':'Price'})"
   ]
  },
  {
   "cell_type": "code",
   "execution_count": 362,
   "id": "a2e9d773",
   "metadata": {},
   "outputs": [
    {
     "data": {
      "text/html": [
       "<div>\n",
       "<style scoped>\n",
       "    .dataframe tbody tr th:only-of-type {\n",
       "        vertical-align: middle;\n",
       "    }\n",
       "\n",
       "    .dataframe tbody tr th {\n",
       "        vertical-align: top;\n",
       "    }\n",
       "\n",
       "    .dataframe thead th {\n",
       "        text-align: right;\n",
       "    }\n",
       "</style>\n",
       "<table border=\"1\" class=\"dataframe\">\n",
       "  <thead>\n",
       "    <tr style=\"text-align: right;\">\n",
       "      <th></th>\n",
       "      <th>Price</th>\n",
       "    </tr>\n",
       "    <tr>\n",
       "      <th>Date</th>\n",
       "      <th></th>\n",
       "    </tr>\n",
       "  </thead>\n",
       "  <tbody>\n",
       "    <tr>\n",
       "      <th>2013-10-01</th>\n",
       "      <td>123.65499</td>\n",
       "    </tr>\n",
       "    <tr>\n",
       "      <th>2013-10-02</th>\n",
       "      <td>125.45500</td>\n",
       "    </tr>\n",
       "    <tr>\n",
       "      <th>2013-10-03</th>\n",
       "      <td>108.58483</td>\n",
       "    </tr>\n",
       "    <tr>\n",
       "      <th>2013-10-04</th>\n",
       "      <td>118.67466</td>\n",
       "    </tr>\n",
       "    <tr>\n",
       "      <th>2013-10-05</th>\n",
       "      <td>121.33866</td>\n",
       "    </tr>\n",
       "  </tbody>\n",
       "</table>\n",
       "</div>"
      ],
      "text/plain": [
       "                Price\n",
       "Date                 \n",
       "2013-10-01  123.65499\n",
       "2013-10-02  125.45500\n",
       "2013-10-03  108.58483\n",
       "2013-10-04  118.67466\n",
       "2013-10-05  121.33866"
      ]
     },
     "execution_count": 362,
     "metadata": {},
     "output_type": "execute_result"
    }
   ],
   "source": [
    "bitcion_prices.head()"
   ]
  },
  {
   "cell_type": "code",
   "execution_count": 363,
   "id": "ed68c99a",
   "metadata": {},
   "outputs": [
    {
     "name": "stdout",
     "output_type": "stream",
     "text": [
      "<class 'pandas.core.frame.DataFrame'>\n",
      "DatetimeIndex: 2787 entries, 2013-10-01 to 2021-05-18\n",
      "Data columns (total 1 columns):\n",
      " #   Column  Non-Null Count  Dtype  \n",
      "---  ------  --------------  -----  \n",
      " 0   Price   2787 non-null   float64\n",
      "dtypes: float64(1)\n",
      "memory usage: 43.5 KB\n"
     ]
    }
   ],
   "source": [
    "bitcion_prices.info()"
   ]
  },
  {
   "cell_type": "markdown",
   "id": "e4de8d99",
   "metadata": {},
   "source": [
    "## Read in the data using pythons csv module"
   ]
  },
  {
   "cell_type": "code",
   "execution_count": 364,
   "id": "66aa7567",
   "metadata": {},
   "outputs": [],
   "source": [
    "from datetime import datetime"
   ]
  },
  {
   "cell_type": "code",
   "execution_count": 365,
   "id": "00392bb4",
   "metadata": {},
   "outputs": [],
   "source": [
    "import csv\n",
    "with open(path, newline='') as csvfile:\n",
    "    spamreader = csv.reader(csvfile, delimiter=',')\n",
    "    next(csvfile) # skip header row\n",
    "    dates = []\n",
    "    prices = []\n",
    "    for row in spamreader:\n",
    "        dates.append(datetime.strptime(row[1],'%Y-%m-%d'))\n",
    "        prices.append(float(row[2]))"
   ]
  },
  {
   "cell_type": "code",
   "execution_count": 366,
   "id": "3b2cfe60",
   "metadata": {},
   "outputs": [
    {
     "data": {
      "image/png": "[encoded data removed]",
      "text/plain": [
       "<Figure size 720x504 with 1 Axes>"
      ]
     },
     "metadata": {
      "needs_background": "light"
     },
     "output_type": "display_data"
    }
   ],
   "source": [
    "plt.figure(figsize=(10,7))\n",
    "plt.plot(dates,prices)\n",
    "plt.ylabel('Price')\n",
    "plt.title('Bitcoin Prices Daily',fontsize=17)\n",
    "plt.show()"
   ]
  },
  {
   "cell_type": "markdown",
   "id": "4582cc99",
   "metadata": {},
   "source": [
    "# Prepare the data"
   ]
  },
  {
   "cell_type": "markdown",
   "id": "055c0c8d",
   "metadata": {},
   "source": [
    "## Create train and test splits"
   ]
  },
  {
   "cell_type": "code",
   "execution_count": 367,
   "id": "f37c3811",
   "metadata": {},
   "outputs": [],
   "source": [
    "# 80% train and 20% test\n",
    "split_size = int(len(bitcion_prices)*0.8)\n",
    "\n",
    "# create train set\n",
    "X_train,y_train = dates[:split_size], prices[:split_size]\n",
    "\n",
    "# create test set\n",
    "X_test, y_test = dates[split_size:], prices[split_size:]"
   ]
  },
  {
   "cell_type": "code",
   "execution_count": 368,
   "id": "472149ef",
   "metadata": {},
   "outputs": [
    {
     "data": {
      "image/png": "[encoded data removed]",
      "text/plain": [
       "<Figure size 1440x720 with 1 Axes>"
      ]
     },
     "metadata": {
      "needs_background": "light"
     },
     "output_type": "display_data"
    }
   ],
   "source": [
    "plt.figure(figsize=(20,10))\n",
    "plt.plot(X_train,y_train,'x')\n",
    "plt.plot(X_test,y_test,'.')\n",
    "plt.legend(['Train data','Test data'],fontsize=20)\n",
    "plt.xlabel('Dates',fontsize=20)\n",
    "plt.ylabel('Price',fontsize=20)\n",
    "plt.show()"
   ]
  },
  {
   "cell_type": "markdown",
   "id": "94d9b652",
   "metadata": {},
   "source": [
    "### Creating a plotting fuction"
   ]
  },
  {
   "cell_type": "code",
   "execution_count": 369,
   "id": "93d2ad6e",
   "metadata": {},
   "outputs": [],
   "source": [
    "import matplotlib.pyplot as plt\n",
    "# create a function to plot the data\n",
    "def plot_time_series(timestamp,values,formated='.',start=0,end=None,label=None):\n",
    "    \"\"\"\n",
    "    Plots our timeseries\n",
    "    \"\"\"\n",
    "    plt.plot(timestamp[start:end],values[start:end],formated,label=label)\n",
    "    plt.xlabel('Time')\n",
    "    plt.ylabel('BTC Price')\n",
    "    if label:\n",
    "        plt.legend(fontsize=14)\n",
    "    plt.grid(True)"
   ]
  },
  {
   "cell_type": "code",
   "execution_count": 370,
   "id": "16eace04",
   "metadata": {},
   "outputs": [
    {
     "data": {
      "image/png": "[encoded data removed]",
      "text/plain": [
       "<Figure size 864x504 with 1 Axes>"
      ]
     },
     "metadata": {
      "needs_background": "light"
     },
     "output_type": "display_data"
    }
   ],
   "source": [
    "plt.figure(figsize=(12,7))\n",
    "plot_time_series(X_test,y_test,label='Test data')\n",
    "plot_time_series(X_train,y_train,label='Train data')"
   ]
  },
  {
   "cell_type": "markdown",
   "id": "ce51ded1",
   "metadata": {},
   "source": [
    "# Model 0 - Naive Time Series Model"
   ]
  },
  {
   "cell_type": "markdown",
   "id": "a3dce61f",
   "metadata": {},
   "source": [
    "Model Formula: $y_{t + 1} = y_t $"
   ]
  },
  {
   "cell_type": "code",
   "execution_count": 371,
   "id": "d58c28d1",
   "metadata": {},
   "outputs": [],
   "source": [
    "# create the Naive baseline forecast\n",
    "naive_forecast = y_test[:-1]"
   ]
  },
  {
   "cell_type": "markdown",
   "id": "e0b9d214",
   "metadata": {},
   "source": [
    "## Plot the naive forcast against test data"
   ]
  },
  {
   "cell_type": "code",
   "execution_count": 372,
   "id": "c9c7e648",
   "metadata": {},
   "outputs": [
    {
     "data": {
      "image/png": "[encoded data removed]",
      "text/plain": [
       "<Figure size 864x504 with 1 Axes>"
      ]
     },
     "metadata": {
      "needs_background": "light"
     },
     "output_type": "display_data"
    }
   ],
   "source": [
    "plt.figure(figsize=(12,7))\n",
    "plot_time_series(X_test[1:],naive_forecast,start=500,end=1000, formated='--',label='Naive Forcast')\n",
    "plot_time_series(X_test,y_test,start=500, end=1000,formated='-',label='test data')"
   ]
  },
  {
   "cell_type": "markdown",
   "id": "de850406-81d6-42c0-aa3e-a7611ab5ec56",
   "metadata": {},
   "source": [
    "## Evaluation of our Naive Model\n",
    "\n"
   ]
  },
  {
   "cell_type": "markdown",
   "id": "f2701c82",
   "metadata": {},
   "source": [
    "### Implementing the MASE (Mean Absolute Scaled Error)"
   ]
  },
  {
   "cell_type": "markdown",
   "id": "feb3b05c",
   "metadata": {},
   "source": [
    "MASE = $\\frac{\\frac{1}{J}\\sum_j |e_j|}{\\frac{1}{T-1}\\sum_{t=2}^{T} |Y_t - Y_{t-1}|} $\\\n",
    "where \\\n",
    "$e_j$ ... [__forcast error__](https://en.wikipedia.org/wiki/Forecast_error) (difference between the actual and predicted value) \\\n",
    "$j \\in \\{1,...,J\\}$ with J as the number of forecasts (in our case $J=1$)\n"
   ]
  },
  {
   "cell_type": "code",
   "execution_count": 373,
   "id": "2e3eecec",
   "metadata": {},
   "outputs": [],
   "source": [
    "def get_mase(y_true,y_pred):\n",
    "    y_true, y_pred = np.array(y_true), np.array(y_pred)\n",
    "    nom = np.mean(np.abs((y_true-y_pred)))\n",
    "    denom = np.mean(np.abs((y_true[1:]-y_true[:-1])))\n",
    "    return nom/denom"
   ]
  },
  {
   "cell_type": "code",
   "execution_count": 374,
   "id": "00f34017",
   "metadata": {},
   "outputs": [
    {
     "name": "stdout",
     "output_type": "stream",
     "text": [
      "MASE has a value of 1.000\n"
     ]
    }
   ],
   "source": [
    "mase = get_mase(y_test[1:],naive_forecast)\n",
    "print('MASE has a value of %.3f'%mase)"
   ]
  },
  {
   "cell_type": "code",
   "execution_count": 375,
   "id": "a4fed5cf",
   "metadata": {},
   "outputs": [],
   "source": [
    "# create a function to evaluate our predictions\n",
    "def evaluate_preds(y_true,y_pred):\n",
    "    # tensorflow uses datatype float32 by default\n",
    "    y_true = tf.cast(y_true, dtype = tf.float32)\n",
    "    y_pred = tf.cast(y_pred, dtype = tf.float32)\n",
    "    \n",
    "    # calculate statistics\n",
    "    mae = tf.keras.metrics.mean_absolute_error(y_true,y_pred)\n",
    "    mse = tf.keras.metrics.mean_squared_error(y_true,y_pred)\n",
    "    rmse = tf.sqrt(mse)\n",
    "    mape = tf.keras.metrics.mean_absolute_percentage_error(y_true,y_pred)\n",
    "    mase = get_mase(y_true,y_pred)\n",
    "    \n",
    "    return({\n",
    "        'mae': mae.numpy(),\n",
    "        'mse': mse.numpy(),\n",
    "        'rmse': rmse.numpy(),\n",
    "        'mape': mape.numpy(),\n",
    "        'mase': mase\n",
    "    })"
   ]
  },
  {
   "cell_type": "code",
   "execution_count": 376,
   "id": "7fec417f-fd23-4966-8dd2-463f36af0736",
   "metadata": {},
   "outputs": [
    {
     "data": {
      "text/plain": [
       "557"
      ]
     },
     "execution_count": 376,
     "metadata": {},
     "output_type": "execute_result"
    }
   ],
   "source": [
    "len(naive_forecast)"
   ]
  },
  {
   "cell_type": "code",
   "execution_count": 377,
   "id": "9d010d45-08ae-4dcb-8003-39771b050014",
   "metadata": {},
   "outputs": [
    {
     "data": {
      "text/plain": [
       "558"
      ]
     },
     "execution_count": 377,
     "metadata": {},
     "output_type": "execute_result"
    }
   ],
   "source": [
    "len(y_test)"
   ]
  },
  {
   "cell_type": "code",
   "execution_count": 378,
   "id": "798da449-8fdb-4a76-b025-4d42b2df81cd",
   "metadata": {},
   "outputs": [
    {
     "data": {
      "text/plain": [
       "{'mae': 567.9803,\n",
       " 'mse': 1147547.1,\n",
       " 'rmse': 1071.2362,\n",
       " 'mape': 2.516525,\n",
       " 'mase': 0.99957}"
      ]
     },
     "execution_count": 378,
     "metadata": {},
     "output_type": "execute_result"
    }
   ],
   "source": [
    "naive_results = evaluate_preds(y_test[1:],naive_forecast)\n",
    "naive_results"
   ]
  },
  {
   "cell_type": "markdown",
   "id": "73fb6a61-3ead-49ac-96d2-6e180a795306",
   "metadata": {},
   "source": [
    "# Format data part 2: windowing out dataset"
   ]
  },
  {
   "cell_type": "markdown",
   "id": "2dd1d28b-2bef-4311-bce8-06a9a2d8d39f",
   "metadata": {},
   "source": [
    "We window our dataset to turn our problem into a supervised learning problem"
   ]
  },
  {
   "cell_type": "code",
   "execution_count": 379,
   "id": "ee42cd7b-38d2-4c2f-b8ee-e8e81dc07b06",
   "metadata": {},
   "outputs": [],
   "source": [
    "# Set up some global varibales\n",
    "HORIZON = 1 # how long we are going to predict into the future\n",
    "WINDOW_SIZE = 7 # how many past days we use to make the prediction"
   ]
  },
  {
   "cell_type": "code",
   "execution_count": 380,
   "id": "ef3da5cd-55eb-44c4-91ae-2391c35425b2",
   "metadata": {},
   "outputs": [
    {
     "name": "stdout",
     "output_type": "stream",
     "text": [
      "We want to use this: [123.65499, 125.455, 108.58483, 118.67466, 121.33866, 120.65533, 121.795] to predict this: 123.033\n"
     ]
    }
   ],
   "source": [
    "print(f\"We want to use this: {prices[:WINDOW_SIZE]} to predict this: {prices[WINDOW_SIZE]}\")"
   ]
  },
  {
   "cell_type": "code",
   "execution_count": 381,
   "id": "5c755d7e-a7aa-4bef-8b57-6acef0952d0f",
   "metadata": {},
   "outputs": [],
   "source": [
    "# Create function to label windowed data\n",
    "def get_labelled_windows(x, horizon=HORIZON):\n",
    "    \"\"\"\n",
    "        Function to create labels for windowed dataset. \n",
    "    \"\"\"\n",
    "    return x[:, :-horizon], x[:,-horizon:]"
   ]
  },
  {
   "cell_type": "code",
   "execution_count": 382,
   "id": "9c72b35e-115d-46cb-b7a0-2cbc8fa32386",
   "metadata": {},
   "outputs": [
    {
     "data": {
      "text/plain": [
       "(<tf.Tensor: shape=(1, 7), dtype=int32, numpy=array([[0, 1, 2, 3, 4, 5, 6]], dtype=int32)>,\n",
       " <tf.Tensor: shape=(1, 1), dtype=int32, numpy=array([[7]], dtype=int32)>)"
      ]
     },
     "execution_count": 382,
     "metadata": {},
     "output_type": "execute_result"
    }
   ],
   "source": [
    "test_window, test_label =  get_labelled_windows(tf.expand_dims(tf.range(8),axis=0))\n",
    "test_window, test_label"
   ]
  },
  {
   "cell_type": "markdown",
   "id": "fdbac793-74cf-4be1-b4fa-ea9e9451b731",
   "metadata": {},
   "source": [
    "📚**Ressource**: [Towards Data Science - Fast and Robust Sliding Window Vectorization with NumPy](https://towardsdatascience.com/fast-and-robust-sliding-window-vectorization-with-numpy-3ad950ed62f5)"
   ]
  },
  {
   "cell_type": "code",
   "execution_count": 383,
   "id": "7bad6dea-ba8c-4e7f-ac0a-6fcd315775d5",
   "metadata": {},
   "outputs": [],
   "source": [
    "import numpy as np"
   ]
  },
  {
   "cell_type": "code",
   "execution_count": 384,
   "id": "5998ebf1-71de-4489-804a-30f44c29be1f",
   "metadata": {},
   "outputs": [],
   "source": [
    "def make_windows(x, window_size=WINDOW_SIZE, horizon=HORIZON):\n",
    "    '''\n",
    "        Function that turns a 1D array to 2D array of sequential labelled windows of window_size and horizon size labels\n",
    "    '''\n",
    "    \n",
    "    # 1. Create a window of window_size\n",
    "    window_step = np.expand_dims(np.arange(window_size+horizon),axis=0)\n",
    "    \n",
    "    # 2. Use numpy indexing to create 2D array of multiple windows \n",
    "    windows_indexes = window_step + np.expand_dims(np.arange(len(x)-(window_size+horizon-1)),axis=0).T\n",
    "    \n",
    "    # 3. Indexing on the target array\n",
    "    windowed_array = x[windows_indexes]#\n",
    "    \n",
    "    # get the labelled windows\n",
    "    windows, labels = get_labelled_windows(windowed_array, horizon=horizon)\n",
    "    \n",
    "    return(windows, labels)"
   ]
  },
  {
   "cell_type": "code",
   "execution_count": 385,
   "id": "40358654-096b-4020-ac46-c9d2c8314800",
   "metadata": {},
   "outputs": [],
   "source": [
    "full_windows, full_labels = make_windows(np.array(prices))"
   ]
  },
  {
   "cell_type": "code",
   "execution_count": 386,
   "id": "38ad59a2-0af3-4e8f-aa49-5a5f1c23fdeb",
   "metadata": {},
   "outputs": [
    {
     "name": "stdout",
     "output_type": "stream",
     "text": [
      "Window: [123.65499 125.455   108.58483 118.67466 121.33866 120.65533 121.795  ] -> Label: [123.033]\n",
      "Window: [125.455   108.58483 118.67466 121.33866 120.65533 121.795   123.033  ] -> Label: [124.049]\n",
      "Window: [108.58483 118.67466 121.33866 120.65533 121.795   123.033   124.049  ] -> Label: [125.96116]\n"
     ]
    }
   ],
   "source": [
    "for i in range(3):\n",
    "    print(f\"Window: {full_windows[i]} -> Label: {full_labels[i]}\")"
   ]
  },
  {
   "cell_type": "markdown",
   "id": "034831e6-5433-4ad8-a718-2157fd9da3c1",
   "metadata": {},
   "source": [
    "## Turning our windows into train and test sets"
   ]
  },
  {
   "cell_type": "code",
   "execution_count": 387,
   "id": "afda702d-c9f0-4cff-a6ba-828cb05e9410",
   "metadata": {},
   "outputs": [],
   "source": [
    "def make_train_test_splits(windows, labels, test_split=0.2):\n",
    "    \"\"\"\n",
    "        Function that splits matching pairs of windows and labels into train and test splits\n",
    "    \"\"\"\n",
    "    split_size = int(len(windows) * (1 - test_split))\n",
    "    train_windows = windows[:split_size]\n",
    "    train_labels = labels[:split_size]\n",
    "    test_windows = windows[split_size:]\n",
    "    test_labels = labels[split_size:]\n",
    "    return train_windows, test_windows, train_labels, test_labels"
   ]
  },
  {
   "cell_type": "code",
   "execution_count": 388,
   "id": "97808ea5-58ce-4731-b6a1-b3380df0b448",
   "metadata": {},
   "outputs": [],
   "source": [
    "train_windows, test_windows, train_labels, test_labels = make_train_test_splits(full_windows,full_labels)"
   ]
  },
  {
   "cell_type": "code",
   "execution_count": 389,
   "id": "d645e21e-cdec-40d9-b56b-d0b9eb5664f8",
   "metadata": {},
   "outputs": [
    {
     "data": {
      "text/plain": [
       "True"
      ]
     },
     "execution_count": 389,
     "metadata": {},
     "output_type": "execute_result"
    }
   ],
   "source": [
    "# check if our training labels are equal to before\n",
    "np.array_equal(np.squeeze(train_labels)[:-HORIZON-1],y_train[WINDOW_SIZE:])"
   ]
  },
  {
   "cell_type": "markdown",
   "id": "574e4125-14dd-4754-8a64-1a0238e1abaf",
   "metadata": {},
   "source": [
    "## Make a modelling checkpoint callback"
   ]
  },
  {
   "cell_type": "code",
   "execution_count": 390,
   "id": "1c3432e9-552e-474d-a5a0-f2f58879c9f8",
   "metadata": {},
   "outputs": [],
   "source": [
    "import os"
   ]
  },
  {
   "cell_type": "code",
   "execution_count": 391,
   "id": "8e44b0f6-4de2-41f1-aba1-9dc6c191afcb",
   "metadata": {},
   "outputs": [],
   "source": [
    "def create_model_checkpoint(model_name, save_path = \"model_experiments\", verbose=0, sbo=True):\n",
    "    return tf.keras.callbacks.ModelCheckpoint(filepath=os.path.join(save_path,model_name),\n",
    "                                              monitor='val_loss',\n",
    "                                             verbose=verbose,\n",
    "                                             save_best_only = sbo)"
   ]
  },
  {
   "cell_type": "markdown",
   "id": "e3043a45-93f8-4fc6-ab0e-0b84994bce55",
   "metadata": {},
   "source": [
    "# Model 1 - Dense Model (window size = 7, horizon = 1)"
   ]
  },
  {
   "cell_type": "markdown",
   "id": "313dd5d0-259f-45a1-a3cc-e518c626c7e2",
   "metadata": {},
   "source": [
    "## Using functional API"
   ]
  },
  {
   "cell_type": "code",
   "execution_count": 392,
   "id": "614bcd51-57b8-44e6-a55e-0867072cab32",
   "metadata": {},
   "outputs": [],
   "source": [
    "from tensorflow.keras import layers\n",
    "\n",
    "# define the input shape\n",
    "input_shape = (7,)\n",
    "# define input layer\n",
    "inputs = layers.Input(shape=input_shape, name='input_layer')\n",
    "\n",
    "# define middle dense layer\n",
    "dense = layers.Dense(128, activation='relu', name='dense_layer')(inputs)\n",
    "\n",
    "# define output layer\n",
    "outputs = layers.Dense(1, name='output_layer')(dense)\n",
    "\n",
    "model_1 = tf.keras.Model(inputs, outputs,name='model_1_dense')"
   ]
  },
  {
   "cell_type": "markdown",
   "id": "3527b111-bba8-4944-bc8e-356bf22dc904",
   "metadata": {},
   "source": [
    "## Using Sequential API"
   ]
  },
  {
   "cell_type": "code",
   "execution_count": 393,
   "id": "1f084882-449c-4955-ab2c-2dc2ab66b64a",
   "metadata": {},
   "outputs": [
    {
     "name": "stdout",
     "output_type": "stream",
     "text": [
      "Epoch 1/100\n",
      "18/18 [==============================] - ETA: 0s - loss: 490.6638 - mae: 490.6638 - mse: 988182.0000  "
     ]
    },
    {
     "name": "stderr",
     "output_type": "stream",
     "text": [
      "2022-02-14 21:41:10.054238: I tensorflow/core/grappler/optimizers/custom_graph_optimizer_registry.cc:112] Plugin optimizer for device_type GPU is enabled.\n"
     ]
    },
    {
     "name": "stdout",
     "output_type": "stream",
     "text": [
      "INFO:tensorflow:Assets written to: model_experiments/model_1_dense/assets\n",
      "18/18 [==============================] - 1s 20ms/step - loss: 490.6638 - mae: 490.6638 - mse: 988182.0000 - val_loss: 1427.0743 - val_mae: 1427.0743 - val_mse: 6445733.0000\n"
     ]
    },
    {
     "name": "stderr",
     "output_type": "stream",
     "text": [
      "2022-02-14 21:41:10.291043: I tensorflow/core/grappler/optimizers/custom_graph_optimizer_registry.cc:112] Plugin optimizer for device_type GPU is enabled.\n"
     ]
    },
    {
     "name": "stdout",
     "output_type": "stream",
     "text": [
      "Epoch 2/100\n",
      "18/18 [==============================] - 0s 7ms/step - loss: 267.5858 - mae: 267.5858 - mse: 336854.0625 - val_loss: 1452.7415 - val_mae: 1452.7415 - val_mse: 6256623.5000\n",
      "Epoch 3/100\n",
      "11/18 [=================>............] - ETA: 0s - loss: 247.3759 - mae: 247.3759 - mse: 312561.8125INFO:tensorflow:Assets written to: model_experiments/model_1_dense/assets\n",
      "18/18 [==============================] - 0s 15ms/step - loss: 248.9371 - mae: 248.9371 - mse: 305184.0312 - val_loss: 1334.8425 - val_mae: 1334.8425 - val_mse: 5514667.5000\n",
      "Epoch 4/100\n",
      "10/18 [===============>..............] - ETA: 0s - loss: 244.3319 - mae: 244.3319 - mse: 304119.7500INFO:tensorflow:Assets written to: model_experiments/model_1_dense/assets\n",
      "18/18 [==============================] - 0s 17ms/step - loss: 235.6665 - mae: 235.6665 - mse: 278683.2500 - val_loss: 1255.5125 - val_mae: 1255.5125 - val_mse: 5001423.0000\n",
      "Epoch 5/100\n",
      "10/18 [===============>..............] - ETA: 0s - loss: 217.2348 - mae: 217.2348 - mse: 253335.5312INFO:tensorflow:Assets written to: model_experiments/model_1_dense/assets\n",
      "18/18 [==============================] - 0s 16ms/step - loss: 219.6377 - mae: 219.6377 - mse: 249226.8906 - val_loss: 1202.2631 - val_mae: 1202.2631 - val_mse: 4592191.0000\n",
      "Epoch 6/100\n",
      "10/18 [===============>..............] - ETA: 0s - loss: 207.2241 - mae: 207.2241 - mse: 233143.1562INFO:tensorflow:Assets written to: model_experiments/model_1_dense/assets\n",
      "18/18 [==============================] - 0s 16ms/step - loss: 212.9817 - mae: 212.9817 - mse: 232003.9375 - val_loss: 1162.0477 - val_mae: 1162.0477 - val_mse: 4274020.5000\n",
      "Epoch 7/100\n",
      "10/18 [===============>..............] - ETA: 0s - loss: 200.7669 - mae: 200.7669 - mse: 220345.3594INFO:tensorflow:Assets written to: model_experiments/model_1_dense/assets\n",
      "18/18 [==============================] - 0s 16ms/step - loss: 206.1969 - mae: 206.1969 - mse: 218161.9688 - val_loss: 1128.7968 - val_mae: 1128.7968 - val_mse: 4036889.0000\n",
      "Epoch 8/100\n",
      "18/18 [==============================] - 0s 7ms/step - loss: 202.0683 - mae: 202.0683 - mse: 209370.7188 - val_loss: 1133.3973 - val_mae: 1133.3973 - val_mse: 3955223.0000\n",
      "Epoch 9/100\n",
      "10/18 [===============>..............] - ETA: 0s - loss: 188.9252 - mae: 188.9252 - mse: 168166.2344INFO:tensorflow:Assets written to: model_experiments/model_1_dense/assets\n",
      "18/18 [==============================] - 0s 16ms/step - loss: 198.9337 - mae: 198.9337 - mse: 202146.8281 - val_loss: 1061.2225 - val_mae: 1061.2224 - val_mse: 3585943.0000\n",
      "Epoch 10/100\n",
      "10/18 [===============>..............] - ETA: 0s - loss: 191.0342 - mae: 191.0342 - mse: 197755.5469INFO:tensorflow:Assets written to: model_experiments/model_1_dense/assets\n",
      "18/18 [==============================] - 0s 16ms/step - loss: 190.0394 - mae: 190.0394 - mse: 188650.6719 - val_loss: 1038.6378 - val_mae: 1038.6378 - val_mse: 3405513.5000\n",
      "Epoch 11/100\n",
      "11/18 [=================>............] - ETA: 0s - loss: 188.2906 - mae: 188.2906 - mse: 181423.2500INFO:tensorflow:Assets written to: model_experiments/model_1_dense/assets\n",
      "18/18 [==============================] - 0s 16ms/step - loss: 186.6274 - mae: 186.6274 - mse: 177974.3438 - val_loss: 992.4203 - val_mae: 992.4203 - val_mse: 3175673.2500\n",
      "Epoch 12/100\n",
      "18/18 [==============================] - 0s 7ms/step - loss: 178.2234 - mae: 178.2234 - mse: 167649.2812 - val_loss: 1015.8655 - val_mae: 1015.8655 - val_mse: 3143775.5000\n",
      "Epoch 13/100\n",
      "11/18 [=================>............] - ETA: 0s - loss: 183.3134 - mae: 183.3134 - mse: 156164.1250INFO:tensorflow:Assets written to: model_experiments/model_1_dense/assets\n",
      "18/18 [==============================] - 0s 15ms/step - loss: 178.3138 - mae: 178.3138 - mse: 162016.2969 - val_loss: 980.5415 - val_mae: 980.5415 - val_mse: 2936642.7500\n",
      "Epoch 14/100\n",
      "11/18 [=================>............] - ETA: 0s - loss: 168.1976 - mae: 168.1976 - mse: 166572.5000INFO:tensorflow:Assets written to: model_experiments/model_1_dense/assets\n",
      "18/18 [==============================] - 0s 15ms/step - loss: 168.9460 - mae: 168.9460 - mse: 153293.4844 - val_loss: 964.4222 - val_mae: 964.4221 - val_mse: 2815741.2500\n",
      "Epoch 15/100\n",
      "11/18 [=================>............] - ETA: 0s - loss: 166.8191 - mae: 166.8191 - mse: 148023.0469INFO:tensorflow:Assets written to: model_experiments/model_1_dense/assets\n",
      "18/18 [==============================] - 0s 16ms/step - loss: 164.8771 - mae: 164.8771 - mse: 144995.1719 - val_loss: 922.2846 - val_mae: 922.2846 - val_mse: 2606749.5000\n",
      "Epoch 16/100\n",
      "10/18 [===============>..............] - ETA: 0s - loss: 156.8886 - mae: 156.8886 - mse: 139707.1094INFO:tensorflow:Assets written to: model_experiments/model_1_dense/assets\n",
      "18/18 [==============================] - 0s 16ms/step - loss: 158.3569 - mae: 158.3569 - mse: 135364.1094 - val_loss: 847.1835 - val_mae: 847.1835 - val_mse: 2354399.0000\n",
      "Epoch 17/100\n",
      "10/18 [===============>..............] - ETA: 0s - loss: 174.3132 - mae: 174.3132 - mse: 158605.5781INFO:tensorflow:Assets written to: model_experiments/model_1_dense/assets\n",
      "18/18 [==============================] - 0s 15ms/step - loss: 161.2817 - mae: 161.2817 - mse: 136650.6562 - val_loss: 825.2745 - val_mae: 825.2745 - val_mse: 2222131.5000\n",
      "Epoch 18/100\n",
      "10/18 [===============>..............] - ETA: 0s - loss: 157.2128 - mae: 157.2128 - mse: 136869.9219INFO:tensorflow:Assets written to: model_experiments/model_1_dense/assets\n",
      "18/18 [==============================] - 0s 16ms/step - loss: 154.7584 - mae: 154.7584 - mse: 127003.1719 - val_loss: 805.1206 - val_mae: 805.1206 - val_mse: 2119255.0000\n",
      "Epoch 19/100\n",
      "18/18 [==============================] - 0s 7ms/step - loss: 151.4211 - mae: 151.4211 - mse: 123396.2188 - val_loss: 892.6566 - val_mae: 892.6566 - val_mse: 2338204.5000\n",
      "Epoch 20/100\n",
      "10/18 [===============>..............] - ETA: 0s - loss: 154.1749 - mae: 154.1749 - mse: 135960.0312INFO:tensorflow:Assets written to: model_experiments/model_1_dense/assets\n",
      "18/18 [==============================] - 0s 16ms/step - loss: 143.8182 - mae: 143.8182 - mse: 116250.6094 - val_loss: 779.7647 - val_mae: 779.7647 - val_mse: 1957095.1250\n",
      "Epoch 21/100\n",
      "11/18 [=================>............] - ETA: 0s - loss: 142.8714 - mae: 142.8714 - mse: 110650.5391INFO:tensorflow:Assets written to: model_experiments/model_1_dense/assets\n",
      "18/18 [==============================] - 0s 26ms/step - loss: 140.6514 - mae: 140.6514 - mse: 111885.9219 - val_loss: 775.2155 - val_mae: 775.2155 - val_mse: 2000023.2500\n",
      "Epoch 22/100\n",
      "18/18 [==============================] - 0s 7ms/step - loss: 145.4490 - mae: 145.4490 - mse: 112003.8672 - val_loss: 792.3921 - val_mae: 792.3921 - val_mse: 2060958.3750\n",
      "Epoch 23/100\n",
      "11/18 [=================>............] - ETA: 0s - loss: 139.1285 - mae: 139.1285 - mse: 105199.7656INFO:tensorflow:Assets written to: model_experiments/model_1_dense/assets\n",
      "18/18 [==============================] - 0s 15ms/step - loss: 141.4311 - mae: 141.4311 - mse: 109389.9219 - val_loss: 727.5200 - val_mae: 727.5199 - val_mse: 1751329.8750\n",
      "Epoch 24/100\n",
      "11/18 [=================>............] - ETA: 0s - loss: 139.4328 - mae: 139.4328 - mse: 118435.2734INFO:tensorflow:Assets written to: model_experiments/model_1_dense/assets\n",
      "18/18 [==============================] - 0s 15ms/step - loss: 134.6460 - mae: 134.6460 - mse: 103165.4531 - val_loss: 718.8149 - val_mae: 718.8149 - val_mse: 1688976.8750\n",
      "Epoch 25/100\n",
      "18/18 [==============================] - 0s 7ms/step - loss: 131.8884 - mae: 131.8884 - mse: 100230.3516 - val_loss: 736.6758 - val_mae: 736.6758 - val_mse: 1794251.2500\n",
      "Epoch 26/100\n",
      "10/18 [===============>..............] - ETA: 0s - loss: 135.0536 - mae: 135.0536 - mse: 103894.9531INFO:tensorflow:Assets written to: model_experiments/model_1_dense/assets\n",
      "18/18 [==============================] - 0s 16ms/step - loss: 133.9701 - mae: 133.9701 - mse: 99628.2500 - val_loss: 698.5330 - val_mae: 698.5330 - val_mse: 1606106.0000\n",
      "Epoch 27/100\n",
      "18/18 [==============================] - 0s 7ms/step - loss: 133.8240 - mae: 133.8240 - mse: 101397.3906 - val_loss: 703.0546 - val_mae: 703.0546 - val_mse: 1595991.5000\n",
      "Epoch 28/100\n",
      "10/18 [===============>..............] - ETA: 0s - loss: 137.4222 - mae: 137.4222 - mse: 104775.4609INFO:tensorflow:Assets written to: model_experiments/model_1_dense/assets\n",
      "18/18 [==============================] - 0s 16ms/step - loss: 132.4959 - mae: 132.4959 - mse: 96518.7500 - val_loss: 685.2669 - val_mae: 685.2669 - val_mse: 1556040.1250\n",
      "Epoch 29/100\n",
      "18/18 [==============================] - 0s 7ms/step - loss: 129.3810 - mae: 129.3810 - mse: 96829.0234 - val_loss: 742.3521 - val_mae: 742.3521 - val_mse: 1677293.1250\n",
      "Epoch 30/100\n",
      "18/18 [==============================] - 0s 7ms/step - loss: 128.4695 - mae: 128.4695 - mse: 91990.0000 - val_loss: 710.7141 - val_mae: 710.7141 - val_mse: 1582672.8750\n",
      "Epoch 31/100\n",
      "17/18 [===========================>..] - ETA: 0s - loss: 129.9623 - mae: 129.9623 - mse: 96958.5547INFO:tensorflow:Assets written to: model_experiments/model_1_dense/assets\n",
      "18/18 [==============================] - 0s 17ms/step - loss: 129.0871 - mae: 129.0871 - mse: 95691.7266 - val_loss: 676.7950 - val_mae: 676.7950 - val_mse: 1494343.1250\n",
      "Epoch 32/100\n",
      "18/18 [==============================] - 0s 7ms/step - loss: 131.1533 - mae: 131.1533 - mse: 94560.3438 - val_loss: 721.0863 - val_mae: 721.0862 - val_mse: 1695973.7500\n",
      "Epoch 33/100\n",
      "11/18 [=================>............] - ETA: 0s - loss: 114.5528 - mae: 114.5528 - mse: 73159.1797INFO:tensorflow:Assets written to: model_experiments/model_1_dense/assets\n",
      "18/18 [==============================] - 0s 15ms/step - loss: 127.5716 - mae: 127.5716 - mse: 94321.8203 - val_loss: 669.1771 - val_mae: 669.1770 - val_mse: 1462840.8750\n",
      "Epoch 34/100\n",
      "18/18 [==============================] - 0s 7ms/step - loss: 124.0960 - mae: 124.0960 - mse: 89039.2344 - val_loss: 669.1904 - val_mae: 669.1904 - val_mse: 1458985.2500\n",
      "Epoch 35/100\n",
      "18/18 [==============================] - 0s 7ms/step - loss: 123.2120 - mae: 123.2120 - mse: 90073.2109 - val_loss: 681.5771 - val_mae: 681.5771 - val_mse: 1482634.8750\n",
      "Epoch 36/100\n",
      "18/18 [==============================] - 0s 7ms/step - loss: 125.3240 - mae: 125.3240 - mse: 89882.8672 - val_loss: 719.1721 - val_mae: 719.1721 - val_mse: 1574799.8750\n",
      "Epoch 37/100\n",
      "10/18 [===============>..............] - ETA: 0s - loss: 128.8872 - mae: 128.8872 - mse: 96282.3047INFO:tensorflow:Assets written to: model_experiments/model_1_dense/assets\n",
      "18/18 [==============================] - 0s 16ms/step - loss: 123.2038 - mae: 123.2038 - mse: 87598.3125 - val_loss: 656.0074 - val_mae: 656.0074 - val_mse: 1414933.3750\n",
      "Epoch 38/100\n",
      "18/18 [==============================] - 0s 7ms/step - loss: 121.3354 - mae: 121.3354 - mse: 86342.9609 - val_loss: 674.3755 - val_mae: 674.3755 - val_mse: 1451266.3750\n",
      "Epoch 39/100\n",
      "18/18 [==============================] - 0s 7ms/step - loss: 127.0840 - mae: 127.0840 - mse: 87316.0391 - val_loss: 749.9252 - val_mae: 749.9252 - val_mse: 1652653.2500\n",
      "Epoch 40/100\n",
      "18/18 [==============================] - 0s 8ms/step - loss: 133.7463 - mae: 133.7463 - mse: 95298.2344 - val_loss: 688.3425 - val_mae: 688.3425 - val_mse: 1478183.3750\n",
      "Epoch 41/100\n",
      "11/18 [=================>............] - ETA: 0s - loss: 122.1032 - mae: 122.1032 - mse: 77714.1016INFO:tensorflow:Assets written to: model_experiments/model_1_dense/assets\n",
      "18/18 [==============================] - 0s 15ms/step - loss: 132.0402 - mae: 132.0402 - mse: 93895.7891 - val_loss: 647.3820 - val_mae: 647.3820 - val_mse: 1384250.5000\n",
      "Epoch 42/100\n",
      "18/18 [==============================] - 0s 7ms/step - loss: 122.8626 - mae: 122.8626 - mse: 85568.9766 - val_loss: 721.3757 - val_mae: 721.3757 - val_mse: 1559503.6250\n",
      "Epoch 43/100\n",
      "11/18 [=================>............] - ETA: 0s - loss: 126.9970 - mae: 126.9970 - mse: 93605.4297INFO:tensorflow:Assets written to: model_experiments/model_1_dense/assets\n",
      "18/18 [==============================] - 0s 15ms/step - loss: 124.8733 - mae: 124.8733 - mse: 87683.5234 - val_loss: 640.1454 - val_mae: 640.1454 - val_mse: 1376387.5000\n",
      "Epoch 44/100\n",
      "18/18 [==============================] - 0s 7ms/step - loss: 119.4514 - mae: 119.4514 - mse: 85086.8125 - val_loss: 666.8577 - val_mae: 666.8577 - val_mse: 1415962.0000\n",
      "Epoch 45/100\n",
      "18/18 [==============================] - 0s 7ms/step - loss: 121.7616 - mae: 121.7616 - mse: 84063.5078 - val_loss: 756.7854 - val_mae: 756.7854 - val_mse: 1658817.0000\n",
      "Epoch 46/100\n",
      "18/18 [==============================] - 0s 7ms/step - loss: 121.5012 - mae: 121.5012 - mse: 83000.4609 - val_loss: 732.8375 - val_mae: 732.8375 - val_mse: 1586824.1250\n",
      "Epoch 47/100\n",
      "18/18 [==============================] - 0s 6ms/step - loss: 125.9672 - mae: 125.9672 - mse: 89506.2734 - val_loss: 700.7122 - val_mae: 700.7122 - val_mse: 1494297.3750\n",
      "Epoch 48/100\n",
      "18/18 [==============================] - 0s 7ms/step - loss: 121.2322 - mae: 121.2322 - mse: 84824.7969 - val_loss: 697.3860 - val_mae: 697.3860 - val_mse: 1482616.1250\n",
      "Epoch 49/100\n",
      "18/18 [==============================] - 0s 7ms/step - loss: 123.5912 - mae: 123.5912 - mse: 87148.7031 - val_loss: 703.2563 - val_mae: 703.2563 - val_mse: 1496621.6250\n",
      "Epoch 50/100\n",
      "18/18 [==============================] - 0s 6ms/step - loss: 122.6809 - mae: 122.6809 - mse: 85200.9766 - val_loss: 717.4267 - val_mae: 717.4267 - val_mse: 1534069.0000\n",
      "Epoch 51/100\n",
      "11/18 [=================>............] - ETA: 0s - loss: 122.2226 - mae: 122.2226 - mse: 90488.9141INFO:tensorflow:Assets written to: model_experiments/model_1_dense/assets\n",
      "18/18 [==============================] - 0s 15ms/step - loss: 116.6816 - mae: 116.6816 - mse: 79768.6484 - val_loss: 626.7405 - val_mae: 626.7405 - val_mse: 1333953.6250\n",
      "Epoch 52/100\n",
      "18/18 [==============================] - 0s 7ms/step - loss: 121.1823 - mae: 121.1823 - mse: 82778.3828 - val_loss: 642.5811 - val_mae: 642.5811 - val_mse: 1391556.1250\n",
      "Epoch 53/100\n",
      "18/18 [==============================] - 0s 6ms/step - loss: 118.6088 - mae: 118.6088 - mse: 82617.5156 - val_loss: 635.4728 - val_mae: 635.4728 - val_mse: 1330887.2500\n",
      "Epoch 54/100\n",
      "18/18 [==============================] - 0s 6ms/step - loss: 116.4757 - mae: 116.4757 - mse: 80281.4844 - val_loss: 634.0129 - val_mae: 634.0129 - val_mse: 1326357.6250\n",
      "Epoch 55/100\n",
      "18/18 [==============================] - 0s 6ms/step - loss: 114.0360 - mae: 114.0360 - mse: 79341.2891 - val_loss: 642.4216 - val_mae: 642.4216 - val_mse: 1384164.0000\n",
      "Epoch 56/100\n",
      "18/18 [==============================] - 0s 6ms/step - loss: 121.4691 - mae: 121.4691 - mse: 83029.8750 - val_loss: 707.9321 - val_mae: 707.9321 - val_mse: 1599562.3750\n",
      "Epoch 57/100\n",
      "12/18 [===================>..........] - ETA: 0s - loss: 119.3487 - mae: 119.3487 - mse: 84965.1406INFO:tensorflow:Assets written to: model_experiments/model_1_dense/assets\n",
      "18/18 [==============================] - 0s 15ms/step - loss: 116.0282 - mae: 116.0282 - mse: 79717.3828 - val_loss: 622.5240 - val_mae: 622.5240 - val_mse: 1322360.8750\n",
      "Epoch 58/100\n",
      "18/18 [==============================] - 0s 6ms/step - loss: 117.4889 - mae: 117.4889 - mse: 81516.1328 - val_loss: 640.9145 - val_mae: 640.9145 - val_mse: 1373297.2500\n",
      "Epoch 59/100\n",
      "18/18 [==============================] - 0s 6ms/step - loss: 118.9550 - mae: 118.9550 - mse: 80561.4062 - val_loss: 629.9296 - val_mae: 629.9296 - val_mse: 1342518.3750\n",
      "Epoch 60/100\n",
      "18/18 [==============================] - 0s 6ms/step - loss: 113.8172 - mae: 113.8172 - mse: 77203.7031 - val_loss: 633.3798 - val_mae: 633.3798 - val_mse: 1316055.7500\n",
      "Epoch 61/100\n",
      "18/18 [==============================] - 0s 6ms/step - loss: 116.1465 - mae: 116.1465 - mse: 78468.7500 - val_loss: 683.8759 - val_mae: 683.8759 - val_mse: 1432372.2500\n",
      "Epoch 62/100\n",
      "18/18 [==============================] - 0s 6ms/step - loss: 121.2554 - mae: 121.2554 - mse: 82145.5859 - val_loss: 680.6260 - val_mae: 680.6260 - val_mse: 1419954.5000\n",
      "Epoch 63/100\n",
      "12/18 [===================>..........] - ETA: 0s - loss: 117.6778 - mae: 117.6778 - mse: 79100.9453INFO:tensorflow:Assets written to: model_experiments/model_1_dense/assets\n",
      "18/18 [==============================] - 0s 15ms/step - loss: 116.7068 - mae: 116.7068 - mse: 80182.3438 - val_loss: 611.1243 - val_mae: 611.1243 - val_mse: 1272897.2500\n",
      "Epoch 64/100\n",
      "18/18 [==============================] - 0s 7ms/step - loss: 112.8936 - mae: 112.8936 - mse: 77299.2812 - val_loss: 611.4474 - val_mae: 611.4474 - val_mse: 1274479.2500\n",
      "Epoch 65/100\n",
      "11/18 [=================>............] - ETA: 0s - loss: 109.3331 - mae: 109.3331 - mse: 69485.8828INFO:tensorflow:Assets written to: model_experiments/model_1_dense/assets\n",
      "18/18 [==============================] - 0s 15ms/step - loss: 113.7476 - mae: 113.7476 - mse: 77686.5234 - val_loss: 609.8322 - val_mae: 609.8322 - val_mse: 1267632.8750\n",
      "Epoch 66/100\n",
      "18/18 [==============================] - 0s 6ms/step - loss: 112.7734 - mae: 112.7734 - mse: 74940.6641 - val_loss: 616.9011 - val_mae: 616.9011 - val_mse: 1274966.2500\n",
      "Epoch 67/100\n",
      "18/18 [==============================] - 0s 6ms/step - loss: 112.0685 - mae: 112.0685 - mse: 77692.3516 - val_loss: 622.2742 - val_mae: 622.2742 - val_mse: 1317574.2500\n",
      "Epoch 68/100\n",
      "18/18 [==============================] - 0s 6ms/step - loss: 112.9428 - mae: 112.9428 - mse: 74423.6719 - val_loss: 621.4442 - val_mae: 621.4442 - val_mse: 1313622.3750\n",
      "Epoch 69/100\n",
      "11/18 [=================>............] - ETA: 0s - loss: 121.0259 - mae: 121.0259 - mse: 89275.2969 INFO:tensorflow:Assets written to: model_experiments/model_1_dense/assets\n",
      "18/18 [==============================] - 0s 15ms/step - loss: 114.7315 - mae: 114.7315 - mse: 77725.8359 - val_loss: 605.4146 - val_mae: 605.4146 - val_mse: 1268708.0000\n",
      "Epoch 70/100\n",
      "12/18 [===================>..........] - ETA: 0s - loss: 112.6935 - mae: 112.6935 - mse: 75820.1719INFO:tensorflow:Assets written to: model_experiments/model_1_dense/assets\n",
      "18/18 [==============================] - 0s 15ms/step - loss: 111.2466 - mae: 111.2466 - mse: 75491.0859 - val_loss: 601.8848 - val_mae: 601.8847 - val_mse: 1254147.3750\n",
      "Epoch 71/100\n",
      "18/18 [==============================] - 0s 7ms/step - loss: 112.9265 - mae: 112.9265 - mse: 75905.9141 - val_loss: 636.9830 - val_mae: 636.9830 - val_mse: 1357671.8750\n",
      "Epoch 72/100\n",
      "18/18 [==============================] - 0s 7ms/step - loss: 112.1479 - mae: 112.1479 - mse: 75984.5938 - val_loss: 607.6085 - val_mae: 607.6085 - val_mse: 1255429.7500\n",
      "Epoch 73/100\n",
      "18/18 [==============================] - 0s 6ms/step - loss: 110.3492 - mae: 110.3492 - mse: 75557.3906 - val_loss: 649.7513 - val_mae: 649.7513 - val_mse: 1340843.3750\n",
      "Epoch 74/100\n",
      "18/18 [==============================] - 0s 6ms/step - loss: 113.1403 - mae: 113.1403 - mse: 74782.5938 - val_loss: 654.2479 - val_mae: 654.2479 - val_mse: 1348238.8750\n",
      "Epoch 75/100\n",
      "18/18 [==============================] - 0s 6ms/step - loss: 111.2537 - mae: 111.2537 - mse: 75699.7656 - val_loss: 604.2910 - val_mae: 604.2910 - val_mse: 1242827.8750\n",
      "Epoch 76/100\n",
      "12/18 [===================>..........] - ETA: 0s - loss: 116.7567 - mae: 116.7567 - mse: 79599.1875INFO:tensorflow:Assets written to: model_experiments/model_1_dense/assets\n",
      "18/18 [==============================] - 0s 15ms/step - loss: 117.7425 - mae: 117.7425 - mse: 77164.5625 - val_loss: 597.6859 - val_mae: 597.6859 - val_mse: 1240175.2500\n",
      "Epoch 77/100\n",
      "18/18 [==============================] - 0s 6ms/step - loss: 124.1812 - mae: 124.1812 - mse: 81910.4375 - val_loss: 676.2469 - val_mae: 676.2469 - val_mse: 1407564.2500\n",
      "Epoch 78/100\n",
      "18/18 [==============================] - 0s 6ms/step - loss: 116.4625 - mae: 116.4625 - mse: 77809.9141 - val_loss: 600.0444 - val_mae: 600.0444 - val_mse: 1236488.6250\n",
      "Epoch 79/100\n",
      "12/18 [===================>..........] - ETA: 0s - loss: 110.9843 - mae: 110.9843 - mse: 68307.1875INFO:tensorflow:Assets written to: model_experiments/model_1_dense/assets\n",
      "18/18 [==============================] - 0s 14ms/step - loss: 116.0638 - mae: 116.0638 - mse: 76913.7109 - val_loss: 596.2112 - val_mae: 596.2112 - val_mse: 1237423.6250\n",
      "Epoch 80/100\n",
      "18/18 [==============================] - 0s 6ms/step - loss: 113.6900 - mae: 113.6900 - mse: 75359.2734 - val_loss: 596.3882 - val_mae: 596.3882 - val_mse: 1239297.0000\n",
      "Epoch 81/100\n",
      "12/18 [===================>..........] - ETA: 0s - loss: 125.1870 - mae: 125.1870 - mse: 83328.4531 INFO:tensorflow:Assets written to: model_experiments/model_1_dense/assets\n",
      "18/18 [==============================] - 0s 14ms/step - loss: 116.7009 - mae: 116.7009 - mse: 77053.7031 - val_loss: 594.2823 - val_mae: 594.2823 - val_mse: 1229012.3750\n",
      "Epoch 82/100\n",
      "18/18 [==============================] - 0s 6ms/step - loss: 109.4221 - mae: 109.4221 - mse: 74031.1562 - val_loss: 609.3484 - val_mae: 609.3484 - val_mse: 1274423.0000\n",
      "Epoch 83/100\n",
      "18/18 [==============================] - 0s 6ms/step - loss: 112.5614 - mae: 112.5614 - mse: 76139.5625 - val_loss: 603.4867 - val_mae: 603.4867 - val_mse: 1260392.1250\n",
      "Epoch 84/100\n",
      "18/18 [==============================] - 0s 6ms/step - loss: 114.0975 - mae: 114.0975 - mse: 74501.9453 - val_loss: 628.6971 - val_mae: 628.6971 - val_mse: 1328025.3750\n",
      "Epoch 85/100\n",
      "18/18 [==============================] - 0s 6ms/step - loss: 109.1830 - mae: 109.1830 - mse: 72695.1406 - val_loss: 606.6042 - val_mae: 606.6042 - val_mse: 1244158.2500\n",
      "Epoch 86/100\n",
      "18/18 [==============================] - 0s 6ms/step - loss: 109.7607 - mae: 109.7607 - mse: 72675.1719 - val_loss: 629.0799 - val_mae: 629.0799 - val_mse: 1289578.3750\n",
      "Epoch 87/100\n",
      "18/18 [==============================] - 0s 6ms/step - loss: 109.9947 - mae: 109.9947 - mse: 73439.4297 - val_loss: 598.5974 - val_mae: 598.5974 - val_mse: 1228815.6250\n",
      "Epoch 88/100\n",
      "18/18 [==============================] - 0s 6ms/step - loss: 110.7326 - mae: 110.7326 - mse: 73447.1484 - val_loss: 602.2495 - val_mae: 602.2495 - val_mse: 1254617.6250\n",
      "Epoch 89/100\n",
      "18/18 [==============================] - 0s 6ms/step - loss: 108.8927 - mae: 108.8927 - mse: 73982.0781 - val_loss: 595.5909 - val_mae: 595.5909 - val_mse: 1219126.3750\n",
      "Epoch 90/100\n",
      "12/18 [===================>..........] - ETA: 0s - loss: 107.4523 - mae: 107.4523 - mse: 72393.8125INFO:tensorflow:Assets written to: model_experiments/model_1_dense/assets\n",
      "18/18 [==============================] - 0s 14ms/step - loss: 107.8134 - mae: 107.8134 - mse: 71866.4297 - val_loss: 592.1035 - val_mae: 592.1035 - val_mse: 1229376.0000\n",
      "Epoch 91/100\n",
      "18/18 [==============================] - 0s 6ms/step - loss: 108.3245 - mae: 108.3245 - mse: 72660.0469 - val_loss: 600.3541 - val_mae: 600.3541 - val_mse: 1250120.3750\n",
      "Epoch 92/100\n",
      "18/18 [==============================] - 0s 6ms/step - loss: 109.8390 - mae: 109.8389 - mse: 74515.0469 - val_loss: 603.9699 - val_mae: 603.9699 - val_mse: 1234555.2500\n",
      "Epoch 93/100\n",
      "18/18 [==============================] - 0s 6ms/step - loss: 107.6418 - mae: 107.6418 - mse: 71524.7734 - val_loss: 592.8310 - val_mae: 592.8310 - val_mse: 1213764.5000\n",
      "Epoch 94/100\n",
      "18/18 [==============================] - 0s 6ms/step - loss: 107.9837 - mae: 107.9837 - mse: 71084.6953 - val_loss: 594.0590 - val_mae: 594.0590 - val_mse: 1215833.8750\n",
      "Epoch 95/100\n",
      "18/18 [==============================] - 0s 6ms/step - loss: 108.0934 - mae: 108.0934 - mse: 73089.1562 - val_loss: 598.5471 - val_mae: 598.5471 - val_mse: 1224866.2500\n",
      "Epoch 96/100\n",
      "18/18 [==============================] - 0s 6ms/step - loss: 107.0507 - mae: 107.0507 - mse: 70216.4219 - val_loss: 627.3176 - val_mae: 627.3176 - val_mse: 1284747.5000\n",
      "Epoch 97/100\n",
      "12/18 [===================>..........] - ETA: 0s - loss: 120.1663 - mae: 120.1663 - mse: 84887.6250INFO:tensorflow:Assets written to: model_experiments/model_1_dense/assets\n",
      "18/18 [==============================] - 0s 14ms/step - loss: 112.8146 - mae: 112.8146 - mse: 75917.7891 - val_loss: 590.9949 - val_mae: 590.9949 - val_mse: 1210488.6250\n",
      "Epoch 98/100\n",
      "18/18 [==============================] - 0s 6ms/step - loss: 106.8725 - mae: 106.8725 - mse: 71480.2500 - val_loss: 599.5538 - val_mae: 599.5538 - val_mse: 1228420.2500\n",
      "Epoch 99/100\n",
      "18/18 [==============================] - 0s 6ms/step - loss: 112.4514 - mae: 112.4514 - mse: 73430.5391 - val_loss: 655.2841 - val_mae: 655.2841 - val_mse: 1394488.3750\n",
      "Epoch 100/100\n",
      "12/18 [===================>..........] - ETA: 0s - loss: 110.2129 - mae: 110.2129 - mse: 73166.0625 INFO:tensorflow:Assets written to: model_experiments/model_1_dense/assets\n",
      "18/18 [==============================] - 0s 14ms/step - loss: 111.7328 - mae: 111.7328 - mse: 73186.0391 - val_loss: 585.6095 - val_mae: 585.6095 - val_mse: 1204631.2500\n"
     ]
    },
    {
     "data": {
      "text/plain": [
       "<keras.callbacks.History at 0x17f7414c0>"
      ]
     },
     "execution_count": 393,
     "metadata": {},
     "output_type": "execute_result"
    }
   ],
   "source": [
    "# 1. create the model\n",
    "model_1 = tf.keras.Sequential([\n",
    "    layers.Dense(128, activation='relu'),\n",
    "    layers.Dense(HORIZON, activation='linear')\n",
    "], name='model_1_dense')\n",
    "\n",
    "# 2. compile the model\n",
    "model_1.compile(\n",
    "    loss = 'mae',\n",
    "    optimizer=tf.keras.optimizers.Adam(),\n",
    "    metrics=['mae','mse']\n",
    ")\n",
    "\n",
    "# 3. fit the model\n",
    "model_1.fit(\n",
    "    train_windows,\n",
    "    train_labels,\n",
    "    epochs=100,\n",
    "    verbose=1,\n",
    "    batch_size=128,\n",
    "    validation_data=(test_windows,test_labels),\n",
    "    callbacks=[create_model_checkpoint(model_name=model_1.name)]\n",
    ")"
   ]
  },
  {
   "cell_type": "code",
   "execution_count": 394,
   "id": "219af2b5-aff2-482a-af28-a1dd023d41a8",
   "metadata": {},
   "outputs": [],
   "source": [
    "# load in the saved best performing model\n",
    "model_1 = tf.keras.models.load_model(\"model_experiments/model_1_dense\")"
   ]
  },
  {
   "cell_type": "code",
   "execution_count": 395,
   "id": "64a875a9-868f-4753-916c-a27a8299917a",
   "metadata": {},
   "outputs": [
    {
     "name": "stdout",
     "output_type": "stream",
     "text": [
      "18/18 [==============================] - 0s 4ms/step - loss: 585.6095 - mae: 585.6095 - mse: 1204631.1250\n"
     ]
    },
    {
     "name": "stderr",
     "output_type": "stream",
     "text": [
      "2022-02-14 21:41:28.126057: I tensorflow/core/grappler/optimizers/custom_graph_optimizer_registry.cc:112] Plugin optimizer for device_type GPU is enabled.\n"
     ]
    },
    {
     "data": {
      "text/plain": [
       "[585.6094970703125, 585.6094970703125, 1204631.125]"
      ]
     },
     "execution_count": 395,
     "metadata": {},
     "output_type": "execute_result"
    }
   ],
   "source": [
    "# evaluate the model\n",
    "model_1.evaluate(test_windows, test_labels)"
   ]
  },
  {
   "cell_type": "code",
   "execution_count": 396,
   "id": "27d7adde-5c90-4b2f-a4bc-6965c7761f53",
   "metadata": {},
   "outputs": [
    {
     "name": "stderr",
     "output_type": "stream",
     "text": [
      "2022-02-14 21:41:28.257289: I tensorflow/core/grappler/optimizers/custom_graph_optimizer_registry.cc:112] Plugin optimizer for device_type GPU is enabled.\n"
     ]
    }
   ],
   "source": [
    "model_1_preds = model_1.predict(test_windows)"
   ]
  },
  {
   "cell_type": "code",
   "execution_count": 397,
   "id": "37bdffaf-f897-4aa5-9321-17498448a922",
   "metadata": {},
   "outputs": [
    {
     "data": {
      "text/plain": [
       "{'mae': 567.9803,\n",
       " 'mse': 1147547.1,\n",
       " 'rmse': 1071.2362,\n",
       " 'mape': 2.516525,\n",
       " 'mase': 0.99957}"
      ]
     },
     "execution_count": 397,
     "metadata": {},
     "output_type": "execute_result"
    }
   ],
   "source": [
    "naive_results"
   ]
  },
  {
   "cell_type": "code",
   "execution_count": 398,
   "id": "538beed1-cfe5-4b77-8367-3238a09cf54c",
   "metadata": {},
   "outputs": [],
   "source": [
    "# let's write a function to make forcasts for any kind of model\n",
    "def make_preds(model, X_test, y_test):\n",
    "    \"\"\"\n",
    "        Function that takes in a trained model, makes predictions on X_test and computes evaluation metrics with comparison betwenn y_test and the predictions.\n",
    "    \"\"\"\n",
    "    y_pred = model.predict(X_test)\n",
    "    \n",
    "    return evaluate_preds(y_test.reshape(-1,),y_pred.reshape(-1,))"
   ]
  },
  {
   "cell_type": "code",
   "execution_count": 399,
   "id": "a3f668bb-1136-495a-b36e-9583e005df36",
   "metadata": {},
   "outputs": [
    {
     "data": {
      "text/plain": [
       "{'mae': 585.6095,\n",
       " 'mse': 1204631.1,\n",
       " 'rmse': 1097.5569,\n",
       " 'mape': 2.6245363,\n",
       " 'mase': 1.0287536}"
      ]
     },
     "execution_count": 399,
     "metadata": {},
     "output_type": "execute_result"
    }
   ],
   "source": [
    "model_1_results = make_preds(model_1, test_windows, test_labels)\n",
    "model_1_results"
   ]
  },
  {
   "cell_type": "code",
   "execution_count": 400,
   "id": "80197710-e37d-4180-bdc7-0c9153ba34e2",
   "metadata": {},
   "outputs": [
    {
     "data": {
      "image/png": "[encoded data removed]",
      "text/plain": [
       "<Figure size 720x504 with 1 Axes>"
      ]
     },
     "metadata": {
      "needs_background": "light"
     },
     "output_type": "display_data"
    }
   ],
   "source": [
    "# Lets plot our model 1 predictions\n",
    "\n",
    "offset = 500\n",
    "plt.figure(figsize=(10,7))\n",
    "\n",
    "plot_time_series(\n",
    "    timestamp=X_test[-len(test_windows):],\n",
    "    values=test_labels[:,0],\n",
    "    start=offset,\n",
    "    label=\"test data\"\n",
    "                \n",
    ")\n",
    "plot_time_series(\n",
    "    timestamp=X_test[-len(test_windows):],\n",
    "    values=model_1_preds[:,0],\n",
    "    formated='-',\n",
    "    start=offset,\n",
    "    label=\"predictions\"          \n",
    ")"
   ]
  },
  {
   "cell_type": "markdown",
   "id": "8fa39aa4-fc75-4ba7-b389-9c1755cca483",
   "metadata": {},
   "source": [
    "# Model 2 - Dense (window = 30, horizon = 1)"
   ]
  },
  {
   "cell_type": "code",
   "execution_count": 401,
   "id": "f4effcaa-bb19-4abe-888c-788f25397fe5",
   "metadata": {},
   "outputs": [],
   "source": [
    "HORIZON = 1\n",
    "WINDOW_SIZE = 30"
   ]
  },
  {
   "cell_type": "code",
   "execution_count": 402,
   "id": "4d8e27d7-63c1-4110-a255-ae02324c2f07",
   "metadata": {},
   "outputs": [],
   "source": [
    "full_windows, full_labels = make_windows(np.array(prices), window_size=WINDOW_SIZE, horizon = HORIZON)"
   ]
  },
  {
   "cell_type": "code",
   "execution_count": 403,
   "id": "73e2190e-d71b-4bd8-8574-e4438e8c40e8",
   "metadata": {},
   "outputs": [
    {
     "data": {
      "text/plain": [
       "(2757, 2757)"
      ]
     },
     "execution_count": 403,
     "metadata": {},
     "output_type": "execute_result"
    }
   ],
   "source": [
    "len(full_windows), len(full_labels)"
   ]
  },
  {
   "cell_type": "code",
   "execution_count": 404,
   "id": "82542104-f022-4f3a-96cc-29f461249582",
   "metadata": {},
   "outputs": [],
   "source": [
    "# create train and test splits\n",
    "train_windows, test_windows, train_labels, test_labels = make_train_test_splits(full_windows,full_labels)"
   ]
  },
  {
   "cell_type": "code",
   "execution_count": 405,
   "id": "96a074d0-914d-480d-82f2-fa0d32f29a5a",
   "metadata": {},
   "outputs": [
    {
     "name": "stdout",
     "output_type": "stream",
     "text": [
      "Window: [123.65499 125.455   108.58483 118.67466 121.33866 120.65533 121.795\n",
      " 123.033   124.049   125.96116 125.27966 125.9275  126.38333 135.24199\n",
      " 133.20333 142.76333 137.92333 142.95166 152.55183 160.33883 164.31499\n",
      " 177.63333 188.29716 200.70166 180.355   175.03166 177.6965  187.15983\n",
      " 192.75666 197.4    ] -> Labels: [196.02499]\n"
     ]
    }
   ],
   "source": [
    "# take a look a the data \n",
    "print(f\"Window: {train_windows[0]} -> Labels: {train_labels[0]}\")"
   ]
  },
  {
   "cell_type": "code",
   "execution_count": 406,
   "id": "a53fcadc-783c-4e44-8dff-7086a428da89",
   "metadata": {},
   "outputs": [
    {
     "name": "stdout",
     "output_type": "stream",
     "text": [
      "Epoch 1/100\n",
      "11/18 [=================>............] - ETA: 0s - loss: 821.3403 - mae: 821.3403 - mse: 2876255.2500  "
     ]
    },
    {
     "name": "stderr",
     "output_type": "stream",
     "text": [
      "2022-02-14 21:41:28.541862: I tensorflow/core/grappler/optimizers/custom_graph_optimizer_registry.cc:112] Plugin optimizer for device_type GPU is enabled.\n"
     ]
    },
    {
     "name": "stdout",
     "output_type": "stream",
     "text": [
      "INFO:tensorflow:Assets written to: model_experiments/model_2_dense/assets\n",
      "18/18 [==============================] - 0s 19ms/step - loss: 738.2068 - mae: 738.2068 - mse: 2423490.7500 - val_loss: 2970.1960 - val_mae: 2970.1960 - val_mse: 22993258.0000\n"
     ]
    },
    {
     "name": "stderr",
     "output_type": "stream",
     "text": [
      "2022-02-14 21:41:28.756002: I tensorflow/core/grappler/optimizers/custom_graph_optimizer_registry.cc:112] Plugin optimizer for device_type GPU is enabled.\n"
     ]
    },
    {
     "name": "stdout",
     "output_type": "stream",
     "text": [
      "Epoch 2/100\n",
      "12/18 [===================>..........] - ETA: 0s - loss: 447.1590 - mae: 447.1590 - mse: 951119.5000INFO:tensorflow:Assets written to: model_experiments/model_2_dense/assets\n",
      "18/18 [==============================] - 0s 14ms/step - loss: 424.6321 - mae: 424.6321 - mse: 876853.6875 - val_loss: 1650.9674 - val_mae: 1650.9674 - val_mse: 8952487.0000\n",
      "Epoch 3/100\n",
      "18/18 [==============================] - 0s 6ms/step - loss: 304.4857 - mae: 304.4857 - mse: 452132.7188 - val_loss: 1734.9803 - val_mae: 1734.9803 - val_mse: 8766415.0000\n",
      "Epoch 4/100\n",
      "12/18 [===================>..........] - ETA: 0s - loss: 260.9736 - mae: 260.9736 - mse: 357810.0625INFO:tensorflow:Assets written to: model_experiments/model_2_dense/assets\n",
      "18/18 [==============================] - 0s 14ms/step - loss: 260.9427 - mae: 260.9427 - mse: 351288.7500 - val_loss: 1441.1761 - val_mae: 1441.1761 - val_mse: 6800349.0000\n",
      "Epoch 5/100\n",
      "18/18 [==============================] - 0s 6ms/step - loss: 237.5932 - mae: 237.5932 - mse: 296600.7188 - val_loss: 1630.2240 - val_mae: 1630.2240 - val_mse: 7534233.5000\n",
      "Epoch 6/100\n",
      "12/18 [===================>..........] - ETA: 0s - loss: 242.4845 - mae: 242.4845 - mse: 286559.9375INFO:tensorflow:Assets written to: model_experiments/model_2_dense/assets\n",
      "18/18 [==============================] - 0s 24ms/step - loss: 236.3953 - mae: 236.3953 - mse: 280578.5000 - val_loss: 1230.5197 - val_mae: 1230.5197 - val_mse: 5518371.5000\n",
      "Epoch 7/100\n",
      "18/18 [==============================] - 0s 6ms/step - loss: 222.0032 - mae: 222.0032 - mse: 250321.5312 - val_loss: 1453.1465 - val_mae: 1453.1465 - val_mse: 6010258.5000\n",
      "Epoch 8/100\n",
      "12/18 [===================>..........] - ETA: 0s - loss: 224.4766 - mae: 224.4766 - mse: 253182.9844INFO:tensorflow:Assets written to: model_experiments/model_2_dense/assets\n",
      "18/18 [==============================] - 0s 14ms/step - loss: 215.5727 - mae: 215.5727 - mse: 235514.7969 - val_loss: 1158.2542 - val_mae: 1158.2542 - val_mse: 4520143.5000\n",
      "Epoch 9/100\n",
      "13/18 [====================>.........] - ETA: 0s - loss: 210.5866 - mae: 210.5866 - mse: 225586.1250INFO:tensorflow:Assets written to: model_experiments/model_2_dense/assets\n",
      "18/18 [==============================] - 0s 14ms/step - loss: 201.3586 - mae: 201.3586 - mse: 206533.9219 - val_loss: 1098.0933 - val_mae: 1098.0933 - val_mse: 4141734.0000\n",
      "Epoch 10/100\n",
      "18/18 [==============================] - 0s 6ms/step - loss: 196.8587 - mae: 196.8587 - mse: 202745.5469 - val_loss: 1281.9958 - val_mae: 1281.9958 - val_mse: 5410567.5000\n",
      "Epoch 11/100\n",
      "13/18 [====================>.........] - ETA: 0s - loss: 201.3838 - mae: 201.3838 - mse: 202164.6250INFO:tensorflow:Assets written to: model_experiments/model_2_dense/assets\n",
      "18/18 [==============================] - 0s 14ms/step - loss: 194.4683 - mae: 194.4683 - mse: 189922.2969 - val_loss: 1059.8419 - val_mae: 1059.8419 - val_mse: 3895815.5000\n",
      "Epoch 12/100\n",
      "18/18 [==============================] - 0s 6ms/step - loss: 179.9503 - mae: 179.9503 - mse: 166075.0938 - val_loss: 1191.6761 - val_mae: 1191.6761 - val_mse: 4683403.0000\n",
      "Epoch 13/100\n",
      "18/18 [==============================] - 0s 6ms/step - loss: 212.8210 - mae: 212.8210 - mse: 200188.0312 - val_loss: 1189.8429 - val_mae: 1189.8429 - val_mse: 3887287.5000\n",
      "Epoch 14/100\n",
      "18/18 [==============================] - 0s 6ms/step - loss: 177.0868 - mae: 177.0868 - mse: 162210.8438 - val_loss: 1335.0138 - val_mae: 1335.0138 - val_mse: 4568623.5000\n",
      "Epoch 15/100\n",
      "18/18 [==============================] - 0s 6ms/step - loss: 187.0036 - mae: 187.0036 - mse: 170545.3281 - val_loss: 1398.2346 - val_mae: 1398.2346 - val_mse: 4899860.0000\n",
      "Epoch 16/100\n",
      "12/18 [===================>..........] - ETA: 0s - loss: 184.0772 - mae: 184.0772 - mse: 160730.7500INFO:tensorflow:Assets written to: model_experiments/model_2_dense/assets\n",
      "18/18 [==============================] - 0s 14ms/step - loss: 178.8253 - mae: 178.8253 - mse: 155461.2344 - val_loss: 915.8267 - val_mae: 915.8267 - val_mse: 2729107.2500\n",
      "Epoch 17/100\n",
      "18/18 [==============================] - 0s 6ms/step - loss: 177.3114 - mae: 177.3114 - mse: 154934.8438 - val_loss: 926.8817 - val_mae: 926.8817 - val_mse: 2955053.2500\n",
      "Epoch 18/100\n",
      "12/18 [===================>..........] - ETA: 0s - loss: 165.4446 - mae: 165.4446 - mse: 150510.4062INFO:tensorflow:Assets written to: model_experiments/model_2_dense/assets\n",
      "18/18 [==============================] - 0s 14ms/step - loss: 163.3446 - mae: 163.3446 - mse: 139247.9219 - val_loss: 889.0927 - val_mae: 889.0927 - val_mse: 2666654.2500\n",
      "Epoch 19/100\n",
      "18/18 [==============================] - 0s 6ms/step - loss: 159.8921 - mae: 159.8921 - mse: 128832.3359 - val_loss: 920.3928 - val_mae: 920.3928 - val_mse: 2573766.2500\n",
      "Epoch 20/100\n",
      "18/18 [==============================] - 0s 6ms/step - loss: 168.5686 - mae: 168.5686 - mse: 137621.1875 - val_loss: 1018.4977 - val_mae: 1018.4977 - val_mse: 2898045.7500\n",
      "Epoch 21/100\n",
      "18/18 [==============================] - 0s 6ms/step - loss: 165.7777 - mae: 165.7777 - mse: 135967.5625 - val_loss: 1033.0426 - val_mae: 1033.0426 - val_mse: 2946004.0000\n",
      "Epoch 22/100\n",
      "18/18 [==============================] - 0s 6ms/step - loss: 170.6819 - mae: 170.6819 - mse: 141633.6250 - val_loss: 964.5675 - val_mae: 964.5675 - val_mse: 2646153.7500\n",
      "Epoch 23/100\n",
      "18/18 [==============================] - 0s 6ms/step - loss: 155.2977 - mae: 155.2977 - mse: 120453.1562 - val_loss: 996.6496 - val_mae: 996.6496 - val_mse: 2756233.7500\n",
      "Epoch 24/100\n",
      "18/18 [==============================] - 0s 6ms/step - loss: 150.6070 - mae: 150.6070 - mse: 116624.0938 - val_loss: 990.6598 - val_mae: 990.6598 - val_mse: 2719788.0000\n",
      "Epoch 25/100\n",
      "18/18 [==============================] - 0s 6ms/step - loss: 171.3877 - mae: 171.3877 - mse: 135965.3281 - val_loss: 944.6395 - val_mae: 944.6395 - val_mse: 2524036.7500\n",
      "Epoch 26/100\n",
      "18/18 [==============================] - 0s 6ms/step - loss: 154.3784 - mae: 154.3784 - mse: 123562.1484 - val_loss: 1029.3154 - val_mae: 1029.3154 - val_mse: 2862098.7500\n",
      "Epoch 27/100\n",
      "12/18 [===================>..........] - ETA: 0s - loss: 158.0054 - mae: 158.0054 - mse: 121238.1875INFO:tensorflow:Assets written to: model_experiments/model_2_dense/assets\n",
      "18/18 [==============================] - 0s 14ms/step - loss: 158.1399 - mae: 158.1399 - mse: 123371.7422 - val_loss: 787.0997 - val_mae: 787.0997 - val_mse: 2022797.5000\n",
      "Epoch 28/100\n",
      "12/18 [===================>..........] - ETA: 0s - loss: 163.6902 - mae: 163.6902 - mse: 135332.9844INFO:tensorflow:Assets written to: model_experiments/model_2_dense/assets\n",
      "18/18 [==============================] - 0s 14ms/step - loss: 153.0090 - mae: 153.0090 - mse: 119047.7812 - val_loss: 783.0246 - val_mae: 783.0246 - val_mse: 2002292.0000\n",
      "Epoch 29/100\n",
      "18/18 [==============================] - 0s 6ms/step - loss: 144.7139 - mae: 144.7139 - mse: 110789.2734 - val_loss: 867.4199 - val_mae: 867.4199 - val_mse: 2501071.7500\n",
      "Epoch 30/100\n",
      "18/18 [==============================] - 0s 6ms/step - loss: 147.7715 - mae: 147.7715 - mse: 108786.5391 - val_loss: 852.7733 - val_mae: 852.7733 - val_mse: 2416034.7500\n",
      "Epoch 31/100\n",
      "18/18 [==============================] - 0s 6ms/step - loss: 148.7090 - mae: 148.7090 - mse: 115577.7031 - val_loss: 832.9166 - val_mae: 832.9166 - val_mse: 2293157.5000\n",
      "Epoch 32/100\n",
      "18/18 [==============================] - 0s 6ms/step - loss: 170.5445 - mae: 170.5445 - mse: 131815.1406 - val_loss: 791.5550 - val_mae: 791.5550 - val_mse: 2053552.7500\n",
      "Epoch 33/100\n",
      "12/18 [===================>..........] - ETA: 0s - loss: 150.2853 - mae: 150.2853 - mse: 108207.4062INFO:tensorflow:Assets written to: model_experiments/model_2_dense/assets\n",
      "18/18 [==============================] - 0s 14ms/step - loss: 148.6138 - mae: 148.6138 - mse: 112990.8047 - val_loss: 753.9813 - val_mae: 753.9813 - val_mse: 1841729.1250\n",
      "Epoch 34/100\n",
      "18/18 [==============================] - 0s 6ms/step - loss: 148.7214 - mae: 148.7214 - mse: 111126.7266 - val_loss: 1040.3990 - val_mae: 1040.3990 - val_mse: 3135651.7500\n",
      "Epoch 35/100\n",
      "18/18 [==============================] - 0s 6ms/step - loss: 148.1916 - mae: 148.1916 - mse: 112133.9297 - val_loss: 780.0082 - val_mae: 780.0082 - val_mse: 2014706.1250\n",
      "Epoch 36/100\n",
      "12/18 [===================>..........] - ETA: 0s - loss: 141.8314 - mae: 141.8314 - mse: 107172.5625INFO:tensorflow:Assets written to: model_experiments/model_2_dense/assets\n",
      "18/18 [==============================] - 0s 14ms/step - loss: 136.6846 - mae: 136.6846 - mse: 98811.1016 - val_loss: 747.8065 - val_mae: 747.8065 - val_mse: 1752560.3750\n",
      "Epoch 37/100\n",
      "18/18 [==============================] - 0s 6ms/step - loss: 135.4719 - mae: 135.4719 - mse: 99927.3594 - val_loss: 770.0983 - val_mae: 770.0983 - val_mse: 1813607.2500\n",
      "Epoch 38/100\n",
      "12/18 [===================>..........] - ETA: 0s - loss: 139.0573 - mae: 139.0573 - mse: 108810.2344INFO:tensorflow:Assets written to: model_experiments/model_2_dense/assets\n",
      "18/18 [==============================] - 0s 14ms/step - loss: 136.0822 - mae: 136.0822 - mse: 98498.7266 - val_loss: 733.3943 - val_mae: 733.3943 - val_mse: 1759961.6250\n",
      "Epoch 39/100\n",
      "12/18 [===================>..........] - ETA: 0s - loss: 133.5000 - mae: 133.5000 - mse: 93833.7188 INFO:tensorflow:Assets written to: model_experiments/model_2_dense/assets\n",
      "18/18 [==============================] - 0s 14ms/step - loss: 134.5330 - mae: 134.5330 - mse: 96417.8359 - val_loss: 721.3821 - val_mae: 721.3821 - val_mse: 1672737.6250\n",
      "Epoch 40/100\n",
      "18/18 [==============================] - 0s 6ms/step - loss: 131.3318 - mae: 131.3318 - mse: 94118.2578 - val_loss: 780.0929 - val_mae: 780.0929 - val_mse: 1831865.0000\n",
      "Epoch 41/100\n",
      "18/18 [==============================] - 0s 6ms/step - loss: 135.2483 - mae: 135.2483 - mse: 96983.7031 - val_loss: 743.3896 - val_mae: 743.3896 - val_mse: 1813915.1250\n",
      "Epoch 42/100\n",
      "18/18 [==============================] - 0s 6ms/step - loss: 138.3616 - mae: 138.3616 - mse: 98880.7969 - val_loss: 765.1944 - val_mae: 765.1944 - val_mse: 1770206.1250\n",
      "Epoch 43/100\n",
      "18/18 [==============================] - 0s 6ms/step - loss: 132.5146 - mae: 132.5146 - mse: 94747.0547 - val_loss: 955.1628 - val_mae: 955.1628 - val_mse: 2676898.2500\n",
      "Epoch 44/100\n",
      "12/18 [===================>..........] - ETA: 0s - loss: 142.0327 - mae: 142.0327 - mse: 106066.3438INFO:tensorflow:Assets written to: model_experiments/model_2_dense/assets\n",
      "18/18 [==============================] - 0s 14ms/step - loss: 137.5547 - mae: 137.5547 - mse: 97332.0000 - val_loss: 713.8433 - val_mae: 713.8433 - val_mse: 1605800.0000\n",
      "Epoch 45/100\n",
      "12/18 [===================>..........] - ETA: 0s - loss: 131.5586 - mae: 131.5586 - mse: 89624.1484 INFO:tensorflow:Assets written to: model_experiments/model_2_dense/assets\n",
      "18/18 [==============================] - 0s 14ms/step - loss: 130.6111 - mae: 130.6111 - mse: 91812.1250 - val_loss: 692.2831 - val_mae: 692.2831 - val_mse: 1547044.1250\n",
      "Epoch 46/100\n",
      "18/18 [==============================] - 0s 6ms/step - loss: 143.5274 - mae: 143.5274 - mse: 100468.7266 - val_loss: 761.4604 - val_mae: 761.4604 - val_mse: 1737380.2500\n",
      "Epoch 47/100\n",
      "18/18 [==============================] - 0s 6ms/step - loss: 136.2702 - mae: 136.2702 - mse: 95554.9375 - val_loss: 701.4466 - val_mae: 701.4466 - val_mse: 1537414.1250\n",
      "Epoch 48/100\n",
      "18/18 [==============================] - 0s 6ms/step - loss: 138.1922 - mae: 138.1922 - mse: 94437.8203 - val_loss: 749.1793 - val_mae: 749.1793 - val_mse: 1680290.8750\n",
      "Epoch 49/100\n",
      "18/18 [==============================] - 0s 6ms/step - loss: 135.7328 - mae: 135.7328 - mse: 93595.7422 - val_loss: 722.8029 - val_mae: 722.8029 - val_mse: 1600858.7500\n",
      "Epoch 50/100\n",
      "18/18 [==============================] - 0s 6ms/step - loss: 128.8939 - mae: 128.8939 - mse: 88798.3047 - val_loss: 706.5604 - val_mae: 706.5604 - val_mse: 1624419.7500\n",
      "Epoch 51/100\n",
      "18/18 [==============================] - 0s 6ms/step - loss: 129.4800 - mae: 129.4800 - mse: 91717.8438 - val_loss: 730.1445 - val_mae: 730.1444 - val_mse: 1628036.3750\n",
      "Epoch 52/100\n",
      "12/18 [===================>..........] - ETA: 0s - loss: 133.3974 - mae: 133.3974 - mse: 86989.3125 INFO:tensorflow:Assets written to: model_experiments/model_2_dense/assets\n",
      "18/18 [==============================] - 0s 14ms/step - loss: 136.2384 - mae: 136.2384 - mse: 90869.2812 - val_loss: 678.1929 - val_mae: 678.1929 - val_mse: 1500213.2500\n",
      "Epoch 53/100\n",
      "18/18 [==============================] - 0s 6ms/step - loss: 128.2375 - mae: 128.2375 - mse: 88109.7266 - val_loss: 719.6202 - val_mae: 719.6202 - val_mse: 1584843.6250\n",
      "Epoch 54/100\n",
      "18/18 [==============================] - 0s 6ms/step - loss: 130.9490 - mae: 130.9490 - mse: 88827.2812 - val_loss: 921.4542 - val_mae: 921.4542 - val_mse: 2277238.2500\n",
      "Epoch 55/100\n",
      "18/18 [==============================] - 0s 6ms/step - loss: 142.1140 - mae: 142.1140 - mse: 97004.2969 - val_loss: 768.5945 - val_mae: 768.5945 - val_mse: 1868699.1250\n",
      "Epoch 56/100\n",
      "18/18 [==============================] - 0s 6ms/step - loss: 146.1577 - mae: 146.1577 - mse: 100217.3203 - val_loss: 678.5834 - val_mae: 678.5834 - val_mse: 1491976.7500\n",
      "Epoch 57/100\n",
      "18/18 [==============================] - 0s 7ms/step - loss: 126.2284 - mae: 126.2284 - mse: 86801.8516 - val_loss: 731.5303 - val_mae: 731.5303 - val_mse: 1623209.2500\n",
      "Epoch 58/100\n",
      "18/18 [==============================] - 0s 6ms/step - loss: 133.3831 - mae: 133.3831 - mse: 89600.1953 - val_loss: 703.9344 - val_mae: 703.9344 - val_mse: 1622911.1250\n",
      "Epoch 59/100\n",
      "18/18 [==============================] - 0s 8ms/step - loss: 129.0152 - mae: 129.0152 - mse: 91778.4062 - val_loss: 684.3664 - val_mae: 684.3664 - val_mse: 1466114.6250\n",
      "Epoch 60/100\n",
      "18/18 [==============================] - 0s 7ms/step - loss: 144.0099 - mae: 144.0099 - mse: 99173.8359 - val_loss: 688.8640 - val_mae: 688.8640 - val_mse: 1545943.2500\n",
      "Epoch 61/100\n",
      "10/18 [===============>..............] - ETA: 0s - loss: 156.9660 - mae: 156.9660 - mse: 113637.6797INFO:tensorflow:Assets written to: model_experiments/model_2_dense/assets\n",
      "18/18 [==============================] - 0s 16ms/step - loss: 148.2052 - mae: 148.2052 - mse: 103014.8281 - val_loss: 663.0223 - val_mae: 663.0223 - val_mse: 1433577.6250\n",
      "Epoch 62/100\n",
      "12/18 [===================>..........] - ETA: 0s - loss: 125.5638 - mae: 125.5638 - mse: 93252.1797 INFO:tensorflow:Assets written to: model_experiments/model_2_dense/assets\n",
      "18/18 [==============================] - 0s 16ms/step - loss: 125.0571 - mae: 125.0571 - mse: 86250.2812 - val_loss: 651.4607 - val_mae: 651.4607 - val_mse: 1372899.6250\n",
      "Epoch 63/100\n",
      "18/18 [==============================] - 0s 6ms/step - loss: 139.1498 - mae: 139.1498 - mse: 92142.5156 - val_loss: 945.1760 - val_mae: 945.1760 - val_mse: 2352925.2500\n",
      "Epoch 64/100\n",
      "18/18 [==============================] - 0s 7ms/step - loss: 132.7772 - mae: 132.7772 - mse: 91400.4453 - val_loss: 654.9177 - val_mae: 654.9177 - val_mse: 1399850.0000\n",
      "Epoch 65/100\n",
      "12/18 [===================>..........] - ETA: 0s - loss: 119.3308 - mae: 119.3308 - mse: 78694.5625INFO:tensorflow:Assets written to: model_experiments/model_2_dense/assets\n",
      "18/18 [==============================] - 0s 15ms/step - loss: 121.5151 - mae: 121.5151 - mse: 81435.7109 - val_loss: 646.7681 - val_mae: 646.7681 - val_mse: 1355067.6250\n",
      "Epoch 66/100\n",
      "18/18 [==============================] - 0s 6ms/step - loss: 123.9961 - mae: 123.9961 - mse: 84030.8281 - val_loss: 648.8228 - val_mae: 648.8228 - val_mse: 1384171.2500\n",
      "Epoch 67/100\n",
      "18/18 [==============================] - 0s 6ms/step - loss: 130.0724 - mae: 130.0724 - mse: 88919.7969 - val_loss: 651.8049 - val_mae: 651.8049 - val_mse: 1355044.2500\n",
      "Epoch 68/100\n",
      "18/18 [==============================] - 0s 6ms/step - loss: 126.7072 - mae: 126.7072 - mse: 86740.4609 - val_loss: 698.6332 - val_mae: 698.6332 - val_mse: 1490346.2500\n",
      "Epoch 69/100\n",
      "18/18 [==============================] - 0s 6ms/step - loss: 140.4662 - mae: 140.4662 - mse: 96811.1094 - val_loss: 703.3117 - val_mae: 703.3117 - val_mse: 1565137.8750\n",
      "Epoch 70/100\n",
      "18/18 [==============================] - 0s 6ms/step - loss: 139.4840 - mae: 139.4840 - mse: 92585.7500 - val_loss: 682.0879 - val_mae: 682.0879 - val_mse: 1488826.7500\n",
      "Epoch 71/100\n",
      "18/18 [==============================] - 0s 7ms/step - loss: 121.1946 - mae: 121.1946 - mse: 80446.5391 - val_loss: 720.4838 - val_mae: 720.4838 - val_mse: 1555380.3750\n",
      "Epoch 72/100\n",
      "18/18 [==============================] - 0s 6ms/step - loss: 121.5937 - mae: 121.5937 - mse: 80713.9609 - val_loss: 649.4138 - val_mae: 649.4138 - val_mse: 1350589.3750\n",
      "Epoch 73/100\n",
      "18/18 [==============================] - 0s 6ms/step - loss: 123.1620 - mae: 123.1620 - mse: 82087.2734 - val_loss: 653.1430 - val_mae: 653.1430 - val_mse: 1351348.8750\n",
      "Epoch 74/100\n",
      "18/18 [==============================] - 0s 6ms/step - loss: 122.9170 - mae: 122.9170 - mse: 81916.1406 - val_loss: 668.3928 - val_mae: 668.3928 - val_mse: 1451251.5000\n",
      "Epoch 75/100\n",
      "18/18 [==============================] - 0s 6ms/step - loss: 118.9854 - mae: 118.9854 - mse: 78203.4453 - val_loss: 658.2230 - val_mae: 658.2230 - val_mse: 1418525.2500\n",
      "Epoch 76/100\n",
      "12/18 [===================>..........] - ETA: 0s - loss: 113.1756 - mae: 113.1756 - mse: 72126.5547INFO:tensorflow:Assets written to: model_experiments/model_2_dense/assets\n",
      "18/18 [==============================] - 0s 15ms/step - loss: 117.3267 - mae: 117.3267 - mse: 77814.4922 - val_loss: 630.2520 - val_mae: 630.2520 - val_mse: 1290752.8750\n",
      "Epoch 77/100\n",
      "18/18 [==============================] - 0s 7ms/step - loss: 128.8726 - mae: 128.8726 - mse: 87655.5078 - val_loss: 675.9874 - val_mae: 675.9874 - val_mse: 1476450.7500\n",
      "Epoch 78/100\n",
      "18/18 [==============================] - 0s 6ms/step - loss: 118.5595 - mae: 118.5595 - mse: 78773.4688 - val_loss: 714.3311 - val_mae: 714.3311 - val_mse: 1530672.1250\n",
      "Epoch 79/100\n",
      "18/18 [==============================] - 0s 7ms/step - loss: 120.8787 - mae: 120.8787 - mse: 78399.2734 - val_loss: 760.8623 - val_mae: 760.8623 - val_mse: 1684125.1250\n",
      "Epoch 80/100\n",
      "18/18 [==============================] - 0s 7ms/step - loss: 134.6311 - mae: 134.6311 - mse: 89695.0391 - val_loss: 988.2551 - val_mae: 988.2551 - val_mse: 2625108.2500\n",
      "Epoch 81/100\n",
      "18/18 [==============================] - 0s 7ms/step - loss: 134.5124 - mae: 134.5124 - mse: 90034.6562 - val_loss: 642.6337 - val_mae: 642.6337 - val_mse: 1320486.2500\n",
      "Epoch 82/100\n",
      "18/18 [==============================] - 0s 8ms/step - loss: 124.4228 - mae: 124.4228 - mse: 80940.3359 - val_loss: 644.6437 - val_mae: 644.6437 - val_mse: 1327071.6250\n",
      "Epoch 83/100\n",
      "18/18 [==============================] - 0s 6ms/step - loss: 164.8546 - mae: 164.8546 - mse: 115097.5547 - val_loss: 866.1583 - val_mae: 866.1583 - val_mse: 2002070.7500\n",
      "Epoch 84/100\n",
      "18/18 [==============================] - 0s 7ms/step - loss: 149.1973 - mae: 149.1973 - mse: 99355.3828 - val_loss: 684.3508 - val_mae: 684.3508 - val_mse: 1486903.5000\n",
      "Epoch 85/100\n",
      "18/18 [==============================] - 0s 6ms/step - loss: 117.7351 - mae: 117.7351 - mse: 79715.6016 - val_loss: 669.3857 - val_mae: 669.3857 - val_mse: 1399061.7500\n",
      "Epoch 86/100\n",
      "18/18 [==============================] - 0s 7ms/step - loss: 118.7997 - mae: 118.7997 - mse: 77506.2031 - val_loss: 962.7712 - val_mae: 962.7712 - val_mse: 2507380.2500\n",
      "Epoch 87/100\n",
      "18/18 [==============================] - 0s 7ms/step - loss: 151.0985 - mae: 151.0985 - mse: 102132.6250 - val_loss: 633.6898 - val_mae: 633.6898 - val_mse: 1301540.7500\n",
      "Epoch 88/100\n",
      "11/18 [=================>............] - ETA: 0s - loss: 136.3815 - mae: 136.3815 - mse: 91154.9297INFO:tensorflow:Assets written to: model_experiments/model_2_dense/assets\n",
      "18/18 [==============================] - 0s 16ms/step - loss: 134.3686 - mae: 134.3686 - mse: 90000.7812 - val_loss: 627.1978 - val_mae: 627.1978 - val_mse: 1288274.2500\n",
      "Epoch 89/100\n",
      "18/18 [==============================] - 0s 7ms/step - loss: 118.5209 - mae: 118.5209 - mse: 77462.8594 - val_loss: 1011.5021 - val_mae: 1011.5021 - val_mse: 2720367.0000\n",
      "Epoch 90/100\n",
      "11/18 [=================>............] - ETA: 0s - loss: 132.3932 - mae: 132.3932 - mse: 75686.3828 INFO:tensorflow:Assets written to: model_experiments/model_2_dense/assets\n",
      "18/18 [==============================] - 0s 15ms/step - loss: 139.9513 - mae: 139.9513 - mse: 94273.9453 - val_loss: 621.8793 - val_mae: 621.8793 - val_mse: 1275035.5000\n",
      "Epoch 91/100\n",
      "18/18 [==============================] - 0s 6ms/step - loss: 130.9364 - mae: 130.9364 - mse: 87630.3359 - val_loss: 754.1886 - val_mae: 754.1886 - val_mse: 1657369.5000\n",
      "Epoch 92/100\n",
      "18/18 [==============================] - 0s 6ms/step - loss: 120.4230 - mae: 120.4230 - mse: 79766.4141 - val_loss: 622.0615 - val_mae: 622.0615 - val_mse: 1287510.7500\n",
      "Epoch 93/100\n",
      "18/18 [==============================] - 0s 6ms/step - loss: 117.7673 - mae: 117.7673 - mse: 77048.1641 - val_loss: 703.6810 - val_mae: 703.6810 - val_mse: 1494713.1250\n",
      "Epoch 94/100\n",
      "18/18 [==============================] - 0s 6ms/step - loss: 115.5034 - mae: 115.5034 - mse: 74673.5312 - val_loss: 656.6610 - val_mae: 656.6610 - val_mse: 1355125.1250\n",
      "Epoch 95/100\n",
      "18/18 [==============================] - 0s 6ms/step - loss: 114.3736 - mae: 114.3736 - mse: 74602.8438 - val_loss: 683.6722 - val_mae: 683.6722 - val_mse: 1433535.6250\n",
      "Epoch 96/100\n",
      "18/18 [==============================] - 0s 6ms/step - loss: 124.2766 - mae: 124.2766 - mse: 82454.2578 - val_loss: 623.4720 - val_mae: 623.4720 - val_mse: 1292991.2500\n",
      "Epoch 97/100\n",
      "12/18 [===================>..........] - ETA: 0s - loss: 116.6286 - mae: 116.6286 - mse: 64431.3828INFO:tensorflow:Assets written to: model_experiments/model_2_dense/assets\n",
      "18/18 [==============================] - 0s 23ms/step - loss: 124.9198 - mae: 124.9198 - mse: 80465.5625 - val_loss: 614.1339 - val_mae: 614.1339 - val_mse: 1255821.0000\n",
      "Epoch 98/100\n",
      "18/18 [==============================] - 0s 6ms/step - loss: 115.3612 - mae: 115.3612 - mse: 75259.8203 - val_loss: 791.0781 - val_mae: 791.0781 - val_mse: 1764143.6250\n",
      "Epoch 99/100\n",
      "12/18 [===================>..........] - ETA: 0s - loss: 138.7426 - mae: 138.7426 - mse: 94416.5938INFO:tensorflow:Assets written to: model_experiments/model_2_dense/assets\n",
      "18/18 [==============================] - 0s 14ms/step - loss: 131.3766 - mae: 131.3766 - mse: 86808.8516 - val_loss: 611.3755 - val_mae: 611.3755 - val_mse: 1247660.0000\n",
      "Epoch 100/100\n",
      "18/18 [==============================] - 0s 6ms/step - loss: 119.1444 - mae: 119.1444 - mse: 78566.3516 - val_loss: 620.0073 - val_mae: 620.0073 - val_mse: 1281839.1250\n"
     ]
    },
    {
     "data": {
      "text/plain": [
       "<keras.callbacks.History at 0x179870790>"
      ]
     },
     "execution_count": 406,
     "metadata": {},
     "output_type": "execute_result"
    }
   ],
   "source": [
    "# 1. create model 2\n",
    "model_2 = tf.keras.Sequential(name='model_2_dense')\n",
    "model_2.add(layers.Dense(128,activation='relu'))\n",
    "model_2.add(layers.Dense(1,activation='linear'))\n",
    "\n",
    "# 2. compile the model\n",
    "model_2.compile(\n",
    "    loss='mae',\n",
    "    optimizer=tf.keras.optimizers.Adam(),\n",
    "    metrics=['mae','mse']\n",
    ")\n",
    "\n",
    "# 3. fit the model\n",
    "model_2.fit(\n",
    "    train_windows,\n",
    "    train_labels,\n",
    "    epochs=100,\n",
    "    verbose=1,\n",
    "    batch_size=128,\n",
    "    validation_data=(test_windows,test_labels),\n",
    "    callbacks=[create_model_checkpoint(model_name=model_2.name)]\n",
    ")"
   ]
  },
  {
   "cell_type": "code",
   "execution_count": 407,
   "id": "dddc1245-d888-4584-8580-4dbd8ec148e3",
   "metadata": {},
   "outputs": [
    {
     "name": "stdout",
     "output_type": "stream",
     "text": [
      "18/18 [==============================] - 0s 4ms/step - loss: 620.0073 - mae: 620.0073 - mse: 1281839.5000\n"
     ]
    },
    {
     "data": {
      "text/plain": [
       "[620.00732421875, 620.00732421875, 1281839.5]"
      ]
     },
     "execution_count": 407,
     "metadata": {},
     "output_type": "execute_result"
    }
   ],
   "source": [
    "# evaluate model 2\n",
    "model_2.evaluate(test_windows, test_labels)"
   ]
  },
  {
   "cell_type": "code",
   "execution_count": 408,
   "id": "f024cb12-fe1b-4637-bdc4-38364276a1e9",
   "metadata": {},
   "outputs": [],
   "source": [
    "model_2 = tf.keras.models.load_model(\"model_experiments/model_2_dense\")"
   ]
  },
  {
   "cell_type": "code",
   "execution_count": 409,
   "id": "0f2d43fe-e24a-4f47-915c-26fbd988fd0a",
   "metadata": {},
   "outputs": [
    {
     "name": "stdout",
     "output_type": "stream",
     "text": [
      "18/18 [==============================] - 0s 4ms/step - loss: 611.3755 - mae: 611.3755 - mse: 1247659.8750\n"
     ]
    },
    {
     "name": "stderr",
     "output_type": "stream",
     "text": [
      "2022-02-14 21:41:44.243561: I tensorflow/core/grappler/optimizers/custom_graph_optimizer_registry.cc:112] Plugin optimizer for device_type GPU is enabled.\n"
     ]
    },
    {
     "data": {
      "text/plain": [
       "[611.3755493164062, 611.3755493164062, 1247659.875]"
      ]
     },
     "execution_count": 409,
     "metadata": {},
     "output_type": "execute_result"
    }
   ],
   "source": [
    "# evaluate best performing model 2\n",
    "model_2.evaluate(test_windows, test_labels)"
   ]
  },
  {
   "cell_type": "code",
   "execution_count": 410,
   "id": "f3857298-454f-42ab-bb29-ddddaf9526d0",
   "metadata": {},
   "outputs": [
    {
     "name": "stderr",
     "output_type": "stream",
     "text": [
      "2022-02-14 21:41:44.372777: I tensorflow/core/grappler/optimizers/custom_graph_optimizer_registry.cc:112] Plugin optimizer for device_type GPU is enabled.\n"
     ]
    }
   ],
   "source": [
    "model_2_preds = model_2.predict(test_windows)"
   ]
  },
  {
   "cell_type": "code",
   "execution_count": 411,
   "id": "d37e2907-77ac-4ce4-9b6c-d0e7da7bdbf7",
   "metadata": {},
   "outputs": [],
   "source": [
    "model_2_results = make_preds(model_2,test_windows, test_labels)"
   ]
  },
  {
   "cell_type": "code",
   "execution_count": 412,
   "id": "8cab08ee-0d69-4e91-8f66-4ad7b403f6fa",
   "metadata": {},
   "outputs": [
    {
     "data": {
      "text/plain": [
       "{'mae': 611.37555,\n",
       " 'mse': 1247659.9,\n",
       " 'rmse': 1116.9869,\n",
       " 'mape': 2.7825267,\n",
       " 'mase': 1.0686903}"
      ]
     },
     "execution_count": 412,
     "metadata": {},
     "output_type": "execute_result"
    }
   ],
   "source": [
    "model_2_results"
   ]
  },
  {
   "cell_type": "code",
   "execution_count": 413,
   "id": "6e95f4d6-4e59-42fc-9c72-d034cc26e078",
   "metadata": {},
   "outputs": [
    {
     "data": {
      "text/plain": [
       "{'mae': 585.6095,\n",
       " 'mse': 1204631.1,\n",
       " 'rmse': 1097.5569,\n",
       " 'mape': 2.6245363,\n",
       " 'mase': 1.0287536}"
      ]
     },
     "execution_count": 413,
     "metadata": {},
     "output_type": "execute_result"
    }
   ],
   "source": [
    "model_1_results"
   ]
  },
  {
   "cell_type": "code",
   "execution_count": 414,
   "id": "ce34c5e3-95f3-4691-b23d-acad929da758",
   "metadata": {},
   "outputs": [
    {
     "data": {
      "image/png": "[encoded data removed]",
      "text/plain": [
       "<Figure size 720x504 with 1 Axes>"
      ]
     },
     "metadata": {
      "needs_background": "light"
     },
     "output_type": "display_data"
    }
   ],
   "source": [
    "# Lets plot our model 1 predictions\n",
    "\n",
    "offset = 500\n",
    "plt.figure(figsize=(10,7))\n",
    "\n",
    "plot_time_series(\n",
    "    timestamp=X_test[-len(test_windows):],\n",
    "    values=test_labels[:,0],\n",
    "    start=offset,\n",
    "    label=\"test data\"\n",
    "                \n",
    ")\n",
    "plot_time_series(\n",
    "    timestamp=X_test[-len(test_windows):],\n",
    "    values=model_2_preds[:,0],\n",
    "    formated='-',\n",
    "    start=offset,\n",
    "    label=\"predictions\"          \n",
    ")"
   ]
  },
  {
   "cell_type": "markdown",
   "id": "3f914aa5-0033-48fb-9b44-de4ca1101ed7",
   "metadata": {},
   "source": [
    "# Model 3 - Dense Model (window = 30, horizon = 7)"
   ]
  },
  {
   "cell_type": "code",
   "execution_count": 416,
   "id": "b4933515-61ab-4988-b249-2b2b39d40be9",
   "metadata": {},
   "outputs": [],
   "source": [
    "HORIZON = 7\n",
    "WINDOW_SIZE = 30\n",
    "\n",
    "full_windows, full_labels = make_windows(np.array(prices), window_size=WINDOW_SIZE, horizon=HORIZON)"
   ]
  },
  {
   "cell_type": "code",
   "execution_count": 417,
   "id": "16e43912-06c5-4322-b488-cc24405f8616",
   "metadata": {},
   "outputs": [],
   "source": [
    "train_windows, test_windows, train_labels, test_labels = make_train_test_splits(full_windows, full_labels)"
   ]
  },
  {
   "cell_type": "code",
   "execution_count": 422,
   "id": "5fb04896-a2bf-4413-a237-132e16a612d3",
   "metadata": {},
   "outputs": [
    {
     "name": "stdout",
     "output_type": "stream",
     "text": [
      "Epoch 1/128\n"
     ]
    },
    {
     "name": "stderr",
     "output_type": "stream",
     "text": [
      "2022-02-14 21:49:21.719442: I tensorflow/core/grappler/optimizers/custom_graph_optimizer_registry.cc:112] Plugin optimizer for device_type GPU is enabled.\n"
     ]
    },
    {
     "name": "stdout",
     "output_type": "stream",
     "text": [
      "64/69 [==========================>...] - ETA: 0s - loss: 706.1462"
     ]
    },
    {
     "name": "stderr",
     "output_type": "stream",
     "text": [
      "2022-02-14 21:49:22.347303: I tensorflow/core/grappler/optimizers/custom_graph_optimizer_registry.cc:112] Plugin optimizer for device_type GPU is enabled.\n"
     ]
    },
    {
     "name": "stdout",
     "output_type": "stream",
     "text": [
      "INFO:tensorflow:Assets written to: model_experiments/model_3_dense/assets\n",
      "69/69 [==============================] - 1s 9ms/step - loss: 684.3420 - val_loss: 1802.0071\n",
      "Epoch 2/128\n",
      "69/69 [==============================] - 0s 5ms/step - loss: 328.1533 - val_loss: 1817.5852\n",
      "Epoch 3/128\n",
      "64/69 [==========================>...] - ETA: 0s - loss: 299.7191INFO:tensorflow:Assets written to: model_experiments/model_3_dense/assets\n",
      "69/69 [==============================] - 0s 7ms/step - loss: 301.0319 - val_loss: 1539.2815\n",
      "Epoch 4/128\n",
      "62/69 [=========================>....] - ETA: 0s - loss: 294.9537INFO:tensorflow:Assets written to: model_experiments/model_3_dense/assets\n",
      "69/69 [==============================] - 0s 7ms/step - loss: 297.6518 - val_loss: 1438.6527\n",
      "Epoch 5/128\n",
      "69/69 [==============================] - 0s 5ms/step - loss: 290.6159 - val_loss: 1552.7471\n",
      "Epoch 6/128\n",
      "69/69 [==============================] - 0s 5ms/step - loss: 275.5788 - val_loss: 1787.2252\n",
      "Epoch 7/128\n",
      "69/69 [==============================] - 0s 5ms/step - loss: 267.6594 - val_loss: 1457.9994\n",
      "Epoch 8/128\n",
      "69/69 [==============================] - 0s 5ms/step - loss: 258.6694 - val_loss: 1510.4292\n",
      "Epoch 9/128\n",
      "65/69 [===========================>..] - ETA: 0s - loss: 257.0240INFO:tensorflow:Assets written to: model_experiments/model_3_dense/assets\n",
      "69/69 [==============================] - 0s 7ms/step - loss: 255.2549 - val_loss: 1370.3083\n",
      "Epoch 10/128\n",
      "69/69 [==============================] - 0s 5ms/step - loss: 282.1737 - val_loss: 1492.2493\n",
      "Epoch 11/128\n",
      "69/69 [==============================] - ETA: 0s - loss: 250.1597INFO:tensorflow:Assets written to: model_experiments/model_3_dense/assets\n",
      "69/69 [==============================] - 0s 6ms/step - loss: 250.1597 - val_loss: 1340.1650\n",
      "Epoch 12/128\n",
      "69/69 [==============================] - 0s 5ms/step - loss: 249.9298 - val_loss: 1467.6509\n",
      "Epoch 13/128\n",
      "69/69 [==============================] - 0s 5ms/step - loss: 249.4966 - val_loss: 1536.0377\n",
      "Epoch 14/128\n",
      "69/69 [==============================] - 0s 5ms/step - loss: 255.6484 - val_loss: 1516.4773\n",
      "Epoch 15/128\n",
      "69/69 [==============================] - ETA: 0s - loss: 258.4177INFO:tensorflow:Assets written to: model_experiments/model_3_dense/assets\n",
      "69/69 [==============================] - 0s 7ms/step - loss: 258.4177 - val_loss: 1289.0160\n",
      "Epoch 16/128\n",
      "69/69 [==============================] - 0s 5ms/step - loss: 241.7417 - val_loss: 1385.8000\n",
      "Epoch 17/128\n",
      "69/69 [==============================] - 0s 5ms/step - loss: 251.7399 - val_loss: 1455.8503\n",
      "Epoch 18/128\n",
      "69/69 [==============================] - 0s 5ms/step - loss: 239.3018 - val_loss: 1392.3173\n",
      "Epoch 19/128\n",
      "69/69 [==============================] - 0s 5ms/step - loss: 240.0900 - val_loss: 1487.9773\n",
      "Epoch 20/128\n",
      "69/69 [==============================] - ETA: 0s - loss: 243.1671INFO:tensorflow:Assets written to: model_experiments/model_3_dense/assets\n",
      "69/69 [==============================] - 0s 6ms/step - loss: 243.1671 - val_loss: 1279.5576\n",
      "Epoch 21/128\n",
      "69/69 [==============================] - 0s 4ms/step - loss: 248.6528 - val_loss: 1427.0989\n",
      "Epoch 22/128\n",
      "69/69 [==============================] - 0s 4ms/step - loss: 235.9661 - val_loss: 1280.0632\n",
      "Epoch 23/128\n",
      "69/69 [==============================] - 0s 4ms/step - loss: 237.8425 - val_loss: 1364.1660\n",
      "Epoch 24/128\n",
      "69/69 [==============================] - 0s 4ms/step - loss: 240.6313 - val_loss: 1442.1166\n",
      "Epoch 25/128\n",
      "69/69 [==============================] - 0s 4ms/step - loss: 247.9061 - val_loss: 1349.3333\n",
      "Epoch 26/128\n",
      "69/69 [==============================] - 0s 4ms/step - loss: 246.2222 - val_loss: 1421.1692\n",
      "Epoch 27/128\n",
      "69/69 [==============================] - 0s 4ms/step - loss: 245.6492 - val_loss: 1280.6725\n",
      "Epoch 28/128\n",
      "69/69 [==============================] - 0s 4ms/step - loss: 238.1122 - val_loss: 1455.6603\n",
      "Epoch 29/128\n",
      "57/69 [=======================>......] - ETA: 0s - loss: 234.0613INFO:tensorflow:Assets written to: model_experiments/model_3_dense/assets\n",
      "69/69 [==============================] - 0s 6ms/step - loss: 237.6693 - val_loss: 1244.8109\n",
      "Epoch 30/128\n",
      "56/69 [=======================>......] - ETA: 0s - loss: 237.2805INFO:tensorflow:Assets written to: model_experiments/model_3_dense/assets\n",
      "69/69 [==============================] - 0s 6ms/step - loss: 233.1487 - val_loss: 1238.4281\n",
      "Epoch 31/128\n",
      "69/69 [==============================] - 0s 4ms/step - loss: 239.2862 - val_loss: 1415.6316\n",
      "Epoch 32/128\n",
      "69/69 [==============================] - 0s 4ms/step - loss: 238.7267 - val_loss: 1466.8311\n",
      "Epoch 33/128\n",
      "69/69 [==============================] - 0s 4ms/step - loss: 230.3012 - val_loss: 1301.6465\n",
      "Epoch 34/128\n",
      "69/69 [==============================] - 0s 4ms/step - loss: 234.4203 - val_loss: 1393.9993\n",
      "Epoch 35/128\n",
      "69/69 [==============================] - 0s 4ms/step - loss: 235.3972 - val_loss: 1411.7784\n",
      "Epoch 36/128\n",
      "69/69 [==============================] - 0s 4ms/step - loss: 239.9395 - val_loss: 1285.6927\n",
      "Epoch 37/128\n",
      "69/69 [==============================] - 0s 4ms/step - loss: 234.8775 - val_loss: 1457.5714\n",
      "Epoch 38/128\n",
      "69/69 [==============================] - 0s 4ms/step - loss: 234.0440 - val_loss: 1333.8905\n",
      "Epoch 39/128\n",
      "69/69 [==============================] - 0s 4ms/step - loss: 244.8482 - val_loss: 1291.5977\n",
      "Epoch 40/128\n",
      "69/69 [==============================] - 0s 4ms/step - loss: 244.3012 - val_loss: 1280.9054\n",
      "Epoch 41/128\n",
      "69/69 [==============================] - 0s 4ms/step - loss: 231.4318 - val_loss: 1586.8615\n",
      "Epoch 42/128\n",
      "69/69 [==============================] - 0s 4ms/step - loss: 243.6549 - val_loss: 1343.8236\n",
      "Epoch 43/128\n",
      "69/69 [==============================] - 0s 4ms/step - loss: 231.0410 - val_loss: 1291.0874\n",
      "Epoch 44/128\n",
      "69/69 [==============================] - 0s 4ms/step - loss: 232.6435 - val_loss: 1305.7560\n",
      "Epoch 45/128\n",
      "69/69 [==============================] - 0s 4ms/step - loss: 227.3498 - val_loss: 1270.4027\n",
      "Epoch 46/128\n",
      "69/69 [==============================] - 0s 5ms/step - loss: 228.7055 - val_loss: 1274.1104\n",
      "Epoch 47/128\n",
      "61/69 [=========================>....] - ETA: 0s - loss: 239.6333INFO:tensorflow:Assets written to: model_experiments/model_3_dense/assets\n",
      "69/69 [==============================] - 0s 7ms/step - loss: 239.4537 - val_loss: 1238.1810\n",
      "Epoch 48/128\n",
      "69/69 [==============================] - 0s 5ms/step - loss: 226.0672 - val_loss: 1239.5248\n",
      "Epoch 49/128\n",
      "69/69 [==============================] - 0s 5ms/step - loss: 229.1961 - val_loss: 1471.2393\n",
      "Epoch 50/128\n",
      "69/69 [==============================] - 0s 5ms/step - loss: 228.6836 - val_loss: 1308.2133\n",
      "Epoch 51/128\n",
      "64/69 [==========================>...] - ETA: 0s - loss: 233.4590INFO:tensorflow:Assets written to: model_experiments/model_3_dense/assets\n",
      "69/69 [==============================] - 0s 7ms/step - loss: 230.1329 - val_loss: 1219.6353\n",
      "Epoch 52/128\n",
      "69/69 [==============================] - 0s 5ms/step - loss: 225.9379 - val_loss: 1283.0492\n",
      "Epoch 53/128\n",
      "69/69 [==============================] - 0s 5ms/step - loss: 221.8806 - val_loss: 1452.4851\n",
      "Epoch 54/128\n",
      "69/69 [==============================] - 0s 5ms/step - loss: 226.1951 - val_loss: 1242.4543\n",
      "Epoch 55/128\n",
      "69/69 [==============================] - 0s 5ms/step - loss: 228.5728 - val_loss: 1279.9738\n",
      "Epoch 56/128\n",
      "69/69 [==============================] - 0s 5ms/step - loss: 240.0979 - val_loss: 1464.3580\n",
      "Epoch 57/128\n",
      "69/69 [==============================] - 0s 5ms/step - loss: 237.9021 - val_loss: 1271.4922\n",
      "Epoch 58/128\n",
      "69/69 [==============================] - 0s 5ms/step - loss: 235.9991 - val_loss: 1335.8293\n",
      "Epoch 59/128\n",
      "69/69 [==============================] - 0s 5ms/step - loss: 225.4898 - val_loss: 1441.7501\n",
      "Epoch 60/128\n",
      "69/69 [==============================] - 0s 5ms/step - loss: 224.8824 - val_loss: 1288.5854\n",
      "Epoch 61/128\n",
      "69/69 [==============================] - 0s 5ms/step - loss: 227.6942 - val_loss: 1268.2917\n",
      "Epoch 62/128\n",
      "69/69 [==============================] - 0s 5ms/step - loss: 223.7580 - val_loss: 1248.9772\n",
      "Epoch 63/128\n",
      "69/69 [==============================] - 0s 5ms/step - loss: 232.2156 - val_loss: 1294.7324\n",
      "Epoch 64/128\n",
      "69/69 [==============================] - 0s 5ms/step - loss: 230.5815 - val_loss: 1275.5272\n",
      "Epoch 65/128\n",
      "69/69 [==============================] - 0s 5ms/step - loss: 234.4976 - val_loss: 1550.0829\n",
      "Epoch 66/128\n",
      "69/69 [==============================] - 0s 5ms/step - loss: 232.5284 - val_loss: 1236.3342\n",
      "Epoch 67/128\n",
      "69/69 [==============================] - 0s 5ms/step - loss: 225.9215 - val_loss: 1398.0638\n",
      "Epoch 68/128\n",
      "69/69 [==============================] - 0s 5ms/step - loss: 222.8013 - val_loss: 1253.7286\n",
      "Epoch 69/128\n",
      "69/69 [==============================] - 0s 5ms/step - loss: 230.3592 - val_loss: 1390.5537\n",
      "Epoch 70/128\n",
      "69/69 [==============================] - 0s 5ms/step - loss: 223.9520 - val_loss: 1309.6931\n",
      "Epoch 71/128\n",
      "69/69 [==============================] - 0s 5ms/step - loss: 221.9246 - val_loss: 1429.5381\n",
      "Epoch 72/128\n",
      "69/69 [==============================] - 0s 5ms/step - loss: 224.8001 - val_loss: 1295.9248\n",
      "Epoch 73/128\n",
      "69/69 [==============================] - 0s 5ms/step - loss: 222.5031 - val_loss: 1341.7573\n",
      "Epoch 74/128\n",
      "69/69 [==============================] - 0s 5ms/step - loss: 233.4223 - val_loss: 1268.5953\n",
      "Epoch 75/128\n",
      "69/69 [==============================] - 0s 5ms/step - loss: 223.1742 - val_loss: 1274.4377\n",
      "Epoch 76/128\n",
      "69/69 [==============================] - 0s 5ms/step - loss: 220.1109 - val_loss: 1297.4260\n",
      "Epoch 77/128\n",
      "69/69 [==============================] - 0s 5ms/step - loss: 224.6931 - val_loss: 1294.0240\n",
      "Epoch 78/128\n",
      "65/69 [===========================>..] - ETA: 0s - loss: 221.4977INFO:tensorflow:Assets written to: model_experiments/model_3_dense/assets\n",
      "69/69 [==============================] - 0s 7ms/step - loss: 223.3943 - val_loss: 1217.7474\n",
      "Epoch 79/128\n",
      "69/69 [==============================] - 0s 5ms/step - loss: 236.9337 - val_loss: 1474.9113\n",
      "Epoch 80/128\n",
      "69/69 [==============================] - 0s 5ms/step - loss: 226.1125 - val_loss: 1600.6013\n",
      "Epoch 81/128\n",
      "69/69 [==============================] - 0s 5ms/step - loss: 230.6449 - val_loss: 1258.6718\n",
      "Epoch 82/128\n",
      "69/69 [==============================] - 0s 5ms/step - loss: 224.7921 - val_loss: 1237.0431\n",
      "Epoch 83/128\n",
      "69/69 [==============================] - 0s 5ms/step - loss: 223.8143 - val_loss: 1432.5967\n",
      "Epoch 84/128\n",
      "69/69 [==============================] - 0s 5ms/step - loss: 222.3006 - val_loss: 1273.4287\n",
      "Epoch 85/128\n",
      "69/69 [==============================] - 0s 5ms/step - loss: 221.0168 - val_loss: 1303.9047\n",
      "Epoch 86/128\n",
      "69/69 [==============================] - 0s 5ms/step - loss: 222.7682 - val_loss: 1264.5470\n",
      "Epoch 87/128\n",
      "69/69 [==============================] - 0s 5ms/step - loss: 219.9410 - val_loss: 1244.9005\n",
      "Epoch 88/128\n",
      "69/69 [==============================] - 0s 5ms/step - loss: 233.0586 - val_loss: 1370.2886\n",
      "Epoch 89/128\n",
      "69/69 [==============================] - 0s 5ms/step - loss: 230.0145 - val_loss: 1329.9000\n",
      "Epoch 90/128\n",
      "69/69 [==============================] - 0s 5ms/step - loss: 221.2818 - val_loss: 1233.2163\n",
      "Epoch 91/128\n",
      "69/69 [==============================] - 0s 5ms/step - loss: 224.6260 - val_loss: 1254.5653\n",
      "Epoch 92/128\n",
      "69/69 [==============================] - 0s 5ms/step - loss: 224.0084 - val_loss: 1264.9442\n",
      "Epoch 93/128\n",
      "69/69 [==============================] - 0s 5ms/step - loss: 217.4212 - val_loss: 1333.3309\n",
      "Epoch 94/128\n",
      "69/69 [==============================] - 0s 5ms/step - loss: 221.3221 - val_loss: 1234.0057\n",
      "Epoch 95/128\n",
      "69/69 [==============================] - 0s 5ms/step - loss: 219.6459 - val_loss: 1291.3208\n",
      "Epoch 96/128\n",
      "69/69 [==============================] - 0s 5ms/step - loss: 221.7927 - val_loss: 1292.3956\n",
      "Epoch 97/128\n",
      "69/69 [==============================] - ETA: 0s - loss: 223.7424INFO:tensorflow:Assets written to: model_experiments/model_3_dense/assets\n",
      "69/69 [==============================] - 0s 6ms/step - loss: 223.7424 - val_loss: 1216.3719\n",
      "Epoch 98/128\n",
      "69/69 [==============================] - 0s 5ms/step - loss: 228.0315 - val_loss: 1252.7234\n",
      "Epoch 99/128\n",
      "69/69 [==============================] - 0s 5ms/step - loss: 222.6867 - val_loss: 1290.5918\n",
      "Epoch 100/128\n",
      "69/69 [==============================] - 0s 4ms/step - loss: 218.7823 - val_loss: 1235.3074\n",
      "Epoch 101/128\n",
      "69/69 [==============================] - 0s 5ms/step - loss: 219.5931 - val_loss: 1292.7925\n",
      "Epoch 102/128\n",
      "69/69 [==============================] - 0s 5ms/step - loss: 225.5989 - val_loss: 1721.0333\n",
      "Epoch 103/128\n",
      "69/69 [==============================] - 0s 5ms/step - loss: 228.4465 - val_loss: 1355.6786\n",
      "Epoch 104/128\n",
      "69/69 [==============================] - ETA: 0s - loss: 227.4862INFO:tensorflow:Assets written to: model_experiments/model_3_dense/assets\n",
      "69/69 [==============================] - 0s 6ms/step - loss: 227.4862 - val_loss: 1212.0970\n",
      "Epoch 105/128\n",
      "69/69 [==============================] - 0s 5ms/step - loss: 235.0176 - val_loss: 1273.6031\n",
      "Epoch 106/128\n",
      "69/69 [==============================] - 0s 5ms/step - loss: 234.0417 - val_loss: 1291.9818\n",
      "Epoch 107/128\n",
      "69/69 [==============================] - 0s 5ms/step - loss: 218.8313 - val_loss: 1234.1724\n",
      "Epoch 108/128\n",
      "69/69 [==============================] - 0s 5ms/step - loss: 219.9894 - val_loss: 1249.4281\n",
      "Epoch 109/128\n",
      "69/69 [==============================] - 0s 5ms/step - loss: 221.5647 - val_loss: 1224.1797\n",
      "Epoch 110/128\n",
      "69/69 [==============================] - 0s 5ms/step - loss: 222.4691 - val_loss: 1214.8086\n",
      "Epoch 111/128\n",
      "69/69 [==============================] - 0s 5ms/step - loss: 226.2433 - val_loss: 1246.4406\n",
      "Epoch 112/128\n",
      "69/69 [==============================] - 0s 5ms/step - loss: 222.1940 - val_loss: 1228.9609\n",
      "Epoch 113/128\n",
      "69/69 [==============================] - 0s 5ms/step - loss: 217.4449 - val_loss: 1235.5967\n",
      "Epoch 114/128\n",
      "69/69 [==============================] - 0s 5ms/step - loss: 221.9138 - val_loss: 1259.9781\n",
      "Epoch 115/128\n",
      "69/69 [==============================] - 0s 5ms/step - loss: 223.1392 - val_loss: 1264.2760\n",
      "Epoch 116/128\n",
      "69/69 [==============================] - 0s 5ms/step - loss: 216.3492 - val_loss: 1264.2166\n",
      "Epoch 117/128\n",
      "69/69 [==============================] - 0s 5ms/step - loss: 222.0578 - val_loss: 1267.0671\n",
      "Epoch 118/128\n",
      "69/69 [==============================] - 0s 5ms/step - loss: 221.8687 - val_loss: 1223.5317\n",
      "Epoch 119/128\n",
      "69/69 [==============================] - 0s 5ms/step - loss: 218.1605 - val_loss: 1264.1097\n",
      "Epoch 120/128\n",
      "69/69 [==============================] - 0s 5ms/step - loss: 226.6741 - val_loss: 1418.6403\n",
      "Epoch 121/128\n",
      "69/69 [==============================] - 0s 5ms/step - loss: 228.9768 - val_loss: 1228.0916\n",
      "Epoch 122/128\n",
      "69/69 [==============================] - 0s 5ms/step - loss: 217.5963 - val_loss: 1265.5243\n",
      "Epoch 123/128\n",
      "69/69 [==============================] - 0s 5ms/step - loss: 228.0053 - val_loss: 1407.2310\n",
      "Epoch 124/128\n",
      "69/69 [==============================] - 0s 5ms/step - loss: 217.1098 - val_loss: 1280.4336\n",
      "Epoch 125/128\n",
      "69/69 [==============================] - 0s 5ms/step - loss: 216.0307 - val_loss: 1229.0219\n",
      "Epoch 126/128\n",
      "69/69 [==============================] - 0s 5ms/step - loss: 222.3323 - val_loss: 1541.4071\n",
      "Epoch 127/128\n",
      "69/69 [==============================] - 0s 5ms/step - loss: 226.0981 - val_loss: 1223.1178\n",
      "Epoch 128/128\n",
      "69/69 [==============================] - 0s 5ms/step - loss: 222.8601 - val_loss: 1236.1292\n"
     ]
    },
    {
     "data": {
      "text/plain": [
       "<keras.callbacks.History at 0x292cb0190>"
      ]
     },
     "execution_count": 422,
     "metadata": {},
     "output_type": "execute_result"
    }
   ],
   "source": [
    "# 1. Create the model\n",
    "model_3 = tf.keras.Sequential(name='model_3_dense')\n",
    "model_3.add(layers.Dense(128, activation='relu'))\n",
    "model_3.add(layers.Dense(HORIZON))\n",
    "\n",
    "# 2. Compile the model\n",
    "model_3.compile(\n",
    "    loss='MAE',\n",
    "    optimizer=tf.keras.optimizers.Adam()\n",
    ")\n",
    "\n",
    "# 3. Fit the Model\n",
    "model_3.fit(\n",
    "    train_windows, \n",
    "    train_labels, \n",
    "    epochs=128, \n",
    "    validation_data = (test_windows, test_labels),\n",
    "    callbacks=[create_model_checkpoint(model_name = model_3.name)]\n",
    ")"
   ]
  },
  {
   "cell_type": "code",
   "execution_count": 423,
   "id": "205639da-c403-4e3b-8eb2-9ed0a5a7376a",
   "metadata": {},
   "outputs": [
    {
     "name": "stdout",
     "output_type": "stream",
     "text": [
      "18/18 [==============================] - 0s 3ms/step - loss: 1236.1292\n"
     ]
    },
    {
     "data": {
      "text/plain": [
       "1236.129150390625"
      ]
     },
     "execution_count": 423,
     "metadata": {},
     "output_type": "execute_result"
    }
   ],
   "source": [
    "# Evaluate the model\n",
    "model_3.evaluate(test_windows, test_labels)"
   ]
  },
  {
   "cell_type": "code",
   "execution_count": 426,
   "id": "a2b0ec5d-4477-4fca-aeae-746ab2e7ac73",
   "metadata": {},
   "outputs": [],
   "source": [
    "model_3 = tf.keras.models.load_model('model_experiments/model_3_dense')"
   ]
  },
  {
   "cell_type": "code",
   "execution_count": 427,
   "id": "80bc45c7-39d8-4e99-ad1f-8a1a3dc0ae73",
   "metadata": {},
   "outputs": [
    {
     "name": "stderr",
     "output_type": "stream",
     "text": [
      "2022-02-14 21:51:52.363261: I tensorflow/core/grappler/optimizers/custom_graph_optimizer_registry.cc:112] Plugin optimizer for device_type GPU is enabled.\n"
     ]
    }
   ],
   "source": [
    "model_3_preds = model_3.predict(test_windows)"
   ]
  },
  {
   "cell_type": "code",
   "execution_count": 431,
   "id": "e4063588-92f4-4c90-99ab-c6800fb94921",
   "metadata": {},
   "outputs": [
    {
     "data": {
      "text/plain": [
       "(551, 7)"
      ]
     },
     "execution_count": 431,
     "metadata": {},
     "output_type": "execute_result"
    }
   ],
   "source": [
    "model_3_preds.shape"
   ]
  },
  {
   "cell_type": "code",
   "execution_count": 432,
   "id": "1ada97c4-20c4-425a-9064-1212419a37ff",
   "metadata": {},
   "outputs": [
    {
     "data": {
      "text/plain": [
       "(552, 1)"
      ]
     },
     "execution_count": 432,
     "metadata": {},
     "output_type": "execute_result"
    }
   ],
   "source": [
    "model_2_preds.shape"
   ]
  },
  {
   "cell_type": "code",
   "execution_count": 435,
   "id": "8e945c96-0336-46d5-9283-ff873e001359",
   "metadata": {},
   "outputs": [],
   "source": [
    "model_3_results = make_preds(model_3,test_windows, test_labels)"
   ]
  },
  {
   "cell_type": "code",
   "execution_count": 436,
   "id": "80860057-d0d9-48b9-a389-6549e7743728",
   "metadata": {},
   "outputs": [
    {
     "data": {
      "text/plain": [
       "{'mae': 1212.0969,\n",
       " 'mse': 5114975.5,\n",
       " 'rmse': 2261.631,\n",
       " 'mape': 5.4208136,\n",
       " 'mase': 1.7659389}"
      ]
     },
     "execution_count": 436,
     "metadata": {},
     "output_type": "execute_result"
    }
   ],
   "source": [
    "model_3_results"
   ]
  },
  {
   "cell_type": "code",
   "execution_count": null,
   "id": "8b754066-98fe-4648-a9e4-9e5bf9393b89",
   "metadata": {},
   "outputs": [],
   "source": []
  }
 ],
 "metadata": {
  "kernelspec": {
   "display_name": "Python 3 (ipykernel)",
   "language": "python",
   "name": "python3"
  },
  "language_info": {
   "codemirror_mode": {
    "name": "ipython",
    "version": 3
   },
   "file_extension": ".py",
   "mimetype": "text/x-python",
   "name": "python",
   "nbconvert_exporter": "python",
   "pygments_lexer": "ipython3",
   "version": "3.9.5"
  },
  "toc": {
   "base_numbering": 1,
   "nav_menu": {
    "height": "212px",
    "width": "406px"
   },
   "number_sections": true,
   "sideBar": true,
   "skip_h1_title": false,
   "title_cell": "Table of Contents",
   "title_sidebar": "Contents",
   "toc_cell": false,
   "toc_position": {
    "height": "602px",
    "left": "563px",
    "top": "149px",
    "width": "231.39999389648438px"
   },
   "toc_section_display": true,
   "toc_window_display": true
  }
 },
 "nbformat": 4,
 "nbformat_minor": 5
}
