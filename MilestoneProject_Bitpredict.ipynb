{
 "cells": [
  {
   "cell_type": "markdown",
   "id": "7ce3ed8f",
   "metadata": {},
   "source": [
    "# Get the data into our notebook"
   ]
  },
  {
   "cell_type": "markdown",
   "id": "ae0a6d24",
   "metadata": {},
   "source": [
    "> <font size=\"5\"> 📚 Check out the [Github reference](https://github.com/mrdbourke/tensorflow-deep-learning) of Daniel Bourke </font> "
   ]
  },
  {
   "cell_type": "markdown",
   "id": "bc9958ae",
   "metadata": {},
   "source": [
    "## IMPORTS"
   ]
  },
  {
   "cell_type": "code",
   "execution_count": 1,
   "id": "b1b690d0",
   "metadata": {
    "collapsed": true,
    "jupyter": {
     "outputs_hidden": true
    }
   },
   "outputs": [],
   "source": [
    "import os\n",
    "import pandas as pd\n",
    "import matplotlib.pyplot as plt\n",
    "import numpy as np\n",
    "import tensorflow as tf"
   ]
  },
  {
   "cell_type": "markdown",
   "id": "4b541d76",
   "metadata": {},
   "source": [
    "## Download the data with wget"
   ]
  },
  {
   "cell_type": "code",
   "execution_count": 2,
   "id": "d8a1cfec",
   "metadata": {
    "collapsed": true,
    "jupyter": {
     "outputs_hidden": true
    }
   },
   "outputs": [
    {
     "name": "stdout",
     "output_type": "stream",
     "text": [
      "CSV file already downloaded and accessible in the directory\n"
     ]
    }
   ],
   "source": [
    "if \"BTC_USD_2013-10-01_2021-05-18-CoinDesk.csv\" in os.listdir():\n",
    "    print('CSV file already downloaded and accessible in the directory')\n",
    "else:\n",
    "    try:\n",
    "        !wget https://raw.githubusercontent.com/mrdbourke/tensorflow-deep-learning/main/extras/BTC_USD_2013-10-01_2021-05-18-CoinDesk.csv\n",
    "    except:\n",
    "        print(\"command wget not working - Install by 'brew install wget'\")"
   ]
  },
  {
   "cell_type": "markdown",
   "id": "d3c9bae0",
   "metadata": {},
   "source": [
    "## Import CSV with pandas"
   ]
  },
  {
   "cell_type": "code",
   "execution_count": 3,
   "id": "02874088",
   "metadata": {
    "collapsed": true,
    "jupyter": {
     "outputs_hidden": true
    }
   },
   "outputs": [],
   "source": [
    "# read in data from csv\n",
    "# fromat dates to datetime and set as index\n",
    "path = 'BTC_USD_2013-10-01_2021-05-18-CoinDesk.csv'\n",
    "df = pd.read_csv(path,sep=',',parse_dates=['Date'],index_col = 'Date')"
   ]
  },
  {
   "cell_type": "code",
   "execution_count": 4,
   "id": "38b2f405",
   "metadata": {
    "collapsed": true,
    "jupyter": {
     "outputs_hidden": true
    }
   },
   "outputs": [
    {
     "data": {
      "text/html": [
       "<div>\n",
       "<style scoped>\n",
       "    .dataframe tbody tr th:only-of-type {\n",
       "        vertical-align: middle;\n",
       "    }\n",
       "\n",
       "    .dataframe tbody tr th {\n",
       "        vertical-align: top;\n",
       "    }\n",
       "\n",
       "    .dataframe thead th {\n",
       "        text-align: right;\n",
       "    }\n",
       "</style>\n",
       "<table border=\"1\" class=\"dataframe\">\n",
       "  <thead>\n",
       "    <tr style=\"text-align: right;\">\n",
       "      <th></th>\n",
       "      <th>Currency</th>\n",
       "      <th>Closing Price (USD)</th>\n",
       "      <th>24h Open (USD)</th>\n",
       "      <th>24h High (USD)</th>\n",
       "      <th>24h Low (USD)</th>\n",
       "    </tr>\n",
       "    <tr>\n",
       "      <th>Date</th>\n",
       "      <th></th>\n",
       "      <th></th>\n",
       "      <th></th>\n",
       "      <th></th>\n",
       "      <th></th>\n",
       "    </tr>\n",
       "  </thead>\n",
       "  <tbody>\n",
       "    <tr>\n",
       "      <th>2013-10-01</th>\n",
       "      <td>BTC</td>\n",
       "      <td>123.65499</td>\n",
       "      <td>124.30466</td>\n",
       "      <td>124.75166</td>\n",
       "      <td>122.56349</td>\n",
       "    </tr>\n",
       "    <tr>\n",
       "      <th>2013-10-02</th>\n",
       "      <td>BTC</td>\n",
       "      <td>125.45500</td>\n",
       "      <td>123.65499</td>\n",
       "      <td>125.75850</td>\n",
       "      <td>123.63383</td>\n",
       "    </tr>\n",
       "    <tr>\n",
       "      <th>2013-10-03</th>\n",
       "      <td>BTC</td>\n",
       "      <td>108.58483</td>\n",
       "      <td>125.45500</td>\n",
       "      <td>125.66566</td>\n",
       "      <td>83.32833</td>\n",
       "    </tr>\n",
       "    <tr>\n",
       "      <th>2013-10-04</th>\n",
       "      <td>BTC</td>\n",
       "      <td>118.67466</td>\n",
       "      <td>108.58483</td>\n",
       "      <td>118.67500</td>\n",
       "      <td>107.05816</td>\n",
       "    </tr>\n",
       "    <tr>\n",
       "      <th>2013-10-05</th>\n",
       "      <td>BTC</td>\n",
       "      <td>121.33866</td>\n",
       "      <td>118.67466</td>\n",
       "      <td>121.93633</td>\n",
       "      <td>118.00566</td>\n",
       "    </tr>\n",
       "  </tbody>\n",
       "</table>\n",
       "</div>"
      ],
      "text/plain": [
       "           Currency  Closing Price (USD)  24h Open (USD)  24h High (USD)  \\\n",
       "Date                                                                       \n",
       "2013-10-01      BTC            123.65499       124.30466       124.75166   \n",
       "2013-10-02      BTC            125.45500       123.65499       125.75850   \n",
       "2013-10-03      BTC            108.58483       125.45500       125.66566   \n",
       "2013-10-04      BTC            118.67466       108.58483       118.67500   \n",
       "2013-10-05      BTC            121.33866       118.67466       121.93633   \n",
       "\n",
       "            24h Low (USD)  \n",
       "Date                       \n",
       "2013-10-01      122.56349  \n",
       "2013-10-02      123.63383  \n",
       "2013-10-03       83.32833  \n",
       "2013-10-04      107.05816  \n",
       "2013-10-05      118.00566  "
      ]
     },
     "execution_count": 4,
     "metadata": {},
     "output_type": "execute_result"
    }
   ],
   "source": [
    "df.head()"
   ]
  },
  {
   "cell_type": "code",
   "execution_count": 5,
   "id": "06feb691",
   "metadata": {
    "collapsed": true,
    "jupyter": {
     "outputs_hidden": true
    }
   },
   "outputs": [
    {
     "data": {
      "text/html": [
       "<div>\n",
       "<style scoped>\n",
       "    .dataframe tbody tr th:only-of-type {\n",
       "        vertical-align: middle;\n",
       "    }\n",
       "\n",
       "    .dataframe tbody tr th {\n",
       "        vertical-align: top;\n",
       "    }\n",
       "\n",
       "    .dataframe thead th {\n",
       "        text-align: right;\n",
       "    }\n",
       "</style>\n",
       "<table border=\"1\" class=\"dataframe\">\n",
       "  <thead>\n",
       "    <tr style=\"text-align: right;\">\n",
       "      <th></th>\n",
       "      <th>Currency</th>\n",
       "      <th>Closing Price (USD)</th>\n",
       "      <th>24h Open (USD)</th>\n",
       "      <th>24h High (USD)</th>\n",
       "      <th>24h Low (USD)</th>\n",
       "    </tr>\n",
       "    <tr>\n",
       "      <th>Date</th>\n",
       "      <th></th>\n",
       "      <th></th>\n",
       "      <th></th>\n",
       "      <th></th>\n",
       "      <th></th>\n",
       "    </tr>\n",
       "  </thead>\n",
       "  <tbody>\n",
       "    <tr>\n",
       "      <th>2021-05-14</th>\n",
       "      <td>BTC</td>\n",
       "      <td>49764.132082</td>\n",
       "      <td>49596.778891</td>\n",
       "      <td>51448.798576</td>\n",
       "      <td>46294.720180</td>\n",
       "    </tr>\n",
       "    <tr>\n",
       "      <th>2021-05-15</th>\n",
       "      <td>BTC</td>\n",
       "      <td>50032.693137</td>\n",
       "      <td>49717.354353</td>\n",
       "      <td>51578.312545</td>\n",
       "      <td>48944.346536</td>\n",
       "    </tr>\n",
       "    <tr>\n",
       "      <th>2021-05-16</th>\n",
       "      <td>BTC</td>\n",
       "      <td>47885.625255</td>\n",
       "      <td>49926.035067</td>\n",
       "      <td>50690.802950</td>\n",
       "      <td>47005.102292</td>\n",
       "    </tr>\n",
       "    <tr>\n",
       "      <th>2021-05-17</th>\n",
       "      <td>BTC</td>\n",
       "      <td>45604.615754</td>\n",
       "      <td>46805.537852</td>\n",
       "      <td>49670.414174</td>\n",
       "      <td>43868.638969</td>\n",
       "    </tr>\n",
       "    <tr>\n",
       "      <th>2021-05-18</th>\n",
       "      <td>BTC</td>\n",
       "      <td>43144.471291</td>\n",
       "      <td>46439.336570</td>\n",
       "      <td>46622.853437</td>\n",
       "      <td>42102.346430</td>\n",
       "    </tr>\n",
       "  </tbody>\n",
       "</table>\n",
       "</div>"
      ],
      "text/plain": [
       "           Currency  Closing Price (USD)  24h Open (USD)  24h High (USD)  \\\n",
       "Date                                                                       \n",
       "2021-05-14      BTC         49764.132082    49596.778891    51448.798576   \n",
       "2021-05-15      BTC         50032.693137    49717.354353    51578.312545   \n",
       "2021-05-16      BTC         47885.625255    49926.035067    50690.802950   \n",
       "2021-05-17      BTC         45604.615754    46805.537852    49670.414174   \n",
       "2021-05-18      BTC         43144.471291    46439.336570    46622.853437   \n",
       "\n",
       "            24h Low (USD)  \n",
       "Date                       \n",
       "2021-05-14   46294.720180  \n",
       "2021-05-15   48944.346536  \n",
       "2021-05-16   47005.102292  \n",
       "2021-05-17   43868.638969  \n",
       "2021-05-18   42102.346430  "
      ]
     },
     "execution_count": 5,
     "metadata": {},
     "output_type": "execute_result"
    }
   ],
   "source": [
    "df.tail()"
   ]
  },
  {
   "cell_type": "code",
   "execution_count": 6,
   "id": "87ec444d",
   "metadata": {
    "collapsed": true,
    "jupyter": {
     "outputs_hidden": true
    }
   },
   "outputs": [
    {
     "name": "stdout",
     "output_type": "stream",
     "text": [
      "<class 'pandas.core.frame.DataFrame'>\n",
      "DatetimeIndex: 2787 entries, 2013-10-01 to 2021-05-18\n",
      "Data columns (total 5 columns):\n",
      " #   Column               Non-Null Count  Dtype  \n",
      "---  ------               --------------  -----  \n",
      " 0   Currency             2787 non-null   object \n",
      " 1   Closing Price (USD)  2787 non-null   float64\n",
      " 2   24h Open (USD)       2787 non-null   float64\n",
      " 3   24h High (USD)       2787 non-null   float64\n",
      " 4   24h Low (USD)        2787 non-null   float64\n",
      "dtypes: float64(4), object(1)\n",
      "memory usage: 130.6+ KB\n"
     ]
    }
   ],
   "source": [
    "df.info()"
   ]
  },
  {
   "cell_type": "markdown",
   "id": "324976cc",
   "metadata": {},
   "source": [
    "## Plot the data using pandas"
   ]
  },
  {
   "cell_type": "code",
   "execution_count": 7,
   "id": "c7e5d26a",
   "metadata": {
    "collapsed": true,
    "jupyter": {
     "outputs_hidden": true
    }
   },
   "outputs": [
    {
     "data": {
      "image/png": "[encoded data removed]",
      "text/plain": [
       "<Figure size 720x504 with 1 Axes>"
      ]
     },
     "metadata": {
      "needs_background": "light"
     },
     "output_type": "display_data"
    }
   ],
   "source": [
    "df.iloc[:,1].plot(figsize=(10,7))\n",
    "plt.title('Bitcoin Closing Price Data',fontsize=17)\n",
    "plt.ylabel('Price in USD')\n",
    "plt.show()"
   ]
  },
  {
   "cell_type": "markdown",
   "id": "663df21f",
   "metadata": {},
   "source": [
    "> 🔑 **Seasonality**: The seasonality of time series data is how many samples do we have of this data per year. So for our Bitcoin data we have a saisonality of daily or a value of 365."
   ]
  },
  {
   "cell_type": "code",
   "execution_count": 8,
   "id": "e1a19673",
   "metadata": {
    "collapsed": true,
    "jupyter": {
     "outputs_hidden": true
    }
   },
   "outputs": [],
   "source": [
    "bitcion_prices = df[['Closing Price (USD)']].rename(columns={'Closing Price (USD)':'Price'})"
   ]
  },
  {
   "cell_type": "code",
   "execution_count": 9,
   "id": "a2e9d773",
   "metadata": {
    "collapsed": true,
    "jupyter": {
     "outputs_hidden": true
    }
   },
   "outputs": [
    {
     "data": {
      "text/html": [
       "<div>\n",
       "<style scoped>\n",
       "    .dataframe tbody tr th:only-of-type {\n",
       "        vertical-align: middle;\n",
       "    }\n",
       "\n",
       "    .dataframe tbody tr th {\n",
       "        vertical-align: top;\n",
       "    }\n",
       "\n",
       "    .dataframe thead th {\n",
       "        text-align: right;\n",
       "    }\n",
       "</style>\n",
       "<table border=\"1\" class=\"dataframe\">\n",
       "  <thead>\n",
       "    <tr style=\"text-align: right;\">\n",
       "      <th></th>\n",
       "      <th>Price</th>\n",
       "    </tr>\n",
       "    <tr>\n",
       "      <th>Date</th>\n",
       "      <th></th>\n",
       "    </tr>\n",
       "  </thead>\n",
       "  <tbody>\n",
       "    <tr>\n",
       "      <th>2013-10-01</th>\n",
       "      <td>123.65499</td>\n",
       "    </tr>\n",
       "    <tr>\n",
       "      <th>2013-10-02</th>\n",
       "      <td>125.45500</td>\n",
       "    </tr>\n",
       "    <tr>\n",
       "      <th>2013-10-03</th>\n",
       "      <td>108.58483</td>\n",
       "    </tr>\n",
       "    <tr>\n",
       "      <th>2013-10-04</th>\n",
       "      <td>118.67466</td>\n",
       "    </tr>\n",
       "    <tr>\n",
       "      <th>2013-10-05</th>\n",
       "      <td>121.33866</td>\n",
       "    </tr>\n",
       "  </tbody>\n",
       "</table>\n",
       "</div>"
      ],
      "text/plain": [
       "                Price\n",
       "Date                 \n",
       "2013-10-01  123.65499\n",
       "2013-10-02  125.45500\n",
       "2013-10-03  108.58483\n",
       "2013-10-04  118.67466\n",
       "2013-10-05  121.33866"
      ]
     },
     "execution_count": 9,
     "metadata": {},
     "output_type": "execute_result"
    }
   ],
   "source": [
    "bitcion_prices.head()"
   ]
  },
  {
   "cell_type": "code",
   "execution_count": 10,
   "id": "ed68c99a",
   "metadata": {
    "collapsed": true,
    "jupyter": {
     "outputs_hidden": true
    }
   },
   "outputs": [
    {
     "name": "stdout",
     "output_type": "stream",
     "text": [
      "<class 'pandas.core.frame.DataFrame'>\n",
      "DatetimeIndex: 2787 entries, 2013-10-01 to 2021-05-18\n",
      "Data columns (total 1 columns):\n",
      " #   Column  Non-Null Count  Dtype  \n",
      "---  ------  --------------  -----  \n",
      " 0   Price   2787 non-null   float64\n",
      "dtypes: float64(1)\n",
      "memory usage: 43.5 KB\n"
     ]
    }
   ],
   "source": [
    "bitcion_prices.info()"
   ]
  },
  {
   "cell_type": "markdown",
   "id": "e4de8d99",
   "metadata": {},
   "source": [
    "## Read in the data using pythons csv module"
   ]
  },
  {
   "cell_type": "code",
   "execution_count": 11,
   "id": "66aa7567",
   "metadata": {
    "collapsed": true,
    "jupyter": {
     "outputs_hidden": true
    }
   },
   "outputs": [],
   "source": [
    "from datetime import datetime"
   ]
  },
  {
   "cell_type": "code",
   "execution_count": 12,
   "id": "00392bb4",
   "metadata": {
    "collapsed": true,
    "jupyter": {
     "outputs_hidden": true
    }
   },
   "outputs": [],
   "source": [
    "import csv\n",
    "with open(path, newline='') as csvfile:\n",
    "    spamreader = csv.reader(csvfile, delimiter=',')\n",
    "    next(csvfile) # skip header row\n",
    "    dates = []\n",
    "    prices = []\n",
    "    for row in spamreader:\n",
    "        dates.append(datetime.strptime(row[1],'%Y-%m-%d'))\n",
    "        prices.append(float(row[2]))"
   ]
  },
  {
   "cell_type": "code",
   "execution_count": 13,
   "id": "3b2cfe60",
   "metadata": {
    "collapsed": true,
    "jupyter": {
     "outputs_hidden": true
    }
   },
   "outputs": [
    {
     "data": {
      "image/png": "[encoded data removed]",
      "text/plain": [
       "<Figure size 720x504 with 1 Axes>"
      ]
     },
     "metadata": {
      "needs_background": "light"
     },
     "output_type": "display_data"
    }
   ],
   "source": [
    "plt.figure(figsize=(10,7))\n",
    "plt.plot(dates,prices)\n",
    "plt.ylabel('Price')\n",
    "plt.title('Bitcoin Prices Daily',fontsize=17)\n",
    "plt.show()"
   ]
  },
  {
   "cell_type": "markdown",
   "id": "4582cc99",
   "metadata": {},
   "source": [
    "# Prepare the data"
   ]
  },
  {
   "cell_type": "markdown",
   "id": "055c0c8d",
   "metadata": {},
   "source": [
    "## Create train and test splits"
   ]
  },
  {
   "cell_type": "code",
   "execution_count": 14,
   "id": "f37c3811",
   "metadata": {
    "collapsed": true,
    "jupyter": {
     "outputs_hidden": true
    }
   },
   "outputs": [],
   "source": [
    "# 80% train and 20% test\n",
    "split_size = int(len(bitcion_prices)*0.8)\n",
    "\n",
    "# create train set\n",
    "X_train,y_train = dates[:split_size], prices[:split_size]\n",
    "\n",
    "# create test set\n",
    "X_test, y_test = dates[split_size:], prices[split_size:]"
   ]
  },
  {
   "cell_type": "code",
   "execution_count": 15,
   "id": "472149ef",
   "metadata": {
    "collapsed": true,
    "jupyter": {
     "outputs_hidden": true
    }
   },
   "outputs": [
    {
     "data": {
      "image/png": "[encoded data removed]",
      "text/plain": [
       "<Figure size 1440x720 with 1 Axes>"
      ]
     },
     "metadata": {
      "needs_background": "light"
     },
     "output_type": "display_data"
    }
   ],
   "source": [
    "plt.figure(figsize=(20,10))\n",
    "plt.plot(X_train,y_train,'x')\n",
    "plt.plot(X_test,y_test,'.')\n",
    "plt.legend(['Train data','Test data'],fontsize=20)\n",
    "plt.xlabel('Dates',fontsize=20)\n",
    "plt.ylabel('Price',fontsize=20)\n",
    "plt.show()"
   ]
  },
  {
   "cell_type": "markdown",
   "id": "94d9b652",
   "metadata": {},
   "source": [
    "### Creating a plotting fuction"
   ]
  },
  {
   "cell_type": "code",
   "execution_count": 16,
   "id": "93d2ad6e",
   "metadata": {
    "collapsed": true,
    "jupyter": {
     "outputs_hidden": true
    }
   },
   "outputs": [],
   "source": [
    "import matplotlib.pyplot as plt\n",
    "# create a function to plot the data\n",
    "def plot_time_series(timestamp,values,formated='.',start=0,end=None,label=None):\n",
    "    \"\"\"\n",
    "    Plots our timeseries\n",
    "    \"\"\"\n",
    "    plt.plot(timestamp[start:end],values[start:end],formated,label=label)\n",
    "    plt.xlabel('Time')\n",
    "    plt.ylabel('BTC Price')\n",
    "    if label:\n",
    "        plt.legend(fontsize=14)\n",
    "    plt.grid(True)"
   ]
  },
  {
   "cell_type": "code",
   "execution_count": 17,
   "id": "16eace04",
   "metadata": {
    "collapsed": true,
    "jupyter": {
     "outputs_hidden": true
    }
   },
   "outputs": [
    {
     "data": {
      "image/png": "[encoded data removed]",
      "text/plain": [
       "<Figure size 864x504 with 1 Axes>"
      ]
     },
     "metadata": {
      "needs_background": "light"
     },
     "output_type": "display_data"
    }
   ],
   "source": [
    "plt.figure(figsize=(12,7))\n",
    "plot_time_series(X_test,y_test,label='Test data')\n",
    "plot_time_series(X_train,y_train,label='Train data')"
   ]
  },
  {
   "cell_type": "markdown",
   "id": "ce51ded1",
   "metadata": {},
   "source": [
    "# Model 0 - Naive Time Series Model"
   ]
  },
  {
   "cell_type": "markdown",
   "id": "a3dce61f",
   "metadata": {},
   "source": [
    "Model Formula: $y_{t + 1} = y_t $"
   ]
  },
  {
   "cell_type": "code",
   "execution_count": 18,
   "id": "d58c28d1",
   "metadata": {
    "collapsed": true,
    "jupyter": {
     "outputs_hidden": true
    }
   },
   "outputs": [],
   "source": [
    "# create the Naive baseline forecast\n",
    "naive_forecast = y_test[:-1]"
   ]
  },
  {
   "cell_type": "markdown",
   "id": "e0b9d214",
   "metadata": {},
   "source": [
    "## Plot the naive forcast against test data"
   ]
  },
  {
   "cell_type": "code",
   "execution_count": 19,
   "id": "c9c7e648",
   "metadata": {
    "collapsed": true,
    "jupyter": {
     "outputs_hidden": true
    }
   },
   "outputs": [
    {
     "data": {
      "image/png": "[encoded data removed]",
      "text/plain": [
       "<Figure size 864x504 with 1 Axes>"
      ]
     },
     "metadata": {
      "needs_background": "light"
     },
     "output_type": "display_data"
    }
   ],
   "source": [
    "plt.figure(figsize=(12,7))\n",
    "plot_time_series(X_test[1:],naive_forecast,start=500,end=1000, formated='--',label='Naive Forcast')\n",
    "plot_time_series(X_test,y_test,start=500, end=1000,formated='-',label='test data')"
   ]
  },
  {
   "cell_type": "markdown",
   "id": "de850406-81d6-42c0-aa3e-a7611ab5ec56",
   "metadata": {},
   "source": [
    "## Evaluation of our Naive Model\n",
    "\n"
   ]
  },
  {
   "cell_type": "markdown",
   "id": "f2701c82",
   "metadata": {},
   "source": [
    "### Implementing the MASE (Mean Absolute Scaled Error)"
   ]
  },
  {
   "cell_type": "markdown",
   "id": "feb3b05c",
   "metadata": {},
   "source": [
    "MASE = $\\frac{\\frac{1}{J}\\sum_j |e_j|}{\\frac{1}{T-1}\\sum_{t=2}^{T} |Y_t - Y_{t-1}|} $\\\n",
    "where \\\n",
    "$e_j$ ... [__forcast error__](https://en.wikipedia.org/wiki/Forecast_error) (difference between the actual and predicted value) \\\n",
    "$j \\in \\{1,...,J\\}$ with J as the number of forecasts (in our case $J=1$)\n"
   ]
  },
  {
   "cell_type": "code",
   "execution_count": 20,
   "id": "2e3eecec",
   "metadata": {
    "collapsed": true,
    "jupyter": {
     "outputs_hidden": true
    }
   },
   "outputs": [],
   "source": [
    "def get_mase(y_true,y_pred):\n",
    "    y_true, y_pred = np.array(y_true), np.array(y_pred)\n",
    "    nom = np.mean(np.abs((y_true-y_pred)))\n",
    "    denom = np.mean(np.abs((y_true[1:]-y_true[:-1])))\n",
    "    return nom/denom"
   ]
  },
  {
   "cell_type": "code",
   "execution_count": 21,
   "id": "00f34017",
   "metadata": {
    "collapsed": true,
    "jupyter": {
     "outputs_hidden": true
    }
   },
   "outputs": [
    {
     "name": "stdout",
     "output_type": "stream",
     "text": [
      "MASE has a value of 1.000\n"
     ]
    }
   ],
   "source": [
    "mase = get_mase(y_test[1:],naive_forecast)\n",
    "print('MASE has a value of %.3f'%mase)"
   ]
  },
  {
   "cell_type": "code",
   "execution_count": 22,
   "id": "a4fed5cf",
   "metadata": {
    "collapsed": true,
    "jupyter": {
     "outputs_hidden": true
    }
   },
   "outputs": [],
   "source": [
    "# create a function to evaluate our predictions\n",
    "def evaluate_preds(y_true,y_pred):\n",
    "    # tensorflow uses datatype float32 by default\n",
    "    y_true = tf.cast(y_true, dtype = tf.float32)\n",
    "    y_pred = tf.cast(y_pred, dtype = tf.float32)\n",
    "    \n",
    "    # calculate statistics\n",
    "    mae = tf.keras.metrics.mean_absolute_error(y_true,y_pred)\n",
    "    mse = tf.keras.metrics.mean_squared_error(y_true,y_pred)\n",
    "    rmse = tf.sqrt(mse)\n",
    "    mape = tf.keras.metrics.mean_absolute_percentage_error(y_true,y_pred)\n",
    "    mase = get_mase(y_true,y_pred)\n",
    "    \n",
    "    return({\n",
    "        'mae': mae.numpy(),\n",
    "        'mse': mse.numpy(),\n",
    "        'rmse': rmse.numpy(),\n",
    "        'mape': mape.numpy(),\n",
    "        'mase': mase\n",
    "    })"
   ]
  },
  {
   "cell_type": "code",
   "execution_count": 23,
   "id": "7fec417f-fd23-4966-8dd2-463f36af0736",
   "metadata": {
    "collapsed": true,
    "jupyter": {
     "outputs_hidden": true
    }
   },
   "outputs": [
    {
     "data": {
      "text/plain": [
       "557"
      ]
     },
     "execution_count": 23,
     "metadata": {},
     "output_type": "execute_result"
    }
   ],
   "source": [
    "len(naive_forecast)"
   ]
  },
  {
   "cell_type": "code",
   "execution_count": 24,
   "id": "9d010d45-08ae-4dcb-8003-39771b050014",
   "metadata": {
    "collapsed": true,
    "jupyter": {
     "outputs_hidden": true
    }
   },
   "outputs": [
    {
     "data": {
      "text/plain": [
       "558"
      ]
     },
     "execution_count": 24,
     "metadata": {},
     "output_type": "execute_result"
    }
   ],
   "source": [
    "len(y_test)"
   ]
  },
  {
   "cell_type": "code",
   "execution_count": 25,
   "id": "798da449-8fdb-4a76-b025-4d42b2df81cd",
   "metadata": {
    "collapsed": true,
    "jupyter": {
     "outputs_hidden": true
    }
   },
   "outputs": [
    {
     "name": "stdout",
     "output_type": "stream",
     "text": [
      "Metal device set to: Apple M1 Pro\n"
     ]
    },
    {
     "name": "stderr",
     "output_type": "stream",
     "text": [
      "2022-02-17 19:18:09.881637: I tensorflow/core/common_runtime/pluggable_device/pluggable_device_factory.cc:305] Could not identify NUMA node of platform GPU ID 0, defaulting to 0. Your kernel may not have been built with NUMA support.\n",
      "2022-02-17 19:18:09.881982: I tensorflow/core/common_runtime/pluggable_device/pluggable_device_factory.cc:271] Created TensorFlow device (/job:localhost/replica:0/task:0/device:GPU:0 with 0 MB memory) -> physical PluggableDevice (device: 0, name: METAL, pci bus id: <undefined>)\n"
     ]
    },
    {
     "data": {
      "text/plain": [
       "{'mae': 567.9803,\n",
       " 'mse': 1147547.1,\n",
       " 'rmse': 1071.2362,\n",
       " 'mape': 2.516525,\n",
       " 'mase': 0.99957}"
      ]
     },
     "execution_count": 25,
     "metadata": {},
     "output_type": "execute_result"
    }
   ],
   "source": [
    "naive_results = evaluate_preds(y_test[1:],naive_forecast)\n",
    "naive_results"
   ]
  },
  {
   "cell_type": "markdown",
   "id": "73fb6a61-3ead-49ac-96d2-6e180a795306",
   "metadata": {},
   "source": [
    "# Format data part 2: windowing out dataset"
   ]
  },
  {
   "cell_type": "markdown",
   "id": "2dd1d28b-2bef-4311-bce8-06a9a2d8d39f",
   "metadata": {},
   "source": [
    "We window our dataset to turn our problem into a supervised learning problem"
   ]
  },
  {
   "cell_type": "code",
   "execution_count": 26,
   "id": "ee42cd7b-38d2-4c2f-b8ee-e8e81dc07b06",
   "metadata": {
    "collapsed": true,
    "jupyter": {
     "outputs_hidden": true
    }
   },
   "outputs": [],
   "source": [
    "# Set up some global varibales\n",
    "HORIZON = 1 # how long we are going to predict into the future\n",
    "WINDOW_SIZE = 7 # how many past days we use to make the prediction"
   ]
  },
  {
   "cell_type": "code",
   "execution_count": 27,
   "id": "ef3da5cd-55eb-44c4-91ae-2391c35425b2",
   "metadata": {
    "collapsed": true,
    "jupyter": {
     "outputs_hidden": true
    }
   },
   "outputs": [
    {
     "name": "stdout",
     "output_type": "stream",
     "text": [
      "We want to use this: [123.65499, 125.455, 108.58483, 118.67466, 121.33866, 120.65533, 121.795] to predict this: 123.033\n"
     ]
    }
   ],
   "source": [
    "print(f\"We want to use this: {prices[:WINDOW_SIZE]} to predict this: {prices[WINDOW_SIZE]}\")"
   ]
  },
  {
   "cell_type": "code",
   "execution_count": 28,
   "id": "5c755d7e-a7aa-4bef-8b57-6acef0952d0f",
   "metadata": {
    "collapsed": true,
    "jupyter": {
     "outputs_hidden": true
    }
   },
   "outputs": [],
   "source": [
    "# Create function to label windowed data\n",
    "def get_labelled_windows(x, horizon=HORIZON):\n",
    "    \"\"\"\n",
    "        Function to create labels for windowed dataset. \n",
    "    \"\"\"\n",
    "    return x[:, :-horizon], x[:,-horizon:]"
   ]
  },
  {
   "cell_type": "code",
   "execution_count": 29,
   "id": "9c72b35e-115d-46cb-b7a0-2cbc8fa32386",
   "metadata": {
    "collapsed": true,
    "jupyter": {
     "outputs_hidden": true
    }
   },
   "outputs": [
    {
     "data": {
      "text/plain": [
       "(<tf.Tensor: shape=(1, 7), dtype=int32, numpy=array([[0, 1, 2, 3, 4, 5, 6]], dtype=int32)>,\n",
       " <tf.Tensor: shape=(1, 1), dtype=int32, numpy=array([[7]], dtype=int32)>)"
      ]
     },
     "execution_count": 29,
     "metadata": {},
     "output_type": "execute_result"
    }
   ],
   "source": [
    "test_window, test_label =  get_labelled_windows(tf.expand_dims(tf.range(8),axis=0))\n",
    "test_window, test_label"
   ]
  },
  {
   "cell_type": "markdown",
   "id": "fdbac793-74cf-4be1-b4fa-ea9e9451b731",
   "metadata": {},
   "source": [
    "📚**Ressource**: [Towards Data Science - Fast and Robust Sliding Window Vectorization with NumPy](https://towardsdatascience.com/fast-and-robust-sliding-window-vectorization-with-numpy-3ad950ed62f5)"
   ]
  },
  {
   "cell_type": "code",
   "execution_count": 30,
   "id": "7bad6dea-ba8c-4e7f-ac0a-6fcd315775d5",
   "metadata": {
    "collapsed": true,
    "jupyter": {
     "outputs_hidden": true
    }
   },
   "outputs": [],
   "source": [
    "import numpy as np"
   ]
  },
  {
   "cell_type": "code",
   "execution_count": 31,
   "id": "5998ebf1-71de-4489-804a-30f44c29be1f",
   "metadata": {
    "collapsed": true,
    "jupyter": {
     "outputs_hidden": true
    }
   },
   "outputs": [],
   "source": [
    "def make_windows(x, window_size=WINDOW_SIZE, horizon=HORIZON):\n",
    "    '''\n",
    "        Function that turns a 1D array to 2D array of sequential labelled windows of window_size and horizon size labels\n",
    "    '''\n",
    "    \n",
    "    # 1. Create a window of window_size\n",
    "    window_step = np.expand_dims(np.arange(window_size+horizon),axis=0)\n",
    "    \n",
    "    # 2. Use numpy indexing to create 2D array of multiple windows \n",
    "    windows_indexes = window_step + np.expand_dims(np.arange(len(x)-(window_size+horizon-1)),axis=0).T\n",
    "    \n",
    "    # 3. Indexing on the target array\n",
    "    windowed_array = x[windows_indexes]#\n",
    "    \n",
    "    # get the labelled windows\n",
    "    windows, labels = get_labelled_windows(windowed_array, horizon=horizon)\n",
    "    \n",
    "    return(windows, labels)"
   ]
  },
  {
   "cell_type": "code",
   "execution_count": 32,
   "id": "40358654-096b-4020-ac46-c9d2c8314800",
   "metadata": {
    "collapsed": true,
    "jupyter": {
     "outputs_hidden": true
    }
   },
   "outputs": [],
   "source": [
    "full_windows, full_labels = make_windows(np.array(prices))"
   ]
  },
  {
   "cell_type": "code",
   "execution_count": 33,
   "id": "38ad59a2-0af3-4e8f-aa49-5a5f1c23fdeb",
   "metadata": {
    "collapsed": true,
    "jupyter": {
     "outputs_hidden": true
    }
   },
   "outputs": [
    {
     "name": "stdout",
     "output_type": "stream",
     "text": [
      "Window: [123.65499 125.455   108.58483 118.67466 121.33866 120.65533 121.795  ] -> Label: [123.033]\n",
      "Window: [125.455   108.58483 118.67466 121.33866 120.65533 121.795   123.033  ] -> Label: [124.049]\n",
      "Window: [108.58483 118.67466 121.33866 120.65533 121.795   123.033   124.049  ] -> Label: [125.96116]\n"
     ]
    }
   ],
   "source": [
    "for i in range(3):\n",
    "    print(f\"Window: {full_windows[i]} -> Label: {full_labels[i]}\")"
   ]
  },
  {
   "cell_type": "markdown",
   "id": "034831e6-5433-4ad8-a718-2157fd9da3c1",
   "metadata": {},
   "source": [
    "## Turning our windows into train and test sets"
   ]
  },
  {
   "cell_type": "code",
   "execution_count": 34,
   "id": "afda702d-c9f0-4cff-a6ba-828cb05e9410",
   "metadata": {
    "collapsed": true,
    "jupyter": {
     "outputs_hidden": true
    }
   },
   "outputs": [],
   "source": [
    "def make_train_test_splits(windows, labels, test_split=0.2):\n",
    "    \"\"\"\n",
    "        Function that splits matching pairs of windows and labels into train and test splits\n",
    "    \"\"\"\n",
    "    split_size = int(len(windows) * (1 - test_split))\n",
    "    train_windows = windows[:split_size]\n",
    "    train_labels = labels[:split_size]\n",
    "    test_windows = windows[split_size:]\n",
    "    test_labels = labels[split_size:]\n",
    "    return train_windows, test_windows, train_labels, test_labels"
   ]
  },
  {
   "cell_type": "code",
   "execution_count": 35,
   "id": "97808ea5-58ce-4731-b6a1-b3380df0b448",
   "metadata": {
    "collapsed": true,
    "jupyter": {
     "outputs_hidden": true
    }
   },
   "outputs": [],
   "source": [
    "train_windows, test_windows, train_labels, test_labels = make_train_test_splits(full_windows,full_labels)"
   ]
  },
  {
   "cell_type": "code",
   "execution_count": 36,
   "id": "d645e21e-cdec-40d9-b56b-d0b9eb5664f8",
   "metadata": {
    "collapsed": true,
    "jupyter": {
     "outputs_hidden": true
    }
   },
   "outputs": [
    {
     "data": {
      "text/plain": [
       "True"
      ]
     },
     "execution_count": 36,
     "metadata": {},
     "output_type": "execute_result"
    }
   ],
   "source": [
    "# check if our training labels are equal to before\n",
    "np.array_equal(np.squeeze(train_labels)[:-HORIZON-1],y_train[WINDOW_SIZE:])"
   ]
  },
  {
   "cell_type": "markdown",
   "id": "574e4125-14dd-4754-8a64-1a0238e1abaf",
   "metadata": {},
   "source": [
    "## Make a modelling checkpoint callback"
   ]
  },
  {
   "cell_type": "code",
   "execution_count": 37,
   "id": "1c3432e9-552e-474d-a5a0-f2f58879c9f8",
   "metadata": {
    "collapsed": true,
    "jupyter": {
     "outputs_hidden": true
    }
   },
   "outputs": [],
   "source": [
    "import os"
   ]
  },
  {
   "cell_type": "code",
   "execution_count": 38,
   "id": "8e44b0f6-4de2-41f1-aba1-9dc6c191afcb",
   "metadata": {
    "collapsed": true,
    "jupyter": {
     "outputs_hidden": true
    }
   },
   "outputs": [],
   "source": [
    "def create_model_checkpoint(model_name, save_path = \"model_experiments\", verbose=0, sbo=True):\n",
    "    return tf.keras.callbacks.ModelCheckpoint(filepath=os.path.join(save_path,model_name),\n",
    "                                              monitor='val_loss',\n",
    "                                             verbose=verbose,\n",
    "                                             save_best_only = sbo)"
   ]
  },
  {
   "cell_type": "markdown",
   "id": "e3043a45-93f8-4fc6-ab0e-0b84994bce55",
   "metadata": {},
   "source": [
    "# Model 1 - Dense Model (window size = 7, horizon = 1)"
   ]
  },
  {
   "cell_type": "markdown",
   "id": "313dd5d0-259f-45a1-a3cc-e518c626c7e2",
   "metadata": {},
   "source": [
    "## Using functional API"
   ]
  },
  {
   "cell_type": "code",
   "execution_count": 39,
   "id": "614bcd51-57b8-44e6-a55e-0867072cab32",
   "metadata": {
    "collapsed": true,
    "jupyter": {
     "outputs_hidden": true
    }
   },
   "outputs": [],
   "source": [
    "from tensorflow.keras import layers\n",
    "\n",
    "# define the input shape\n",
    "input_shape = (7,)\n",
    "# define input layer\n",
    "inputs = layers.Input(shape=input_shape, name='input_layer')\n",
    "\n",
    "# define middle dense layer\n",
    "dense = layers.Dense(128, activation='relu', name='dense_layer')(inputs)\n",
    "\n",
    "# define output layer\n",
    "outputs = layers.Dense(1, name='output_layer')(dense)\n",
    "\n",
    "model_1 = tf.keras.Model(inputs, outputs,name='model_1_dense')"
   ]
  },
  {
   "cell_type": "markdown",
   "id": "3527b111-bba8-4944-bc8e-356bf22dc904",
   "metadata": {},
   "source": [
    "## Using Sequential API"
   ]
  },
  {
   "cell_type": "code",
   "execution_count": 40,
   "id": "1f084882-449c-4955-ab2c-2dc2ab66b64a",
   "metadata": {
    "collapsed": true,
    "jupyter": {
     "outputs_hidden": true
    }
   },
   "outputs": [
    {
     "name": "stderr",
     "output_type": "stream",
     "text": [
      "2022-02-17 19:18:10.068405: W tensorflow/core/platform/profile_utils/cpu_utils.cc:128] Failed to get CPU frequency: 0 Hz\n"
     ]
    },
    {
     "name": "stdout",
     "output_type": "stream",
     "text": [
      "Epoch 1/100\n"
     ]
    },
    {
     "name": "stderr",
     "output_type": "stream",
     "text": [
      "2022-02-17 19:18:10.207733: I tensorflow/core/grappler/optimizers/custom_graph_optimizer_registry.cc:112] Plugin optimizer for device_type GPU is enabled.\n"
     ]
    },
    {
     "name": "stdout",
     "output_type": "stream",
     "text": [
      "18/18 [==============================] - ETA: 0s - loss: 861.6518 - mae: 861.6518 - mse: 2851844.0000  "
     ]
    },
    {
     "name": "stderr",
     "output_type": "stream",
     "text": [
      "2022-02-17 19:18:10.470732: I tensorflow/core/grappler/optimizers/custom_graph_optimizer_registry.cc:112] Plugin optimizer for device_type GPU is enabled.\n",
      "2022-02-17 19:18:10.589429: W tensorflow/python/util/util.cc:368] Sets are not currently considered sequences, but this may change in the future, so consider avoiding using them.\n"
     ]
    },
    {
     "name": "stdout",
     "output_type": "stream",
     "text": [
      "INFO:tensorflow:Assets written to: model_experiments/model_1_dense/assets\n",
      "18/18 [==============================] - 1s 25ms/step - loss: 861.6518 - mae: 861.6518 - mse: 2851844.0000 - val_loss: 3166.5315 - val_mae: 3166.5315 - val_mse: 24633926.0000\n",
      "Epoch 2/100\n",
      "11/18 [=================>............] - ETA: 0s - loss: 397.5630 - mae: 397.5630 - mse: 629571.8125INFO:tensorflow:Assets written to: model_experiments/model_1_dense/assets\n",
      "18/18 [==============================] - 0s 18ms/step - loss: 376.5994 - mae: 376.5994 - mse: 575694.8125 - val_loss: 1856.6790 - val_mae: 1856.6790 - val_mse: 9355666.0000\n",
      "Epoch 3/100\n",
      "10/18 [===============>..............] - ETA: 0s - loss: 278.8725 - mae: 278.8725 - mse: 355129.4375INFO:tensorflow:Assets written to: model_experiments/model_1_dense/assets\n",
      "18/18 [==============================] - 0s 16ms/step - loss: 276.0797 - mae: 276.0797 - mse: 361384.2500 - val_loss: 1643.6747 - val_mae: 1643.6747 - val_mse: 7801215.5000\n",
      "Epoch 4/100\n",
      "11/18 [=================>............] - ETA: 0s - loss: 258.6279 - mae: 258.6279 - mse: 329491.4062INFO:tensorflow:Assets written to: model_experiments/model_1_dense/assets\n",
      "18/18 [==============================] - 0s 16ms/step - loss: 259.8691 - mae: 259.8691 - mse: 338072.4062 - val_loss: 1480.3108 - val_mae: 1480.3108 - val_mse: 6707462.5000\n",
      "Epoch 5/100\n",
      "11/18 [=================>............] - ETA: 0s - loss: 255.0185 - mae: 255.0185 - mse: 343370.3438INFO:tensorflow:Assets written to: model_experiments/model_1_dense/assets\n",
      "18/18 [==============================] - 0s 15ms/step - loss: 253.5329 - mae: 253.5329 - mse: 326412.3438 - val_loss: 1399.6560 - val_mae: 1399.6560 - val_mse: 6174333.5000\n",
      "Epoch 6/100\n",
      "11/18 [=================>............] - ETA: 0s - loss: 243.6734 - mae: 243.6734 - mse: 293649.0000INFO:tensorflow:Assets written to: model_experiments/model_1_dense/assets\n",
      "18/18 [==============================] - 0s 15ms/step - loss: 245.8608 - mae: 245.8608 - mse: 306032.7812 - val_loss: 1393.6138 - val_mae: 1393.6138 - val_mse: 6020374.0000\n",
      "Epoch 7/100\n",
      "11/18 [=================>............] - ETA: 0s - loss: 241.5282 - mae: 241.5282 - mse: 293095.7812INFO:tensorflow:Assets written to: model_experiments/model_1_dense/assets\n",
      "18/18 [==============================] - 0s 15ms/step - loss: 240.2412 - mae: 240.2412 - mse: 293589.8125 - val_loss: 1354.4238 - val_mae: 1354.4238 - val_mse: 5703082.0000\n",
      "Epoch 8/100\n",
      "11/18 [=================>............] - ETA: 0s - loss: 239.3153 - mae: 239.3153 - mse: 291551.5312INFO:tensorflow:Assets written to: model_experiments/model_1_dense/assets\n",
      "18/18 [==============================] - 0s 16ms/step - loss: 235.4438 - mae: 235.4438 - mse: 280479.9062 - val_loss: 1270.6581 - val_mae: 1270.6581 - val_mse: 5230443.5000\n",
      "Epoch 9/100\n",
      "11/18 [=================>............] - ETA: 0s - loss: 211.8681 - mae: 211.8681 - mse: 204567.5781INFO:tensorflow:Assets written to: model_experiments/model_1_dense/assets\n",
      "18/18 [==============================] - 0s 15ms/step - loss: 227.1139 - mae: 227.1139 - mse: 259355.1719 - val_loss: 1224.8170 - val_mae: 1224.8169 - val_mse: 4910011.5000\n",
      "Epoch 10/100\n",
      "18/18 [==============================] - 0s 7ms/step - loss: 223.3645 - mae: 223.3645 - mse: 251472.1719 - val_loss: 1325.5582 - val_mae: 1325.5582 - val_mse: 5118721.0000\n",
      "Epoch 11/100\n",
      "11/18 [=================>............] - ETA: 0s - loss: 214.6661 - mae: 214.6661 - mse: 227441.4688INFO:tensorflow:Assets written to: model_experiments/model_1_dense/assets\n",
      "18/18 [==============================] - 0s 15ms/step - loss: 213.7726 - mae: 213.7726 - mse: 232196.8906 - val_loss: 1163.2648 - val_mae: 1163.2648 - val_mse: 4263986.0000\n",
      "Epoch 12/100\n",
      "11/18 [=================>............] - ETA: 0s - loss: 189.0494 - mae: 189.0494 - mse: 162613.1250INFO:tensorflow:Assets written to: model_experiments/model_1_dense/assets\n",
      "18/18 [==============================] - 0s 15ms/step - loss: 202.5302 - mae: 202.5302 - mse: 212960.2969 - val_loss: 1099.4128 - val_mae: 1099.4128 - val_mse: 3936607.5000\n",
      "Epoch 13/100\n",
      "11/18 [=================>............] - ETA: 0s - loss: 218.3975 - mae: 218.3975 - mse: 242827.5781INFO:tensorflow:Assets written to: model_experiments/model_1_dense/assets\n",
      "18/18 [==============================] - 0s 15ms/step - loss: 208.9778 - mae: 208.9778 - mse: 217795.9844 - val_loss: 1066.7650 - val_mae: 1066.7650 - val_mse: 3671813.7500\n",
      "Epoch 14/100\n",
      "11/18 [=================>............] - ETA: 0s - loss: 196.8713 - mae: 196.8713 - mse: 185879.6406INFO:tensorflow:Assets written to: model_experiments/model_1_dense/assets\n",
      "18/18 [==============================] - 0s 15ms/step - loss: 191.9177 - mae: 191.9177 - mse: 187678.3281 - val_loss: 1057.4371 - val_mae: 1057.4371 - val_mse: 3497328.0000\n",
      "Epoch 15/100\n",
      "11/18 [=================>............] - ETA: 0s - loss: 197.9860 - mae: 197.9860 - mse: 202652.8281INFO:tensorflow:Assets written to: model_experiments/model_1_dense/assets\n",
      "18/18 [==============================] - 0s 15ms/step - loss: 187.3522 - mae: 187.3522 - mse: 183448.2188 - val_loss: 1012.3631 - val_mae: 1012.3631 - val_mse: 3379411.5000\n",
      "Epoch 16/100\n",
      "18/18 [==============================] - 0s 7ms/step - loss: 181.2600 - mae: 181.2600 - mse: 172259.1875 - val_loss: 1028.0372 - val_mae: 1028.0372 - val_mse: 3204386.5000\n",
      "Epoch 17/100\n",
      "11/18 [=================>............] - ETA: 0s - loss: 171.3439 - mae: 171.3439 - mse: 160907.3281INFO:tensorflow:Assets written to: model_experiments/model_1_dense/assets\n",
      "18/18 [==============================] - 0s 15ms/step - loss: 172.7218 - mae: 172.7218 - mse: 159359.0469 - val_loss: 946.9412 - val_mae: 946.9411 - val_mse: 2838460.5000\n",
      "Epoch 18/100\n",
      "11/18 [=================>............] - ETA: 0s - loss: 174.8350 - mae: 174.8350 - mse: 153733.7188INFO:tensorflow:Assets written to: model_experiments/model_1_dense/assets\n",
      "18/18 [==============================] - 0s 15ms/step - loss: 167.0497 - mae: 167.0497 - mse: 152131.2031 - val_loss: 909.9385 - val_mae: 909.9385 - val_mse: 2633169.5000\n",
      "Epoch 19/100\n",
      "10/18 [===============>..............] - ETA: 0s - loss: 160.4989 - mae: 160.4989 - mse: 151658.9219INFO:tensorflow:Assets written to: model_experiments/model_1_dense/assets\n",
      "18/18 [==============================] - 0s 20ms/step - loss: 160.2026 - mae: 160.2026 - mse: 140355.0938 - val_loss: 871.2816 - val_mae: 871.2816 - val_mse: 2458525.5000\n",
      "Epoch 20/100\n",
      "18/18 [==============================] - 0s 7ms/step - loss: 160.6865 - mae: 160.6865 - mse: 138080.7031 - val_loss: 1055.0676 - val_mae: 1055.0676 - val_mse: 3058105.2500\n",
      "Epoch 21/100\n",
      "11/18 [=================>............] - ETA: 0s - loss: 152.8899 - mae: 152.8899 - mse: 102923.2422INFO:tensorflow:Assets written to: model_experiments/model_1_dense/assets\n",
      "18/18 [==============================] - 0s 15ms/step - loss: 160.1347 - mae: 160.1347 - mse: 137621.1562 - val_loss: 861.8962 - val_mae: 861.8962 - val_mse: 2284419.7500\n",
      "Epoch 22/100\n",
      "18/18 [==============================] - 0s 6ms/step - loss: 147.9446 - mae: 147.9446 - mse: 121782.9531 - val_loss: 870.2022 - val_mae: 870.2022 - val_mse: 2274164.0000\n",
      "Epoch 23/100\n",
      "11/18 [=================>............] - ETA: 0s - loss: 148.4923 - mae: 148.4923 - mse: 127793.9844INFO:tensorflow:Assets written to: model_experiments/model_1_dense/assets\n",
      "18/18 [==============================] - 0s 15ms/step - loss: 151.5820 - mae: 151.5820 - mse: 126672.4609 - val_loss: 805.0799 - val_mae: 805.0799 - val_mse: 2032124.8750\n",
      "Epoch 24/100\n",
      "11/18 [=================>............] - ETA: 0s - loss: 148.9319 - mae: 148.9319 - mse: 125077.8203INFO:tensorflow:Assets written to: model_experiments/model_1_dense/assets\n",
      "18/18 [==============================] - 0s 16ms/step - loss: 146.8862 - mae: 146.8862 - mse: 118336.0000 - val_loss: 766.4300 - val_mae: 766.4300 - val_mse: 1906001.2500\n",
      "Epoch 25/100\n",
      "18/18 [==============================] - 0s 6ms/step - loss: 142.0098 - mae: 142.0098 - mse: 111486.7422 - val_loss: 787.5045 - val_mae: 787.5045 - val_mse: 2056931.5000\n",
      "Epoch 26/100\n",
      "11/18 [=================>............] - ETA: 0s - loss: 137.2801 - mae: 137.2801 - mse: 89858.2812 INFO:tensorflow:Assets written to: model_experiments/model_1_dense/assets\n",
      "18/18 [==============================] - 0s 15ms/step - loss: 141.8452 - mae: 141.8452 - mse: 111504.3906 - val_loss: 746.7648 - val_mae: 746.7648 - val_mse: 1869196.5000\n",
      "Epoch 27/100\n",
      "11/18 [=================>............] - ETA: 0s - loss: 138.3828 - mae: 138.3828 - mse: 103619.2266INFO:tensorflow:Assets written to: model_experiments/model_1_dense/assets\n",
      "18/18 [==============================] - 0s 15ms/step - loss: 141.1051 - mae: 141.1051 - mse: 109515.0859 - val_loss: 731.5867 - val_mae: 731.5867 - val_mse: 1793611.3750\n",
      "Epoch 28/100\n",
      "18/18 [==============================] - 0s 6ms/step - loss: 139.2472 - mae: 139.2472 - mse: 106111.4375 - val_loss: 840.5820 - val_mae: 840.5820 - val_mse: 2030862.5000\n",
      "Epoch 29/100\n",
      "11/18 [=================>............] - ETA: 0s - loss: 133.4104 - mae: 133.4104 - mse: 97322.6406INFO:tensorflow:Assets written to: model_experiments/model_1_dense/assets\n",
      "18/18 [==============================] - 0s 15ms/step - loss: 139.4313 - mae: 139.4313 - mse: 106220.0234 - val_loss: 722.9709 - val_mae: 722.9709 - val_mse: 1669511.5000\n",
      "Epoch 30/100\n",
      "11/18 [=================>............] - ETA: 0s - loss: 124.7782 - mae: 124.7782 - mse: 90163.4062INFO:tensorflow:Assets written to: model_experiments/model_1_dense/assets\n",
      "18/18 [==============================] - 0s 16ms/step - loss: 131.3492 - mae: 131.3492 - mse: 98569.7812 - val_loss: 699.0352 - val_mae: 699.0352 - val_mse: 1614462.0000\n",
      "Epoch 31/100\n",
      "18/18 [==============================] - 0s 6ms/step - loss: 130.0203 - mae: 130.0203 - mse: 98446.4297 - val_loss: 758.5321 - val_mae: 758.5321 - val_mse: 1876445.2500\n",
      "Epoch 32/100\n",
      "11/18 [=================>............] - ETA: 0s - loss: 141.6730 - mae: 141.6730 - mse: 106639.6953INFO:tensorflow:Assets written to: model_experiments/model_1_dense/assets\n",
      "18/18 [==============================] - 0s 15ms/step - loss: 135.8181 - mae: 135.8181 - mse: 99742.1328 - val_loss: 688.1815 - val_mae: 688.1815 - val_mse: 1564392.0000\n",
      "Epoch 33/100\n",
      "18/18 [==============================] - 0s 6ms/step - loss: 130.2253 - mae: 130.2253 - mse: 96880.1797 - val_loss: 711.3591 - val_mae: 711.3591 - val_mse: 1595306.3750\n",
      "Epoch 34/100\n",
      "11/18 [=================>............] - ETA: 0s - loss: 130.9026 - mae: 130.9026 - mse: 97428.2891 INFO:tensorflow:Assets written to: model_experiments/model_1_dense/assets\n",
      "18/18 [==============================] - 0s 15ms/step - loss: 128.4173 - mae: 128.4173 - mse: 96532.3438 - val_loss: 678.8928 - val_mae: 678.8928 - val_mse: 1524887.2500\n",
      "Epoch 35/100\n",
      "11/18 [=================>............] - ETA: 0s - loss: 136.7042 - mae: 136.7042 - mse: 107655.9844INFO:tensorflow:Assets written to: model_experiments/model_1_dense/assets\n",
      "18/18 [==============================] - 0s 15ms/step - loss: 126.6268 - mae: 126.6268 - mse: 92937.2266 - val_loss: 673.6053 - val_mae: 673.6053 - val_mse: 1507351.3750\n",
      "Epoch 36/100\n",
      "11/18 [=================>............] - ETA: 0s - loss: 134.1489 - mae: 134.1489 - mse: 108350.2422INFO:tensorflow:Assets written to: model_experiments/model_1_dense/assets\n",
      "18/18 [==============================] - 0s 15ms/step - loss: 127.2015 - mae: 127.2015 - mse: 92991.4766 - val_loss: 672.5397 - val_mae: 672.5397 - val_mse: 1517283.0000\n",
      "Epoch 37/100\n",
      "12/18 [===================>..........] - ETA: 0s - loss: 126.1119 - mae: 126.1119 - mse: 88119.8672 INFO:tensorflow:Assets written to: model_experiments/model_1_dense/assets\n",
      "18/18 [==============================] - 0s 14ms/step - loss: 128.3805 - mae: 128.3805 - mse: 93983.9375 - val_loss: 666.7147 - val_mae: 666.7147 - val_mse: 1479994.5000\n",
      "Epoch 38/100\n",
      "18/18 [==============================] - 0s 6ms/step - loss: 128.5962 - mae: 128.5962 - mse: 94946.2891 - val_loss: 699.9465 - val_mae: 699.9465 - val_mse: 1536912.8750\n",
      "Epoch 39/100\n",
      "11/18 [=================>............] - ETA: 0s - loss: 126.7395 - mae: 126.7395 - mse: 99186.2891 INFO:tensorflow:Assets written to: model_experiments/model_1_dense/assets\n",
      "18/18 [==============================] - 0s 15ms/step - loss: 126.9781 - mae: 126.9781 - mse: 92262.7812 - val_loss: 661.9839 - val_mae: 661.9839 - val_mse: 1467452.7500\n",
      "Epoch 40/100\n",
      "18/18 [==============================] - 0s 6ms/step - loss: 124.0397 - mae: 124.0397 - mse: 90582.6406 - val_loss: 665.2368 - val_mae: 665.2367 - val_mse: 1483191.7500\n",
      "Epoch 41/100\n",
      "18/18 [==============================] - 0s 6ms/step - loss: 126.9972 - mae: 126.9972 - mse: 92529.4609 - val_loss: 700.3243 - val_mae: 700.3243 - val_mse: 1612471.2500\n",
      "Epoch 42/100\n",
      "18/18 [==============================] - 0s 7ms/step - loss: 131.8462 - mae: 131.8462 - mse: 94534.9766 - val_loss: 671.8770 - val_mae: 671.8770 - val_mse: 1506099.3750\n",
      "Epoch 43/100\n",
      "18/18 [==============================] - 0s 7ms/step - loss: 128.2691 - mae: 128.2691 - mse: 90762.6406 - val_loss: 756.6948 - val_mae: 756.6948 - val_mse: 1790025.2500\n",
      "Epoch 44/100\n",
      "18/18 [==============================] - 0s 6ms/step - loss: 127.3212 - mae: 127.3212 - mse: 92754.2891 - val_loss: 685.8796 - val_mae: 685.8796 - val_mse: 1554001.2500\n",
      "Epoch 45/100\n",
      "18/18 [==============================] - 0s 6ms/step - loss: 129.1407 - mae: 129.1407 - mse: 92046.4531 - val_loss: 738.9315 - val_mae: 738.9315 - val_mse: 1620006.5000\n",
      "Epoch 46/100\n",
      "18/18 [==============================] - 0s 7ms/step - loss: 127.4371 - mae: 127.4371 - mse: 90264.1875 - val_loss: 736.4413 - val_mae: 736.4413 - val_mse: 1611078.8750\n",
      "Epoch 47/100\n",
      "18/18 [==============================] - 0s 6ms/step - loss: 128.8391 - mae: 128.8391 - mse: 91411.6797 - val_loss: 781.4104 - val_mae: 781.4104 - val_mse: 1864004.6250\n",
      "Epoch 48/100\n",
      "18/18 [==============================] - 0s 6ms/step - loss: 133.7049 - mae: 133.7049 - mse: 98556.6875 - val_loss: 744.8963 - val_mae: 744.8963 - val_mse: 1736425.6250\n",
      "Epoch 49/100\n",
      "11/18 [=================>............] - ETA: 0s - loss: 134.4442 - mae: 134.4442 - mse: 99015.8203 INFO:tensorflow:Assets written to: model_experiments/model_1_dense/assets\n",
      "18/18 [==============================] - 0s 15ms/step - loss: 128.8328 - mae: 128.8328 - mse: 88556.7109 - val_loss: 660.1981 - val_mae: 660.1981 - val_mse: 1414246.7500\n",
      "Epoch 50/100\n",
      "11/18 [=================>............] - ETA: 0s - loss: 124.8250 - mae: 124.8250 - mse: 85080.8359 INFO:tensorflow:Assets written to: model_experiments/model_1_dense/assets\n",
      "18/18 [==============================] - 0s 18ms/step - loss: 124.9663 - mae: 124.9663 - mse: 89722.1328 - val_loss: 641.7217 - val_mae: 641.7217 - val_mse: 1385489.8750\n",
      "Epoch 51/100\n",
      "18/18 [==============================] - 0s 7ms/step - loss: 122.5856 - mae: 122.5856 - mse: 86050.3359 - val_loss: 654.2192 - val_mae: 654.2191 - val_mse: 1397561.0000\n",
      "Epoch 52/100\n",
      "18/18 [==============================] - 0s 6ms/step - loss: 120.8620 - mae: 120.8620 - mse: 86226.9922 - val_loss: 644.5833 - val_mae: 644.5833 - val_mse: 1376824.2500\n",
      "Epoch 53/100\n",
      "12/18 [===================>..........] - ETA: 0s - loss: 118.5760 - mae: 118.5760 - mse: 72090.4609INFO:tensorflow:Assets written to: model_experiments/model_1_dense/assets\n",
      "18/18 [==============================] - 0s 14ms/step - loss: 119.8953 - mae: 119.8953 - mse: 84640.5391 - val_loss: 641.6575 - val_mae: 641.6575 - val_mse: 1388761.3750\n",
      "Epoch 54/100\n",
      "11/18 [=================>............] - ETA: 0s - loss: 127.5509 - mae: 127.5509 - mse: 89805.8203INFO:tensorflow:Assets written to: model_experiments/model_1_dense/assets\n",
      "18/18 [==============================] - 0s 15ms/step - loss: 121.8352 - mae: 121.8352 - mse: 86296.0000 - val_loss: 633.0598 - val_mae: 633.0598 - val_mse: 1353239.3750\n",
      "Epoch 55/100\n",
      "18/18 [==============================] - 0s 6ms/step - loss: 120.0576 - mae: 120.0576 - mse: 83684.5391 - val_loss: 635.6317 - val_mae: 635.6317 - val_mse: 1364791.5000\n",
      "Epoch 56/100\n",
      "18/18 [==============================] - 0s 6ms/step - loss: 121.9018 - mae: 121.9018 - mse: 87190.3516 - val_loss: 687.9915 - val_mae: 687.9915 - val_mse: 1540342.0000\n",
      "Epoch 57/100\n",
      "18/18 [==============================] - 0s 6ms/step - loss: 126.3839 - mae: 126.3839 - mse: 87598.7656 - val_loss: 652.4303 - val_mae: 652.4303 - val_mse: 1429251.8750\n",
      "Epoch 58/100\n",
      "11/18 [=================>............] - ETA: 0s - loss: 124.3911 - mae: 124.3911 - mse: 89746.3906 INFO:tensorflow:Assets written to: model_experiments/model_1_dense/assets\n",
      "18/18 [==============================] - 0s 15ms/step - loss: 127.4793 - mae: 127.4793 - mse: 91829.9844 - val_loss: 629.3538 - val_mae: 629.3538 - val_mse: 1341394.7500\n",
      "Epoch 59/100\n",
      "18/18 [==============================] - 0s 6ms/step - loss: 117.4849 - mae: 117.4849 - mse: 82717.5547 - val_loss: 639.0040 - val_mae: 639.0040 - val_mse: 1380678.7500\n",
      "Epoch 60/100\n",
      "18/18 [==============================] - 0s 6ms/step - loss: 120.5529 - mae: 120.5529 - mse: 84396.8750 - val_loss: 632.0486 - val_mae: 632.0486 - val_mse: 1353390.7500\n",
      "Epoch 61/100\n",
      "18/18 [==============================] - 0s 6ms/step - loss: 124.2411 - mae: 124.2411 - mse: 87276.9219 - val_loss: 678.8641 - val_mae: 678.8641 - val_mse: 1504469.8750\n",
      "Epoch 62/100\n",
      "11/18 [=================>............] - ETA: 0s - loss: 118.6499 - mae: 118.6499 - mse: 82034.5391INFO:tensorflow:Assets written to: model_experiments/model_1_dense/assets\n",
      "18/18 [==============================] - 0s 15ms/step - loss: 118.2891 - mae: 118.2891 - mse: 83035.9062 - val_loss: 626.4221 - val_mae: 626.4221 - val_mse: 1332802.3750\n",
      "Epoch 63/100\n",
      "11/18 [=================>............] - ETA: 0s - loss: 114.3505 - mae: 114.3505 - mse: 74329.2578 INFO:tensorflow:Assets written to: model_experiments/model_1_dense/assets\n",
      "18/18 [==============================] - 0s 15ms/step - loss: 117.6288 - mae: 117.6288 - mse: 82527.8125 - val_loss: 621.5110 - val_mae: 621.5110 - val_mse: 1315198.6250\n",
      "Epoch 64/100\n",
      "18/18 [==============================] - 0s 6ms/step - loss: 119.8277 - mae: 119.8277 - mse: 83548.6406 - val_loss: 640.6049 - val_mae: 640.6049 - val_mse: 1385321.5000\n",
      "Epoch 65/100\n",
      "18/18 [==============================] - 0s 6ms/step - loss: 118.0497 - mae: 118.0497 - mse: 82169.9609 - val_loss: 634.5292 - val_mae: 634.5292 - val_mse: 1364008.3750\n",
      "Epoch 66/100\n",
      "18/18 [==============================] - 0s 6ms/step - loss: 120.2168 - mae: 120.2168 - mse: 83039.6484 - val_loss: 641.9087 - val_mae: 641.9087 - val_mse: 1345947.2500\n",
      "Epoch 67/100\n",
      "18/18 [==============================] - 0s 7ms/step - loss: 115.2195 - mae: 115.2195 - mse: 80363.9141 - val_loss: 624.1505 - val_mae: 624.1505 - val_mse: 1327369.2500\n",
      "Epoch 68/100\n",
      "18/18 [==============================] - 0s 7ms/step - loss: 116.4193 - mae: 116.4193 - mse: 80625.3438 - val_loss: 624.1252 - val_mae: 624.1252 - val_mse: 1309299.3750\n",
      "Epoch 69/100\n",
      "18/18 [==============================] - 0s 7ms/step - loss: 115.6876 - mae: 115.6876 - mse: 80239.7031 - val_loss: 632.6246 - val_mae: 632.6246 - val_mse: 1356164.1250\n",
      "Epoch 70/100\n",
      "18/18 [==============================] - 0s 6ms/step - loss: 119.4962 - mae: 119.4962 - mse: 83515.4375 - val_loss: 628.4567 - val_mae: 628.4567 - val_mse: 1313813.5000\n",
      "Epoch 71/100\n",
      "18/18 [==============================] - 0s 6ms/step - loss: 118.5730 - mae: 118.5730 - mse: 81235.1562 - val_loss: 651.3011 - val_mae: 651.3011 - val_mse: 1360647.3750\n",
      "Epoch 72/100\n",
      "11/18 [=================>............] - ETA: 0s - loss: 113.5389 - mae: 113.5389 - mse: 76035.1641INFO:tensorflow:Assets written to: model_experiments/model_1_dense/assets\n",
      "18/18 [==============================] - 0s 15ms/step - loss: 116.2514 - mae: 116.2514 - mse: 81148.9141 - val_loss: 611.9001 - val_mae: 611.9001 - val_mse: 1283436.2500\n",
      "Epoch 73/100\n",
      "18/18 [==============================] - 0s 7ms/step - loss: 115.6425 - mae: 115.6425 - mse: 80300.1172 - val_loss: 622.0393 - val_mae: 622.0393 - val_mse: 1318660.2500\n",
      "Epoch 74/100\n",
      "18/18 [==============================] - 0s 6ms/step - loss: 118.2962 - mae: 118.2962 - mse: 83122.9766 - val_loss: 656.7410 - val_mae: 656.7410 - val_mse: 1370373.7500\n",
      "Epoch 75/100\n",
      "11/18 [=================>............] - ETA: 0s - loss: 112.6401 - mae: 112.6401 - mse: 71411.6094INFO:tensorflow:Assets written to: model_experiments/model_1_dense/assets\n",
      "18/18 [==============================] - 0s 15ms/step - loss: 114.5024 - mae: 114.5024 - mse: 78601.8750 - val_loss: 609.6939 - val_mae: 609.6939 - val_mse: 1279729.5000\n",
      "Epoch 76/100\n",
      "18/18 [==============================] - 0s 6ms/step - loss: 113.6657 - mae: 113.6657 - mse: 78979.3203 - val_loss: 617.4568 - val_mae: 617.4568 - val_mse: 1304596.2500\n",
      "Epoch 77/100\n",
      "11/18 [=================>............] - ETA: 0s - loss: 117.8700 - mae: 117.8700 - mse: 89962.5625 INFO:tensorflow:Assets written to: model_experiments/model_1_dense/assets\n",
      "18/18 [==============================] - 0s 15ms/step - loss: 113.5548 - mae: 113.5548 - mse: 79083.4766 - val_loss: 606.4359 - val_mae: 606.4359 - val_mse: 1270188.3750\n",
      "Epoch 78/100\n",
      "18/18 [==============================] - 0s 6ms/step - loss: 114.5085 - mae: 114.5085 - mse: 78928.2266 - val_loss: 613.1968 - val_mae: 613.1968 - val_mse: 1276003.2500\n",
      "Epoch 79/100\n",
      "18/18 [==============================] - 0s 6ms/step - loss: 112.8414 - mae: 112.8414 - mse: 78053.5234 - val_loss: 640.1691 - val_mae: 640.1691 - val_mse: 1328811.2500\n",
      "Epoch 80/100\n",
      "18/18 [==============================] - 0s 7ms/step - loss: 115.2675 - mae: 115.2675 - mse: 78871.3672 - val_loss: 681.0650 - val_mae: 681.0650 - val_mse: 1422179.0000\n",
      "Epoch 81/100\n",
      "18/18 [==============================] - 0s 7ms/step - loss: 119.4731 - mae: 119.4731 - mse: 78061.2891 - val_loss: 712.8032 - val_mae: 712.8032 - val_mse: 1508389.3750\n",
      "Epoch 82/100\n",
      "18/18 [==============================] - 0s 7ms/step - loss: 123.7980 - mae: 123.7980 - mse: 84038.3438 - val_loss: 681.7292 - val_mae: 681.7292 - val_mse: 1422409.8750\n",
      "Epoch 83/100\n",
      "18/18 [==============================] - 0s 7ms/step - loss: 132.6495 - mae: 132.6495 - mse: 91224.4609 - val_loss: 712.6556 - val_mae: 712.6556 - val_mse: 1585063.5000\n",
      "Epoch 84/100\n",
      "18/18 [==============================] - 0s 6ms/step - loss: 114.8955 - mae: 114.8955 - mse: 77836.1094 - val_loss: 642.7161 - val_mae: 642.7161 - val_mse: 1382436.6250\n",
      "Epoch 85/100\n",
      "18/18 [==============================] - 0s 6ms/step - loss: 115.7335 - mae: 115.7335 - mse: 75739.3750 - val_loss: 630.0909 - val_mae: 630.0909 - val_mse: 1341807.2500\n",
      "Epoch 86/100\n",
      "18/18 [==============================] - 0s 7ms/step - loss: 114.6143 - mae: 114.6143 - mse: 78341.6250 - val_loss: 625.1527 - val_mae: 625.1527 - val_mse: 1328712.6250\n",
      "Epoch 87/100\n",
      "18/18 [==============================] - 0s 6ms/step - loss: 113.9749 - mae: 113.9749 - mse: 77005.4062 - val_loss: 606.4384 - val_mae: 606.4384 - val_mse: 1258286.7500\n",
      "Epoch 88/100\n",
      "18/18 [==============================] - 0s 6ms/step - loss: 113.3049 - mae: 113.3049 - mse: 78549.4766 - val_loss: 606.4907 - val_mae: 606.4907 - val_mse: 1256977.0000\n",
      "Epoch 89/100\n",
      "12/18 [===================>..........] - ETA: 0s - loss: 119.3125 - mae: 119.3125 - mse: 84369.4766INFO:tensorflow:Assets written to: model_experiments/model_1_dense/assets\n",
      "18/18 [==============================] - 0s 15ms/step - loss: 113.6845 - mae: 113.6845 - mse: 77481.5547 - val_loss: 598.8594 - val_mae: 598.8594 - val_mse: 1247263.6250\n",
      "Epoch 90/100\n",
      "18/18 [==============================] - 0s 7ms/step - loss: 112.3039 - mae: 112.3039 - mse: 75667.4453 - val_loss: 621.5172 - val_mae: 621.5172 - val_mse: 1314283.1250\n",
      "Epoch 91/100\n",
      "18/18 [==============================] - 0s 6ms/step - loss: 113.2360 - mae: 113.2360 - mse: 78340.7266 - val_loss: 636.6663 - val_mae: 636.6663 - val_mse: 1314243.6250\n",
      "Epoch 92/100\n",
      "18/18 [==============================] - 0s 6ms/step - loss: 115.3992 - mae: 115.3992 - mse: 76937.7422 - val_loss: 626.5227 - val_mae: 626.5227 - val_mse: 1292249.8750\n",
      "Epoch 93/100\n",
      "18/18 [==============================] - 0s 7ms/step - loss: 111.9458 - mae: 111.9458 - mse: 75512.8672 - val_loss: 610.1307 - val_mae: 610.1307 - val_mse: 1280258.7500\n",
      "Epoch 94/100\n",
      "18/18 [==============================] - 0s 7ms/step - loss: 113.2717 - mae: 113.2717 - mse: 77723.1562 - val_loss: 606.8801 - val_mae: 606.8801 - val_mse: 1251969.7500\n",
      "Epoch 95/100\n",
      "18/18 [==============================] - 0s 7ms/step - loss: 110.8805 - mae: 110.8805 - mse: 74944.1250 - val_loss: 622.9882 - val_mae: 622.9882 - val_mse: 1283133.2500\n",
      "Epoch 96/100\n",
      "18/18 [==============================] - 0s 7ms/step - loss: 110.5367 - mae: 110.5367 - mse: 75858.4297 - val_loss: 609.0590 - val_mae: 609.0590 - val_mse: 1254653.6250\n",
      "Epoch 97/100\n",
      "18/18 [==============================] - 0s 7ms/step - loss: 113.0953 - mae: 113.0953 - mse: 77617.6406 - val_loss: 727.5197 - val_mae: 727.5197 - val_mse: 1544615.5000\n",
      "Epoch 98/100\n",
      "18/18 [==============================] - 0s 6ms/step - loss: 119.4722 - mae: 119.4722 - mse: 80521.8906 - val_loss: 626.3705 - val_mae: 626.3705 - val_mse: 1288432.1250\n",
      "Epoch 99/100\n",
      "18/18 [==============================] - 0s 6ms/step - loss: 112.8225 - mae: 112.8225 - mse: 75598.8281 - val_loss: 615.4937 - val_mae: 615.4937 - val_mse: 1297171.2500\n",
      "Epoch 100/100\n",
      "18/18 [==============================] - 0s 7ms/step - loss: 111.8527 - mae: 111.8527 - mse: 74090.1406 - val_loss: 629.3592 - val_mae: 629.3592 - val_mse: 1333386.1250\n"
     ]
    },
    {
     "data": {
      "text/plain": [
       "<keras.callbacks.History at 0x17ad45070>"
      ]
     },
     "execution_count": 40,
     "metadata": {},
     "output_type": "execute_result"
    }
   ],
   "source": [
    "# 1. create the model\n",
    "model_1 = tf.keras.Sequential([\n",
    "    layers.Dense(128, activation='relu'),\n",
    "    layers.Dense(HORIZON, activation='linear')\n",
    "], name='model_1_dense')\n",
    "\n",
    "# 2. compile the model\n",
    "model_1.compile(\n",
    "    loss = 'mae',\n",
    "    optimizer=tf.keras.optimizers.Adam(),\n",
    "    metrics=['mae','mse']\n",
    ")\n",
    "\n",
    "# 3. fit the model\n",
    "model_1.fit(\n",
    "    train_windows,\n",
    "    train_labels,\n",
    "    epochs=100,\n",
    "    verbose=1,\n",
    "    batch_size=128,\n",
    "    validation_data=(test_windows,test_labels),\n",
    "    callbacks=[create_model_checkpoint(model_name=model_1.name)]\n",
    ")"
   ]
  },
  {
   "cell_type": "code",
   "execution_count": 41,
   "id": "219af2b5-aff2-482a-af28-a1dd023d41a8",
   "metadata": {
    "collapsed": true,
    "jupyter": {
     "outputs_hidden": true
    }
   },
   "outputs": [],
   "source": [
    "# load in the saved best performing model\n",
    "model_1 = tf.keras.models.load_model(\"model_experiments/model_1_dense\")"
   ]
  },
  {
   "cell_type": "code",
   "execution_count": 42,
   "id": "64a875a9-868f-4753-916c-a27a8299917a",
   "metadata": {
    "collapsed": true,
    "jupyter": {
     "outputs_hidden": true
    }
   },
   "outputs": [
    {
     "name": "stdout",
     "output_type": "stream",
     "text": [
      "18/18 [==============================] - 0s 4ms/step - loss: 598.8594 - mae: 598.8594 - mse: 1247263.6250\n"
     ]
    },
    {
     "name": "stderr",
     "output_type": "stream",
     "text": [
      "2022-02-17 19:18:28.568687: I tensorflow/core/grappler/optimizers/custom_graph_optimizer_registry.cc:112] Plugin optimizer for device_type GPU is enabled.\n"
     ]
    },
    {
     "data": {
      "text/plain": [
       "[598.859375, 598.859375, 1247263.625]"
      ]
     },
     "execution_count": 42,
     "metadata": {},
     "output_type": "execute_result"
    }
   ],
   "source": [
    "# evaluate the model\n",
    "model_1.evaluate(test_windows, test_labels)"
   ]
  },
  {
   "cell_type": "code",
   "execution_count": 43,
   "id": "27d7adde-5c90-4b2f-a4bc-6965c7761f53",
   "metadata": {
    "collapsed": true,
    "jupyter": {
     "outputs_hidden": true
    }
   },
   "outputs": [
    {
     "name": "stderr",
     "output_type": "stream",
     "text": [
      "2022-02-17 19:18:28.710603: I tensorflow/core/grappler/optimizers/custom_graph_optimizer_registry.cc:112] Plugin optimizer for device_type GPU is enabled.\n"
     ]
    }
   ],
   "source": [
    "model_1_preds = model_1.predict(test_windows)"
   ]
  },
  {
   "cell_type": "code",
   "execution_count": 44,
   "id": "37bdffaf-f897-4aa5-9321-17498448a922",
   "metadata": {
    "collapsed": true,
    "jupyter": {
     "outputs_hidden": true
    }
   },
   "outputs": [
    {
     "data": {
      "text/plain": [
       "{'mae': 567.9803,\n",
       " 'mse': 1147547.1,\n",
       " 'rmse': 1071.2362,\n",
       " 'mape': 2.516525,\n",
       " 'mase': 0.99957}"
      ]
     },
     "execution_count": 44,
     "metadata": {},
     "output_type": "execute_result"
    }
   ],
   "source": [
    "naive_results"
   ]
  },
  {
   "cell_type": "code",
   "execution_count": 45,
   "id": "538beed1-cfe5-4b77-8367-3238a09cf54c",
   "metadata": {
    "collapsed": true,
    "jupyter": {
     "outputs_hidden": true
    }
   },
   "outputs": [],
   "source": [
    "# let's write a function to make forcasts for any kind of model\n",
    "def make_preds(model, X_test, y_test):\n",
    "    \"\"\"\n",
    "        Function that takes in a trained model, makes predictions on X_test and computes evaluation metrics with comparison betwenn y_test and the predictions.\n",
    "    \"\"\"\n",
    "    y_pred = model.predict(X_test)\n",
    "    \n",
    "    return evaluate_preds(y_test.reshape(-1,),y_pred.reshape(-1,))"
   ]
  },
  {
   "cell_type": "code",
   "execution_count": 46,
   "id": "a3f668bb-1136-495a-b36e-9583e005df36",
   "metadata": {
    "collapsed": true,
    "jupyter": {
     "outputs_hidden": true
    }
   },
   "outputs": [
    {
     "data": {
      "text/plain": [
       "{'mae': 598.8594,\n",
       " 'mse': 1247263.6,\n",
       " 'rmse': 1116.8096,\n",
       " 'mape': 2.6998978,\n",
       " 'mase': 1.05203}"
      ]
     },
     "execution_count": 46,
     "metadata": {},
     "output_type": "execute_result"
    }
   ],
   "source": [
    "model_1_results = make_preds(model_1, test_windows, test_labels)\n",
    "model_1_results"
   ]
  },
  {
   "cell_type": "code",
   "execution_count": 47,
   "id": "80197710-e37d-4180-bdc7-0c9153ba34e2",
   "metadata": {
    "collapsed": true,
    "jupyter": {
     "outputs_hidden": true
    }
   },
   "outputs": [
    {
     "data": {
      "image/png": "[encoded data removed]",
      "text/plain": [
       "<Figure size 720x504 with 1 Axes>"
      ]
     },
     "metadata": {
      "needs_background": "light"
     },
     "output_type": "display_data"
    }
   ],
   "source": [
    "# Lets plot our model 1 predictions\n",
    "\n",
    "offset = 500\n",
    "plt.figure(figsize=(10,7))\n",
    "\n",
    "plot_time_series(\n",
    "    timestamp=X_test[-len(test_windows):],\n",
    "    values=test_labels[:,0],\n",
    "    start=offset,\n",
    "    label=\"test data\"\n",
    "                \n",
    ")\n",
    "plot_time_series(\n",
    "    timestamp=X_test[-len(test_windows):],\n",
    "    values=model_1_preds[:,0],\n",
    "    formated='-',\n",
    "    start=offset,\n",
    "    label=\"predictions\"          \n",
    ")"
   ]
  },
  {
   "cell_type": "markdown",
   "id": "8fa39aa4-fc75-4ba7-b389-9c1755cca483",
   "metadata": {},
   "source": [
    "# Model 2 - Dense (window = 30, horizon = 1)"
   ]
  },
  {
   "cell_type": "code",
   "execution_count": 48,
   "id": "f4effcaa-bb19-4abe-888c-788f25397fe5",
   "metadata": {
    "collapsed": true,
    "jupyter": {
     "outputs_hidden": true
    }
   },
   "outputs": [],
   "source": [
    "HORIZON = 1\n",
    "WINDOW_SIZE = 30"
   ]
  },
  {
   "cell_type": "code",
   "execution_count": 49,
   "id": "4d8e27d7-63c1-4110-a255-ae02324c2f07",
   "metadata": {
    "collapsed": true,
    "jupyter": {
     "outputs_hidden": true
    }
   },
   "outputs": [],
   "source": [
    "full_windows, full_labels = make_windows(np.array(prices), window_size=WINDOW_SIZE, horizon = HORIZON)"
   ]
  },
  {
   "cell_type": "code",
   "execution_count": 50,
   "id": "73e2190e-d71b-4bd8-8574-e4438e8c40e8",
   "metadata": {
    "collapsed": true,
    "jupyter": {
     "outputs_hidden": true
    }
   },
   "outputs": [
    {
     "data": {
      "text/plain": [
       "(2757, 2757)"
      ]
     },
     "execution_count": 50,
     "metadata": {},
     "output_type": "execute_result"
    }
   ],
   "source": [
    "len(full_windows), len(full_labels)"
   ]
  },
  {
   "cell_type": "code",
   "execution_count": 51,
   "id": "82542104-f022-4f3a-96cc-29f461249582",
   "metadata": {
    "collapsed": true,
    "jupyter": {
     "outputs_hidden": true
    }
   },
   "outputs": [],
   "source": [
    "# create train and test splits\n",
    "train_windows, test_windows, train_labels, test_labels = make_train_test_splits(full_windows,full_labels)"
   ]
  },
  {
   "cell_type": "code",
   "execution_count": 52,
   "id": "96a074d0-914d-480d-82f2-fa0d32f29a5a",
   "metadata": {
    "collapsed": true,
    "jupyter": {
     "outputs_hidden": true
    }
   },
   "outputs": [
    {
     "name": "stdout",
     "output_type": "stream",
     "text": [
      "Window: [123.65499 125.455   108.58483 118.67466 121.33866 120.65533 121.795\n",
      " 123.033   124.049   125.96116 125.27966 125.9275  126.38333 135.24199\n",
      " 133.20333 142.76333 137.92333 142.95166 152.55183 160.33883 164.31499\n",
      " 177.63333 188.29716 200.70166 180.355   175.03166 177.6965  187.15983\n",
      " 192.75666 197.4    ] -> Labels: [196.02499]\n"
     ]
    }
   ],
   "source": [
    "# take a look a the data \n",
    "print(f\"Window: {train_windows[0]} -> Labels: {train_labels[0]}\")"
   ]
  },
  {
   "cell_type": "code",
   "execution_count": 53,
   "id": "a53fcadc-783c-4e44-8dff-7086a428da89",
   "metadata": {
    "collapsed": true,
    "jupyter": {
     "outputs_hidden": true
    }
   },
   "outputs": [
    {
     "name": "stdout",
     "output_type": "stream",
     "text": [
      "Epoch 1/100\n",
      "11/18 [=================>............] - ETA: 0s - loss: 1205.7825 - mae: 1205.7825 - mse: 5618644.0000 "
     ]
    },
    {
     "name": "stderr",
     "output_type": "stream",
     "text": [
      "2022-02-17 19:18:29.024838: I tensorflow/core/grappler/optimizers/custom_graph_optimizer_registry.cc:112] Plugin optimizer for device_type GPU is enabled.\n",
      "2022-02-17 19:18:29.222335: I tensorflow/core/grappler/optimizers/custom_graph_optimizer_registry.cc:112] Plugin optimizer for device_type GPU is enabled.\n"
     ]
    },
    {
     "name": "stdout",
     "output_type": "stream",
     "text": [
      "INFO:tensorflow:Assets written to: model_experiments/model_2_dense/assets\n",
      "18/18 [==============================] - 1s 24ms/step - loss: 1060.3167 - mae: 1060.3167 - mse: 4550409.0000 - val_loss: 4333.2817 - val_mae: 4333.2817 - val_mse: 43557948.0000\n",
      "Epoch 2/100\n",
      "11/18 [=================>............] - ETA: 0s - loss: 601.7921 - mae: 601.7921 - mse: 1610624.7500INFO:tensorflow:Assets written to: model_experiments/model_2_dense/assets\n",
      "18/18 [==============================] - 0s 16ms/step - loss: 551.2116 - mae: 551.2116 - mse: 1388317.5000 - val_loss: 2122.1768 - val_mae: 2122.1768 - val_mse: 12260479.0000\n",
      "Epoch 3/100\n",
      "18/18 [==============================] - 0s 6ms/step - loss: 441.6427 - mae: 441.6427 - mse: 897553.7500 - val_loss: 2408.8179 - val_mae: 2408.8179 - val_mse: 14292509.0000\n",
      "Epoch 4/100\n",
      "11/18 [=================>............] - ETA: 0s - loss: 322.7875 - mae: 322.7875 - mse: 536219.0625INFO:tensorflow:Assets written to: model_experiments/model_2_dense/assets\n",
      "18/18 [==============================] - 0s 15ms/step - loss: 297.5637 - mae: 297.5637 - mse: 456774.6875 - val_loss: 1463.9254 - val_mae: 1463.9254 - val_mse: 6613638.0000\n",
      "Epoch 5/100\n",
      "12/18 [===================>..........] - ETA: 0s - loss: 245.9020 - mae: 245.9020 - mse: 342626.5625INFO:tensorflow:Assets written to: model_experiments/model_2_dense/assets\n",
      "18/18 [==============================] - 0s 16ms/step - loss: 242.2207 - mae: 242.2207 - mse: 321415.7188 - val_loss: 1403.9991 - val_mae: 1403.9991 - val_mse: 6168326.5000\n",
      "Epoch 6/100\n",
      "11/18 [=================>............] - ETA: 0s - loss: 216.0240 - mae: 216.0240 - mse: 266288.4062INFO:tensorflow:Assets written to: model_experiments/model_2_dense/assets\n",
      "18/18 [==============================] - 0s 15ms/step - loss: 223.5333 - mae: 223.5333 - mse: 275702.1875 - val_loss: 1212.1229 - val_mae: 1212.1229 - val_mse: 5364351.0000\n",
      "Epoch 7/100\n",
      "11/18 [=================>............] - ETA: 0s - loss: 220.7797 - mae: 220.7797 - mse: 254646.3906INFO:tensorflow:Assets written to: model_experiments/model_2_dense/assets\n",
      "18/18 [==============================] - 0s 15ms/step - loss: 215.5264 - mae: 215.5264 - mse: 250405.2656 - val_loss: 1150.9321 - val_mae: 1150.9321 - val_mse: 4894583.0000\n",
      "Epoch 8/100\n",
      "18/18 [==============================] - 0s 7ms/step - loss: 208.4028 - mae: 208.4028 - mse: 230995.7812 - val_loss: 1339.8268 - val_mae: 1339.8268 - val_mse: 5275462.5000\n",
      "Epoch 9/100\n",
      "12/18 [===================>..........] - ETA: 0s - loss: 205.3187 - mae: 205.3187 - mse: 219454.7344INFO:tensorflow:Assets written to: model_experiments/model_2_dense/assets\n",
      "18/18 [==============================] - 0s 15ms/step - loss: 201.3196 - mae: 201.3196 - mse: 210119.2969 - val_loss: 1053.6626 - val_mae: 1053.6626 - val_mse: 3939319.2500\n",
      "Epoch 10/100\n",
      "18/18 [==============================] - 0s 6ms/step - loss: 220.5935 - mae: 220.5935 - mse: 231685.5781 - val_loss: 1077.4542 - val_mae: 1077.4542 - val_mse: 4209567.0000\n",
      "Epoch 11/100\n",
      "11/18 [=================>............] - ETA: 0s - loss: 207.6588 - mae: 207.6588 - mse: 201656.8438INFO:tensorflow:Assets written to: model_experiments/model_2_dense/assets\n",
      "18/18 [==============================] - 0s 15ms/step - loss: 200.1968 - mae: 200.1968 - mse: 199619.6094 - val_loss: 1017.7504 - val_mae: 1017.7504 - val_mse: 3569832.0000\n",
      "Epoch 12/100\n",
      "18/18 [==============================] - 0s 6ms/step - loss: 183.4287 - mae: 183.4287 - mse: 182610.3906 - val_loss: 1358.0383 - val_mae: 1358.0383 - val_mse: 4929216.0000\n",
      "Epoch 13/100\n",
      "12/18 [===================>..........] - ETA: 0s - loss: 198.4153 - mae: 198.4153 - mse: 193765.3438INFO:tensorflow:Assets written to: model_experiments/model_2_dense/assets\n",
      "18/18 [==============================] - 0s 15ms/step - loss: 190.4172 - mae: 190.4172 - mse: 185000.5625 - val_loss: 958.5554 - val_mae: 958.5554 - val_mse: 3368154.2500\n",
      "Epoch 14/100\n",
      "11/18 [=================>............] - ETA: 0s - loss: 177.1327 - mae: 177.1327 - mse: 181918.7812INFO:tensorflow:Assets written to: model_experiments/model_2_dense/assets\n",
      "18/18 [==============================] - 0s 15ms/step - loss: 177.0675 - mae: 177.0675 - mse: 169482.3594 - val_loss: 941.1564 - val_mae: 941.1564 - val_mse: 3230159.7500\n",
      "Epoch 15/100\n",
      "11/18 [=================>............] - ETA: 0s - loss: 179.2269 - mae: 179.2269 - mse: 185986.2188INFO:tensorflow:Assets written to: model_experiments/model_2_dense/assets\n",
      "18/18 [==============================] - 0s 15ms/step - loss: 177.9086 - mae: 177.9086 - mse: 163232.7500 - val_loss: 923.5225 - val_mae: 923.5225 - val_mse: 2885307.5000\n",
      "Epoch 16/100\n",
      "18/18 [==============================] - 0s 6ms/step - loss: 188.0410 - mae: 188.0410 - mse: 169784.7969 - val_loss: 1016.1651 - val_mae: 1016.1651 - val_mse: 3107887.7500\n",
      "Epoch 17/100\n",
      "18/18 [==============================] - 0s 6ms/step - loss: 169.7658 - mae: 169.7658 - mse: 155886.2500 - val_loss: 942.5646 - val_mae: 942.5646 - val_mse: 2788354.2500\n",
      "Epoch 18/100\n",
      "11/18 [=================>............] - ETA: 0s - loss: 164.8357 - mae: 164.8357 - mse: 153928.7500INFO:tensorflow:Assets written to: model_experiments/model_2_dense/assets\n",
      "18/18 [==============================] - 0s 15ms/step - loss: 163.3458 - mae: 163.3458 - mse: 142547.2812 - val_loss: 855.3770 - val_mae: 855.3770 - val_mse: 2476402.2500\n",
      "Epoch 19/100\n",
      "11/18 [=================>............] - ETA: 0s - loss: 164.8593 - mae: 164.8593 - mse: 148737.8281INFO:tensorflow:Assets written to: model_experiments/model_2_dense/assets\n",
      "18/18 [==============================] - 0s 15ms/step - loss: 165.1055 - mae: 165.1055 - mse: 143398.2188 - val_loss: 849.1234 - val_mae: 849.1233 - val_mse: 2366992.7500\n",
      "Epoch 20/100\n",
      "18/18 [==============================] - 0s 6ms/step - loss: 161.0983 - mae: 161.0983 - mse: 136103.9375 - val_loss: 901.8432 - val_mae: 901.8432 - val_mse: 2505100.5000\n",
      "Epoch 21/100\n",
      "18/18 [==============================] - 0s 6ms/step - loss: 167.5466 - mae: 167.5466 - mse: 142061.1719 - val_loss: 1388.2815 - val_mae: 1388.2815 - val_mse: 4678910.0000\n",
      "Epoch 22/100\n",
      "18/18 [==============================] - 0s 6ms/step - loss: 172.7970 - mae: 172.7970 - mse: 149258.3750 - val_loss: 1104.3091 - val_mae: 1104.3091 - val_mse: 3273803.5000\n",
      "Epoch 23/100\n",
      "18/18 [==============================] - 0s 6ms/step - loss: 158.2909 - mae: 158.2909 - mse: 130398.8828 - val_loss: 908.8648 - val_mae: 908.8648 - val_mse: 2460351.0000\n",
      "Epoch 24/100\n",
      "18/18 [==============================] - 0s 6ms/step - loss: 166.7203 - mae: 166.7203 - mse: 138936.2500 - val_loss: 869.7350 - val_mae: 869.7350 - val_mse: 2296888.2500\n",
      "Epoch 25/100\n",
      "11/18 [=================>............] - ETA: 0s - loss: 155.6000 - mae: 155.6000 - mse: 121113.5469INFO:tensorflow:Assets written to: model_experiments/model_2_dense/assets\n",
      "18/18 [==============================] - 0s 16ms/step - loss: 156.6786 - mae: 156.6786 - mse: 126222.6562 - val_loss: 790.3040 - val_mae: 790.3040 - val_mse: 2066627.2500\n",
      "Epoch 26/100\n",
      "11/18 [=================>............] - ETA: 0s - loss: 143.4090 - mae: 143.4090 - mse: 112421.7656INFO:tensorflow:Assets written to: model_experiments/model_2_dense/assets\n",
      "18/18 [==============================] - 0s 14ms/step - loss: 149.0412 - mae: 149.0412 - mse: 122068.0703 - val_loss: 775.3342 - val_mae: 775.3342 - val_mse: 2023823.3750\n",
      "Epoch 27/100\n",
      "18/18 [==============================] - 0s 6ms/step - loss: 149.7553 - mae: 149.7553 - mse: 120010.5156 - val_loss: 781.4428 - val_mae: 781.4428 - val_mse: 1972094.1250\n",
      "Epoch 28/100\n",
      "12/18 [===================>..........] - ETA: 0s - loss: 144.1544 - mae: 144.1544 - mse: 121188.4297INFO:tensorflow:Assets written to: model_experiments/model_2_dense/assets\n",
      "18/18 [==============================] - 0s 15ms/step - loss: 144.8739 - mae: 144.8739 - mse: 113086.1172 - val_loss: 762.5251 - val_mae: 762.5251 - val_mse: 1956083.5000\n",
      "Epoch 29/100\n",
      "18/18 [==============================] - 0s 6ms/step - loss: 147.0009 - mae: 147.0009 - mse: 116463.1016 - val_loss: 810.6158 - val_mae: 810.6158 - val_mse: 2030780.3750\n",
      "Epoch 30/100\n",
      "18/18 [==============================] - 0s 6ms/step - loss: 142.2272 - mae: 142.2272 - mse: 110663.6172 - val_loss: 1035.5620 - val_mae: 1035.5620 - val_mse: 3181020.2500\n",
      "Epoch 31/100\n",
      "18/18 [==============================] - 0s 6ms/step - loss: 158.1575 - mae: 158.1575 - mse: 124357.5781 - val_loss: 840.9189 - val_mae: 840.9189 - val_mse: 2307023.0000\n",
      "Epoch 32/100\n",
      "12/18 [===================>..........] - ETA: 0s - loss: 154.7235 - mae: 154.7235 - mse: 119046.2656INFO:tensorflow:Assets written to: model_experiments/model_2_dense/assets\n",
      "18/18 [==============================] - 0s 19ms/step - loss: 148.3090 - mae: 148.3090 - mse: 113910.0703 - val_loss: 744.2764 - val_mae: 744.2764 - val_mse: 1859791.5000\n",
      "Epoch 33/100\n",
      "11/18 [=================>............] - ETA: 0s - loss: 140.4652 - mae: 140.4652 - mse: 103146.2734INFO:tensorflow:Assets written to: model_experiments/model_2_dense/assets\n",
      "18/18 [==============================] - 0s 15ms/step - loss: 145.1153 - mae: 145.1153 - mse: 110562.5391 - val_loss: 735.7389 - val_mae: 735.7389 - val_mse: 1806975.1250\n",
      "Epoch 34/100\n",
      "18/18 [==============================] - 0s 6ms/step - loss: 146.7122 - mae: 146.7122 - mse: 111905.1719 - val_loss: 745.6259 - val_mae: 745.6259 - val_mse: 1806568.1250\n",
      "Epoch 35/100\n",
      "18/18 [==============================] - 0s 7ms/step - loss: 148.8789 - mae: 148.8789 - mse: 113816.9609 - val_loss: 797.6332 - val_mae: 797.6332 - val_mse: 2084672.5000\n",
      "Epoch 36/100\n",
      "11/18 [=================>............] - ETA: 0s - loss: 160.4311 - mae: 160.4311 - mse: 143734.4219INFO:tensorflow:Assets written to: model_experiments/model_2_dense/assets\n",
      "18/18 [==============================] - 0s 15ms/step - loss: 147.1178 - mae: 147.1178 - mse: 114891.1328 - val_loss: 726.4609 - val_mae: 726.4609 - val_mse: 1743213.6250\n",
      "Epoch 37/100\n",
      "18/18 [==============================] - 0s 6ms/step - loss: 144.1773 - mae: 144.1773 - mse: 113493.2109 - val_loss: 787.6862 - val_mae: 787.6862 - val_mse: 2052841.7500\n",
      "Epoch 38/100\n",
      "18/18 [==============================] - 0s 6ms/step - loss: 153.7624 - mae: 153.7624 - mse: 113246.1484 - val_loss: 809.9500 - val_mae: 809.9500 - val_mse: 1956103.2500\n",
      "Epoch 39/100\n",
      "18/18 [==============================] - 0s 6ms/step - loss: 157.7321 - mae: 157.7321 - mse: 122279.4609 - val_loss: 776.3904 - val_mae: 776.3904 - val_mse: 1842952.0000\n",
      "Epoch 40/100\n",
      "18/18 [==============================] - 0s 6ms/step - loss: 136.5728 - mae: 136.5728 - mse: 102758.4766 - val_loss: 733.0858 - val_mae: 733.0858 - val_mse: 1714826.8750\n",
      "Epoch 41/100\n",
      "11/18 [=================>............] - ETA: 0s - loss: 139.8340 - mae: 139.8340 - mse: 102991.8672INFO:tensorflow:Assets written to: model_experiments/model_2_dense/assets\n",
      "18/18 [==============================] - 0s 15ms/step - loss: 143.6012 - mae: 143.6012 - mse: 105384.8984 - val_loss: 709.8723 - val_mae: 709.8723 - val_mse: 1688510.0000\n",
      "Epoch 42/100\n",
      "18/18 [==============================] - 0s 7ms/step - loss: 148.7607 - mae: 148.7607 - mse: 111960.3516 - val_loss: 771.8057 - val_mae: 771.8057 - val_mse: 1818035.8750\n",
      "Epoch 43/100\n",
      "18/18 [==============================] - 0s 6ms/step - loss: 151.4905 - mae: 151.4905 - mse: 111757.6641 - val_loss: 1156.2029 - val_mae: 1156.2029 - val_mse: 3272781.5000\n",
      "Epoch 44/100\n",
      "11/18 [=================>............] - ETA: 0s - loss: 178.3632 - mae: 178.3632 - mse: 145092.0312INFO:tensorflow:Assets written to: model_experiments/model_2_dense/assets\n",
      "18/18 [==============================] - 0s 15ms/step - loss: 167.6051 - mae: 167.6051 - mse: 131031.6406 - val_loss: 705.8259 - val_mae: 705.8259 - val_mse: 1618575.7500\n",
      "Epoch 45/100\n",
      "11/18 [=================>............] - ETA: 0s - loss: 139.3108 - mae: 139.3108 - mse: 111033.3672INFO:tensorflow:Assets written to: model_experiments/model_2_dense/assets\n",
      "18/18 [==============================] - 0s 16ms/step - loss: 133.1116 - mae: 133.1116 - mse: 97137.1562 - val_loss: 699.7263 - val_mae: 699.7263 - val_mse: 1592806.7500\n",
      "Epoch 46/100\n",
      "18/18 [==============================] - 0s 6ms/step - loss: 146.4292 - mae: 146.4292 - mse: 111196.1875 - val_loss: 904.3669 - val_mae: 904.3669 - val_mse: 2241374.2500\n",
      "Epoch 47/100\n",
      "18/18 [==============================] - 0s 6ms/step - loss: 136.3361 - mae: 136.3361 - mse: 99234.6406 - val_loss: 1001.3710 - val_mae: 1001.3710 - val_mse: 2605009.5000\n",
      "Epoch 48/100\n",
      "18/18 [==============================] - 0s 6ms/step - loss: 142.4319 - mae: 142.4319 - mse: 102559.6328 - val_loss: 778.1190 - val_mae: 778.1190 - val_mse: 1809755.3750\n",
      "Epoch 49/100\n",
      "18/18 [==============================] - 0s 6ms/step - loss: 138.0581 - mae: 138.0581 - mse: 101640.7031 - val_loss: 723.9523 - val_mae: 723.9523 - val_mse: 1722681.8750\n",
      "Epoch 50/100\n",
      "11/18 [=================>............] - ETA: 0s - loss: 130.2898 - mae: 130.2898 - mse: 88999.3281 INFO:tensorflow:Assets written to: model_experiments/model_2_dense/assets\n",
      "18/18 [==============================] - 0s 15ms/step - loss: 133.9641 - mae: 133.9641 - mse: 98355.4141 - val_loss: 688.2451 - val_mae: 688.2451 - val_mse: 1564367.6250\n",
      "Epoch 51/100\n",
      "18/18 [==============================] - 0s 6ms/step - loss: 132.5497 - mae: 132.5497 - mse: 94323.2266 - val_loss: 698.5887 - val_mae: 698.5887 - val_mse: 1567725.0000\n",
      "Epoch 52/100\n",
      "11/18 [=================>............] - ETA: 0s - loss: 136.4430 - mae: 136.4430 - mse: 91917.5859 INFO:tensorflow:Assets written to: model_experiments/model_2_dense/assets\n",
      "18/18 [==============================] - 0s 15ms/step - loss: 136.7997 - mae: 136.7997 - mse: 95128.9062 - val_loss: 681.5411 - val_mae: 681.5411 - val_mse: 1541031.3750\n",
      "Epoch 53/100\n",
      "18/18 [==============================] - 0s 6ms/step - loss: 135.8555 - mae: 135.8555 - mse: 98534.5547 - val_loss: 698.4362 - val_mae: 698.4362 - val_mse: 1567558.0000\n",
      "Epoch 54/100\n",
      "18/18 [==============================] - 0s 6ms/step - loss: 131.2125 - mae: 131.2125 - mse: 93202.7812 - val_loss: 819.3065 - val_mae: 819.3065 - val_mse: 2086647.7500\n",
      "Epoch 55/100\n",
      "18/18 [==============================] - 0s 6ms/step - loss: 133.7313 - mae: 133.7313 - mse: 96670.2891 - val_loss: 698.9107 - val_mae: 698.9107 - val_mse: 1564822.5000\n",
      "Epoch 56/100\n",
      "18/18 [==============================] - 0s 6ms/step - loss: 160.5634 - mae: 160.5634 - mse: 118465.7109 - val_loss: 1130.1011 - val_mae: 1130.1011 - val_mse: 3093951.2500\n",
      "Epoch 57/100\n",
      "18/18 [==============================] - 0s 6ms/step - loss: 147.1869 - mae: 147.1869 - mse: 102995.6328 - val_loss: 728.2911 - val_mae: 728.2911 - val_mse: 1631685.7500\n",
      "Epoch 58/100\n",
      "18/18 [==============================] - 0s 6ms/step - loss: 140.0301 - mae: 140.0301 - mse: 99361.6016 - val_loss: 750.3303 - val_mae: 750.3303 - val_mse: 1698898.5000\n",
      "Epoch 59/100\n",
      "18/18 [==============================] - 0s 7ms/step - loss: 143.9514 - mae: 143.9514 - mse: 108699.7969 - val_loss: 780.5220 - val_mae: 780.5220 - val_mse: 1793914.7500\n",
      "Epoch 60/100\n",
      "18/18 [==============================] - 0s 6ms/step - loss: 126.9349 - mae: 126.9349 - mse: 88633.4297 - val_loss: 711.2957 - val_mae: 711.2957 - val_mse: 1643122.5000\n",
      "Epoch 61/100\n",
      "11/18 [=================>............] - ETA: 0s - loss: 141.8211 - mae: 141.8211 - mse: 105431.7188INFO:tensorflow:Assets written to: model_experiments/model_2_dense/assets\n",
      "18/18 [==============================] - 0s 15ms/step - loss: 138.6248 - mae: 138.6248 - mse: 103066.4844 - val_loss: 671.6063 - val_mae: 671.6063 - val_mse: 1460067.7500\n",
      "Epoch 62/100\n",
      "18/18 [==============================] - 0s 6ms/step - loss: 129.6988 - mae: 129.6988 - mse: 92484.3281 - val_loss: 685.9285 - val_mae: 685.9285 - val_mse: 1507023.1250\n",
      "Epoch 63/100\n",
      "12/18 [===================>..........] - ETA: 0s - loss: 142.7911 - mae: 142.7911 - mse: 114077.3047INFO:tensorflow:Assets written to: model_experiments/model_2_dense/assets\n",
      "18/18 [==============================] - 0s 15ms/step - loss: 131.5645 - mae: 131.5645 - mse: 94424.1406 - val_loss: 659.0461 - val_mae: 659.0461 - val_mse: 1431895.0000\n",
      "Epoch 64/100\n",
      "18/18 [==============================] - 0s 6ms/step - loss: 131.3026 - mae: 131.3026 - mse: 91808.5781 - val_loss: 708.1349 - val_mae: 708.1349 - val_mse: 1615896.1250\n",
      "Epoch 65/100\n",
      "18/18 [==============================] - 0s 6ms/step - loss: 135.5982 - mae: 135.5982 - mse: 92328.7188 - val_loss: 661.7686 - val_mae: 661.7686 - val_mse: 1452442.2500\n",
      "Epoch 66/100\n",
      "18/18 [==============================] - 0s 6ms/step - loss: 127.5063 - mae: 127.5063 - mse: 89228.9141 - val_loss: 677.9303 - val_mae: 677.9303 - val_mse: 1520840.3750\n",
      "Epoch 67/100\n",
      "18/18 [==============================] - 0s 6ms/step - loss: 127.0066 - mae: 127.0066 - mse: 90371.4062 - val_loss: 670.5310 - val_mae: 670.5310 - val_mse: 1452687.3750\n",
      "Epoch 68/100\n",
      "18/18 [==============================] - 0s 6ms/step - loss: 132.6974 - mae: 132.6974 - mse: 91920.3750 - val_loss: 714.2857 - val_mae: 714.2857 - val_mse: 1631692.3750\n",
      "Epoch 69/100\n",
      "11/18 [=================>............] - ETA: 0s - loss: 135.7454 - mae: 135.7454 - mse: 93429.7578INFO:tensorflow:Assets written to: model_experiments/model_2_dense/assets\n",
      "18/18 [==============================] - 0s 15ms/step - loss: 132.3518 - mae: 132.3518 - mse: 94094.8438 - val_loss: 655.9292 - val_mae: 655.9292 - val_mse: 1410069.1250\n",
      "Epoch 70/100\n",
      "18/18 [==============================] - 0s 7ms/step - loss: 121.7837 - mae: 121.7837 - mse: 85423.5156 - val_loss: 699.3060 - val_mae: 699.3060 - val_mse: 1530833.2500\n",
      "Epoch 71/100\n",
      "18/18 [==============================] - 0s 7ms/step - loss: 139.0769 - mae: 139.0769 - mse: 95765.6562 - val_loss: 764.9699 - val_mae: 764.9699 - val_mse: 1714155.1250\n",
      "Epoch 72/100\n",
      "18/18 [==============================] - 0s 6ms/step - loss: 123.9789 - mae: 123.9789 - mse: 86918.6250 - val_loss: 674.2773 - val_mae: 674.2773 - val_mse: 1449219.0000\n",
      "Epoch 73/100\n",
      "18/18 [==============================] - 0s 6ms/step - loss: 121.6754 - mae: 121.6754 - mse: 85298.5625 - val_loss: 707.3828 - val_mae: 707.3828 - val_mse: 1543636.2500\n",
      "Epoch 74/100\n",
      "18/18 [==============================] - 0s 6ms/step - loss: 129.2632 - mae: 129.2632 - mse: 93671.9297 - val_loss: 672.1977 - val_mae: 672.1977 - val_mse: 1438175.8750\n",
      "Epoch 75/100\n",
      "18/18 [==============================] - 0s 7ms/step - loss: 122.0338 - mae: 122.0338 - mse: 85562.8984 - val_loss: 715.6827 - val_mae: 715.6827 - val_mse: 1555271.0000\n",
      "Epoch 76/100\n",
      "18/18 [==============================] - 0s 6ms/step - loss: 119.3941 - mae: 119.3941 - mse: 83112.4219 - val_loss: 666.2219 - val_mae: 666.2219 - val_mse: 1450620.3750\n",
      "Epoch 77/100\n",
      "18/18 [==============================] - 0s 6ms/step - loss: 119.7709 - mae: 119.7709 - mse: 83579.7188 - val_loss: 716.7374 - val_mae: 716.7374 - val_mse: 1556578.7500\n",
      "Epoch 78/100\n",
      "11/18 [=================>............] - ETA: 0s - loss: 123.1336 - mae: 123.1336 - mse: 91937.4609 INFO:tensorflow:Assets written to: model_experiments/model_2_dense/assets\n",
      "18/18 [==============================] - 0s 15ms/step - loss: 124.0385 - mae: 124.0385 - mse: 87035.4141 - val_loss: 645.7217 - val_mae: 645.7217 - val_mse: 1396684.7500\n",
      "Epoch 79/100\n",
      "18/18 [==============================] - 0s 6ms/step - loss: 119.1302 - mae: 119.1302 - mse: 82434.3125 - val_loss: 694.4106 - val_mae: 694.4106 - val_mse: 1558544.2500\n",
      "Epoch 80/100\n",
      "12/18 [===================>..........] - ETA: 0s - loss: 118.9879 - mae: 118.9879 - mse: 84204.7109INFO:tensorflow:Assets written to: model_experiments/model_2_dense/assets\n",
      "18/18 [==============================] - 0s 15ms/step - loss: 119.2970 - mae: 119.2970 - mse: 83630.0312 - val_loss: 636.4898 - val_mae: 636.4898 - val_mse: 1335894.0000\n",
      "Epoch 81/100\n",
      "11/18 [=================>............] - ETA: 0s - loss: 115.5549 - mae: 115.5549 - mse: 81305.4297 INFO:tensorflow:Assets written to: model_experiments/model_2_dense/assets\n",
      "18/18 [==============================] - 0s 15ms/step - loss: 122.0588 - mae: 122.0588 - mse: 86145.2578 - val_loss: 635.2170 - val_mae: 635.2170 - val_mse: 1341138.3750\n",
      "Epoch 82/100\n",
      "18/18 [==============================] - 0s 6ms/step - loss: 119.2859 - mae: 119.2859 - mse: 82234.4766 - val_loss: 656.5508 - val_mae: 656.5508 - val_mse: 1428995.0000\n",
      "Epoch 83/100\n",
      "18/18 [==============================] - 0s 6ms/step - loss: 124.4839 - mae: 124.4839 - mse: 85420.1016 - val_loss: 653.8934 - val_mae: 653.8934 - val_mse: 1391026.5000\n",
      "Epoch 84/100\n",
      "18/18 [==============================] - 0s 6ms/step - loss: 122.7294 - mae: 122.7294 - mse: 83860.1016 - val_loss: 644.4633 - val_mae: 644.4633 - val_mse: 1365133.2500\n",
      "Epoch 85/100\n",
      "18/18 [==============================] - 0s 6ms/step - loss: 130.0070 - mae: 130.0070 - mse: 88191.4531 - val_loss: 676.1806 - val_mae: 676.1806 - val_mse: 1424580.6250\n",
      "Epoch 86/100\n",
      "18/18 [==============================] - 0s 6ms/step - loss: 128.6229 - mae: 128.6229 - mse: 87522.1562 - val_loss: 636.5536 - val_mae: 636.5536 - val_mse: 1331657.5000\n",
      "Epoch 87/100\n",
      "18/18 [==============================] - 0s 6ms/step - loss: 121.0704 - mae: 121.0704 - mse: 83248.3984 - val_loss: 728.6746 - val_mae: 728.6746 - val_mse: 1567343.0000\n",
      "Epoch 88/100\n",
      "18/18 [==============================] - 0s 6ms/step - loss: 120.8267 - mae: 120.8267 - mse: 82840.5156 - val_loss: 759.2025 - val_mae: 759.2025 - val_mse: 1769745.3750\n",
      "Epoch 89/100\n",
      "18/18 [==============================] - 0s 7ms/step - loss: 145.0262 - mae: 145.0262 - mse: 101151.0000 - val_loss: 917.7498 - val_mae: 917.7498 - val_mse: 2327097.0000\n",
      "Epoch 90/100\n",
      "11/18 [=================>............] - ETA: 0s - loss: 135.1821 - mae: 135.1821 - mse: 101126.0234INFO:tensorflow:Assets written to: model_experiments/model_2_dense/assets\n",
      "18/18 [==============================] - 0s 15ms/step - loss: 128.5267 - mae: 128.5267 - mse: 88420.8984 - val_loss: 629.8519 - val_mae: 629.8519 - val_mse: 1331399.6250\n",
      "Epoch 91/100\n",
      "18/18 [==============================] - 0s 6ms/step - loss: 124.6676 - mae: 124.6676 - mse: 85335.2109 - val_loss: 644.5627 - val_mae: 644.5627 - val_mse: 1331383.5000\n",
      "Epoch 92/100\n",
      "11/18 [=================>............] - ETA: 0s - loss: 125.9006 - mae: 125.9006 - mse: 80040.9766INFO:tensorflow:Assets written to: model_experiments/model_2_dense/assets\n",
      "18/18 [==============================] - 0s 20ms/step - loss: 122.4750 - mae: 122.4750 - mse: 82411.8828 - val_loss: 627.4739 - val_mae: 627.4739 - val_mse: 1321841.6250\n",
      "Epoch 93/100\n",
      "18/18 [==============================] - 0s 6ms/step - loss: 119.0658 - mae: 119.0658 - mse: 83139.2344 - val_loss: 774.7763 - val_mae: 774.7763 - val_mse: 1722852.6250\n",
      "Epoch 94/100\n",
      "18/18 [==============================] - 0s 6ms/step - loss: 129.6151 - mae: 129.6151 - mse: 87682.8828 - val_loss: 884.8526 - val_mae: 884.8526 - val_mse: 2188191.7500\n",
      "Epoch 95/100\n",
      " 9/18 [==============>...............] - ETA: 0s - loss: 127.5065 - mae: 127.5065 - mse: 92977.2734 INFO:tensorflow:Assets written to: model_experiments/model_2_dense/assets\n",
      "18/18 [==============================] - 0s 15ms/step - loss: 121.3130 - mae: 121.3130 - mse: 82633.8750 - val_loss: 625.6342 - val_mae: 625.6342 - val_mse: 1314843.7500\n",
      "Epoch 96/100\n",
      "18/18 [==============================] - 0s 6ms/step - loss: 118.5213 - mae: 118.5213 - mse: 81776.0781 - val_loss: 700.4363 - val_mae: 700.4362 - val_mse: 1539181.5000\n",
      "Epoch 97/100\n",
      "18/18 [==============================] - 0s 6ms/step - loss: 117.0920 - mae: 117.0920 - mse: 81387.1016 - val_loss: 653.9255 - val_mae: 653.9255 - val_mse: 1352465.5000\n",
      "Epoch 98/100\n",
      "18/18 [==============================] - 0s 7ms/step - loss: 119.7794 - mae: 119.7794 - mse: 79753.5625 - val_loss: 725.8853 - val_mae: 725.8853 - val_mse: 1621929.3750\n",
      "Epoch 99/100\n",
      "18/18 [==============================] - 0s 6ms/step - loss: 123.1288 - mae: 123.1288 - mse: 86327.5234 - val_loss: 820.4986 - val_mae: 820.4985 - val_mse: 1856355.0000\n",
      "Epoch 100/100\n",
      "18/18 [==============================] - 0s 6ms/step - loss: 121.0930 - mae: 121.0930 - mse: 81461.4688 - val_loss: 638.0350 - val_mae: 638.0350 - val_mse: 1345354.5000\n"
     ]
    },
    {
     "data": {
      "text/plain": [
       "<keras.callbacks.History at 0x17fe8f400>"
      ]
     },
     "execution_count": 53,
     "metadata": {},
     "output_type": "execute_result"
    }
   ],
   "source": [
    "# 1. create model 2\n",
    "model_2 = tf.keras.Sequential(name='model_2_dense')\n",
    "model_2.add(layers.Dense(128,activation='relu'))\n",
    "model_2.add(layers.Dense(1,activation='linear'))\n",
    "\n",
    "# 2. compile the model\n",
    "model_2.compile(\n",
    "    loss='mae',\n",
    "    optimizer=tf.keras.optimizers.Adam(),\n",
    "    metrics=['mae','mse']\n",
    ")\n",
    "\n",
    "# 3. fit the model\n",
    "model_2.fit(\n",
    "    train_windows,\n",
    "    train_labels,\n",
    "    epochs=100,\n",
    "    verbose=1,\n",
    "    batch_size=128,\n",
    "    validation_data=(test_windows,test_labels),\n",
    "    callbacks=[create_model_checkpoint(model_name=model_2.name)]\n",
    ")"
   ]
  },
  {
   "cell_type": "code",
   "execution_count": 54,
   "id": "dddc1245-d888-4584-8580-4dbd8ec148e3",
   "metadata": {
    "collapsed": true,
    "jupyter": {
     "outputs_hidden": true
    }
   },
   "outputs": [
    {
     "name": "stdout",
     "output_type": "stream",
     "text": [
      "18/18 [==============================] - 0s 5ms/step - loss: 638.0350 - mae: 638.0350 - mse: 1345354.5000\n"
     ]
    },
    {
     "data": {
      "text/plain": [
       "[638.0350341796875, 638.0350341796875, 1345354.5]"
      ]
     },
     "execution_count": 54,
     "metadata": {},
     "output_type": "execute_result"
    }
   ],
   "source": [
    "# evaluate model 2\n",
    "model_2.evaluate(test_windows, test_labels)"
   ]
  },
  {
   "cell_type": "code",
   "execution_count": 55,
   "id": "f024cb12-fe1b-4637-bdc4-38364276a1e9",
   "metadata": {
    "collapsed": true,
    "jupyter": {
     "outputs_hidden": true
    }
   },
   "outputs": [],
   "source": [
    "model_2 = tf.keras.models.load_model(\"model_experiments/model_2_dense\")"
   ]
  },
  {
   "cell_type": "code",
   "execution_count": 56,
   "id": "0f2d43fe-e24a-4f47-915c-26fbd988fd0a",
   "metadata": {
    "collapsed": true,
    "jupyter": {
     "outputs_hidden": true
    }
   },
   "outputs": [
    {
     "name": "stdout",
     "output_type": "stream",
     "text": [
      "18/18 [==============================] - 0s 4ms/step - loss: 625.6342 - mae: 625.6342 - mse: 1314843.8750\n"
     ]
    },
    {
     "name": "stderr",
     "output_type": "stream",
     "text": [
      "2022-02-17 19:18:46.111985: I tensorflow/core/grappler/optimizers/custom_graph_optimizer_registry.cc:112] Plugin optimizer for device_type GPU is enabled.\n"
     ]
    },
    {
     "data": {
      "text/plain": [
       "[625.6342163085938, 625.6342163085938, 1314843.875]"
      ]
     },
     "execution_count": 56,
     "metadata": {},
     "output_type": "execute_result"
    }
   ],
   "source": [
    "# evaluate best performing model 2\n",
    "model_2.evaluate(test_windows, test_labels)"
   ]
  },
  {
   "cell_type": "code",
   "execution_count": 57,
   "id": "f3857298-454f-42ab-bb29-ddddaf9526d0",
   "metadata": {
    "collapsed": true,
    "jupyter": {
     "outputs_hidden": true
    }
   },
   "outputs": [
    {
     "name": "stderr",
     "output_type": "stream",
     "text": [
      "2022-02-17 19:18:46.238033: I tensorflow/core/grappler/optimizers/custom_graph_optimizer_registry.cc:112] Plugin optimizer for device_type GPU is enabled.\n"
     ]
    }
   ],
   "source": [
    "model_2_preds = model_2.predict(test_windows)"
   ]
  },
  {
   "cell_type": "code",
   "execution_count": 58,
   "id": "d37e2907-77ac-4ce4-9b6c-d0e7da7bdbf7",
   "metadata": {
    "collapsed": true,
    "jupyter": {
     "outputs_hidden": true
    }
   },
   "outputs": [],
   "source": [
    "model_2_results = make_preds(model_2,test_windows, test_labels)"
   ]
  },
  {
   "cell_type": "code",
   "execution_count": 59,
   "id": "8cab08ee-0d69-4e91-8f66-4ad7b403f6fa",
   "metadata": {
    "collapsed": true,
    "jupyter": {
     "outputs_hidden": true
    }
   },
   "outputs": [
    {
     "data": {
      "text/plain": [
       "{'mae': 625.63416,\n",
       " 'mse': 1314843.9,\n",
       " 'rmse': 1146.6665,\n",
       " 'mape': 2.9044948,\n",
       " 'mase': 1.0936146}"
      ]
     },
     "execution_count": 59,
     "metadata": {},
     "output_type": "execute_result"
    }
   ],
   "source": [
    "model_2_results"
   ]
  },
  {
   "cell_type": "code",
   "execution_count": 60,
   "id": "6e95f4d6-4e59-42fc-9c72-d034cc26e078",
   "metadata": {
    "collapsed": true,
    "jupyter": {
     "outputs_hidden": true
    }
   },
   "outputs": [
    {
     "data": {
      "text/plain": [
       "{'mae': 598.8594,\n",
       " 'mse': 1247263.6,\n",
       " 'rmse': 1116.8096,\n",
       " 'mape': 2.6998978,\n",
       " 'mase': 1.05203}"
      ]
     },
     "execution_count": 60,
     "metadata": {},
     "output_type": "execute_result"
    }
   ],
   "source": [
    "model_1_results"
   ]
  },
  {
   "cell_type": "code",
   "execution_count": 61,
   "id": "ce34c5e3-95f3-4691-b23d-acad929da758",
   "metadata": {
    "collapsed": true,
    "jupyter": {
     "outputs_hidden": true
    }
   },
   "outputs": [
    {
     "data": {
      "image/png": "[encoded data removed]",
      "text/plain": [
       "<Figure size 720x504 with 1 Axes>"
      ]
     },
     "metadata": {
      "needs_background": "light"
     },
     "output_type": "display_data"
    }
   ],
   "source": [
    "# Lets plot our model 1 predictions\n",
    "\n",
    "offset = 500\n",
    "plt.figure(figsize=(10,7))\n",
    "\n",
    "plot_time_series(\n",
    "    timestamp=X_test[-len(test_windows):],\n",
    "    values=test_labels[:,0],\n",
    "    start=offset,\n",
    "    label=\"test data\"\n",
    "                \n",
    ")\n",
    "plot_time_series(\n",
    "    timestamp=X_test[-len(test_windows):],\n",
    "    values=model_2_preds[:,0],\n",
    "    formated='-',\n",
    "    start=offset,\n",
    "    label=\"predictions\"          \n",
    ")"
   ]
  },
  {
   "cell_type": "markdown",
   "id": "3f914aa5-0033-48fb-9b44-de4ca1101ed7",
   "metadata": {},
   "source": [
    "# Model 3 - Dense Model (window = 30, horizon = 7)"
   ]
  },
  {
   "cell_type": "code",
   "execution_count": 62,
   "id": "b4933515-61ab-4988-b249-2b2b39d40be9",
   "metadata": {
    "collapsed": true,
    "jupyter": {
     "outputs_hidden": true
    }
   },
   "outputs": [],
   "source": [
    "HORIZON = 7\n",
    "WINDOW_SIZE = 30\n",
    "\n",
    "full_windows, full_labels = make_windows(np.array(prices), window_size=WINDOW_SIZE, horizon=HORIZON)"
   ]
  },
  {
   "cell_type": "code",
   "execution_count": 63,
   "id": "16e43912-06c5-4322-b488-cc24405f8616",
   "metadata": {
    "collapsed": true,
    "jupyter": {
     "outputs_hidden": true
    }
   },
   "outputs": [],
   "source": [
    "train_windows, test_windows, train_labels, test_labels = make_train_test_splits(full_windows, full_labels)"
   ]
  },
  {
   "cell_type": "code",
   "execution_count": 64,
   "id": "5fb04896-a2bf-4413-a237-132e16a612d3",
   "metadata": {
    "collapsed": true,
    "jupyter": {
     "outputs_hidden": true
    },
    "scrolled": true,
    "tags": []
   },
   "outputs": [
    {
     "name": "stdout",
     "output_type": "stream",
     "text": [
      "Epoch 1/100\n",
      "12/18 [===================>..........] - ETA: 0s - loss: 2396.8140"
     ]
    },
    {
     "name": "stderr",
     "output_type": "stream",
     "text": [
      "2022-02-17 19:18:46.546584: I tensorflow/core/grappler/optimizers/custom_graph_optimizer_registry.cc:112] Plugin optimizer for device_type GPU is enabled.\n",
      "2022-02-17 19:18:46.728137: I tensorflow/core/grappler/optimizers/custom_graph_optimizer_registry.cc:112] Plugin optimizer for device_type GPU is enabled.\n"
     ]
    },
    {
     "name": "stdout",
     "output_type": "stream",
     "text": [
      "INFO:tensorflow:Assets written to: model_experiments/model_3_dense/assets\n",
      "18/18 [==============================] - 0s 17ms/step - loss: 1892.3514 - val_loss: 2601.9573\n",
      "Epoch 2/100\n",
      "13/18 [====================>.........] - ETA: 0s - loss: 544.9560INFO:tensorflow:Assets written to: model_experiments/model_3_dense/assets\n",
      "18/18 [==============================] - 0s 13ms/step - loss: 538.1998 - val_loss: 2545.0361\n",
      "Epoch 3/100\n",
      "13/18 [====================>.........] - ETA: 0s - loss: 404.4677INFO:tensorflow:Assets written to: model_experiments/model_3_dense/assets\n",
      "18/18 [==============================] - 0s 13ms/step - loss: 395.8932 - val_loss: 2013.9905\n",
      "Epoch 4/100\n",
      "13/18 [====================>.........] - ETA: 0s - loss: 365.8461INFO:tensorflow:Assets written to: model_experiments/model_3_dense/assets\n",
      "18/18 [==============================] - 0s 14ms/step - loss: 363.8992 - val_loss: 1844.5144\n",
      "Epoch 5/100\n",
      "13/18 [====================>.........] - ETA: 0s - loss: 342.7808INFO:tensorflow:Assets written to: model_experiments/model_3_dense/assets\n",
      "18/18 [==============================] - 0s 14ms/step - loss: 343.0416 - val_loss: 1738.8759\n",
      "Epoch 6/100\n",
      "18/18 [==============================] - 0s 5ms/step - loss: 330.5297 - val_loss: 1880.3016\n",
      "Epoch 7/100\n",
      "13/18 [====================>.........] - ETA: 0s - loss: 326.4878INFO:tensorflow:Assets written to: model_experiments/model_3_dense/assets\n",
      "18/18 [==============================] - 0s 13ms/step - loss: 327.8354 - val_loss: 1663.7164\n",
      "Epoch 8/100\n",
      "14/18 [======================>.......] - ETA: 0s - loss: 310.3313INFO:tensorflow:Assets written to: model_experiments/model_3_dense/assets\n",
      "18/18 [==============================] - 0s 13ms/step - loss: 308.3817 - val_loss: 1592.8840\n",
      "Epoch 9/100\n",
      "14/18 [======================>.......] - ETA: 0s - loss: 297.4171INFO:tensorflow:Assets written to: model_experiments/model_3_dense/assets\n",
      "18/18 [==============================] - 0s 13ms/step - loss: 298.0944 - val_loss: 1586.1387\n",
      "Epoch 10/100\n",
      "14/18 [======================>.......] - ETA: 0s - loss: 300.0041INFO:tensorflow:Assets written to: model_experiments/model_3_dense/assets\n",
      "18/18 [==============================] - 0s 13ms/step - loss: 292.9561 - val_loss: 1566.8646\n",
      "Epoch 11/100\n",
      "15/18 [========================>.....] - ETA: 0s - loss: 288.8786INFO:tensorflow:Assets written to: model_experiments/model_3_dense/assets\n",
      "18/18 [==============================] - 0s 13ms/step - loss: 289.3098 - val_loss: 1554.8451\n",
      "Epoch 12/100\n",
      "18/18 [==============================] - 0s 6ms/step - loss: 285.5047 - val_loss: 1715.1212\n",
      "Epoch 13/100\n",
      "18/18 [==============================] - 0s 5ms/step - loss: 284.3994 - val_loss: 1706.1726\n",
      "Epoch 14/100\n",
      "14/18 [======================>.......] - ETA: 0s - loss: 273.5134INFO:tensorflow:Assets written to: model_experiments/model_3_dense/assets\n",
      "18/18 [==============================] - 0s 13ms/step - loss: 277.9351 - val_loss: 1494.0692\n",
      "Epoch 15/100\n",
      "18/18 [==============================] - 0s 5ms/step - loss: 272.7445 - val_loss: 1650.5500\n",
      "Epoch 16/100\n",
      "14/18 [======================>.......] - ETA: 0s - loss: 276.6392INFO:tensorflow:Assets written to: model_experiments/model_3_dense/assets\n",
      "18/18 [==============================] - 0s 19ms/step - loss: 276.5693 - val_loss: 1435.5642\n",
      "Epoch 17/100\n",
      "18/18 [==============================] - 0s 5ms/step - loss: 271.3812 - val_loss: 1457.7749\n",
      "Epoch 18/100\n",
      "18/18 [==============================] - 0s 5ms/step - loss: 276.4303 - val_loss: 1519.7556\n",
      "Epoch 19/100\n",
      "14/18 [======================>.......] - ETA: 0s - loss: 268.6905INFO:tensorflow:Assets written to: model_experiments/model_3_dense/assets\n",
      "18/18 [==============================] - 0s 13ms/step - loss: 266.9011 - val_loss: 1404.9429\n",
      "Epoch 20/100\n",
      "18/18 [==============================] - 0s 5ms/step - loss: 264.1208 - val_loss: 1431.0505\n",
      "Epoch 21/100\n",
      "18/18 [==============================] - 0s 5ms/step - loss: 258.6304 - val_loss: 1495.4380\n",
      "Epoch 22/100\n",
      "18/18 [==============================] - 0s 5ms/step - loss: 261.9332 - val_loss: 1428.1882\n",
      "Epoch 23/100\n",
      "18/18 [==============================] - 0s 5ms/step - loss: 258.9525 - val_loss: 1536.2288\n",
      "Epoch 24/100\n",
      "18/18 [==============================] - 0s 5ms/step - loss: 255.7528 - val_loss: 1415.9939\n",
      "Epoch 25/100\n",
      "18/18 [==============================] - 0s 5ms/step - loss: 255.7447 - val_loss: 1405.6854\n",
      "Epoch 26/100\n",
      "14/18 [======================>.......] - ETA: 0s - loss: 252.1711INFO:tensorflow:Assets written to: model_experiments/model_3_dense/assets\n",
      "18/18 [==============================] - 0s 13ms/step - loss: 252.2485 - val_loss: 1393.5664\n",
      "Epoch 27/100\n",
      "14/18 [======================>.......] - ETA: 0s - loss: 262.0847INFO:tensorflow:Assets written to: model_experiments/model_3_dense/assets\n",
      "18/18 [==============================] - 0s 13ms/step - loss: 258.6535 - val_loss: 1365.5796\n",
      "Epoch 28/100\n",
      "18/18 [==============================] - 0s 5ms/step - loss: 255.4426 - val_loss: 1444.0300\n",
      "Epoch 29/100\n",
      "18/18 [==============================] - 0s 5ms/step - loss: 256.9826 - val_loss: 1401.0032\n",
      "Epoch 30/100\n",
      "14/18 [======================>.......] - ETA: 0s - loss: 250.5822INFO:tensorflow:Assets written to: model_experiments/model_3_dense/assets\n",
      "18/18 [==============================] - 0s 13ms/step - loss: 257.0769 - val_loss: 1354.2897\n",
      "Epoch 31/100\n",
      "18/18 [==============================] - 0s 5ms/step - loss: 250.9563 - val_loss: 1425.0275\n",
      "Epoch 32/100\n",
      "18/18 [==============================] - 0s 6ms/step - loss: 246.8795 - val_loss: 1430.1293\n",
      "Epoch 33/100\n",
      "18/18 [==============================] - 0s 6ms/step - loss: 245.8503 - val_loss: 1385.4702\n",
      "Epoch 34/100\n",
      "18/18 [==============================] - 0s 5ms/step - loss: 250.8160 - val_loss: 1515.7294\n",
      "Epoch 35/100\n",
      "18/18 [==============================] - 0s 5ms/step - loss: 249.2254 - val_loss: 1468.0314\n",
      "Epoch 36/100\n",
      "18/18 [==============================] - 0s 5ms/step - loss: 251.5974 - val_loss: 1376.5370\n",
      "Epoch 37/100\n",
      "18/18 [==============================] - 0s 5ms/step - loss: 246.2041 - val_loss: 1446.1503\n",
      "Epoch 38/100\n",
      "18/18 [==============================] - 0s 5ms/step - loss: 243.7524 - val_loss: 1404.4806\n",
      "Epoch 39/100\n",
      "18/18 [==============================] - 0s 5ms/step - loss: 243.2406 - val_loss: 1427.9609\n",
      "Epoch 40/100\n",
      "14/18 [======================>.......] - ETA: 0s - loss: 243.1734INFO:tensorflow:Assets written to: model_experiments/model_3_dense/assets\n",
      "18/18 [==============================] - 0s 13ms/step - loss: 247.3410 - val_loss: 1335.3961\n",
      "Epoch 41/100\n",
      "18/18 [==============================] - 0s 5ms/step - loss: 244.0962 - val_loss: 1359.8630\n",
      "Epoch 42/100\n",
      "14/18 [======================>.......] - ETA: 0s - loss: 237.2022INFO:tensorflow:Assets written to: model_experiments/model_3_dense/assets\n",
      "18/18 [==============================] - 0s 13ms/step - loss: 240.8042 - val_loss: 1325.4075\n",
      "Epoch 43/100\n",
      "18/18 [==============================] - 0s 5ms/step - loss: 241.5086 - val_loss: 1445.4742\n",
      "Epoch 44/100\n",
      "18/18 [==============================] - 0s 5ms/step - loss: 247.3631 - val_loss: 1345.9287\n",
      "Epoch 45/100\n",
      "18/18 [==============================] - 0s 5ms/step - loss: 247.2183 - val_loss: 1461.8850\n",
      "Epoch 46/100\n",
      "18/18 [==============================] - 0s 5ms/step - loss: 241.6324 - val_loss: 1346.2998\n",
      "Epoch 47/100\n",
      "18/18 [==============================] - 0s 5ms/step - loss: 238.6866 - val_loss: 1477.2275\n",
      "Epoch 48/100\n",
      "18/18 [==============================] - 0s 5ms/step - loss: 243.5653 - val_loss: 1520.5897\n",
      "Epoch 49/100\n",
      "18/18 [==============================] - 0s 5ms/step - loss: 244.2901 - val_loss: 1333.5055\n",
      "Epoch 50/100\n",
      "14/18 [======================>.......] - ETA: 0s - loss: 241.1501INFO:tensorflow:Assets written to: model_experiments/model_3_dense/assets\n",
      "18/18 [==============================] - 0s 13ms/step - loss: 240.4191 - val_loss: 1308.5605\n",
      "Epoch 51/100\n",
      "18/18 [==============================] - 0s 6ms/step - loss: 238.1497 - val_loss: 1333.3346\n",
      "Epoch 52/100\n",
      "18/18 [==============================] - 0s 5ms/step - loss: 241.3267 - val_loss: 1327.3831\n",
      "Epoch 53/100\n",
      "18/18 [==============================] - 0s 5ms/step - loss: 247.0632 - val_loss: 1423.3267\n",
      "Epoch 54/100\n",
      "18/18 [==============================] - 0s 5ms/step - loss: 243.5386 - val_loss: 1454.9178\n",
      "Epoch 55/100\n",
      "18/18 [==============================] - 0s 5ms/step - loss: 251.3981 - val_loss: 1605.2574\n",
      "Epoch 56/100\n",
      "18/18 [==============================] - 0s 5ms/step - loss: 259.3202 - val_loss: 1526.4646\n",
      "Epoch 57/100\n",
      "18/18 [==============================] - 0s 5ms/step - loss: 248.8523 - val_loss: 1456.3671\n",
      "Epoch 58/100\n",
      "18/18 [==============================] - 0s 5ms/step - loss: 237.6951 - val_loss: 1309.9083\n",
      "Epoch 59/100\n",
      "18/18 [==============================] - 0s 5ms/step - loss: 236.9500 - val_loss: 1315.3378\n",
      "Epoch 60/100\n",
      "18/18 [==============================] - 0s 5ms/step - loss: 238.0951 - val_loss: 1338.5581\n",
      "Epoch 61/100\n",
      "14/18 [======================>.......] - ETA: 0s - loss: 231.8337INFO:tensorflow:Assets written to: model_experiments/model_3_dense/assets\n",
      "18/18 [==============================] - 0s 13ms/step - loss: 235.9877 - val_loss: 1297.7550\n",
      "Epoch 62/100\n",
      "18/18 [==============================] - 0s 5ms/step - loss: 234.7134 - val_loss: 1339.5328\n",
      "Epoch 63/100\n",
      "18/18 [==============================] - 0s 5ms/step - loss: 235.3935 - val_loss: 1312.4670\n",
      "Epoch 64/100\n",
      "18/18 [==============================] - 0s 5ms/step - loss: 233.9306 - val_loss: 1397.9572\n",
      "Epoch 65/100\n",
      "18/18 [==============================] - 0s 5ms/step - loss: 239.7747 - val_loss: 1298.7527\n",
      "Epoch 66/100\n",
      "14/18 [======================>.......] - ETA: 0s - loss: 248.3024INFO:tensorflow:Assets written to: model_experiments/model_3_dense/assets\n",
      "18/18 [==============================] - 0s 12ms/step - loss: 238.3333 - val_loss: 1292.0469\n",
      "Epoch 67/100\n",
      "18/18 [==============================] - 0s 5ms/step - loss: 235.3174 - val_loss: 1407.1899\n",
      "Epoch 68/100\n",
      "18/18 [==============================] - 0s 5ms/step - loss: 236.3840 - val_loss: 1416.3198\n",
      "Epoch 69/100\n",
      "18/18 [==============================] - 0s 5ms/step - loss: 242.7557 - val_loss: 1341.6090\n",
      "Epoch 70/100\n",
      "11/18 [=================>............] - ETA: 0s - loss: 241.3047INFO:tensorflow:Assets written to: model_experiments/model_3_dense/assets\n",
      "18/18 [==============================] - 0s 15ms/step - loss: 231.5063 - val_loss: 1268.7954\n",
      "Epoch 71/100\n",
      "18/18 [==============================] - 0s 6ms/step - loss: 230.1605 - val_loss: 1430.2434\n",
      "Epoch 72/100\n",
      "18/18 [==============================] - 0s 6ms/step - loss: 232.9032 - val_loss: 1326.5962\n",
      "Epoch 73/100\n",
      "18/18 [==============================] - 0s 6ms/step - loss: 234.8535 - val_loss: 1440.7236\n",
      "Epoch 74/100\n",
      "18/18 [==============================] - 0s 6ms/step - loss: 235.1215 - val_loss: 1297.7128\n",
      "Epoch 75/100\n",
      "18/18 [==============================] - 0s 6ms/step - loss: 231.9856 - val_loss: 1344.3510\n",
      "Epoch 76/100\n",
      "18/18 [==============================] - 0s 6ms/step - loss: 229.1676 - val_loss: 1277.3204\n",
      "Epoch 77/100\n",
      "18/18 [==============================] - 0s 5ms/step - loss: 231.2646 - val_loss: 1287.1268\n",
      "Epoch 78/100\n",
      "14/18 [======================>.......] - ETA: 0s - loss: 226.0432INFO:tensorflow:Assets written to: model_experiments/model_3_dense/assets\n",
      "18/18 [==============================] - 0s 13ms/step - loss: 228.3163 - val_loss: 1265.8512\n",
      "Epoch 79/100\n",
      "18/18 [==============================] - 0s 5ms/step - loss: 232.7340 - val_loss: 1318.2875\n",
      "Epoch 80/100\n",
      "18/18 [==============================] - 0s 5ms/step - loss: 232.4875 - val_loss: 1269.6141\n",
      "Epoch 81/100\n",
      "18/18 [==============================] - 0s 6ms/step - loss: 234.3488 - val_loss: 1373.0386\n",
      "Epoch 82/100\n",
      "18/18 [==============================] - 0s 5ms/step - loss: 229.5769 - val_loss: 1368.8348\n",
      "Epoch 83/100\n",
      "18/18 [==============================] - 0s 5ms/step - loss: 237.2124 - val_loss: 1315.7856\n",
      "Epoch 84/100\n",
      "18/18 [==============================] - 0s 5ms/step - loss: 232.0043 - val_loss: 1412.6665\n",
      "Epoch 85/100\n",
      "18/18 [==============================] - 0s 5ms/step - loss: 229.1216 - val_loss: 1291.9148\n",
      "Epoch 86/100\n",
      "18/18 [==============================] - 0s 5ms/step - loss: 227.5168 - val_loss: 1293.4376\n",
      "Epoch 87/100\n",
      "18/18 [==============================] - 0s 5ms/step - loss: 227.6559 - val_loss: 1316.7313\n",
      "Epoch 88/100\n",
      "18/18 [==============================] - 0s 5ms/step - loss: 234.1324 - val_loss: 1284.8077\n",
      "Epoch 89/100\n",
      "18/18 [==============================] - 0s 6ms/step - loss: 228.4940 - val_loss: 1305.0760\n",
      "Epoch 90/100\n",
      "18/18 [==============================] - 0s 6ms/step - loss: 226.1691 - val_loss: 1368.1246\n",
      "Epoch 91/100\n",
      "13/18 [====================>.........] - ETA: 0s - loss: 225.9789INFO:tensorflow:Assets written to: model_experiments/model_3_dense/assets\n",
      "18/18 [==============================] - 0s 13ms/step - loss: 229.2149 - val_loss: 1250.9193\n",
      "Epoch 92/100\n",
      "18/18 [==============================] - 0s 6ms/step - loss: 228.2470 - val_loss: 1396.7566\n",
      "Epoch 93/100\n",
      "18/18 [==============================] - 0s 6ms/step - loss: 226.8101 - val_loss: 1275.3417\n",
      "Epoch 94/100\n",
      "18/18 [==============================] - 0s 6ms/step - loss: 226.8841 - val_loss: 1265.0051\n",
      "Epoch 95/100\n",
      "18/18 [==============================] - 0s 5ms/step - loss: 227.4653 - val_loss: 1445.1307\n",
      "Epoch 96/100\n",
      "18/18 [==============================] - 0s 5ms/step - loss: 235.5200 - val_loss: 1820.2948\n",
      "Epoch 97/100\n",
      "18/18 [==============================] - 0s 6ms/step - loss: 246.3707 - val_loss: 1359.6488\n",
      "Epoch 98/100\n",
      "18/18 [==============================] - 0s 6ms/step - loss: 226.5058 - val_loss: 1308.3094\n",
      "Epoch 99/100\n",
      "18/18 [==============================] - 0s 6ms/step - loss: 233.7453 - val_loss: 1483.1371\n",
      "Epoch 100/100\n",
      "18/18 [==============================] - 0s 6ms/step - loss: 228.6464 - val_loss: 1348.5981\n"
     ]
    },
    {
     "data": {
      "text/plain": [
       "<keras.callbacks.History at 0x1789b2130>"
      ]
     },
     "execution_count": 64,
     "metadata": {},
     "output_type": "execute_result"
    }
   ],
   "source": [
    "# 1. Create the model\n",
    "model_3 = tf.keras.Sequential(name='model_3_dense')\n",
    "model_3.add(layers.Dense(128, activation='relu'))\n",
    "model_3.add(layers.Dense(HORIZON))\n",
    "\n",
    "# 2. Compile the model\n",
    "model_3.compile(\n",
    "    loss='MAE',\n",
    "    optimizer=tf.keras.optimizers.Adam()\n",
    ")\n",
    "\n",
    "# 3. Fit the Model\n",
    "model_3.fit(\n",
    "    train_windows, \n",
    "    train_labels, \n",
    "    epochs=100,\n",
    "    batch_size = 128, \n",
    "    validation_data = (test_windows, test_labels),\n",
    "    callbacks=[create_model_checkpoint(model_name = model_3.name)]\n",
    ")"
   ]
  },
  {
   "cell_type": "code",
   "execution_count": 65,
   "id": "205639da-c403-4e3b-8eb2-9ed0a5a7376a",
   "metadata": {
    "collapsed": true,
    "jupyter": {
     "outputs_hidden": true
    }
   },
   "outputs": [
    {
     "name": "stdout",
     "output_type": "stream",
     "text": [
      "18/18 [==============================] - 0s 3ms/step - loss: 1348.5984\n"
     ]
    },
    {
     "data": {
      "text/plain": [
       "1348.598388671875"
      ]
     },
     "execution_count": 65,
     "metadata": {},
     "output_type": "execute_result"
    }
   ],
   "source": [
    "# Evaluate the model\n",
    "model_3.evaluate(test_windows, test_labels)"
   ]
  },
  {
   "cell_type": "code",
   "execution_count": 66,
   "id": "a2b0ec5d-4477-4fca-aeae-746ab2e7ac73",
   "metadata": {
    "collapsed": true,
    "jupyter": {
     "outputs_hidden": true
    }
   },
   "outputs": [],
   "source": [
    "model_3 = tf.keras.models.load_model('model_experiments/model_3_dense')"
   ]
  },
  {
   "cell_type": "code",
   "execution_count": 67,
   "id": "80bc45c7-39d8-4e99-ad1f-8a1a3dc0ae73",
   "metadata": {
    "collapsed": true,
    "jupyter": {
     "outputs_hidden": true
    }
   },
   "outputs": [
    {
     "name": "stderr",
     "output_type": "stream",
     "text": [
      "2022-02-17 19:18:59.836171: I tensorflow/core/grappler/optimizers/custom_graph_optimizer_registry.cc:112] Plugin optimizer for device_type GPU is enabled.\n"
     ]
    }
   ],
   "source": [
    "model_3_preds = model_3.predict(test_windows)"
   ]
  },
  {
   "cell_type": "code",
   "execution_count": 68,
   "id": "e4063588-92f4-4c90-99ab-c6800fb94921",
   "metadata": {
    "collapsed": true,
    "jupyter": {
     "outputs_hidden": true
    }
   },
   "outputs": [
    {
     "data": {
      "text/plain": [
       "(551, 7)"
      ]
     },
     "execution_count": 68,
     "metadata": {},
     "output_type": "execute_result"
    }
   ],
   "source": [
    "model_3_preds.shape"
   ]
  },
  {
   "cell_type": "code",
   "execution_count": 69,
   "id": "1ada97c4-20c4-425a-9064-1212419a37ff",
   "metadata": {
    "collapsed": true,
    "jupyter": {
     "outputs_hidden": true
    }
   },
   "outputs": [
    {
     "data": {
      "text/plain": [
       "(552, 1)"
      ]
     },
     "execution_count": 69,
     "metadata": {},
     "output_type": "execute_result"
    }
   ],
   "source": [
    "model_2_preds.shape"
   ]
  },
  {
   "cell_type": "code",
   "execution_count": 70,
   "id": "8e945c96-0336-46d5-9283-ff873e001359",
   "metadata": {
    "collapsed": true,
    "jupyter": {
     "outputs_hidden": true
    }
   },
   "outputs": [],
   "source": [
    "model_3_results = make_preds(model_3,test_windows, test_labels)"
   ]
  },
  {
   "cell_type": "code",
   "execution_count": 71,
   "id": "80860057-d0d9-48b9-a389-6549e7743728",
   "metadata": {
    "collapsed": true,
    "jupyter": {
     "outputs_hidden": true
    }
   },
   "outputs": [
    {
     "data": {
      "text/plain": [
       "{'mae': 1250.9192,\n",
       " 'mse': 5479910.5,\n",
       " 'rmse': 2340.921,\n",
       " 'mape': 5.6312857,\n",
       " 'mase': 1.8225003}"
      ]
     },
     "execution_count": 71,
     "metadata": {},
     "output_type": "execute_result"
    }
   ],
   "source": [
    "model_3_results"
   ]
  },
  {
   "cell_type": "code",
   "execution_count": 72,
   "id": "8b754066-98fe-4648-a9e4-9e5bf9393b89",
   "metadata": {
    "collapsed": true,
    "jupyter": {
     "outputs_hidden": true
    }
   },
   "outputs": [
    {
     "data": {
      "image/png": "[encoded data removed]",
      "text/plain": [
       "<Figure size 720x504 with 1 Axes>"
      ]
     },
     "metadata": {
      "needs_background": "light"
     },
     "output_type": "display_data"
    }
   ],
   "source": [
    "offset = 500\n",
    "plt.figure(figsize=(10,7))\n",
    "\n",
    "plot_time_series(\n",
    "    timestamp=X_test[-len(test_windows):],\n",
    "    values=test_labels[:,0],\n",
    "    start=offset,\n",
    "    label=\"test data\"\n",
    "                \n",
    ")\n",
    "plot_time_series(\n",
    "    timestamp=X_test[-len(test_windows):],\n",
    "    values=model_3_preds,\n",
    "    formated='-',\n",
    "    start=offset,\n",
    "    label=\"model_3_predictions\"          \n",
    ")"
   ]
  },
  {
   "cell_type": "code",
   "execution_count": 74,
   "id": "85dd3252-d786-49dc-b5bd-0adcaa4f6274",
   "metadata": {
    "collapsed": true,
    "jupyter": {
     "outputs_hidden": true
    }
   },
   "outputs": [
    {
     "data": {
      "text/plain": [
       "array([9416.098, 9544.769, 9561.477, 9554.205, 9571.748, 9762.358,\n",
       "       9643.232], dtype=float32)"
      ]
     },
     "execution_count": 74,
     "metadata": {},
     "output_type": "execute_result"
    }
   ],
   "source": [
    "model_3_preds[0]"
   ]
  },
  {
   "cell_type": "code",
   "execution_count": 75,
   "id": "70661c2e-4ebc-476e-b426-6856572e2129",
   "metadata": {
    "collapsed": true,
    "jupyter": {
     "outputs_hidden": true
    }
   },
   "outputs": [
    {
     "data": {
      "image/png": "[encoded data removed]",
      "text/plain": [
       "<Figure size 720x504 with 1 Axes>"
      ]
     },
     "metadata": {
      "needs_background": "light"
     },
     "output_type": "display_data"
    }
   ],
   "source": [
    "offset = 500\n",
    "plt.figure(figsize=(10,7))\n",
    "\n",
    "plot_time_series(\n",
    "    timestamp=X_test[-len(test_windows):],\n",
    "    values=test_labels[:,0],\n",
    "    start=offset,\n",
    "    label=\"test data\"\n",
    "                \n",
    ")\n",
    "plot_time_series(\n",
    "    timestamp=X_test[-len(test_windows):],\n",
    "    values=model_3_preds,\n",
    "    formated='-',\n",
    "    start=offset,\n",
    "    label=\"model_3_predictions\"          \n",
    ")"
   ]
  },
  {
   "cell_type": "markdown",
   "id": "67b79655-72f0-47f5-a241-c710cf072c32",
   "metadata": {},
   "source": [
    "# Comparing our models trained so far"
   ]
  },
  {
   "cell_type": "code",
   "execution_count": 76,
   "id": "a997bd98-ea1b-4ebf-a386-f762f6317828",
   "metadata": {
    "tags": []
   },
   "outputs": [
    {
     "data": {
      "text/plain": [
       "{'mae': 567.9803,\n",
       " 'mse': 1147547.1,\n",
       " 'rmse': 1071.2362,\n",
       " 'mape': 2.516525,\n",
       " 'mase': 0.99957}"
      ]
     },
     "execution_count": 76,
     "metadata": {},
     "output_type": "execute_result"
    }
   ],
   "source": [
    "naive_results"
   ]
  },
  {
   "cell_type": "code",
   "execution_count": 77,
   "id": "89a1ae1d-99ce-46a3-a7a2-2c7a628b3e27",
   "metadata": {
    "tags": []
   },
   "outputs": [],
   "source": [
    "df_results = pd.DataFrame(\n",
    "    {\n",
    "        \"Naive Model\": naive_results,\n",
    "        \"Model 1\": model_1_results,\n",
    "        \"Model 2\": model_2_results,\n",
    "        \"Model 3\": model_3_results\n",
    "    }\n",
    ")"
   ]
  },
  {
   "cell_type": "code",
   "execution_count": 78,
   "id": "16ae0e08-f071-4947-9de1-3cd00b5a7aeb",
   "metadata": {
    "tags": []
   },
   "outputs": [
    {
     "data": {
      "image/png": "[encoded data removed]",
      "text/plain": [
       "<Figure size 720x1080 with 5 Axes>"
      ]
     },
     "metadata": {
      "needs_background": "light"
     },
     "output_type": "display_data"
    }
   ],
   "source": [
    "df_results.T.plot(kind='barh',subplots=True, figsize=(10,15),sharex=False)\n",
    "plt.show()"
   ]
  },
  {
   "cell_type": "markdown",
   "id": "820c149b-7d06-4a16-a2e3-4c7b0c529ed8",
   "metadata": {
    "tags": []
   },
   "source": [
    "# Model 4 - Conv1D"
   ]
  },
  {
   "cell_type": "code",
   "execution_count": 81,
   "id": "5c5130ab-4996-413f-a5f5-fabb4fd4929d",
   "metadata": {},
   "outputs": [],
   "source": [
    "HORIZON = 1\n",
    "WINDOW_SIZE = 7"
   ]
  },
  {
   "cell_type": "code",
   "execution_count": 83,
   "id": "68a6dfcc-3c5d-45e3-bd56-026711b13aff",
   "metadata": {},
   "outputs": [],
   "source": [
    "# Create windowed dataset\n",
    "full_windows, full_labels = make_windows(np.array(prices), WINDOW_SIZE, HORIZON)"
   ]
  },
  {
   "cell_type": "code",
   "execution_count": 84,
   "id": "0f0ba24e-ebd3-4e42-a003-6cd1b49ac8c8",
   "metadata": {},
   "outputs": [
    {
     "data": {
      "text/plain": [
       "(2780, 2780)"
      ]
     },
     "execution_count": 84,
     "metadata": {},
     "output_type": "execute_result"
    }
   ],
   "source": [
    "len(full_windows), len(full_labels)"
   ]
  },
  {
   "cell_type": "code",
   "execution_count": 85,
   "id": "7c7afe27-7b9c-436f-9dfd-6c0e731b6367",
   "metadata": {},
   "outputs": [],
   "source": [
    "train_windows, test_windows, train_labels, test_labels = make_train_test_splits(full_windows, full_labels)"
   ]
  },
  {
   "cell_type": "markdown",
   "id": "76b9b85b-166e-49a2-a090-6a1ad316e905",
   "metadata": {},
   "source": [
    "## Preparing our data to be in the right input shape"
   ]
  },
  {
   "cell_type": "code",
   "execution_count": 86,
   "id": "03a4aab8-d0cf-42f4-ab03-a2228f70f1d3",
   "metadata": {},
   "outputs": [
    {
     "data": {
      "text/plain": [
       "(7,)"
      ]
     },
     "execution_count": 86,
     "metadata": {},
     "output_type": "execute_result"
    }
   ],
   "source": [
    "train_windows[0].shape"
   ]
  },
  {
   "cell_type": "code",
   "execution_count": 87,
   "id": "63ec7beb-374e-44cc-b87c-76d07a9fdf89",
   "metadata": {},
   "outputs": [
    {
     "data": {
      "text/plain": [
       "<tf.Tensor: shape=(7,), dtype=float64, numpy=\n",
       "array([123.65499, 125.455  , 108.58483, 118.67466, 121.33866, 120.65533,\n",
       "       121.795  ])>"
      ]
     },
     "execution_count": 87,
     "metadata": {},
     "output_type": "execute_result"
    }
   ],
   "source": [
    "# Before we pass our data to the conv1d layer to reshape it in order to make everything work\n",
    "x = tf.constant(train_windows[0])\n",
    "x"
   ]
  },
  {
   "cell_type": "code",
   "execution_count": 89,
   "id": "ea8f15f8-f1df-47f9-82f0-034842e26f4e",
   "metadata": {},
   "outputs": [],
   "source": [
    "expand_dims_layer = layers.Lambda(lambda x: tf.expand_dims(x,axis=1)) # add an extra dimension for x"
   ]
  },
  {
   "cell_type": "code",
   "execution_count": 94,
   "id": "52191a11-8b79-45b5-956c-3455d62bef37",
   "metadata": {},
   "outputs": [
    {
     "data": {
      "text/plain": [
       "(TensorShape([7, 1]), 2)"
      ]
     },
     "execution_count": 94,
     "metadata": {},
     "output_type": "execute_result"
    }
   ],
   "source": [
    "expand_dims_layer(x).shape, expand_dims_layer(x).ndim"
   ]
  },
  {
   "cell_type": "code",
   "execution_count": 98,
   "id": "1075d99d-30b0-4c5a-bcba-5b7b14c1fabf",
   "metadata": {},
   "outputs": [
    {
     "data": {
      "text/plain": [
       "(array([123.65499, 125.455  , 108.58483, 118.67466, 121.33866, 120.65533,\n",
       "        121.795  ]),\n",
       " array([[123.65499],\n",
       "        [125.455  ],\n",
       "        [108.58483],\n",
       "        [118.67466],\n",
       "        [121.33866],\n",
       "        [120.65533],\n",
       "        [121.795  ]]))"
      ]
     },
     "execution_count": 98,
     "metadata": {},
     "output_type": "execute_result"
    }
   ],
   "source": [
    "# we could to the same just using numpy \n",
    "np.array(x).reshape(-1,), np.array(x).reshape(-1,1)"
   ]
  },
  {
   "cell_type": "markdown",
   "id": "e46c7c64-c07e-479b-88fc-00b4ba5d28d5",
   "metadata": {},
   "source": [
    "## Building model 4"
   ]
  },
  {
   "cell_type": "code",
   "execution_count": 103,
   "id": "c59a0733-451d-4653-9d2d-97da0d8e3256",
   "metadata": {},
   "outputs": [
    {
     "name": "stdout",
     "output_type": "stream",
     "text": [
      "Epoch 1/100\n"
     ]
    },
    {
     "name": "stderr",
     "output_type": "stream",
     "text": [
      "2022-02-17 19:41:09.828320: I tensorflow/core/grappler/optimizers/custom_graph_optimizer_registry.cc:112] Plugin optimizer for device_type GPU is enabled.\n"
     ]
    },
    {
     "name": "stdout",
     "output_type": "stream",
     "text": [
      "16/18 [=========================>....] - ETA: 0s - loss: 2732.4631 - MAE: 2732.4631 - MSE: 19030690.0000"
     ]
    },
    {
     "name": "stderr",
     "output_type": "stream",
     "text": [
      "2022-02-17 19:41:10.958460: I tensorflow/core/grappler/optimizers/custom_graph_optimizer_registry.cc:112] Plugin optimizer for device_type GPU is enabled.\n"
     ]
    },
    {
     "name": "stdout",
     "output_type": "stream",
     "text": [
      "INFO:tensorflow:Assets written to: model_experiments/model_4/assets\n",
      "18/18 [==============================] - 2s 32ms/step - loss: 2637.8777 - MAE: 2637.8777 - MSE: 17967156.0000 - val_loss: 8624.5547 - val_MAE: 8624.5547 - val_MSE: 132672520.0000\n",
      "Epoch 2/100\n",
      "16/18 [=========================>....] - ETA: 0s - loss: 589.1776 - MAE: 589.1776 - MSE: 1334044.2500 INFO:tensorflow:Assets written to: model_experiments/model_4/assets\n",
      "18/18 [==============================] - 0s 21ms/step - loss: 576.2357 - MAE: 576.2357 - MSE: 1278232.1250 - val_loss: 2219.3625 - val_MAE: 2219.3625 - val_MSE: 12396095.0000\n",
      "Epoch 3/100\n",
      "17/18 [===========================>..] - ETA: 0s - loss: 261.9878 - MAE: 261.9878 - MSE: 301765.9062INFO:tensorflow:Assets written to: model_experiments/model_4/assets\n",
      "18/18 [==============================] - 0s 21ms/step - loss: 263.0898 - MAE: 263.0898 - MSE: 301508.9688 - val_loss: 1335.6047 - val_MAE: 1335.6046 - val_MSE: 4786602.0000\n",
      "Epoch 4/100\n",
      "17/18 [===========================>..] - ETA: 0s - loss: 198.8111 - MAE: 198.8111 - MSE: 199232.2031INFO:tensorflow:Assets written to: model_experiments/model_4/assets\n",
      "18/18 [==============================] - 0s 21ms/step - loss: 201.8972 - MAE: 201.8972 - MSE: 205399.3906 - val_loss: 1179.4011 - val_MAE: 1179.4011 - val_MSE: 4060816.7500\n",
      "Epoch 5/100\n",
      "16/18 [=========================>....] - ETA: 0s - loss: 188.6709 - MAE: 188.6709 - MSE: 185596.0156INFO:tensorflow:Assets written to: model_experiments/model_4/assets\n",
      "18/18 [==============================] - 0s 20ms/step - loss: 189.0146 - MAE: 189.0146 - MSE: 189521.0781 - val_loss: 1048.8179 - val_MAE: 1048.8179 - val_MSE: 3623013.0000\n",
      "Epoch 6/100\n",
      "18/18 [==============================] - 0s 8ms/step - loss: 185.7313 - MAE: 185.7313 - MSE: 183685.0781 - val_loss: 1065.0121 - val_MAE: 1065.0120 - val_MSE: 3617602.7500\n",
      "Epoch 7/100\n",
      "18/18 [==============================] - 0s 8ms/step - loss: 184.3124 - MAE: 184.3124 - MSE: 180351.7812 - val_loss: 1070.3389 - val_MAE: 1070.3389 - val_MSE: 3596618.7500\n",
      "Epoch 8/100\n",
      "18/18 [==============================] - ETA: 0s - loss: 182.6723 - MAE: 182.6723 - MSE: 176907.3438INFO:tensorflow:Assets written to: model_experiments/model_4/assets\n",
      "18/18 [==============================] - 0s 20ms/step - loss: 182.6723 - MAE: 182.6723 - MSE: 176907.3438 - val_loss: 1039.7284 - val_MAE: 1039.7284 - val_MSE: 3473948.7500\n",
      "Epoch 9/100\n",
      "17/18 [===========================>..] - ETA: 0s - loss: 180.6815 - MAE: 180.6815 - MSE: 174236.7031INFO:tensorflow:Assets written to: model_experiments/model_4/assets\n",
      "18/18 [==============================] - 0s 20ms/step - loss: 180.7835 - MAE: 180.7835 - MSE: 173610.3594 - val_loss: 1033.7596 - val_MAE: 1033.7596 - val_MSE: 3415995.0000\n",
      "Epoch 10/100\n",
      "17/18 [===========================>..] - ETA: 0s - loss: 178.4223 - MAE: 178.4223 - MSE: 165576.3906INFO:tensorflow:Assets written to: model_experiments/model_4/assets\n",
      "18/18 [==============================] - 0s 21ms/step - loss: 180.0747 - MAE: 180.0747 - MSE: 167209.8750 - val_loss: 1001.2029 - val_MAE: 1001.2029 - val_MSE: 3301401.0000\n",
      "Epoch 11/100\n",
      "18/18 [==============================] - ETA: 0s - loss: 177.3872 - MAE: 177.3872 - MSE: 166293.1719INFO:tensorflow:Assets written to: model_experiments/model_4/assets\n",
      "18/18 [==============================] - 0s 20ms/step - loss: 177.3872 - MAE: 177.3872 - MSE: 166293.1719 - val_loss: 986.4481 - val_MAE: 986.4481 - val_MSE: 3239040.5000\n",
      "Epoch 12/100\n",
      "17/18 [===========================>..] - ETA: 0s - loss: 177.9977 - MAE: 177.9977 - MSE: 167535.6719INFO:tensorflow:Assets written to: model_experiments/model_4/assets\n",
      "18/18 [==============================] - 0s 20ms/step - loss: 176.2048 - MAE: 176.2048 - MSE: 164818.8594 - val_loss: 975.6107 - val_MAE: 975.6107 - val_MSE: 3157924.0000\n",
      "Epoch 13/100\n",
      "18/18 [==============================] - 0s 8ms/step - loss: 173.6876 - MAE: 173.6876 - MSE: 161130.0469 - val_loss: 1044.4688 - val_MAE: 1044.4688 - val_MSE: 3284065.2500\n",
      "Epoch 14/100\n",
      "18/18 [==============================] - 0s 8ms/step - loss: 172.1055 - MAE: 172.1055 - MSE: 156643.0938 - val_loss: 977.9130 - val_MAE: 977.9130 - val_MSE: 3049921.0000\n",
      "Epoch 15/100\n",
      "17/18 [===========================>..] - ETA: 0s - loss: 168.4155 - MAE: 168.4155 - MSE: 152398.9531INFO:tensorflow:Assets written to: model_experiments/model_4/assets\n",
      "18/18 [==============================] - 0s 27ms/step - loss: 168.7950 - MAE: 168.7950 - MSE: 153634.3438 - val_loss: 940.6427 - val_MAE: 940.6427 - val_MSE: 2940050.5000\n",
      "Epoch 16/100\n",
      "18/18 [==============================] - 0s 8ms/step - loss: 166.2029 - MAE: 166.2029 - MSE: 149657.3281 - val_loss: 962.9842 - val_MAE: 962.9841 - val_MSE: 2922699.0000\n",
      "Epoch 17/100\n",
      "17/18 [===========================>..] - ETA: 0s - loss: 164.1633 - MAE: 164.1633 - MSE: 146853.2812INFO:tensorflow:Assets written to: model_experiments/model_4/assets\n",
      "18/18 [==============================] - 0s 20ms/step - loss: 164.3363 - MAE: 164.3363 - MSE: 146632.8750 - val_loss: 921.5460 - val_MAE: 921.5460 - val_MSE: 2786960.2500\n",
      "Epoch 18/100\n",
      "18/18 [==============================] - 0s 8ms/step - loss: 164.6555 - MAE: 164.6555 - MSE: 143340.5156 - val_loss: 1038.0547 - val_MAE: 1038.0547 - val_MSE: 3081115.0000\n",
      "Epoch 19/100\n",
      "17/18 [===========================>..] - ETA: 0s - loss: 162.1327 - MAE: 162.1327 - MSE: 135799.5469INFO:tensorflow:Assets written to: model_experiments/model_4/assets\n",
      "18/18 [==============================] - 0s 21ms/step - loss: 163.1583 - MAE: 163.1583 - MSE: 139940.6250 - val_loss: 913.5927 - val_MAE: 913.5927 - val_MSE: 2671402.2500\n",
      "Epoch 20/100\n",
      "17/18 [===========================>..] - ETA: 0s - loss: 158.5202 - MAE: 158.5202 - MSE: 137999.2188INFO:tensorflow:Assets written to: model_experiments/model_4/assets\n",
      "18/18 [==============================] - 0s 20ms/step - loss: 157.5356 - MAE: 157.5356 - MSE: 136064.8594 - val_loss: 908.6750 - val_MAE: 908.6750 - val_MSE: 2615993.5000\n",
      "Epoch 21/100\n",
      "17/18 [===========================>..] - ETA: 0s - loss: 157.6511 - MAE: 157.6511 - MSE: 135202.5312INFO:tensorflow:Assets written to: model_experiments/model_4/assets\n",
      "18/18 [==============================] - 0s 21ms/step - loss: 157.9424 - MAE: 157.9424 - MSE: 134871.9062 - val_loss: 875.2811 - val_MAE: 875.2811 - val_MSE: 2499671.0000\n",
      "Epoch 22/100\n",
      "17/18 [===========================>..] - ETA: 0s - loss: 154.0593 - MAE: 154.0593 - MSE: 129969.6484INFO:tensorflow:Assets written to: model_experiments/model_4/assets\n",
      "18/18 [==============================] - 0s 20ms/step - loss: 153.3516 - MAE: 153.3516 - MSE: 128702.8516 - val_loss: 853.1287 - val_MAE: 853.1287 - val_MSE: 2435158.5000\n",
      "Epoch 23/100\n",
      "18/18 [==============================] - 0s 8ms/step - loss: 153.6797 - MAE: 153.6797 - MSE: 128320.6484 - val_loss: 896.0017 - val_MAE: 896.0017 - val_MSE: 2464497.2500\n",
      "Epoch 24/100\n",
      "17/18 [===========================>..] - ETA: 0s - loss: 154.2349 - MAE: 154.2349 - MSE: 125892.2656INFO:tensorflow:Assets written to: model_experiments/model_4/assets\n",
      "18/18 [==============================] - 0s 20ms/step - loss: 154.3158 - MAE: 154.3158 - MSE: 125352.6250 - val_loss: 828.2712 - val_MAE: 828.2712 - val_MSE: 2287480.7500\n",
      "Epoch 25/100\n",
      "18/18 [==============================] - 0s 8ms/step - loss: 149.8311 - MAE: 149.8311 - MSE: 123625.5703 - val_loss: 937.1737 - val_MAE: 937.1737 - val_MSE: 2532404.0000\n",
      "Epoch 26/100\n",
      "17/18 [===========================>..] - ETA: 0s - loss: 148.0246 - MAE: 148.0246 - MSE: 116993.4453INFO:tensorflow:Assets written to: model_experiments/model_4/assets\n",
      "18/18 [==============================] - 0s 20ms/step - loss: 147.9202 - MAE: 147.9202 - MSE: 116747.1484 - val_loss: 806.2196 - val_MAE: 806.2195 - val_MSE: 2172073.0000\n",
      "Epoch 27/100\n",
      "18/18 [==============================] - 0s 9ms/step - loss: 143.8822 - MAE: 143.8822 - MSE: 115463.6484 - val_loss: 810.1609 - val_MAE: 810.1609 - val_MSE: 2125175.5000\n",
      "Epoch 28/100\n",
      "17/18 [===========================>..] - ETA: 0s - loss: 142.6052 - MAE: 142.6052 - MSE: 113454.0078INFO:tensorflow:Assets written to: model_experiments/model_4/assets\n",
      "18/18 [==============================] - 0s 20ms/step - loss: 142.2769 - MAE: 142.2769 - MSE: 112309.5391 - val_loss: 805.2078 - val_MAE: 805.2078 - val_MSE: 2079850.8750\n",
      "Epoch 29/100\n",
      "18/18 [==============================] - 0s 9ms/step - loss: 139.5708 - MAE: 139.5708 - MSE: 108568.4844 - val_loss: 811.9992 - val_MAE: 811.9992 - val_MSE: 2066949.7500\n",
      "Epoch 30/100\n",
      "17/18 [===========================>..] - ETA: 0s - loss: 138.6183 - MAE: 138.6183 - MSE: 107997.8672INFO:tensorflow:Assets written to: model_experiments/model_4/assets\n",
      "18/18 [==============================] - 0s 21ms/step - loss: 139.5077 - MAE: 139.5077 - MSE: 108733.7656 - val_loss: 780.0328 - val_MAE: 780.0328 - val_MSE: 1963815.6250\n",
      "Epoch 31/100\n",
      "18/18 [==============================] - 0s 9ms/step - loss: 136.8693 - MAE: 136.8693 - MSE: 102067.9844 - val_loss: 789.1325 - val_MAE: 789.1325 - val_MSE: 2065292.0000\n",
      "Epoch 32/100\n",
      "18/18 [==============================] - 0s 9ms/step - loss: 143.5612 - MAE: 143.5612 - MSE: 111470.3438 - val_loss: 807.3339 - val_MAE: 807.3339 - val_MSE: 1988176.1250\n",
      "Epoch 33/100\n",
      "18/18 [==============================] - 0s 8ms/step - loss: 135.2417 - MAE: 135.2417 - MSE: 102001.6172 - val_loss: 806.1917 - val_MAE: 806.1917 - val_MSE: 1965677.6250\n",
      "Epoch 34/100\n",
      "17/18 [===========================>..] - ETA: 0s - loss: 138.6723 - MAE: 138.6723 - MSE: 101048.6328INFO:tensorflow:Assets written to: model_experiments/model_4/assets\n",
      "18/18 [==============================] - 0s 20ms/step - loss: 139.0944 - MAE: 139.0944 - MSE: 101528.5000 - val_loss: 734.6820 - val_MAE: 734.6820 - val_MSE: 1819445.0000\n",
      "Epoch 35/100\n",
      "17/18 [===========================>..] - ETA: 0s - loss: 132.7887 - MAE: 132.7887 - MSE: 98282.7344INFO:tensorflow:Assets written to: model_experiments/model_4/assets\n",
      "18/18 [==============================] - 0s 20ms/step - loss: 132.2223 - MAE: 132.2223 - MSE: 97202.8281 - val_loss: 719.0385 - val_MAE: 719.0385 - val_MSE: 1741416.2500\n",
      "Epoch 36/100\n",
      "18/18 [==============================] - 0s 9ms/step - loss: 130.6052 - MAE: 130.6052 - MSE: 95865.6016 - val_loss: 725.8627 - val_MAE: 725.8627 - val_MSE: 1719464.8750\n",
      "Epoch 37/100\n",
      "18/18 [==============================] - 0s 9ms/step - loss: 130.4414 - MAE: 130.4414 - MSE: 95747.9766 - val_loss: 735.4688 - val_MAE: 735.4688 - val_MSE: 1722892.2500\n",
      "Epoch 38/100\n",
      "17/18 [===========================>..] - ETA: 0s - loss: 129.9496 - MAE: 129.9496 - MSE: 95204.8047INFO:tensorflow:Assets written to: model_experiments/model_4/assets\n",
      "18/18 [==============================] - 0s 28ms/step - loss: 129.3048 - MAE: 129.3048 - MSE: 94149.3359 - val_loss: 711.4790 - val_MAE: 711.4790 - val_MSE: 1709044.1250\n",
      "Epoch 39/100\n",
      "17/18 [===========================>..] - ETA: 0s - loss: 133.1102 - MAE: 133.1102 - MSE: 96358.9531INFO:tensorflow:Assets written to: model_experiments/model_4/assets\n",
      "18/18 [==============================] - 0s 21ms/step - loss: 132.2071 - MAE: 132.2071 - MSE: 94860.6719 - val_loss: 690.1121 - val_MAE: 690.1121 - val_MSE: 1614237.7500\n",
      "Epoch 40/100\n",
      "18/18 [==============================] - 0s 9ms/step - loss: 130.6064 - MAE: 130.6064 - MSE: 93968.3594 - val_loss: 806.1505 - val_MAE: 806.1505 - val_MSE: 1890398.8750\n",
      "Epoch 41/100\n",
      "18/18 [==============================] - 0s 8ms/step - loss: 131.8439 - MAE: 131.8439 - MSE: 93734.8047 - val_loss: 721.9526 - val_MAE: 721.9526 - val_MSE: 1739986.2500\n",
      "Epoch 42/100\n",
      "17/18 [===========================>..] - ETA: 0s - loss: 128.8299 - MAE: 128.8299 - MSE: 92954.3125INFO:tensorflow:Assets written to: model_experiments/model_4/assets\n",
      "18/18 [==============================] - 0s 21ms/step - loss: 127.6302 - MAE: 127.6302 - MSE: 91449.0781 - val_loss: 678.1337 - val_MAE: 678.1337 - val_MSE: 1572842.3750\n",
      "Epoch 43/100\n",
      "18/18 [==============================] - 0s 8ms/step - loss: 124.9157 - MAE: 124.9157 - MSE: 88500.6406 - val_loss: 685.4554 - val_MAE: 685.4554 - val_MSE: 1543433.6250\n",
      "Epoch 44/100\n",
      "18/18 [==============================] - ETA: 0s - loss: 122.0579 - MAE: 122.0579 - MSE: 86574.8906INFO:tensorflow:Assets written to: model_experiments/model_4/assets\n",
      "18/18 [==============================] - 0s 21ms/step - loss: 122.0579 - MAE: 122.0579 - MSE: 86574.8906 - val_loss: 666.8121 - val_MAE: 666.8121 - val_MSE: 1500289.0000\n",
      "Epoch 45/100\n",
      "15/18 [========================>.....] - ETA: 0s - loss: 119.1057 - MAE: 119.1057 - MSE: 84717.1875INFO:tensorflow:Assets written to: model_experiments/model_4/assets\n",
      "18/18 [==============================] - 0s 22ms/step - loss: 121.5025 - MAE: 121.5025 - MSE: 85468.1719 - val_loss: 658.2968 - val_MAE: 658.2968 - val_MSE: 1481809.2500\n",
      "Epoch 46/100\n",
      "18/18 [==============================] - 0s 8ms/step - loss: 122.8632 - MAE: 122.8632 - MSE: 86548.5312 - val_loss: 663.5439 - val_MAE: 663.5439 - val_MSE: 1515860.2500\n",
      "Epoch 47/100\n",
      "18/18 [==============================] - 0s 9ms/step - loss: 124.2614 - MAE: 124.2614 - MSE: 86247.8438 - val_loss: 667.2305 - val_MAE: 667.2305 - val_MSE: 1469748.2500\n",
      "Epoch 48/100\n",
      "18/18 [==============================] - 0s 8ms/step - loss: 128.0828 - MAE: 128.0828 - MSE: 87106.0781 - val_loss: 814.1939 - val_MAE: 814.1939 - val_MSE: 1884317.1250\n",
      "Epoch 49/100\n",
      "18/18 [==============================] - 0s 8ms/step - loss: 129.8428 - MAE: 129.8428 - MSE: 90633.4297 - val_loss: 659.6820 - val_MAE: 659.6820 - val_MSE: 1443977.2500\n",
      "Epoch 50/100\n",
      "18/18 [==============================] - ETA: 0s - loss: 120.6475 - MAE: 120.6475 - MSE: 83796.0391 INFO:tensorflow:Assets written to: model_experiments/model_4/assets\n",
      "18/18 [==============================] - 0s 20ms/step - loss: 120.6475 - MAE: 120.6475 - MSE: 83796.0391 - val_loss: 649.4345 - val_MAE: 649.4345 - val_MSE: 1418908.7500\n",
      "Epoch 51/100\n",
      "18/18 [==============================] - 0s 8ms/step - loss: 118.3871 - MAE: 118.3871 - MSE: 82805.3359 - val_loss: 671.7924 - val_MAE: 671.7924 - val_MSE: 1464615.3750\n",
      "Epoch 52/100\n",
      "18/18 [==============================] - ETA: 0s - loss: 119.9249 - MAE: 119.9249 - MSE: 81278.2500INFO:tensorflow:Assets written to: model_experiments/model_4/assets\n",
      "18/18 [==============================] - 0s 20ms/step - loss: 119.9249 - MAE: 119.9249 - MSE: 81278.2500 - val_loss: 646.3676 - val_MAE: 646.3676 - val_MSE: 1401685.5000\n",
      "Epoch 53/100\n",
      "17/18 [===========================>..] - ETA: 0s - loss: 119.2118 - MAE: 119.2118 - MSE: 83165.5312INFO:tensorflow:Assets written to: model_experiments/model_4/assets\n",
      "18/18 [==============================] - 0s 20ms/step - loss: 118.2830 - MAE: 118.2830 - MSE: 81886.3594 - val_loss: 630.1117 - val_MAE: 630.1117 - val_MSE: 1382392.1250\n",
      "Epoch 54/100\n",
      "18/18 [==============================] - 0s 8ms/step - loss: 118.0620 - MAE: 118.0620 - MSE: 82112.5781 - val_loss: 630.8685 - val_MAE: 630.8685 - val_MSE: 1392318.3750\n",
      "Epoch 55/100\n",
      "18/18 [==============================] - 0s 8ms/step - loss: 117.2587 - MAE: 117.2587 - MSE: 80877.8984 - val_loss: 641.0569 - val_MAE: 641.0569 - val_MSE: 1380055.8750\n",
      "Epoch 56/100\n",
      "18/18 [==============================] - 0s 8ms/step - loss: 117.0792 - MAE: 117.0792 - MSE: 80834.3125 - val_loss: 632.6617 - val_MAE: 632.6617 - val_MSE: 1360132.5000\n",
      "Epoch 57/100\n",
      "18/18 [==============================] - ETA: 0s - loss: 117.5389 - MAE: 117.5389 - MSE: 80431.0312INFO:tensorflow:Assets written to: model_experiments/model_4/assets\n",
      "18/18 [==============================] - 0s 19ms/step - loss: 117.5389 - MAE: 117.5389 - MSE: 80431.0312 - val_loss: 627.4360 - val_MAE: 627.4360 - val_MSE: 1375340.2500\n",
      "Epoch 58/100\n",
      "17/18 [===========================>..] - ETA: 0s - loss: 117.9448 - MAE: 117.9448 - MSE: 81128.7656INFO:tensorflow:Assets written to: model_experiments/model_4/assets\n",
      "18/18 [==============================] - 0s 20ms/step - loss: 117.5640 - MAE: 117.5640 - MSE: 80223.7109 - val_loss: 617.4802 - val_MAE: 617.4802 - val_MSE: 1335462.5000\n",
      "Epoch 59/100\n",
      "18/18 [==============================] - 0s 8ms/step - loss: 117.9610 - MAE: 117.9610 - MSE: 81179.6172 - val_loss: 668.6188 - val_MAE: 668.6187 - val_MSE: 1489403.8750\n",
      "Epoch 60/100\n",
      "18/18 [==============================] - 0s 8ms/step - loss: 117.0215 - MAE: 117.0215 - MSE: 80059.9531 - val_loss: 663.7637 - val_MAE: 663.7637 - val_MSE: 1422037.5000\n",
      "Epoch 61/100\n",
      "18/18 [==============================] - 0s 8ms/step - loss: 117.0927 - MAE: 117.0927 - MSE: 79004.1797 - val_loss: 647.0262 - val_MAE: 647.0262 - val_MSE: 1379407.8750\n",
      "Epoch 62/100\n",
      "18/18 [==============================] - 0s 8ms/step - loss: 115.6665 - MAE: 115.6665 - MSE: 80111.2031 - val_loss: 631.4400 - val_MAE: 631.4400 - val_MSE: 1342495.6250\n",
      "Epoch 63/100\n",
      "18/18 [==============================] - ETA: 0s - loss: 116.5183 - MAE: 116.5183 - MSE: 78226.6719INFO:tensorflow:Assets written to: model_experiments/model_4/assets\n",
      "18/18 [==============================] - 0s 20ms/step - loss: 116.5183 - MAE: 116.5183 - MSE: 78226.6719 - val_loss: 611.7115 - val_MAE: 611.7115 - val_MSE: 1316721.5000\n",
      "Epoch 64/100\n",
      "18/18 [==============================] - 0s 8ms/step - loss: 120.7399 - MAE: 120.7399 - MSE: 81265.5234 - val_loss: 745.2849 - val_MAE: 745.2849 - val_MSE: 1631231.3750\n",
      "Epoch 65/100\n",
      "18/18 [==============================] - 0s 8ms/step - loss: 120.6493 - MAE: 120.6493 - MSE: 83306.4766 - val_loss: 651.5188 - val_MAE: 651.5188 - val_MSE: 1385528.3750\n",
      "Epoch 66/100\n",
      "18/18 [==============================] - 0s 8ms/step - loss: 117.3750 - MAE: 117.3750 - MSE: 77189.3203 - val_loss: 619.0011 - val_MAE: 619.0011 - val_MSE: 1332425.5000\n",
      "Epoch 67/100\n",
      "18/18 [==============================] - 0s 8ms/step - loss: 114.8217 - MAE: 114.8217 - MSE: 77875.4297 - val_loss: 611.9500 - val_MAE: 611.9500 - val_MSE: 1293599.8750\n",
      "Epoch 68/100\n",
      "18/18 [==============================] - 0s 8ms/step - loss: 114.7232 - MAE: 114.7232 - MSE: 78822.0156 - val_loss: 615.3162 - val_MAE: 615.3162 - val_MSE: 1297645.3750\n",
      "Epoch 69/100\n",
      "18/18 [==============================] - ETA: 0s - loss: 113.1408 - MAE: 113.1408 - MSE: 76474.1484INFO:tensorflow:Assets written to: model_experiments/model_4/assets\n",
      "18/18 [==============================] - 0s 20ms/step - loss: 113.1408 - MAE: 113.1408 - MSE: 76474.1484 - val_loss: 607.8698 - val_MAE: 607.8698 - val_MSE: 1298739.8750\n",
      "Epoch 70/100\n",
      "18/18 [==============================] - 0s 8ms/step - loss: 113.6489 - MAE: 113.6489 - MSE: 77006.3438 - val_loss: 611.4267 - val_MAE: 611.4267 - val_MSE: 1287032.8750\n",
      "Epoch 71/100\n",
      "18/18 [==============================] - 0s 8ms/step - loss: 115.8001 - MAE: 115.8001 - MSE: 76600.8906 - val_loss: 612.4574 - val_MAE: 612.4573 - val_MSE: 1287677.5000\n",
      "Epoch 72/100\n",
      "18/18 [==============================] - ETA: 0s - loss: 115.2617 - MAE: 115.2617 - MSE: 77349.8828INFO:tensorflow:Assets written to: model_experiments/model_4/assets\n",
      "18/18 [==============================] - 0s 27ms/step - loss: 115.2617 - MAE: 115.2617 - MSE: 77349.8828 - val_loss: 605.6381 - val_MAE: 605.6381 - val_MSE: 1273336.7500\n",
      "Epoch 73/100\n",
      "18/18 [==============================] - 0s 8ms/step - loss: 112.8777 - MAE: 112.8777 - MSE: 76966.1562 - val_loss: 629.1901 - val_MAE: 629.1901 - val_MSE: 1352386.3750\n",
      "Epoch 74/100\n",
      "18/18 [==============================] - 0s 8ms/step - loss: 113.3646 - MAE: 113.3646 - MSE: 76508.4531 - val_loss: 627.7832 - val_MAE: 627.7832 - val_MSE: 1347644.6250\n",
      "Epoch 75/100\n",
      "18/18 [==============================] - ETA: 0s - loss: 113.2908 - MAE: 113.2908 - MSE: 74543.7188INFO:tensorflow:Assets written to: model_experiments/model_4/assets\n",
      "18/18 [==============================] - 0s 20ms/step - loss: 113.2908 - MAE: 113.2908 - MSE: 74543.7188 - val_loss: 601.1177 - val_MAE: 601.1177 - val_MSE: 1274271.0000\n",
      "Epoch 76/100\n",
      "18/18 [==============================] - 0s 8ms/step - loss: 113.1025 - MAE: 113.1025 - MSE: 77886.7812 - val_loss: 648.7946 - val_MAE: 648.7946 - val_MSE: 1367892.0000\n",
      "Epoch 77/100\n",
      "17/18 [===========================>..] - ETA: 0s - loss: 115.0506 - MAE: 115.0506 - MSE: 75465.4688INFO:tensorflow:Assets written to: model_experiments/model_4/assets\n",
      "18/18 [==============================] - 0s 20ms/step - loss: 115.3677 - MAE: 115.3677 - MSE: 75305.9688 - val_loss: 598.7661 - val_MAE: 598.7661 - val_MSE: 1253969.6250\n",
      "Epoch 78/100\n",
      "10/18 [===============>..............] - ETA: 0s - loss: 109.7709 - MAE: 109.7709 - MSE: 63840.6562INFO:tensorflow:Assets written to: model_experiments/model_4/assets\n",
      "18/18 [==============================] - 0s 19ms/step - loss: 111.7850 - MAE: 111.7850 - MSE: 75673.4766 - val_loss: 591.0620 - val_MAE: 591.0620 - val_MSE: 1243683.8750\n",
      "Epoch 79/100\n",
      "18/18 [==============================] - 0s 8ms/step - loss: 112.1623 - MAE: 112.1623 - MSE: 75053.2109 - val_loss: 597.5778 - val_MAE: 597.5778 - val_MSE: 1261489.1250\n",
      "Epoch 80/100\n",
      "18/18 [==============================] - 0s 8ms/step - loss: 111.4615 - MAE: 111.4615 - MSE: 73868.5547 - val_loss: 598.6030 - val_MAE: 598.6030 - val_MSE: 1249894.2500\n",
      "Epoch 81/100\n",
      "18/18 [==============================] - ETA: 0s - loss: 110.9643 - MAE: 110.9643 - MSE: 74700.0391INFO:tensorflow:Assets written to: model_experiments/model_4/assets\n",
      "18/18 [==============================] - 0s 20ms/step - loss: 110.9643 - MAE: 110.9643 - MSE: 74700.0391 - val_loss: 588.5524 - val_MAE: 588.5524 - val_MSE: 1236113.3750\n",
      "Epoch 82/100\n",
      "18/18 [==============================] - 0s 8ms/step - loss: 111.2879 - MAE: 111.2879 - MSE: 74361.6172 - val_loss: 606.2714 - val_MAE: 606.2714 - val_MSE: 1282349.3750\n",
      "Epoch 83/100\n",
      "18/18 [==============================] - 0s 8ms/step - loss: 111.6775 - MAE: 111.6775 - MSE: 75379.4531 - val_loss: 592.0034 - val_MAE: 592.0034 - val_MSE: 1234711.5000\n",
      "Epoch 84/100\n",
      "18/18 [==============================] - 0s 9ms/step - loss: 113.5368 - MAE: 113.5368 - MSE: 76782.9766 - val_loss: 662.8520 - val_MAE: 662.8520 - val_MSE: 1423172.1250\n",
      "Epoch 85/100\n",
      "18/18 [==============================] - 0s 9ms/step - loss: 114.4273 - MAE: 114.4273 - MSE: 79204.2500 - val_loss: 591.9476 - val_MAE: 591.9476 - val_MSE: 1243385.5000\n",
      "Epoch 86/100\n",
      "18/18 [==============================] - 0s 9ms/step - loss: 111.3281 - MAE: 111.3281 - MSE: 76041.3672 - val_loss: 609.5081 - val_MAE: 609.5081 - val_MSE: 1266796.1250\n",
      "Epoch 87/100\n",
      "18/18 [==============================] - 0s 8ms/step - loss: 111.9066 - MAE: 111.9066 - MSE: 74460.7109 - val_loss: 668.3854 - val_MAE: 668.3854 - val_MSE: 1401795.7500\n",
      "Epoch 88/100\n",
      "18/18 [==============================] - 0s 8ms/step - loss: 114.7839 - MAE: 114.7839 - MSE: 77998.8359 - val_loss: 613.1461 - val_MAE: 613.1461 - val_MSE: 1273246.1250\n",
      "Epoch 89/100\n",
      "18/18 [==============================] - 0s 8ms/step - loss: 113.9550 - MAE: 113.9550 - MSE: 77032.8047 - val_loss: 592.0221 - val_MAE: 592.0221 - val_MSE: 1229059.7500\n",
      "Epoch 90/100\n",
      "18/18 [==============================] - 0s 8ms/step - loss: 111.7840 - MAE: 111.7840 - MSE: 73839.1016 - val_loss: 618.7334 - val_MAE: 618.7334 - val_MSE: 1284527.8750\n",
      "Epoch 91/100\n",
      "18/18 [==============================] - ETA: 0s - loss: 111.3752 - MAE: 111.3752 - MSE: 74913.1484INFO:tensorflow:Assets written to: model_experiments/model_4/assets\n",
      "18/18 [==============================] - 0s 20ms/step - loss: 111.3752 - MAE: 111.3752 - MSE: 74913.1484 - val_loss: 582.7769 - val_MAE: 582.7769 - val_MSE: 1214037.8750\n",
      "Epoch 92/100\n",
      "18/18 [==============================] - 0s 8ms/step - loss: 109.3316 - MAE: 109.3316 - MSE: 72721.6016 - val_loss: 583.8563 - val_MAE: 583.8563 - val_MSE: 1221342.5000\n",
      "Epoch 93/100\n",
      "18/18 [==============================] - ETA: 0s - loss: 110.7125 - MAE: 110.7125 - MSE: 73887.1562INFO:tensorflow:Assets written to: model_experiments/model_4/assets\n",
      "18/18 [==============================] - 0s 21ms/step - loss: 110.7125 - MAE: 110.7125 - MSE: 73887.1562 - val_loss: 581.0602 - val_MAE: 581.0602 - val_MSE: 1210702.7500\n",
      "Epoch 94/100\n",
      "18/18 [==============================] - 0s 10ms/step - loss: 113.1262 - MAE: 113.1262 - MSE: 76432.3984 - val_loss: 592.0989 - val_MAE: 592.0989 - val_MSE: 1239519.0000\n",
      "Epoch 95/100\n",
      "18/18 [==============================] - 0s 8ms/step - loss: 114.1867 - MAE: 114.1867 - MSE: 75791.3438 - val_loss: 588.0858 - val_MAE: 588.0858 - val_MSE: 1217713.0000\n",
      "Epoch 96/100\n",
      "18/18 [==============================] - 0s 8ms/step - loss: 109.9353 - MAE: 109.9353 - MSE: 73721.7188 - val_loss: 583.5025 - val_MAE: 583.5025 - val_MSE: 1209660.8750\n",
      "Epoch 97/100\n",
      "18/18 [==============================] - 0s 8ms/step - loss: 114.7299 - MAE: 114.7299 - MSE: 77601.5391 - val_loss: 689.1107 - val_MAE: 689.1107 - val_MSE: 1448872.7500\n",
      "Epoch 98/100\n",
      "18/18 [==============================] - 0s 8ms/step - loss: 116.9265 - MAE: 116.9265 - MSE: 77329.8906 - val_loss: 662.3939 - val_MAE: 662.3939 - val_MSE: 1379501.0000\n",
      "Epoch 99/100\n",
      "18/18 [==============================] - ETA: 0s - loss: 111.2788 - MAE: 111.2788 - MSE: 74580.1172INFO:tensorflow:Assets written to: model_experiments/model_4/assets\n",
      "18/18 [==============================] - 0s 20ms/step - loss: 111.2788 - MAE: 111.2788 - MSE: 74580.1172 - val_loss: 577.9491 - val_MAE: 577.9491 - val_MSE: 1201465.1250\n",
      "Epoch 100/100\n",
      "18/18 [==============================] - 0s 8ms/step - loss: 109.2316 - MAE: 109.2316 - MSE: 72659.2109 - val_loss: 613.4543 - val_MAE: 613.4543 - val_MSE: 1266985.2500\n"
     ]
    },
    {
     "data": {
      "text/plain": [
       "<keras.callbacks.History at 0x28937e310>"
      ]
     },
     "execution_count": 103,
     "metadata": {},
     "output_type": "execute_result"
    }
   ],
   "source": [
    "# 1. Build the model\n",
    "model_4 = tf.keras.Sequential(name='model_4')\n",
    "model_4.add(layers.Lambda(lambda x: tf.expand_dims(x,axis=1)))\n",
    "model_4.add(layers.Conv1D(filters=128,kernel_size=7,padding='causal',activation='relu'))\n",
    "model_4.add(layers.Dense(HORIZON))\n",
    "\n",
    "# 2. Compile the model\n",
    "model_4.compile(\n",
    "    loss=['MAE'],\n",
    "    optimizer=tf.keras.optimizers.Adam(),\n",
    "    metrics=['MAE','MSE']\n",
    ")\n",
    "\n",
    "# 3. Fit the model\n",
    "model_4.fit(\n",
    "    train_windows,\n",
    "    train_labels,\n",
    "    epochs=100,\n",
    "    batch_size=128,\n",
    "    validation_data=(test_windows, test_labels),\n",
    "    callbacks=[create_model_checkpoint(model_name=model_4.name)]\n",
    "\n",
    ")"
   ]
  },
  {
   "cell_type": "code",
   "execution_count": 104,
   "id": "5a286608-a8d8-42bf-b36f-a29ec787906b",
   "metadata": {},
   "outputs": [
    {
     "name": "stdout",
     "output_type": "stream",
     "text": [
      "Model: \"model_4\"\n",
      "_________________________________________________________________\n",
      " Layer (type)                Output Shape              Param #   \n",
      "=================================================================\n",
      " lambda_5 (Lambda)           (None, 1, 7)              0         \n",
      "                                                                 \n",
      " conv1d_3 (Conv1D)           (None, 1, 128)            6400      \n",
      "                                                                 \n",
      " dense_8 (Dense)             (None, 1, 1)              129       \n",
      "                                                                 \n",
      "=================================================================\n",
      "Total params: 6,529\n",
      "Trainable params: 6,529\n",
      "Non-trainable params: 0\n",
      "_________________________________________________________________\n"
     ]
    }
   ],
   "source": [
    "# print the summary\n",
    "model_4.summary()"
   ]
  },
  {
   "cell_type": "code",
   "execution_count": 105,
   "id": "dbe5a78e-74f6-4283-9c19-07e495396717",
   "metadata": {},
   "outputs": [
    {
     "name": "stdout",
     "output_type": "stream",
     "text": [
      "Model: \"model_2_dense\"\n",
      "_________________________________________________________________\n",
      " Layer (type)                Output Shape              Param #   \n",
      "=================================================================\n",
      " dense_2 (Dense)             (None, 128)               3968      \n",
      "                                                                 \n",
      " dense_3 (Dense)             (None, 1)                 129       \n",
      "                                                                 \n",
      "=================================================================\n",
      "Total params: 4,097\n",
      "Trainable params: 4,097\n",
      "Non-trainable params: 0\n",
      "_________________________________________________________________\n"
     ]
    }
   ],
   "source": [
    "model_2.summary()"
   ]
  },
  {
   "cell_type": "code",
   "execution_count": 106,
   "id": "f7a0085e-d442-4db8-b7dd-9201214a9f77",
   "metadata": {},
   "outputs": [
    {
     "name": "stdout",
     "output_type": "stream",
     "text": [
      "18/18 [==============================] - 0s 6ms/step - loss: 613.4544 - MAE: 613.4544 - MSE: 1266985.2500\n"
     ]
    },
    {
     "data": {
      "text/plain": [
       "[613.4544067382812, 613.4544067382812, 1266985.25]"
      ]
     },
     "execution_count": 106,
     "metadata": {},
     "output_type": "execute_result"
    }
   ],
   "source": [
    "# Evaluate the model\n",
    "model_4.evaluate(test_windows, test_labels)"
   ]
  },
  {
   "cell_type": "code",
   "execution_count": 107,
   "id": "6fa5e432-48dd-480d-90be-7c1b6d538ad7",
   "metadata": {},
   "outputs": [],
   "source": [
    "model_4 = tf.keras.models.load_model('model_experiments/model_4')"
   ]
  },
  {
   "cell_type": "code",
   "execution_count": 108,
   "id": "d0415a81-77a4-4770-8901-1f3c22640a1c",
   "metadata": {},
   "outputs": [
    {
     "name": "stdout",
     "output_type": "stream",
     "text": [
      "18/18 [==============================] - 0s 5ms/step - loss: 577.9492 - MAE: 577.9492 - MSE: 1201465.0000\n"
     ]
    },
    {
     "name": "stderr",
     "output_type": "stream",
     "text": [
      "2022-02-17 19:44:23.804282: I tensorflow/core/grappler/optimizers/custom_graph_optimizer_registry.cc:112] Plugin optimizer for device_type GPU is enabled.\n"
     ]
    },
    {
     "data": {
      "text/plain": [
       "[577.9491577148438, 577.9491577148438, 1201465.0]"
      ]
     },
     "execution_count": 108,
     "metadata": {},
     "output_type": "execute_result"
    }
   ],
   "source": [
    "model_4.evaluate(test_windows, test_labels)"
   ]
  },
  {
   "cell_type": "code",
   "execution_count": 110,
   "id": "e83dfe6c-63ad-4022-95f0-8d3fc942d785",
   "metadata": {},
   "outputs": [
    {
     "name": "stderr",
     "output_type": "stream",
     "text": [
      "2022-02-17 19:45:30.625032: I tensorflow/core/grappler/optimizers/custom_graph_optimizer_registry.cc:112] Plugin optimizer for device_type GPU is enabled.\n"
     ]
    }
   ],
   "source": [
    "# make predictions first\n",
    "model_4_preds = model_4.predict(test_windows)\n",
    "model_"
   ]
  },
  {
   "cell_type": "code",
   "execution_count": 111,
   "id": "48392273-170d-4b0c-a500-19f05c24cabd",
   "metadata": {},
   "outputs": [
    {
     "data": {
      "text/plain": [
       "{'mae': 577.9491,\n",
       " 'mse': 1201465.0,\n",
       " 'rmse': 1096.1136,\n",
       " 'mape': 2.5963554,\n",
       " 'mase': 1.0152965}"
      ]
     },
     "execution_count": 111,
     "metadata": {},
     "output_type": "execute_result"
    }
   ],
   "source": [
    "model_4_results = make_preds(model_4, test_windows, test_labels)\n",
    "model_4_results"
   ]
  },
  {
   "cell_type": "code",
   "execution_count": 112,
   "id": "187ed829-8006-4207-bd05-d69e7f702446",
   "metadata": {},
   "outputs": [
    {
     "data": {
      "text/plain": [
       "{'mae': 598.8594,\n",
       " 'mse': 1247263.6,\n",
       " 'rmse': 1116.8096,\n",
       " 'mape': 2.6998978,\n",
       " 'mase': 1.05203}"
      ]
     },
     "execution_count": 112,
     "metadata": {},
     "output_type": "execute_result"
    }
   ],
   "source": [
    "model_1_results"
   ]
  },
  {
   "cell_type": "code",
   "execution_count": null,
   "id": "56e7aa02-13bf-4ea5-83cf-71f95c312c3c",
   "metadata": {},
   "outputs": [],
   "source": []
  }
 ],
 "metadata": {
  "kernelspec": {
   "display_name": "Python 3 (ipykernel)",
   "language": "python",
   "name": "python3"
  },
  "language_info": {
   "codemirror_mode": {
    "name": "ipython",
    "version": 3
   },
   "file_extension": ".py",
   "mimetype": "text/x-python",
   "name": "python",
   "nbconvert_exporter": "python",
   "pygments_lexer": "ipython3",
   "version": "3.9.5"
  },
  "toc": {
   "base_numbering": 1,
   "nav_menu": {
    "height": "212px",
    "width": "406px"
   },
   "number_sections": true,
   "sideBar": true,
   "skip_h1_title": false,
   "title_cell": "Table of Contents",
   "title_sidebar": "Contents",
   "toc_cell": false,
   "toc_position": {
    "height": "602px",
    "left": "563px",
    "top": "149px",
    "width": "231.39999389648438px"
   },
   "toc_section_display": true,
   "toc_window_display": true
  }
 },
 "nbformat": 4,
 "nbformat_minor": 5
}
