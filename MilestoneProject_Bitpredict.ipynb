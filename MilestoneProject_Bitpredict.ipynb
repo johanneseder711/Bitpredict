{
 "cells": [
  {
   "cell_type": "markdown",
   "id": "7ce3ed8f",
   "metadata": {},
   "source": [
    "# Get the data into our notebook"
   ]
  },
  {
   "cell_type": "markdown",
   "id": "ae0a6d24",
   "metadata": {},
   "source": [
    "> <font size=\"5\"> 📚 Check out the [Github reference](https://github.com/mrdbourke/tensorflow-deep-learning) of Daniel Bourke </font> "
   ]
  },
  {
   "cell_type": "markdown",
   "id": "bc9958ae",
   "metadata": {},
   "source": [
    "## IMPORTS"
   ]
  },
  {
   "cell_type": "code",
   "execution_count": 1,
   "id": "b1b690d0",
   "metadata": {},
   "outputs": [],
   "source": [
    "import os\n",
    "import pandas as pd\n",
    "import matplotlib.pyplot as plt\n",
    "import numpy as np\n",
    "import tensorflow as tf"
   ]
  },
  {
   "cell_type": "markdown",
   "id": "4b541d76",
   "metadata": {},
   "source": [
    "## Download the data with wget"
   ]
  },
  {
   "cell_type": "code",
   "execution_count": 2,
   "id": "d8a1cfec",
   "metadata": {},
   "outputs": [
    {
     "name": "stdout",
     "output_type": "stream",
     "text": [
      "CSV file already downloaded and accessible in the directory\n"
     ]
    }
   ],
   "source": [
    "if \"BTC_USD_2013-10-01_2021-05-18-CoinDesk.csv\" in os.listdir():\n",
    "    print('CSV file already downloaded and accessible in the directory')\n",
    "else:\n",
    "    try:\n",
    "        !wget https://raw.githubusercontent.com/mrdbourke/tensorflow-deep-learning/main/extras/BTC_USD_2013-10-01_2021-05-18-CoinDesk.csv\n",
    "    except:\n",
    "        print(\"command wget not working - Install by 'brew install wget'\")"
   ]
  },
  {
   "cell_type": "markdown",
   "id": "d3c9bae0",
   "metadata": {},
   "source": [
    "## Import CSV with pandas"
   ]
  },
  {
   "cell_type": "code",
   "execution_count": 3,
   "id": "02874088",
   "metadata": {},
   "outputs": [],
   "source": [
    "# read in data from csv\n",
    "# fromat dates to datetime and set as index\n",
    "path = 'BTC_USD_2013-10-01_2021-05-18-CoinDesk.csv'\n",
    "df = pd.read_csv(path,sep=',',parse_dates=['Date'],index_col = 'Date')"
   ]
  },
  {
   "cell_type": "code",
   "execution_count": 4,
   "id": "38b2f405",
   "metadata": {},
   "outputs": [
    {
     "data": {
      "text/html": [
       "<div>\n",
       "<style scoped>\n",
       "    .dataframe tbody tr th:only-of-type {\n",
       "        vertical-align: middle;\n",
       "    }\n",
       "\n",
       "    .dataframe tbody tr th {\n",
       "        vertical-align: top;\n",
       "    }\n",
       "\n",
       "    .dataframe thead th {\n",
       "        text-align: right;\n",
       "    }\n",
       "</style>\n",
       "<table border=\"1\" class=\"dataframe\">\n",
       "  <thead>\n",
       "    <tr style=\"text-align: right;\">\n",
       "      <th></th>\n",
       "      <th>Currency</th>\n",
       "      <th>Closing Price (USD)</th>\n",
       "      <th>24h Open (USD)</th>\n",
       "      <th>24h High (USD)</th>\n",
       "      <th>24h Low (USD)</th>\n",
       "    </tr>\n",
       "    <tr>\n",
       "      <th>Date</th>\n",
       "      <th></th>\n",
       "      <th></th>\n",
       "      <th></th>\n",
       "      <th></th>\n",
       "      <th></th>\n",
       "    </tr>\n",
       "  </thead>\n",
       "  <tbody>\n",
       "    <tr>\n",
       "      <th>2013-10-01</th>\n",
       "      <td>BTC</td>\n",
       "      <td>123.65499</td>\n",
       "      <td>124.30466</td>\n",
       "      <td>124.75166</td>\n",
       "      <td>122.56349</td>\n",
       "    </tr>\n",
       "    <tr>\n",
       "      <th>2013-10-02</th>\n",
       "      <td>BTC</td>\n",
       "      <td>125.45500</td>\n",
       "      <td>123.65499</td>\n",
       "      <td>125.75850</td>\n",
       "      <td>123.63383</td>\n",
       "    </tr>\n",
       "    <tr>\n",
       "      <th>2013-10-03</th>\n",
       "      <td>BTC</td>\n",
       "      <td>108.58483</td>\n",
       "      <td>125.45500</td>\n",
       "      <td>125.66566</td>\n",
       "      <td>83.32833</td>\n",
       "    </tr>\n",
       "    <tr>\n",
       "      <th>2013-10-04</th>\n",
       "      <td>BTC</td>\n",
       "      <td>118.67466</td>\n",
       "      <td>108.58483</td>\n",
       "      <td>118.67500</td>\n",
       "      <td>107.05816</td>\n",
       "    </tr>\n",
       "    <tr>\n",
       "      <th>2013-10-05</th>\n",
       "      <td>BTC</td>\n",
       "      <td>121.33866</td>\n",
       "      <td>118.67466</td>\n",
       "      <td>121.93633</td>\n",
       "      <td>118.00566</td>\n",
       "    </tr>\n",
       "  </tbody>\n",
       "</table>\n",
       "</div>"
      ],
      "text/plain": [
       "           Currency  Closing Price (USD)  24h Open (USD)  24h High (USD)  \\\n",
       "Date                                                                       \n",
       "2013-10-01      BTC            123.65499       124.30466       124.75166   \n",
       "2013-10-02      BTC            125.45500       123.65499       125.75850   \n",
       "2013-10-03      BTC            108.58483       125.45500       125.66566   \n",
       "2013-10-04      BTC            118.67466       108.58483       118.67500   \n",
       "2013-10-05      BTC            121.33866       118.67466       121.93633   \n",
       "\n",
       "            24h Low (USD)  \n",
       "Date                       \n",
       "2013-10-01      122.56349  \n",
       "2013-10-02      123.63383  \n",
       "2013-10-03       83.32833  \n",
       "2013-10-04      107.05816  \n",
       "2013-10-05      118.00566  "
      ]
     },
     "execution_count": 4,
     "metadata": {},
     "output_type": "execute_result"
    }
   ],
   "source": [
    "df.head()"
   ]
  },
  {
   "cell_type": "code",
   "execution_count": 5,
   "id": "06feb691",
   "metadata": {},
   "outputs": [
    {
     "data": {
      "text/html": [
       "<div>\n",
       "<style scoped>\n",
       "    .dataframe tbody tr th:only-of-type {\n",
       "        vertical-align: middle;\n",
       "    }\n",
       "\n",
       "    .dataframe tbody tr th {\n",
       "        vertical-align: top;\n",
       "    }\n",
       "\n",
       "    .dataframe thead th {\n",
       "        text-align: right;\n",
       "    }\n",
       "</style>\n",
       "<table border=\"1\" class=\"dataframe\">\n",
       "  <thead>\n",
       "    <tr style=\"text-align: right;\">\n",
       "      <th></th>\n",
       "      <th>Currency</th>\n",
       "      <th>Closing Price (USD)</th>\n",
       "      <th>24h Open (USD)</th>\n",
       "      <th>24h High (USD)</th>\n",
       "      <th>24h Low (USD)</th>\n",
       "    </tr>\n",
       "    <tr>\n",
       "      <th>Date</th>\n",
       "      <th></th>\n",
       "      <th></th>\n",
       "      <th></th>\n",
       "      <th></th>\n",
       "      <th></th>\n",
       "    </tr>\n",
       "  </thead>\n",
       "  <tbody>\n",
       "    <tr>\n",
       "      <th>2021-05-14</th>\n",
       "      <td>BTC</td>\n",
       "      <td>49764.132082</td>\n",
       "      <td>49596.778891</td>\n",
       "      <td>51448.798576</td>\n",
       "      <td>46294.720180</td>\n",
       "    </tr>\n",
       "    <tr>\n",
       "      <th>2021-05-15</th>\n",
       "      <td>BTC</td>\n",
       "      <td>50032.693137</td>\n",
       "      <td>49717.354353</td>\n",
       "      <td>51578.312545</td>\n",
       "      <td>48944.346536</td>\n",
       "    </tr>\n",
       "    <tr>\n",
       "      <th>2021-05-16</th>\n",
       "      <td>BTC</td>\n",
       "      <td>47885.625255</td>\n",
       "      <td>49926.035067</td>\n",
       "      <td>50690.802950</td>\n",
       "      <td>47005.102292</td>\n",
       "    </tr>\n",
       "    <tr>\n",
       "      <th>2021-05-17</th>\n",
       "      <td>BTC</td>\n",
       "      <td>45604.615754</td>\n",
       "      <td>46805.537852</td>\n",
       "      <td>49670.414174</td>\n",
       "      <td>43868.638969</td>\n",
       "    </tr>\n",
       "    <tr>\n",
       "      <th>2021-05-18</th>\n",
       "      <td>BTC</td>\n",
       "      <td>43144.471291</td>\n",
       "      <td>46439.336570</td>\n",
       "      <td>46622.853437</td>\n",
       "      <td>42102.346430</td>\n",
       "    </tr>\n",
       "  </tbody>\n",
       "</table>\n",
       "</div>"
      ],
      "text/plain": [
       "           Currency  Closing Price (USD)  24h Open (USD)  24h High (USD)  \\\n",
       "Date                                                                       \n",
       "2021-05-14      BTC         49764.132082    49596.778891    51448.798576   \n",
       "2021-05-15      BTC         50032.693137    49717.354353    51578.312545   \n",
       "2021-05-16      BTC         47885.625255    49926.035067    50690.802950   \n",
       "2021-05-17      BTC         45604.615754    46805.537852    49670.414174   \n",
       "2021-05-18      BTC         43144.471291    46439.336570    46622.853437   \n",
       "\n",
       "            24h Low (USD)  \n",
       "Date                       \n",
       "2021-05-14   46294.720180  \n",
       "2021-05-15   48944.346536  \n",
       "2021-05-16   47005.102292  \n",
       "2021-05-17   43868.638969  \n",
       "2021-05-18   42102.346430  "
      ]
     },
     "execution_count": 5,
     "metadata": {},
     "output_type": "execute_result"
    }
   ],
   "source": [
    "df.tail()"
   ]
  },
  {
   "cell_type": "code",
   "execution_count": 6,
   "id": "87ec444d",
   "metadata": {},
   "outputs": [
    {
     "name": "stdout",
     "output_type": "stream",
     "text": [
      "<class 'pandas.core.frame.DataFrame'>\n",
      "DatetimeIndex: 2787 entries, 2013-10-01 to 2021-05-18\n",
      "Data columns (total 5 columns):\n",
      " #   Column               Non-Null Count  Dtype  \n",
      "---  ------               --------------  -----  \n",
      " 0   Currency             2787 non-null   object \n",
      " 1   Closing Price (USD)  2787 non-null   float64\n",
      " 2   24h Open (USD)       2787 non-null   float64\n",
      " 3   24h High (USD)       2787 non-null   float64\n",
      " 4   24h Low (USD)        2787 non-null   float64\n",
      "dtypes: float64(4), object(1)\n",
      "memory usage: 130.6+ KB\n"
     ]
    }
   ],
   "source": [
    "df.info()"
   ]
  },
  {
   "cell_type": "markdown",
   "id": "324976cc",
   "metadata": {},
   "source": [
    "## Plot the data using pandas"
   ]
  },
  {
   "cell_type": "code",
   "execution_count": 7,
   "id": "c7e5d26a",
   "metadata": {},
   "outputs": [
    {
     "data": {
      "image/png": "[encoded data removed]",
      "text/plain": [
       "<Figure size 720x504 with 1 Axes>"
      ]
     },
     "metadata": {
      "needs_background": "light"
     },
     "output_type": "display_data"
    }
   ],
   "source": [
    "df.iloc[:,1].plot(figsize=(10,7))\n",
    "plt.title('Bitcoin Closing Price Data',fontsize=17)\n",
    "plt.ylabel('Price in USD')\n",
    "plt.show()"
   ]
  },
  {
   "cell_type": "markdown",
   "id": "663df21f",
   "metadata": {},
   "source": [
    "> 🔑 **Seasonality**: The seasonality of time series data is how many samples do we have of this data per year. So for our Bitcoin data we have a saisonality of daily or a value of 365."
   ]
  },
  {
   "cell_type": "code",
   "execution_count": 8,
   "id": "e1a19673",
   "metadata": {},
   "outputs": [],
   "source": [
    "bitcion_prices = df[['Closing Price (USD)']].rename(columns={'Closing Price (USD)':'Price'})"
   ]
  },
  {
   "cell_type": "code",
   "execution_count": 9,
   "id": "a2e9d773",
   "metadata": {},
   "outputs": [
    {
     "data": {
      "text/html": [
       "<div>\n",
       "<style scoped>\n",
       "    .dataframe tbody tr th:only-of-type {\n",
       "        vertical-align: middle;\n",
       "    }\n",
       "\n",
       "    .dataframe tbody tr th {\n",
       "        vertical-align: top;\n",
       "    }\n",
       "\n",
       "    .dataframe thead th {\n",
       "        text-align: right;\n",
       "    }\n",
       "</style>\n",
       "<table border=\"1\" class=\"dataframe\">\n",
       "  <thead>\n",
       "    <tr style=\"text-align: right;\">\n",
       "      <th></th>\n",
       "      <th>Price</th>\n",
       "    </tr>\n",
       "    <tr>\n",
       "      <th>Date</th>\n",
       "      <th></th>\n",
       "    </tr>\n",
       "  </thead>\n",
       "  <tbody>\n",
       "    <tr>\n",
       "      <th>2013-10-01</th>\n",
       "      <td>123.65499</td>\n",
       "    </tr>\n",
       "    <tr>\n",
       "      <th>2013-10-02</th>\n",
       "      <td>125.45500</td>\n",
       "    </tr>\n",
       "    <tr>\n",
       "      <th>2013-10-03</th>\n",
       "      <td>108.58483</td>\n",
       "    </tr>\n",
       "    <tr>\n",
       "      <th>2013-10-04</th>\n",
       "      <td>118.67466</td>\n",
       "    </tr>\n",
       "    <tr>\n",
       "      <th>2013-10-05</th>\n",
       "      <td>121.33866</td>\n",
       "    </tr>\n",
       "  </tbody>\n",
       "</table>\n",
       "</div>"
      ],
      "text/plain": [
       "                Price\n",
       "Date                 \n",
       "2013-10-01  123.65499\n",
       "2013-10-02  125.45500\n",
       "2013-10-03  108.58483\n",
       "2013-10-04  118.67466\n",
       "2013-10-05  121.33866"
      ]
     },
     "execution_count": 9,
     "metadata": {},
     "output_type": "execute_result"
    }
   ],
   "source": [
    "bitcion_prices.head()"
   ]
  },
  {
   "cell_type": "code",
   "execution_count": 10,
   "id": "ed68c99a",
   "metadata": {},
   "outputs": [
    {
     "name": "stdout",
     "output_type": "stream",
     "text": [
      "<class 'pandas.core.frame.DataFrame'>\n",
      "DatetimeIndex: 2787 entries, 2013-10-01 to 2021-05-18\n",
      "Data columns (total 1 columns):\n",
      " #   Column  Non-Null Count  Dtype  \n",
      "---  ------  --------------  -----  \n",
      " 0   Price   2787 non-null   float64\n",
      "dtypes: float64(1)\n",
      "memory usage: 43.5 KB\n"
     ]
    }
   ],
   "source": [
    "bitcion_prices.info()"
   ]
  },
  {
   "cell_type": "markdown",
   "id": "e4de8d99",
   "metadata": {},
   "source": [
    "## Read in the data using pythons csv module"
   ]
  },
  {
   "cell_type": "code",
   "execution_count": 11,
   "id": "66aa7567",
   "metadata": {},
   "outputs": [],
   "source": [
    "from datetime import datetime"
   ]
  },
  {
   "cell_type": "code",
   "execution_count": 12,
   "id": "00392bb4",
   "metadata": {},
   "outputs": [],
   "source": [
    "import csv\n",
    "with open(path, newline='') as csvfile:\n",
    "    spamreader = csv.reader(csvfile, delimiter=',')\n",
    "    next(csvfile) # skip header row\n",
    "    dates = []\n",
    "    prices = []\n",
    "    for row in spamreader:\n",
    "        dates.append(datetime.strptime(row[1],'%Y-%m-%d'))\n",
    "        prices.append(float(row[2]))"
   ]
  },
  {
   "cell_type": "code",
   "execution_count": 13,
   "id": "3b2cfe60",
   "metadata": {},
   "outputs": [
    {
     "data": {
      "image/png": "[encoded data removed]",
      "text/plain": [
       "<Figure size 720x504 with 1 Axes>"
      ]
     },
     "metadata": {
      "needs_background": "light"
     },
     "output_type": "display_data"
    }
   ],
   "source": [
    "plt.figure(figsize=(10,7))\n",
    "plt.plot(dates,prices)\n",
    "plt.ylabel('Price')\n",
    "plt.title('Bitcoin Prices Daily',fontsize=17)\n",
    "plt.show()"
   ]
  },
  {
   "cell_type": "markdown",
   "id": "4582cc99",
   "metadata": {},
   "source": [
    "# Prepare the data"
   ]
  },
  {
   "cell_type": "markdown",
   "id": "055c0c8d",
   "metadata": {},
   "source": [
    "## Create train and test splits"
   ]
  },
  {
   "cell_type": "code",
   "execution_count": 14,
   "id": "f37c3811",
   "metadata": {},
   "outputs": [],
   "source": [
    "# 80% train and 20% test\n",
    "split_size = int(len(bitcion_prices)*0.8)\n",
    "\n",
    "# create train set\n",
    "X_train,y_train = dates[:split_size], prices[:split_size]\n",
    "\n",
    "# create test set\n",
    "X_test, y_test = dates[split_size:], prices[split_size:]"
   ]
  },
  {
   "cell_type": "code",
   "execution_count": 15,
   "id": "472149ef",
   "metadata": {},
   "outputs": [
    {
     "data": {
      "image/png": "[encoded data removed]",
      "text/plain": [
       "<Figure size 1440x720 with 1 Axes>"
      ]
     },
     "metadata": {
      "needs_background": "light"
     },
     "output_type": "display_data"
    }
   ],
   "source": [
    "plt.figure(figsize=(20,10))\n",
    "plt.plot(X_train,y_train,'x')\n",
    "plt.plot(X_test,y_test,'.')\n",
    "plt.legend(['Train data','Test data'],fontsize=20)\n",
    "plt.xlabel('Dates',fontsize=20)\n",
    "plt.ylabel('Price',fontsize=20)\n",
    "plt.show()"
   ]
  },
  {
   "cell_type": "markdown",
   "id": "94d9b652",
   "metadata": {},
   "source": [
    "### Creating a plotting fuction"
   ]
  },
  {
   "cell_type": "code",
   "execution_count": 16,
   "id": "93d2ad6e",
   "metadata": {},
   "outputs": [],
   "source": [
    "import matplotlib.pyplot as plt\n",
    "# create a function to plot the data\n",
    "def plot_time_series(timestamp,values,formated='.',start=0,end=None,label=None):\n",
    "    \"\"\"\n",
    "    Plots our timeseries\n",
    "    \"\"\"\n",
    "    plt.plot(timestamp[start:end],values[start:end],formated,label=label)\n",
    "    plt.xlabel('Time')\n",
    "    plt.ylabel('BTC Price')\n",
    "    if label:\n",
    "        plt.legend(fontsize=14)\n",
    "    plt.grid(True)"
   ]
  },
  {
   "cell_type": "code",
   "execution_count": 17,
   "id": "16eace04",
   "metadata": {},
   "outputs": [
    {
     "data": {
      "image/png": "[encoded data removed]",
      "text/plain": [
       "<Figure size 864x504 with 1 Axes>"
      ]
     },
     "metadata": {
      "needs_background": "light"
     },
     "output_type": "display_data"
    }
   ],
   "source": [
    "plt.figure(figsize=(12,7))\n",
    "plot_time_series(X_test,y_test,label='Test data')\n",
    "plot_time_series(X_train,y_train,label='Train data')"
   ]
  },
  {
   "cell_type": "markdown",
   "id": "ce51ded1",
   "metadata": {},
   "source": [
    "# Model 0 - Naive Time Series Model"
   ]
  },
  {
   "cell_type": "markdown",
   "id": "a3dce61f",
   "metadata": {},
   "source": [
    "Model Formula: $y_{t + 1} = y_t $"
   ]
  },
  {
   "cell_type": "code",
   "execution_count": 18,
   "id": "d58c28d1",
   "metadata": {},
   "outputs": [],
   "source": [
    "# create the Naive baseline forecast\n",
    "naive_forecast = y_test[:-1]"
   ]
  },
  {
   "cell_type": "markdown",
   "id": "e0b9d214",
   "metadata": {},
   "source": [
    "## Plot the naive forcast against test data"
   ]
  },
  {
   "cell_type": "code",
   "execution_count": 19,
   "id": "c9c7e648",
   "metadata": {},
   "outputs": [
    {
     "data": {
      "image/png": "[encoded data removed]",
      "text/plain": [
       "<Figure size 864x504 with 1 Axes>"
      ]
     },
     "metadata": {
      "needs_background": "light"
     },
     "output_type": "display_data"
    }
   ],
   "source": [
    "plt.figure(figsize=(12,7))\n",
    "plot_time_series(X_test[1:],naive_forecast,start=500,end=1000, formated='--',label='Naive Forcast')\n",
    "plot_time_series(X_test,y_test,start=500, end=1000,formated='-',label='test data')"
   ]
  },
  {
   "cell_type": "markdown",
   "id": "de850406-81d6-42c0-aa3e-a7611ab5ec56",
   "metadata": {},
   "source": [
    "## Evaluation of our Naive Model\n",
    "\n"
   ]
  },
  {
   "cell_type": "markdown",
   "id": "f2701c82",
   "metadata": {},
   "source": [
    "### Implementing the MASE (Mean Absolute Scaled Error)"
   ]
  },
  {
   "cell_type": "markdown",
   "id": "feb3b05c",
   "metadata": {},
   "source": [
    "MASE = $\\frac{\\frac{1}{J}\\sum_j |e_j|}{\\frac{1}{T-1}\\sum_{t=2}^{T} |Y_t - Y_{t-1}|} $\\\n",
    "where \\\n",
    "$e_j$ ... [__forcast error__](https://en.wikipedia.org/wiki/Forecast_error) (difference between the actual and predicted value) \\\n",
    "$j \\in \\{1,...,J\\}$ with J as the number of forecasts (in our case $J=1$)\n"
   ]
  },
  {
   "cell_type": "code",
   "execution_count": 20,
   "id": "2e3eecec",
   "metadata": {},
   "outputs": [],
   "source": [
    "def get_mase(y_true,y_pred):\n",
    "    y_true, y_pred = np.array(y_true), np.array(y_pred)\n",
    "    nom = np.mean(np.abs((y_true-y_pred)))\n",
    "    denom = np.mean(np.abs((y_true[1:]-y_true[:-1])))\n",
    "    return nom/denom"
   ]
  },
  {
   "cell_type": "code",
   "execution_count": 21,
   "id": "00f34017",
   "metadata": {},
   "outputs": [
    {
     "name": "stdout",
     "output_type": "stream",
     "text": [
      "MASE has a value of 1.000\n"
     ]
    }
   ],
   "source": [
    "mase = get_mase(y_test[1:],naive_forecast)\n",
    "print('MASE has a value of %.3f'%mase)"
   ]
  },
  {
   "cell_type": "code",
   "execution_count": 22,
   "id": "a4fed5cf",
   "metadata": {},
   "outputs": [],
   "source": [
    "# create a function to evaluate our predictions\n",
    "def evaluate_preds(y_true,y_pred):\n",
    "    # tensorflow uses datatype float32 by default\n",
    "    y_true = tf.cast(y_true, dtype = tf.float32)\n",
    "    y_pred = tf.cast(y_pred, dtype = tf.float32)\n",
    "    \n",
    "    # calculate statistics\n",
    "    mae = tf.keras.metrics.mean_absolute_error(y_true,y_pred)\n",
    "    mse = tf.keras.metrics.mean_squared_error(y_true,y_pred)\n",
    "    rmse = tf.sqrt(mse)\n",
    "    mape = tf.keras.metrics.mean_absolute_percentage_error(y_true,y_pred)\n",
    "    mase = get_mase(y_true,y_pred)\n",
    "    \n",
    "    return({\n",
    "        'mae': mae.numpy(),\n",
    "        'mse': mse.numpy(),\n",
    "        'rmse': rmse.numpy(),\n",
    "        'mape': mape.numpy(),\n",
    "        'mase': mase\n",
    "    })"
   ]
  },
  {
   "cell_type": "code",
   "execution_count": 23,
   "id": "7fec417f-fd23-4966-8dd2-463f36af0736",
   "metadata": {},
   "outputs": [
    {
     "data": {
      "text/plain": [
       "557"
      ]
     },
     "execution_count": 23,
     "metadata": {},
     "output_type": "execute_result"
    }
   ],
   "source": [
    "len(naive_forecast)"
   ]
  },
  {
   "cell_type": "code",
   "execution_count": 24,
   "id": "9d010d45-08ae-4dcb-8003-39771b050014",
   "metadata": {},
   "outputs": [
    {
     "data": {
      "text/plain": [
       "558"
      ]
     },
     "execution_count": 24,
     "metadata": {},
     "output_type": "execute_result"
    }
   ],
   "source": [
    "len(y_test)"
   ]
  },
  {
   "cell_type": "code",
   "execution_count": 25,
   "id": "798da449-8fdb-4a76-b025-4d42b2df81cd",
   "metadata": {},
   "outputs": [
    {
     "name": "stdout",
     "output_type": "stream",
     "text": [
      "Metal device set to: Apple M1 Pro\n"
     ]
    },
    {
     "name": "stderr",
     "output_type": "stream",
     "text": [
      "2022-02-16 19:11:35.920105: I tensorflow/core/common_runtime/pluggable_device/pluggable_device_factory.cc:305] Could not identify NUMA node of platform GPU ID 0, defaulting to 0. Your kernel may not have been built with NUMA support.\n",
      "2022-02-16 19:11:35.920426: I tensorflow/core/common_runtime/pluggable_device/pluggable_device_factory.cc:271] Created TensorFlow device (/job:localhost/replica:0/task:0/device:GPU:0 with 0 MB memory) -> physical PluggableDevice (device: 0, name: METAL, pci bus id: <undefined>)\n"
     ]
    },
    {
     "data": {
      "text/plain": [
       "{'mae': 567.9803,\n",
       " 'mse': 1147547.1,\n",
       " 'rmse': 1071.2362,\n",
       " 'mape': 2.516525,\n",
       " 'mase': 0.99957}"
      ]
     },
     "execution_count": 25,
     "metadata": {},
     "output_type": "execute_result"
    }
   ],
   "source": [
    "naive_results = evaluate_preds(y_test[1:],naive_forecast)\n",
    "naive_results"
   ]
  },
  {
   "cell_type": "markdown",
   "id": "73fb6a61-3ead-49ac-96d2-6e180a795306",
   "metadata": {},
   "source": [
    "# Format data part 2: windowing out dataset"
   ]
  },
  {
   "cell_type": "markdown",
   "id": "2dd1d28b-2bef-4311-bce8-06a9a2d8d39f",
   "metadata": {},
   "source": [
    "We window our dataset to turn our problem into a supervised learning problem"
   ]
  },
  {
   "cell_type": "code",
   "execution_count": 26,
   "id": "ee42cd7b-38d2-4c2f-b8ee-e8e81dc07b06",
   "metadata": {},
   "outputs": [],
   "source": [
    "# Set up some global varibales\n",
    "HORIZON = 1 # how long we are going to predict into the future\n",
    "WINDOW_SIZE = 7 # how many past days we use to make the prediction"
   ]
  },
  {
   "cell_type": "code",
   "execution_count": 27,
   "id": "ef3da5cd-55eb-44c4-91ae-2391c35425b2",
   "metadata": {},
   "outputs": [
    {
     "name": "stdout",
     "output_type": "stream",
     "text": [
      "We want to use this: [123.65499, 125.455, 108.58483, 118.67466, 121.33866, 120.65533, 121.795] to predict this: 123.033\n"
     ]
    }
   ],
   "source": [
    "print(f\"We want to use this: {prices[:WINDOW_SIZE]} to predict this: {prices[WINDOW_SIZE]}\")"
   ]
  },
  {
   "cell_type": "code",
   "execution_count": 28,
   "id": "5c755d7e-a7aa-4bef-8b57-6acef0952d0f",
   "metadata": {},
   "outputs": [],
   "source": [
    "# Create function to label windowed data\n",
    "def get_labelled_windows(x, horizon=HORIZON):\n",
    "    \"\"\"\n",
    "        Function to create labels for windowed dataset. \n",
    "    \"\"\"\n",
    "    return x[:, :-horizon], x[:,-horizon:]"
   ]
  },
  {
   "cell_type": "code",
   "execution_count": 29,
   "id": "9c72b35e-115d-46cb-b7a0-2cbc8fa32386",
   "metadata": {},
   "outputs": [
    {
     "data": {
      "text/plain": [
       "(<tf.Tensor: shape=(1, 7), dtype=int32, numpy=array([[0, 1, 2, 3, 4, 5, 6]], dtype=int32)>,\n",
       " <tf.Tensor: shape=(1, 1), dtype=int32, numpy=array([[7]], dtype=int32)>)"
      ]
     },
     "execution_count": 29,
     "metadata": {},
     "output_type": "execute_result"
    }
   ],
   "source": [
    "test_window, test_label =  get_labelled_windows(tf.expand_dims(tf.range(8),axis=0))\n",
    "test_window, test_label"
   ]
  },
  {
   "cell_type": "markdown",
   "id": "fdbac793-74cf-4be1-b4fa-ea9e9451b731",
   "metadata": {},
   "source": [
    "📚**Ressource**: [Towards Data Science - Fast and Robust Sliding Window Vectorization with NumPy](https://towardsdatascience.com/fast-and-robust-sliding-window-vectorization-with-numpy-3ad950ed62f5)"
   ]
  },
  {
   "cell_type": "code",
   "execution_count": 30,
   "id": "7bad6dea-ba8c-4e7f-ac0a-6fcd315775d5",
   "metadata": {},
   "outputs": [],
   "source": [
    "import numpy as np"
   ]
  },
  {
   "cell_type": "code",
   "execution_count": 31,
   "id": "5998ebf1-71de-4489-804a-30f44c29be1f",
   "metadata": {},
   "outputs": [],
   "source": [
    "def make_windows(x, window_size=WINDOW_SIZE, horizon=HORIZON):\n",
    "    '''\n",
    "        Function that turns a 1D array to 2D array of sequential labelled windows of window_size and horizon size labels\n",
    "    '''\n",
    "    \n",
    "    # 1. Create a window of window_size\n",
    "    window_step = np.expand_dims(np.arange(window_size+horizon),axis=0)\n",
    "    \n",
    "    # 2. Use numpy indexing to create 2D array of multiple windows \n",
    "    windows_indexes = window_step + np.expand_dims(np.arange(len(x)-(window_size+horizon-1)),axis=0).T\n",
    "    \n",
    "    # 3. Indexing on the target array\n",
    "    windowed_array = x[windows_indexes]#\n",
    "    \n",
    "    # get the labelled windows\n",
    "    windows, labels = get_labelled_windows(windowed_array, horizon=horizon)\n",
    "    \n",
    "    return(windows, labels)"
   ]
  },
  {
   "cell_type": "code",
   "execution_count": 32,
   "id": "40358654-096b-4020-ac46-c9d2c8314800",
   "metadata": {},
   "outputs": [],
   "source": [
    "full_windows, full_labels = make_windows(np.array(prices))"
   ]
  },
  {
   "cell_type": "code",
   "execution_count": 33,
   "id": "38ad59a2-0af3-4e8f-aa49-5a5f1c23fdeb",
   "metadata": {},
   "outputs": [
    {
     "name": "stdout",
     "output_type": "stream",
     "text": [
      "Window: [123.65499 125.455   108.58483 118.67466 121.33866 120.65533 121.795  ] -> Label: [123.033]\n",
      "Window: [125.455   108.58483 118.67466 121.33866 120.65533 121.795   123.033  ] -> Label: [124.049]\n",
      "Window: [108.58483 118.67466 121.33866 120.65533 121.795   123.033   124.049  ] -> Label: [125.96116]\n"
     ]
    }
   ],
   "source": [
    "for i in range(3):\n",
    "    print(f\"Window: {full_windows[i]} -> Label: {full_labels[i]}\")"
   ]
  },
  {
   "cell_type": "markdown",
   "id": "034831e6-5433-4ad8-a718-2157fd9da3c1",
   "metadata": {},
   "source": [
    "## Turning our windows into train and test sets"
   ]
  },
  {
   "cell_type": "code",
   "execution_count": 34,
   "id": "afda702d-c9f0-4cff-a6ba-828cb05e9410",
   "metadata": {},
   "outputs": [],
   "source": [
    "def make_train_test_splits(windows, labels, test_split=0.2):\n",
    "    \"\"\"\n",
    "        Function that splits matching pairs of windows and labels into train and test splits\n",
    "    \"\"\"\n",
    "    split_size = int(len(windows) * (1 - test_split))\n",
    "    train_windows = windows[:split_size]\n",
    "    train_labels = labels[:split_size]\n",
    "    test_windows = windows[split_size:]\n",
    "    test_labels = labels[split_size:]\n",
    "    return train_windows, test_windows, train_labels, test_labels"
   ]
  },
  {
   "cell_type": "code",
   "execution_count": 35,
   "id": "97808ea5-58ce-4731-b6a1-b3380df0b448",
   "metadata": {},
   "outputs": [],
   "source": [
    "train_windows, test_windows, train_labels, test_labels = make_train_test_splits(full_windows,full_labels)"
   ]
  },
  {
   "cell_type": "code",
   "execution_count": 36,
   "id": "d645e21e-cdec-40d9-b56b-d0b9eb5664f8",
   "metadata": {},
   "outputs": [
    {
     "data": {
      "text/plain": [
       "True"
      ]
     },
     "execution_count": 36,
     "metadata": {},
     "output_type": "execute_result"
    }
   ],
   "source": [
    "# check if our training labels are equal to before\n",
    "np.array_equal(np.squeeze(train_labels)[:-HORIZON-1],y_train[WINDOW_SIZE:])"
   ]
  },
  {
   "cell_type": "markdown",
   "id": "574e4125-14dd-4754-8a64-1a0238e1abaf",
   "metadata": {},
   "source": [
    "## Make a modelling checkpoint callback"
   ]
  },
  {
   "cell_type": "code",
   "execution_count": 37,
   "id": "1c3432e9-552e-474d-a5a0-f2f58879c9f8",
   "metadata": {},
   "outputs": [],
   "source": [
    "import os"
   ]
  },
  {
   "cell_type": "code",
   "execution_count": 38,
   "id": "8e44b0f6-4de2-41f1-aba1-9dc6c191afcb",
   "metadata": {},
   "outputs": [],
   "source": [
    "def create_model_checkpoint(model_name, save_path = \"model_experiments\", verbose=0, sbo=True):\n",
    "    return tf.keras.callbacks.ModelCheckpoint(filepath=os.path.join(save_path,model_name),\n",
    "                                              monitor='val_loss',\n",
    "                                             verbose=verbose,\n",
    "                                             save_best_only = sbo)"
   ]
  },
  {
   "cell_type": "markdown",
   "id": "e3043a45-93f8-4fc6-ab0e-0b84994bce55",
   "metadata": {},
   "source": [
    "# Model 1 - Dense Model (window size = 7, horizon = 1)"
   ]
  },
  {
   "cell_type": "markdown",
   "id": "313dd5d0-259f-45a1-a3cc-e518c626c7e2",
   "metadata": {},
   "source": [
    "## Using functional API"
   ]
  },
  {
   "cell_type": "code",
   "execution_count": 39,
   "id": "614bcd51-57b8-44e6-a55e-0867072cab32",
   "metadata": {},
   "outputs": [],
   "source": [
    "from tensorflow.keras import layers\n",
    "\n",
    "# define the input shape\n",
    "input_shape = (7,)\n",
    "# define input layer\n",
    "inputs = layers.Input(shape=input_shape, name='input_layer')\n",
    "\n",
    "# define middle dense layer\n",
    "dense = layers.Dense(128, activation='relu', name='dense_layer')(inputs)\n",
    "\n",
    "# define output layer\n",
    "outputs = layers.Dense(1, name='output_layer')(dense)\n",
    "\n",
    "model_1 = tf.keras.Model(inputs, outputs,name='model_1_dense')"
   ]
  },
  {
   "cell_type": "markdown",
   "id": "3527b111-bba8-4944-bc8e-356bf22dc904",
   "metadata": {},
   "source": [
    "## Using Sequential API"
   ]
  },
  {
   "cell_type": "code",
   "execution_count": 40,
   "id": "1f084882-449c-4955-ab2c-2dc2ab66b64a",
   "metadata": {},
   "outputs": [
    {
     "name": "stderr",
     "output_type": "stream",
     "text": [
      "2022-02-16 19:11:36.093822: W tensorflow/core/platform/profile_utils/cpu_utils.cc:128] Failed to get CPU frequency: 0 Hz\n"
     ]
    },
    {
     "name": "stdout",
     "output_type": "stream",
     "text": [
      "Epoch 1/100\n"
     ]
    },
    {
     "name": "stderr",
     "output_type": "stream",
     "text": [
      "2022-02-16 19:11:36.223184: I tensorflow/core/grappler/optimizers/custom_graph_optimizer_registry.cc:112] Plugin optimizer for device_type GPU is enabled.\n"
     ]
    },
    {
     "name": "stdout",
     "output_type": "stream",
     "text": [
      "18/18 [==============================] - ETA: 0s - loss: 403.8935 - mae: 403.8935 - mse: 679685.6250"
     ]
    },
    {
     "name": "stderr",
     "output_type": "stream",
     "text": [
      "2022-02-16 19:11:36.482823: I tensorflow/core/grappler/optimizers/custom_graph_optimizer_registry.cc:112] Plugin optimizer for device_type GPU is enabled.\n",
      "2022-02-16 19:11:36.598015: W tensorflow/python/util/util.cc:368] Sets are not currently considered sequences, but this may change in the future, so consider avoiding using them.\n"
     ]
    },
    {
     "name": "stdout",
     "output_type": "stream",
     "text": [
      "INFO:tensorflow:Assets written to: model_experiments/model_1_dense/assets\n",
      "18/18 [==============================] - 1s 24ms/step - loss: 403.8935 - mae: 403.8935 - mse: 679685.6250 - val_loss: 1602.8455 - val_mae: 1602.8455 - val_mse: 7946279.0000\n",
      "Epoch 2/100\n",
      "11/18 [=================>............] - ETA: 0s - loss: 295.3150 - mae: 295.3150 - mse: 427934.3438INFO:tensorflow:Assets written to: model_experiments/model_1_dense/assets\n",
      "18/18 [==============================] - 0s 19ms/step - loss: 270.9128 - mae: 270.9128 - mse: 363725.7500 - val_loss: 1424.7046 - val_mae: 1424.7046 - val_mse: 6517109.0000\n",
      "Epoch 3/100\n",
      "11/18 [=================>............] - ETA: 0s - loss: 257.7837 - mae: 257.7837 - mse: 312715.9062INFO:tensorflow:Assets written to: model_experiments/model_1_dense/assets\n",
      "18/18 [==============================] - 0s 15ms/step - loss: 253.1297 - mae: 253.1297 - mse: 305110.8125 - val_loss: 1303.7646 - val_mae: 1303.7646 - val_mse: 5528829.5000\n",
      "Epoch 4/100\n",
      "12/18 [===================>..........] - ETA: 0s - loss: 227.3230 - mae: 227.3230 - mse: 274880.1250INFO:tensorflow:Assets written to: model_experiments/model_1_dense/assets\n",
      "18/18 [==============================] - 0s 14ms/step - loss: 234.0654 - mae: 234.0654 - mse: 280831.0625 - val_loss: 1300.2880 - val_mae: 1300.2880 - val_mse: 5261337.5000\n",
      "Epoch 5/100\n",
      "11/18 [=================>............] - ETA: 0s - loss: 223.1385 - mae: 223.1385 - mse: 264263.9688INFO:tensorflow:Assets written to: model_experiments/model_1_dense/assets\n",
      "18/18 [==============================] - 0s 16ms/step - loss: 224.8164 - mae: 224.8164 - mse: 259733.3594 - val_loss: 1229.4952 - val_mae: 1229.4952 - val_mse: 4801581.0000\n",
      "Epoch 6/100\n",
      "12/18 [===================>..........] - ETA: 0s - loss: 215.2802 - mae: 215.2802 - mse: 252089.3438INFO:tensorflow:Assets written to: model_experiments/model_1_dense/assets\n",
      "18/18 [==============================] - 0s 14ms/step - loss: 221.6658 - mae: 221.6658 - mse: 253545.9688 - val_loss: 1204.5183 - val_mae: 1204.5183 - val_mse: 4553886.5000\n",
      "Epoch 7/100\n",
      "18/18 [==============================] - 0s 6ms/step - loss: 212.9718 - mae: 212.9718 - mse: 233860.8906 - val_loss: 1271.5988 - val_mae: 1271.5988 - val_mse: 4735897.5000\n",
      "Epoch 8/100\n",
      "11/18 [=================>............] - ETA: 0s - loss: 219.0684 - mae: 219.0684 - mse: 244141.3438INFO:tensorflow:Assets written to: model_experiments/model_1_dense/assets\n",
      "18/18 [==============================] - 0s 16ms/step - loss: 204.0395 - mae: 204.0395 - mse: 214049.9375 - val_loss: 1143.2482 - val_mae: 1143.2482 - val_mse: 4028573.5000\n",
      "Epoch 9/100\n",
      "18/18 [==============================] - 0s 6ms/step - loss: 196.2510 - mae: 196.2510 - mse: 201676.8438 - val_loss: 1157.6169 - val_mae: 1157.6169 - val_mse: 3986403.5000\n",
      "Epoch 10/100\n",
      "12/18 [===================>..........] - ETA: 0s - loss: 187.1064 - mae: 187.1064 - mse: 185248.2188INFO:tensorflow:Assets written to: model_experiments/model_1_dense/assets\n",
      "18/18 [==============================] - 0s 15ms/step - loss: 190.0453 - mae: 190.0453 - mse: 188481.9688 - val_loss: 1052.7080 - val_mae: 1052.7080 - val_mse: 3438000.2500\n",
      "Epoch 11/100\n",
      "11/18 [=================>............] - ETA: 0s - loss: 188.5311 - mae: 188.5311 - mse: 190017.7500INFO:tensorflow:Assets written to: model_experiments/model_1_dense/assets\n",
      "18/18 [==============================] - 0s 16ms/step - loss: 183.2790 - mae: 183.2790 - mse: 177138.6094 - val_loss: 981.2936 - val_mae: 981.2936 - val_mse: 3102090.7500\n",
      "Epoch 12/100\n",
      "18/18 [==============================] - 0s 6ms/step - loss: 188.1381 - mae: 188.1381 - mse: 177907.9531 - val_loss: 1018.5160 - val_mae: 1018.5160 - val_mse: 3119963.7500\n",
      "Epoch 13/100\n",
      "12/18 [===================>..........] - ETA: 0s - loss: 171.9282 - mae: 171.9282 - mse: 163413.4375INFO:tensorflow:Assets written to: model_experiments/model_1_dense/assets\n",
      "18/18 [==============================] - 0s 15ms/step - loss: 172.3021 - mae: 172.3021 - mse: 159180.6875 - val_loss: 913.5818 - val_mae: 913.5818 - val_mse: 2707028.0000\n",
      "Epoch 14/100\n",
      "12/18 [===================>..........] - ETA: 0s - loss: 161.8550 - mae: 161.8550 - mse: 135045.8906INFO:tensorflow:Assets written to: model_experiments/model_1_dense/assets\n",
      "18/18 [==============================] - 0s 14ms/step - loss: 165.7248 - mae: 165.7248 - mse: 150090.3750 - val_loss: 885.3596 - val_mae: 885.3596 - val_mse: 2523296.7500\n",
      "Epoch 15/100\n",
      "12/18 [===================>..........] - ETA: 0s - loss: 159.7957 - mae: 159.7957 - mse: 143993.1875INFO:tensorflow:Assets written to: model_experiments/model_1_dense/assets\n",
      "18/18 [==============================] - 0s 15ms/step - loss: 161.0128 - mae: 161.0128 - mse: 142746.0312 - val_loss: 853.8656 - val_mae: 853.8656 - val_mse: 2393905.2500\n",
      "Epoch 16/100\n",
      "18/18 [==============================] - 0s 6ms/step - loss: 156.9679 - mae: 156.9679 - mse: 134844.4219 - val_loss: 867.1498 - val_mae: 867.1498 - val_mse: 2324940.0000\n",
      "Epoch 17/100\n",
      "11/18 [=================>............] - ETA: 0s - loss: 146.6552 - mae: 146.6552 - mse: 109450.5938INFO:tensorflow:Assets written to: model_experiments/model_1_dense/assets\n",
      "18/18 [==============================] - 0s 15ms/step - loss: 150.7106 - mae: 150.7106 - mse: 124353.9297 - val_loss: 809.2389 - val_mae: 809.2389 - val_mse: 2138473.5000\n",
      "Epoch 18/100\n",
      "12/18 [===================>..........] - ETA: 0s - loss: 142.2038 - mae: 142.2038 - mse: 109618.0781INFO:tensorflow:Assets written to: model_experiments/model_1_dense/assets\n",
      "18/18 [==============================] - 0s 14ms/step - loss: 147.5640 - mae: 147.5640 - mse: 123016.1016 - val_loss: 791.8865 - val_mae: 791.8865 - val_mse: 2028310.1250\n",
      "Epoch 19/100\n",
      "18/18 [==============================] - 0s 6ms/step - loss: 145.5322 - mae: 145.5322 - mse: 118788.5391 - val_loss: 841.5405 - val_mae: 841.5405 - val_mse: 2134407.5000\n",
      "Epoch 20/100\n",
      "18/18 [==============================] - 0s 6ms/step - loss: 143.4455 - mae: 143.4455 - mse: 115826.1562 - val_loss: 1004.2834 - val_mae: 1004.2834 - val_mse: 2695697.2500\n",
      "Epoch 21/100\n",
      "12/18 [===================>..........] - ETA: 0s - loss: 143.8631 - mae: 143.8631 - mse: 122898.8438INFO:tensorflow:Assets written to: model_experiments/model_1_dense/assets\n",
      "18/18 [==============================] - 0s 15ms/step - loss: 145.5527 - mae: 145.5527 - mse: 122347.4844 - val_loss: 743.6391 - val_mae: 743.6391 - val_mse: 1807859.2500\n",
      "Epoch 22/100\n",
      "11/18 [=================>............] - ETA: 0s - loss: 137.1779 - mae: 137.1779 - mse: 101542.3984INFO:tensorflow:Assets written to: model_experiments/model_1_dense/assets\n",
      "18/18 [==============================] - 0s 16ms/step - loss: 140.0801 - mae: 140.0801 - mse: 110476.2656 - val_loss: 729.3982 - val_mae: 729.3982 - val_mse: 1755703.8750\n",
      "Epoch 23/100\n",
      "18/18 [==============================] - 0s 6ms/step - loss: 135.9928 - mae: 135.9928 - mse: 106331.8125 - val_loss: 740.7589 - val_mae: 740.7589 - val_mse: 1744116.8750\n",
      "Epoch 24/100\n",
      "18/18 [==============================] - 0s 6ms/step - loss: 135.7814 - mae: 135.7814 - mse: 106904.1484 - val_loss: 734.6354 - val_mae: 734.6354 - val_mse: 1716485.6250\n",
      "Epoch 25/100\n",
      "12/18 [===================>..........] - ETA: 0s - loss: 131.8865 - mae: 131.8865 - mse: 96533.4922INFO:tensorflow:Assets written to: model_experiments/model_1_dense/assets\n",
      "18/18 [==============================] - 0s 19ms/step - loss: 134.1138 - mae: 134.1138 - mse: 105466.2656 - val_loss: 717.5319 - val_mae: 717.5319 - val_mse: 1659286.3750\n",
      "Epoch 26/100\n",
      "11/18 [=================>............] - ETA: 0s - loss: 135.6568 - mae: 135.6568 - mse: 104538.6406INFO:tensorflow:Assets written to: model_experiments/model_1_dense/assets\n",
      "18/18 [==============================] - 0s 15ms/step - loss: 132.1300 - mae: 132.1300 - mse: 102452.8906 - val_loss: 702.5200 - val_mae: 702.5200 - val_mse: 1647848.5000\n",
      "Epoch 27/100\n",
      "11/18 [=================>............] - ETA: 0s - loss: 146.2095 - mae: 146.2095 - mse: 112775.1953INFO:tensorflow:Assets written to: model_experiments/model_1_dense/assets\n",
      "18/18 [==============================] - 0s 15ms/step - loss: 136.7450 - mae: 136.7450 - mse: 102897.9766 - val_loss: 696.9367 - val_mae: 696.9367 - val_mse: 1620392.3750\n",
      "Epoch 28/100\n",
      "11/18 [=================>............] - ETA: 0s - loss: 133.9932 - mae: 133.9932 - mse: 107084.2188INFO:tensorflow:Assets written to: model_experiments/model_1_dense/assets\n",
      "18/18 [==============================] - 0s 14ms/step - loss: 132.9392 - mae: 132.9392 - mse: 99963.6094 - val_loss: 695.5861 - val_mae: 695.5861 - val_mse: 1569639.6250\n",
      "Epoch 29/100\n",
      "18/18 [==============================] - 0s 6ms/step - loss: 130.3015 - mae: 130.3015 - mse: 98323.8594 - val_loss: 706.9319 - val_mae: 706.9319 - val_mse: 1582601.7500\n",
      "Epoch 30/100\n",
      "18/18 [==============================] - 0s 6ms/step - loss: 133.1173 - mae: 133.1173 - mse: 99258.1484 - val_loss: 729.9315 - val_mae: 729.9315 - val_mse: 1634377.3750\n",
      "Epoch 31/100\n",
      "18/18 [==============================] - 0s 6ms/step - loss: 139.2841 - mae: 139.2841 - mse: 105077.2188 - val_loss: 743.1721 - val_mae: 743.1721 - val_mse: 1664339.6250\n",
      "Epoch 32/100\n",
      "18/18 [==============================] - 0s 6ms/step - loss: 132.2263 - mae: 132.2263 - mse: 99843.3203 - val_loss: 714.2238 - val_mae: 714.2238 - val_mse: 1583123.6250\n",
      "Epoch 33/100\n",
      "12/18 [===================>..........] - ETA: 0s - loss: 128.1963 - mae: 128.1963 - mse: 90536.1875 INFO:tensorflow:Assets written to: model_experiments/model_1_dense/assets\n",
      "18/18 [==============================] - 0s 15ms/step - loss: 128.1865 - mae: 128.1865 - mse: 92377.1406 - val_loss: 670.6476 - val_mae: 670.6476 - val_mse: 1485083.0000\n",
      "Epoch 34/100\n",
      "10/18 [===============>..............] - ETA: 0s - loss: 130.6908 - mae: 130.6908 - mse: 105137.7266INFO:tensorflow:Assets written to: model_experiments/model_1_dense/assets\n",
      "18/18 [==============================] - 0s 15ms/step - loss: 124.7351 - mae: 124.7351 - mse: 91434.7891 - val_loss: 665.6191 - val_mae: 665.6191 - val_mse: 1476357.3750\n",
      "Epoch 35/100\n",
      "12/18 [===================>..........] - ETA: 0s - loss: 124.8446 - mae: 124.8446 - mse: 95297.5625INFO:tensorflow:Assets written to: model_experiments/model_1_dense/assets\n",
      "18/18 [==============================] - 0s 15ms/step - loss: 125.7434 - mae: 125.7434 - mse: 93187.5469 - val_loss: 662.3414 - val_mae: 662.3414 - val_mse: 1468772.8750\n",
      "Epoch 36/100\n",
      "18/18 [==============================] - 0s 7ms/step - loss: 127.6732 - mae: 127.6732 - mse: 94187.0234 - val_loss: 841.5544 - val_mae: 841.5544 - val_mse: 1958575.5000\n",
      "Epoch 37/100\n",
      "18/18 [==============================] - 0s 6ms/step - loss: 134.6572 - mae: 134.6572 - mse: 96542.1875 - val_loss: 711.7722 - val_mae: 711.7722 - val_mse: 1549469.8750\n",
      "Epoch 38/100\n",
      "18/18 [==============================] - 0s 6ms/step - loss: 124.1174 - mae: 124.1174 - mse: 89251.5938 - val_loss: 677.3586 - val_mae: 677.3586 - val_mse: 1526599.0000\n",
      "Epoch 39/100\n",
      "12/18 [===================>..........] - ETA: 0s - loss: 119.6532 - mae: 119.6532 - mse: 84606.0078INFO:tensorflow:Assets written to: model_experiments/model_1_dense/assets\n",
      "18/18 [==============================] - 0s 15ms/step - loss: 122.8801 - mae: 122.8801 - mse: 89339.2812 - val_loss: 660.8986 - val_mae: 660.8986 - val_mse: 1424911.5000\n",
      "Epoch 40/100\n",
      "11/18 [=================>............] - ETA: 0s - loss: 120.8531 - mae: 120.8531 - mse: 90058.8984INFO:tensorflow:Assets written to: model_experiments/model_1_dense/assets\n",
      "18/18 [==============================] - 0s 15ms/step - loss: 122.2974 - mae: 122.2974 - mse: 89097.9453 - val_loss: 654.0691 - val_mae: 654.0691 - val_mse: 1439358.8750\n",
      "Epoch 41/100\n",
      "18/18 [==============================] - 0s 6ms/step - loss: 126.6461 - mae: 126.6461 - mse: 92167.4375 - val_loss: 660.0796 - val_mae: 660.0796 - val_mse: 1415130.0000\n",
      "Epoch 42/100\n",
      "11/18 [=================>............] - ETA: 0s - loss: 126.9810 - mae: 126.9810 - mse: 96817.5234INFO:tensorflow:Assets written to: model_experiments/model_1_dense/assets\n",
      "18/18 [==============================] - 0s 15ms/step - loss: 126.3134 - mae: 126.3134 - mse: 91303.9609 - val_loss: 645.2800 - val_mae: 645.2800 - val_mse: 1405498.8750\n",
      "Epoch 43/100\n",
      "18/18 [==============================] - 0s 6ms/step - loss: 123.4874 - mae: 123.4874 - mse: 90758.8047 - val_loss: 651.0041 - val_mae: 651.0041 - val_mse: 1430199.0000\n",
      "Epoch 44/100\n",
      "18/18 [==============================] - 0s 6ms/step - loss: 121.9557 - mae: 121.9557 - mse: 87967.6172 - val_loss: 673.7179 - val_mae: 673.7179 - val_mse: 1503184.7500\n",
      "Epoch 45/100\n",
      "18/18 [==============================] - 0s 6ms/step - loss: 121.0681 - mae: 121.0681 - mse: 86748.7422 - val_loss: 683.6873 - val_mae: 683.6873 - val_mse: 1532733.6250\n",
      "Epoch 46/100\n",
      "18/18 [==============================] - 0s 6ms/step - loss: 124.8545 - mae: 124.8545 - mse: 85916.8281 - val_loss: 645.9688 - val_mae: 645.9688 - val_mse: 1375061.8750\n",
      "Epoch 47/100\n",
      "12/18 [===================>..........] - ETA: 0s - loss: 114.6852 - mae: 114.6852 - mse: 72481.4219INFO:tensorflow:Assets written to: model_experiments/model_1_dense/assets\n",
      "18/18 [==============================] - 0s 15ms/step - loss: 118.8121 - mae: 118.8121 - mse: 84110.5938 - val_loss: 638.6003 - val_mae: 638.6002 - val_mse: 1361434.8750\n",
      "Epoch 48/100\n",
      "18/18 [==============================] - ETA: 0s - loss: 118.9147 - mae: 118.9147 - mse: 84939.5547INFO:tensorflow:Assets written to: model_experiments/model_1_dense/assets\n",
      "18/18 [==============================] - 0s 17ms/step - loss: 118.9147 - mae: 118.9147 - mse: 84939.5547 - val_loss: 636.4286 - val_mae: 636.4286 - val_mse: 1354973.2500\n",
      "Epoch 49/100\n",
      "18/18 [==============================] - 0s 6ms/step - loss: 121.0476 - mae: 121.0476 - mse: 84758.6094 - val_loss: 638.7079 - val_mae: 638.7079 - val_mse: 1351918.1250\n",
      "Epoch 50/100\n",
      "18/18 [==============================] - 0s 6ms/step - loss: 121.3074 - mae: 121.3074 - mse: 85949.4297 - val_loss: 807.4496 - val_mae: 807.4496 - val_mse: 1808580.8750\n",
      "Epoch 51/100\n",
      "18/18 [==============================] - 0s 6ms/step - loss: 127.1746 - mae: 127.1746 - mse: 92599.6562 - val_loss: 656.7538 - val_mae: 656.7538 - val_mse: 1377625.6250\n",
      "Epoch 52/100\n",
      "18/18 [==============================] - 0s 6ms/step - loss: 118.9586 - mae: 118.9586 - mse: 84193.6719 - val_loss: 640.3976 - val_mae: 640.3976 - val_mse: 1385623.7500\n",
      "Epoch 53/100\n",
      "12/18 [===================>..........] - ETA: 0s - loss: 117.4708 - mae: 117.4708 - mse: 87755.6250INFO:tensorflow:Assets written to: model_experiments/model_1_dense/assets\n",
      "18/18 [==============================] - 0s 15ms/step - loss: 117.5571 - mae: 117.5571 - mse: 83403.4219 - val_loss: 628.8115 - val_mae: 628.8115 - val_mse: 1322449.8750\n",
      "Epoch 54/100\n",
      "18/18 [==============================] - 0s 6ms/step - loss: 121.0566 - mae: 121.0566 - mse: 84890.4141 - val_loss: 655.9384 - val_mae: 655.9384 - val_mse: 1368663.6250\n",
      "Epoch 55/100\n",
      "18/18 [==============================] - 0s 6ms/step - loss: 116.6431 - mae: 116.6431 - mse: 82024.1562 - val_loss: 666.7210 - val_mae: 666.7210 - val_mse: 1389672.3750\n",
      "Epoch 56/100\n",
      "18/18 [==============================] - 0s 7ms/step - loss: 119.6507 - mae: 119.6507 - mse: 83104.5547 - val_loss: 731.4155 - val_mae: 731.4155 - val_mse: 1560623.8750\n",
      "Epoch 57/100\n",
      "18/18 [==============================] - 0s 7ms/step - loss: 121.9439 - mae: 121.9439 - mse: 83182.5547 - val_loss: 830.0773 - val_mae: 830.0773 - val_mse: 1873710.5000\n",
      "Epoch 58/100\n",
      "11/18 [=================>............] - ETA: 0s - loss: 125.6179 - mae: 125.6179 - mse: 79619.2891INFO:tensorflow:Assets written to: model_experiments/model_1_dense/assets\n",
      "18/18 [==============================] - 0s 15ms/step - loss: 126.4865 - mae: 126.4865 - mse: 86090.4219 - val_loss: 619.0391 - val_mae: 619.0391 - val_mse: 1316655.2500\n",
      "Epoch 59/100\n",
      "18/18 [==============================] - 0s 7ms/step - loss: 120.8891 - mae: 120.8891 - mse: 84265.4609 - val_loss: 628.9579 - val_mae: 628.9579 - val_mse: 1313013.6250\n",
      "Epoch 60/100\n",
      "18/18 [==============================] - 0s 7ms/step - loss: 116.0245 - mae: 116.0245 - mse: 79387.1562 - val_loss: 647.8458 - val_mae: 647.8458 - val_mse: 1343723.5000\n",
      "Epoch 61/100\n",
      "12/18 [===================>..........] - ETA: 0s - loss: 124.0876 - mae: 124.0876 - mse: 89426.8438INFO:tensorflow:Assets written to: model_experiments/model_1_dense/assets\n",
      "18/18 [==============================] - 0s 15ms/step - loss: 119.1265 - mae: 119.1265 - mse: 81711.3516 - val_loss: 613.0812 - val_mae: 613.0811 - val_mse: 1289423.6250\n",
      "Epoch 62/100\n",
      "18/18 [==============================] - 0s 6ms/step - loss: 114.2231 - mae: 114.2231 - mse: 79461.0078 - val_loss: 613.5884 - val_mae: 613.5884 - val_mse: 1295389.3750\n",
      "Epoch 63/100\n",
      "18/18 [==============================] - 0s 7ms/step - loss: 118.3315 - mae: 118.3315 - mse: 80567.7109 - val_loss: 695.5152 - val_mae: 695.5152 - val_mse: 1538359.0000\n",
      "Epoch 64/100\n",
      "18/18 [==============================] - 0s 7ms/step - loss: 121.7221 - mae: 121.7221 - mse: 81874.2031 - val_loss: 622.6199 - val_mae: 622.6199 - val_mse: 1323659.2500\n",
      "Epoch 65/100\n",
      "18/18 [==============================] - 0s 7ms/step - loss: 115.0602 - mae: 115.0602 - mse: 79137.0156 - val_loss: 645.1739 - val_mae: 645.1739 - val_mse: 1388519.6250\n",
      "Epoch 66/100\n",
      "18/18 [==============================] - 0s 7ms/step - loss: 113.8851 - mae: 113.8851 - mse: 77963.4297 - val_loss: 645.5915 - val_mae: 645.5915 - val_mse: 1389608.2500\n",
      "Epoch 67/100\n",
      "18/18 [==============================] - 0s 7ms/step - loss: 115.1993 - mae: 115.1993 - mse: 79894.7734 - val_loss: 624.2841 - val_mae: 624.2841 - val_mse: 1290931.7500\n",
      "Epoch 68/100\n",
      "18/18 [==============================] - 0s 6ms/step - loss: 113.3905 - mae: 113.3905 - mse: 77149.1719 - val_loss: 641.8885 - val_mae: 641.8885 - val_mse: 1376978.2500\n",
      "Epoch 69/100\n",
      "18/18 [==============================] - 0s 6ms/step - loss: 119.1358 - mae: 119.1358 - mse: 79644.3438 - val_loss: 627.6355 - val_mae: 627.6355 - val_mse: 1334402.5000\n",
      "Epoch 70/100\n",
      "12/18 [===================>..........] - ETA: 0s - loss: 117.3076 - mae: 117.3076 - mse: 81546.4922 INFO:tensorflow:Assets written to: model_experiments/model_1_dense/assets\n",
      "18/18 [==============================] - 0s 19ms/step - loss: 118.2151 - mae: 118.2151 - mse: 81946.5234 - val_loss: 604.6892 - val_mae: 604.6892 - val_mse: 1264559.0000\n",
      "Epoch 71/100\n",
      "18/18 [==============================] - 0s 6ms/step - loss: 115.2746 - mae: 115.2746 - mse: 79488.7266 - val_loss: 606.9216 - val_mae: 606.9216 - val_mse: 1261693.5000\n",
      "Epoch 72/100\n",
      "18/18 [==============================] - 0s 7ms/step - loss: 112.9653 - mae: 112.9653 - mse: 77131.7578 - val_loss: 605.3735 - val_mae: 605.3735 - val_mse: 1268572.5000\n",
      "Epoch 73/100\n",
      "18/18 [==============================] - 0s 7ms/step - loss: 113.9484 - mae: 113.9484 - mse: 76969.7031 - val_loss: 635.8459 - val_mae: 635.8459 - val_mse: 1363529.0000\n",
      "Epoch 74/100\n",
      "11/18 [=================>............] - ETA: 0s - loss: 120.9724 - mae: 120.9724 - mse: 86772.5000 INFO:tensorflow:Assets written to: model_experiments/model_1_dense/assets\n",
      "18/18 [==============================] - 0s 15ms/step - loss: 118.7923 - mae: 118.7923 - mse: 81336.6328 - val_loss: 604.6724 - val_mae: 604.6724 - val_mse: 1264559.8750\n",
      "Epoch 75/100\n",
      "10/18 [===============>..............] - ETA: 0s - loss: 112.2323 - mae: 112.2323 - mse: 82870.1484INFO:tensorflow:Assets written to: model_experiments/model_1_dense/assets\n",
      "18/18 [==============================] - 0s 15ms/step - loss: 112.6626 - mae: 112.6626 - mse: 76766.4297 - val_loss: 603.1737 - val_mae: 603.1737 - val_mse: 1260155.8750\n",
      "Epoch 76/100\n",
      "18/18 [==============================] - 0s 7ms/step - loss: 112.7801 - mae: 112.7801 - mse: 76893.0781 - val_loss: 645.5546 - val_mae: 645.5546 - val_mse: 1328501.5000\n",
      "Epoch 77/100\n",
      "18/18 [==============================] - 0s 6ms/step - loss: 114.4207 - mae: 114.4207 - mse: 76919.9141 - val_loss: 623.0315 - val_mae: 623.0315 - val_mse: 1281133.1250\n",
      "Epoch 78/100\n",
      "11/18 [=================>............] - ETA: 0s - loss: 114.8006 - mae: 114.8006 - mse: 81435.3750INFO:tensorflow:Assets written to: model_experiments/model_1_dense/assets\n",
      "18/18 [==============================] - 0s 15ms/step - loss: 111.3597 - mae: 111.3597 - mse: 75933.3750 - val_loss: 602.5387 - val_mae: 602.5387 - val_mse: 1259824.1250\n",
      "Epoch 79/100\n",
      "18/18 [==============================] - 0s 6ms/step - loss: 115.0389 - mae: 115.0389 - mse: 78367.2891 - val_loss: 609.5881 - val_mae: 609.5881 - val_mse: 1255458.5000\n",
      "Epoch 80/100\n",
      "18/18 [==============================] - 0s 6ms/step - loss: 111.2871 - mae: 111.2871 - mse: 76107.4688 - val_loss: 646.6298 - val_mae: 646.6298 - val_mse: 1330363.0000\n",
      "Epoch 81/100\n",
      "11/18 [=================>............] - ETA: 0s - loss: 113.2113 - mae: 113.2113 - mse: 72165.0391 INFO:tensorflow:Assets written to: model_experiments/model_1_dense/assets\n",
      "18/18 [==============================] - 0s 15ms/step - loss: 110.9954 - mae: 110.9954 - mse: 75534.7969 - val_loss: 600.1802 - val_mae: 600.1802 - val_mse: 1239377.1250\n",
      "Epoch 82/100\n",
      "18/18 [==============================] - 0s 6ms/step - loss: 113.8877 - mae: 113.8877 - mse: 75611.4922 - val_loss: 800.9847 - val_mae: 800.9847 - val_mse: 1840868.2500\n",
      "Epoch 83/100\n",
      "18/18 [==============================] - 0s 6ms/step - loss: 134.3629 - mae: 134.3629 - mse: 93674.0156 - val_loss: 651.9568 - val_mae: 651.9568 - val_mse: 1396252.5000\n",
      "Epoch 84/100\n",
      "18/18 [==============================] - 0s 7ms/step - loss: 118.5477 - mae: 118.5477 - mse: 79192.0156 - val_loss: 639.8487 - val_mae: 639.8487 - val_mse: 1313980.0000\n",
      "Epoch 85/100\n",
      "18/18 [==============================] - 0s 6ms/step - loss: 119.1541 - mae: 119.1541 - mse: 82154.3672 - val_loss: 723.1260 - val_mae: 723.1260 - val_mse: 1521417.7500\n",
      "Epoch 86/100\n",
      "18/18 [==============================] - 0s 7ms/step - loss: 120.0387 - mae: 120.0387 - mse: 80309.8984 - val_loss: 694.4504 - val_mae: 694.4504 - val_mse: 1445947.1250\n",
      "Epoch 87/100\n",
      "18/18 [==============================] - 0s 7ms/step - loss: 111.7854 - mae: 111.7854 - mse: 74646.6562 - val_loss: 660.3218 - val_mae: 660.3218 - val_mse: 1360137.5000\n",
      "Epoch 88/100\n",
      "11/18 [=================>............] - ETA: 0s - loss: 112.8163 - mae: 112.8163 - mse: 78441.5938 INFO:tensorflow:Assets written to: model_experiments/model_1_dense/assets\n",
      "18/18 [==============================] - 0s 15ms/step - loss: 113.2408 - mae: 113.2408 - mse: 76896.5156 - val_loss: 599.9261 - val_mae: 599.9261 - val_mse: 1234775.2500\n",
      "Epoch 89/100\n",
      "18/18 [==============================] - 0s 6ms/step - loss: 109.8772 - mae: 109.8772 - mse: 74466.2812 - val_loss: 603.8158 - val_mae: 603.8158 - val_mse: 1267062.6250\n",
      "Epoch 90/100\n",
      "18/18 [==============================] - 0s 6ms/step - loss: 111.1967 - mae: 111.1967 - mse: 74416.0625 - val_loss: 600.5987 - val_mae: 600.5987 - val_mse: 1234581.6250\n",
      "Epoch 91/100\n",
      "18/18 [==============================] - 0s 6ms/step - loss: 110.4921 - mae: 110.4921 - mse: 74240.5469 - val_loss: 609.9434 - val_mae: 609.9433 - val_mse: 1249103.0000\n",
      "Epoch 92/100\n",
      "12/18 [===================>..........] - ETA: 0s - loss: 114.8352 - mae: 114.8352 - mse: 76703.8984INFO:tensorflow:Assets written to: model_experiments/model_1_dense/assets\n",
      "18/18 [==============================] - 0s 15ms/step - loss: 112.4402 - mae: 112.4402 - mse: 75449.5234 - val_loss: 590.7833 - val_mae: 590.7833 - val_mse: 1223174.7500\n",
      "Epoch 93/100\n",
      "18/18 [==============================] - 0s 7ms/step - loss: 109.8432 - mae: 109.8432 - mse: 74104.8750 - val_loss: 597.6229 - val_mae: 597.6229 - val_mse: 1248843.2500\n",
      "Epoch 94/100\n",
      "18/18 [==============================] - 0s 6ms/step - loss: 111.4863 - mae: 111.4863 - mse: 75679.6953 - val_loss: 641.2877 - val_mae: 641.2877 - val_mse: 1314861.0000\n",
      "Epoch 95/100\n",
      "18/18 [==============================] - 0s 7ms/step - loss: 111.1791 - mae: 111.1791 - mse: 73039.7188 - val_loss: 600.5338 - val_mae: 600.5338 - val_mse: 1231982.2500\n",
      "Epoch 96/100\n",
      "18/18 [==============================] - 0s 6ms/step - loss: 111.5376 - mae: 111.5376 - mse: 75003.0859 - val_loss: 594.1301 - val_mae: 594.1301 - val_mse: 1224669.1250\n",
      "Epoch 97/100\n",
      "18/18 [==============================] - 0s 6ms/step - loss: 109.2516 - mae: 109.2516 - mse: 73895.7891 - val_loss: 590.8845 - val_mae: 590.8845 - val_mse: 1220515.0000\n",
      "Epoch 98/100\n",
      "18/18 [==============================] - 0s 6ms/step - loss: 109.4169 - mae: 109.4169 - mse: 74311.7109 - val_loss: 613.9431 - val_mae: 613.9431 - val_mse: 1289049.8750\n",
      "Epoch 99/100\n",
      "18/18 [==============================] - 0s 6ms/step - loss: 110.0315 - mae: 110.0315 - mse: 73961.9375 - val_loss: 592.3825 - val_mae: 592.3825 - val_mse: 1218734.1250\n",
      "Epoch 100/100\n",
      "18/18 [==============================] - 0s 6ms/step - loss: 108.9994 - mae: 108.9994 - mse: 73856.1172 - val_loss: 623.9962 - val_mae: 623.9962 - val_mse: 1275580.7500\n"
     ]
    },
    {
     "data": {
      "text/plain": [
       "<keras.callbacks.History at 0x150875220>"
      ]
     },
     "execution_count": 40,
     "metadata": {},
     "output_type": "execute_result"
    }
   ],
   "source": [
    "# 1. create the model\n",
    "model_1 = tf.keras.Sequential([\n",
    "    layers.Dense(128, activation='relu'),\n",
    "    layers.Dense(HORIZON, activation='linear')\n",
    "], name='model_1_dense')\n",
    "\n",
    "# 2. compile the model\n",
    "model_1.compile(\n",
    "    loss = 'mae',\n",
    "    optimizer=tf.keras.optimizers.Adam(),\n",
    "    metrics=['mae','mse']\n",
    ")\n",
    "\n",
    "# 3. fit the model\n",
    "model_1.fit(\n",
    "    train_windows,\n",
    "    train_labels,\n",
    "    epochs=100,\n",
    "    verbose=1,\n",
    "    batch_size=128,\n",
    "    validation_data=(test_windows,test_labels),\n",
    "    callbacks=[create_model_checkpoint(model_name=model_1.name)]\n",
    ")"
   ]
  },
  {
   "cell_type": "code",
   "execution_count": 41,
   "id": "219af2b5-aff2-482a-af28-a1dd023d41a8",
   "metadata": {},
   "outputs": [],
   "source": [
    "# load in the saved best performing model\n",
    "model_1 = tf.keras.models.load_model(\"model_experiments/model_1_dense\")"
   ]
  },
  {
   "cell_type": "code",
   "execution_count": 42,
   "id": "64a875a9-868f-4753-916c-a27a8299917a",
   "metadata": {},
   "outputs": [
    {
     "name": "stdout",
     "output_type": "stream",
     "text": [
      "18/18 [==============================] - 0s 4ms/step - loss: 590.7833 - mae: 590.7833 - mse: 1223174.7500\n"
     ]
    },
    {
     "name": "stderr",
     "output_type": "stream",
     "text": [
      "2022-02-16 19:11:54.002406: I tensorflow/core/grappler/optimizers/custom_graph_optimizer_registry.cc:112] Plugin optimizer for device_type GPU is enabled.\n"
     ]
    },
    {
     "data": {
      "text/plain": [
       "[590.7833251953125, 590.7833251953125, 1223174.75]"
      ]
     },
     "execution_count": 42,
     "metadata": {},
     "output_type": "execute_result"
    }
   ],
   "source": [
    "# evaluate the model\n",
    "model_1.evaluate(test_windows, test_labels)"
   ]
  },
  {
   "cell_type": "code",
   "execution_count": 43,
   "id": "27d7adde-5c90-4b2f-a4bc-6965c7761f53",
   "metadata": {},
   "outputs": [
    {
     "name": "stderr",
     "output_type": "stream",
     "text": [
      "2022-02-16 19:11:54.138059: I tensorflow/core/grappler/optimizers/custom_graph_optimizer_registry.cc:112] Plugin optimizer for device_type GPU is enabled.\n"
     ]
    }
   ],
   "source": [
    "model_1_preds = model_1.predict(test_windows)"
   ]
  },
  {
   "cell_type": "code",
   "execution_count": 44,
   "id": "37bdffaf-f897-4aa5-9321-17498448a922",
   "metadata": {},
   "outputs": [
    {
     "data": {
      "text/plain": [
       "{'mae': 567.9803,\n",
       " 'mse': 1147547.1,\n",
       " 'rmse': 1071.2362,\n",
       " 'mape': 2.516525,\n",
       " 'mase': 0.99957}"
      ]
     },
     "execution_count": 44,
     "metadata": {},
     "output_type": "execute_result"
    }
   ],
   "source": [
    "naive_results"
   ]
  },
  {
   "cell_type": "code",
   "execution_count": 45,
   "id": "538beed1-cfe5-4b77-8367-3238a09cf54c",
   "metadata": {},
   "outputs": [],
   "source": [
    "# let's write a function to make forcasts for any kind of model\n",
    "def make_preds(model, X_test, y_test):\n",
    "    \"\"\"\n",
    "        Function that takes in a trained model, makes predictions on X_test and computes evaluation metrics with comparison betwenn y_test and the predictions.\n",
    "    \"\"\"\n",
    "    y_pred = model.predict(X_test)\n",
    "    \n",
    "    return evaluate_preds(y_test.reshape(-1,),y_pred.reshape(-1,))"
   ]
  },
  {
   "cell_type": "code",
   "execution_count": 46,
   "id": "a3f668bb-1136-495a-b36e-9583e005df36",
   "metadata": {},
   "outputs": [
    {
     "data": {
      "text/plain": [
       "{'mae': 590.7833,\n",
       " 'mse': 1223174.8,\n",
       " 'rmse': 1105.9723,\n",
       " 'mape': 2.6623483,\n",
       " 'mase': 1.0378426}"
      ]
     },
     "execution_count": 46,
     "metadata": {},
     "output_type": "execute_result"
    }
   ],
   "source": [
    "model_1_results = make_preds(model_1, test_windows, test_labels)\n",
    "model_1_results"
   ]
  },
  {
   "cell_type": "code",
   "execution_count": 47,
   "id": "80197710-e37d-4180-bdc7-0c9153ba34e2",
   "metadata": {},
   "outputs": [
    {
     "data": {
      "image/png": "[encoded data removed]",
      "text/plain": [
       "<Figure size 720x504 with 1 Axes>"
      ]
     },
     "metadata": {
      "needs_background": "light"
     },
     "output_type": "display_data"
    }
   ],
   "source": [
    "# Lets plot our model 1 predictions\n",
    "\n",
    "offset = 500\n",
    "plt.figure(figsize=(10,7))\n",
    "\n",
    "plot_time_series(\n",
    "    timestamp=X_test[-len(test_windows):],\n",
    "    values=test_labels[:,0],\n",
    "    start=offset,\n",
    "    label=\"test data\"\n",
    "                \n",
    ")\n",
    "plot_time_series(\n",
    "    timestamp=X_test[-len(test_windows):],\n",
    "    values=model_1_preds[:,0],\n",
    "    formated='-',\n",
    "    start=offset,\n",
    "    label=\"predictions\"          \n",
    ")"
   ]
  },
  {
   "cell_type": "markdown",
   "id": "8fa39aa4-fc75-4ba7-b389-9c1755cca483",
   "metadata": {},
   "source": [
    "# Model 2 - Dense (window = 30, horizon = 1)"
   ]
  },
  {
   "cell_type": "code",
   "execution_count": 48,
   "id": "f4effcaa-bb19-4abe-888c-788f25397fe5",
   "metadata": {},
   "outputs": [],
   "source": [
    "HORIZON = 1\n",
    "WINDOW_SIZE = 30"
   ]
  },
  {
   "cell_type": "code",
   "execution_count": 49,
   "id": "4d8e27d7-63c1-4110-a255-ae02324c2f07",
   "metadata": {},
   "outputs": [],
   "source": [
    "full_windows, full_labels = make_windows(np.array(prices), window_size=WINDOW_SIZE, horizon = HORIZON)"
   ]
  },
  {
   "cell_type": "code",
   "execution_count": 50,
   "id": "73e2190e-d71b-4bd8-8574-e4438e8c40e8",
   "metadata": {},
   "outputs": [
    {
     "data": {
      "text/plain": [
       "(2757, 2757)"
      ]
     },
     "execution_count": 50,
     "metadata": {},
     "output_type": "execute_result"
    }
   ],
   "source": [
    "len(full_windows), len(full_labels)"
   ]
  },
  {
   "cell_type": "code",
   "execution_count": 51,
   "id": "82542104-f022-4f3a-96cc-29f461249582",
   "metadata": {},
   "outputs": [],
   "source": [
    "# create train and test splits\n",
    "train_windows, test_windows, train_labels, test_labels = make_train_test_splits(full_windows,full_labels)"
   ]
  },
  {
   "cell_type": "code",
   "execution_count": 52,
   "id": "96a074d0-914d-480d-82f2-fa0d32f29a5a",
   "metadata": {},
   "outputs": [
    {
     "name": "stdout",
     "output_type": "stream",
     "text": [
      "Window: [123.65499 125.455   108.58483 118.67466 121.33866 120.65533 121.795\n",
      " 123.033   124.049   125.96116 125.27966 125.9275  126.38333 135.24199\n",
      " 133.20333 142.76333 137.92333 142.95166 152.55183 160.33883 164.31499\n",
      " 177.63333 188.29716 200.70166 180.355   175.03166 177.6965  187.15983\n",
      " 192.75666 197.4    ] -> Labels: [196.02499]\n"
     ]
    }
   ],
   "source": [
    "# take a look a the data \n",
    "print(f\"Window: {train_windows[0]} -> Labels: {train_labels[0]}\")"
   ]
  },
  {
   "cell_type": "code",
   "execution_count": 53,
   "id": "a53fcadc-783c-4e44-8dff-7086a428da89",
   "metadata": {},
   "outputs": [
    {
     "name": "stdout",
     "output_type": "stream",
     "text": [
      "Epoch 1/100\n",
      "11/18 [=================>............] - ETA: 0s - loss: 1063.1445 - mae: 1063.1445 - mse: 4991557.0000 "
     ]
    },
    {
     "name": "stderr",
     "output_type": "stream",
     "text": [
      "2022-02-16 19:11:54.438897: I tensorflow/core/grappler/optimizers/custom_graph_optimizer_registry.cc:112] Plugin optimizer for device_type GPU is enabled.\n",
      "2022-02-16 19:11:54.633670: I tensorflow/core/grappler/optimizers/custom_graph_optimizer_registry.cc:112] Plugin optimizer for device_type GPU is enabled.\n"
     ]
    },
    {
     "name": "stdout",
     "output_type": "stream",
     "text": [
      "INFO:tensorflow:Assets written to: model_experiments/model_2_dense/assets\n",
      "18/18 [==============================] - 0s 19ms/step - loss: 952.9695 - mae: 952.9695 - mse: 4028625.0000 - val_loss: 3151.1599 - val_mae: 3151.1599 - val_mse: 24939412.0000\n",
      "Epoch 2/100\n",
      "12/18 [===================>..........] - ETA: 0s - loss: 601.6326 - mae: 601.6326 - mse: 1726714.3750INFO:tensorflow:Assets written to: model_experiments/model_2_dense/assets\n",
      "18/18 [==============================] - 0s 15ms/step - loss: 576.3041 - mae: 576.3041 - mse: 1571538.8750 - val_loss: 2592.2383 - val_mae: 2592.2383 - val_mse: 16633597.0000\n",
      "Epoch 3/100\n",
      "13/18 [====================>.........] - ETA: 0s - loss: 380.5703 - mae: 380.5703 - mse: 678322.1875INFO:tensorflow:Assets written to: model_experiments/model_2_dense/assets\n",
      "18/18 [==============================] - 0s 15ms/step - loss: 355.7351 - mae: 355.7351 - mse: 617424.5000 - val_loss: 1441.6714 - val_mae: 1441.6714 - val_mse: 6109642.5000\n",
      "Epoch 4/100\n",
      "11/18 [=================>............] - ETA: 0s - loss: 243.8187 - mae: 243.8187 - mse: 305718.2188INFO:tensorflow:Assets written to: model_experiments/model_2_dense/assets\n",
      "18/18 [==============================] - 0s 19ms/step - loss: 227.2274 - mae: 227.2274 - mse: 277645.8125 - val_loss: 1435.9697 - val_mae: 1435.9697 - val_mse: 6263515.0000\n",
      "Epoch 5/100\n",
      "11/18 [=================>............] - ETA: 0s - loss: 226.5665 - mae: 226.5665 - mse: 258857.7188INFO:tensorflow:Assets written to: model_experiments/model_2_dense/assets\n",
      "18/18 [==============================] - 0s 15ms/step - loss: 218.8516 - mae: 218.8516 - mse: 257398.9844 - val_loss: 1143.9047 - val_mae: 1143.9047 - val_mse: 4779022.5000\n",
      "Epoch 6/100\n",
      "18/18 [==============================] - 0s 6ms/step - loss: 218.7920 - mae: 218.7920 - mse: 247747.9219 - val_loss: 1216.9949 - val_mae: 1216.9949 - val_mse: 4716889.0000\n",
      "Epoch 7/100\n",
      "12/18 [===================>..........] - ETA: 0s - loss: 202.5732 - mae: 202.5732 - mse: 216452.9688INFO:tensorflow:Assets written to: model_experiments/model_2_dense/assets\n",
      "18/18 [==============================] - 0s 15ms/step - loss: 196.4572 - mae: 196.4572 - mse: 210634.4375 - val_loss: 1104.4570 - val_mae: 1104.4570 - val_mse: 4346068.0000\n",
      "Epoch 8/100\n",
      "12/18 [===================>..........] - ETA: 0s - loss: 205.9906 - mae: 205.9906 - mse: 233568.2969INFO:tensorflow:Assets written to: model_experiments/model_2_dense/assets\n",
      "18/18 [==============================] - 0s 15ms/step - loss: 197.1297 - mae: 197.1297 - mse: 205246.8125 - val_loss: 1004.1475 - val_mae: 1004.1475 - val_mse: 3633218.7500\n",
      "Epoch 9/100\n",
      "12/18 [===================>..........] - ETA: 0s - loss: 191.2502 - mae: 191.2502 - mse: 187600.6875INFO:tensorflow:Assets written to: model_experiments/model_2_dense/assets\n",
      "18/18 [==============================] - 0s 14ms/step - loss: 189.0754 - mae: 189.0754 - mse: 191167.9531 - val_loss: 965.7694 - val_mae: 965.7694 - val_mse: 3330692.7500\n",
      "Epoch 10/100\n",
      "18/18 [==============================] - 0s 6ms/step - loss: 185.2009 - mae: 185.2009 - mse: 181868.1406 - val_loss: 1398.0066 - val_mae: 1398.0066 - val_mse: 5283809.5000\n",
      "Epoch 11/100\n",
      "18/18 [==============================] - 0s 6ms/step - loss: 203.0461 - mae: 203.0461 - mse: 199457.0156 - val_loss: 1102.0192 - val_mae: 1102.0192 - val_mse: 3712579.7500\n",
      "Epoch 12/100\n",
      "18/18 [==============================] - 0s 6ms/step - loss: 177.5906 - mae: 177.5906 - mse: 171575.4531 - val_loss: 990.2078 - val_mae: 990.2077 - val_mse: 3159836.0000\n",
      "Epoch 13/100\n",
      "12/18 [===================>..........] - ETA: 0s - loss: 182.8026 - mae: 182.8026 - mse: 181169.7969INFO:tensorflow:Assets written to: model_experiments/model_2_dense/assets\n",
      "18/18 [==============================] - 0s 15ms/step - loss: 173.5607 - mae: 173.5607 - mse: 162362.2344 - val_loss: 902.5912 - val_mae: 902.5911 - val_mse: 2868475.5000\n",
      "Epoch 14/100\n",
      "11/18 [=================>............] - ETA: 0s - loss: 169.8029 - mae: 169.8029 - mse: 155856.2969INFO:tensorflow:Assets written to: model_experiments/model_2_dense/assets\n",
      "18/18 [==============================] - 0s 16ms/step - loss: 164.0703 - mae: 164.0703 - mse: 151164.7188 - val_loss: 859.1273 - val_mae: 859.1273 - val_mse: 2594848.5000\n",
      "Epoch 15/100\n",
      "12/18 [===================>..........] - ETA: 0s - loss: 167.5787 - mae: 167.5787 - mse: 165130.5938INFO:tensorflow:Assets written to: model_experiments/model_2_dense/assets\n",
      "18/18 [==============================] - 0s 15ms/step - loss: 171.1738 - mae: 171.1738 - mse: 155309.5625 - val_loss: 853.6881 - val_mae: 853.6881 - val_mse: 2549431.2500\n",
      "Epoch 16/100\n",
      "18/18 [==============================] - 0s 6ms/step - loss: 158.9271 - mae: 158.9271 - mse: 138740.2031 - val_loss: 909.9415 - val_mae: 909.9415 - val_mse: 2823437.2500\n",
      "Epoch 17/100\n",
      "18/18 [==============================] - 0s 6ms/step - loss: 184.4367 - mae: 184.4367 - mse: 160061.0781 - val_loss: 1002.9632 - val_mae: 1002.9632 - val_mse: 2962665.7500\n",
      "Epoch 18/100\n",
      "13/18 [====================>.........] - ETA: 0s - loss: 191.3755 - mae: 191.3755 - mse: 173133.6406INFO:tensorflow:Assets written to: model_experiments/model_2_dense/assets\n",
      "18/18 [==============================] - 0s 14ms/step - loss: 198.0874 - mae: 198.0874 - mse: 175138.4375 - val_loss: 838.9467 - val_mae: 838.9467 - val_mse: 2449318.0000\n",
      "Epoch 19/100\n",
      "13/18 [====================>.........] - ETA: 0s - loss: 168.2873 - mae: 168.2873 - mse: 131574.3438INFO:tensorflow:Assets written to: model_experiments/model_2_dense/assets\n",
      "18/18 [==============================] - 0s 14ms/step - loss: 176.6673 - mae: 176.6673 - mse: 151558.0781 - val_loss: 803.7576 - val_mae: 803.7576 - val_mse: 2255409.0000\n",
      "Epoch 20/100\n",
      "13/18 [====================>.........] - ETA: 0s - loss: 164.3908 - mae: 164.3908 - mse: 138789.3281INFO:tensorflow:Assets written to: model_experiments/model_2_dense/assets\n",
      "18/18 [==============================] - 0s 14ms/step - loss: 161.1703 - mae: 161.1703 - mse: 133301.4688 - val_loss: 782.5609 - val_mae: 782.5609 - val_mse: 2098245.5000\n",
      "Epoch 21/100\n",
      "18/18 [==============================] - 0s 6ms/step - loss: 162.5017 - mae: 162.5017 - mse: 132672.6875 - val_loss: 852.7272 - val_mae: 852.7272 - val_mse: 2446540.7500\n",
      "Epoch 22/100\n",
      "18/18 [==============================] - 0s 6ms/step - loss: 162.0154 - mae: 162.0154 - mse: 128914.6953 - val_loss: 814.3253 - val_mae: 814.3253 - val_mse: 2271451.7500\n",
      "Epoch 23/100\n",
      "18/18 [==============================] - 0s 6ms/step - loss: 149.2613 - mae: 149.2613 - mse: 120047.3281 - val_loss: 1102.2959 - val_mae: 1102.2959 - val_mse: 3259661.2500\n",
      "Epoch 24/100\n",
      "18/18 [==============================] - 0s 6ms/step - loss: 165.7646 - mae: 165.7646 - mse: 134517.5781 - val_loss: 1188.1235 - val_mae: 1188.1235 - val_mse: 3600028.2500\n",
      "Epoch 25/100\n",
      "18/18 [==============================] - 0s 6ms/step - loss: 210.5295 - mae: 210.5295 - mse: 179638.5625 - val_loss: 834.8657 - val_mae: 834.8657 - val_mse: 2339347.2500\n",
      "Epoch 26/100\n",
      "13/18 [====================>.........] - ETA: 0s - loss: 153.7761 - mae: 153.7761 - mse: 122493.7734INFO:tensorflow:Assets written to: model_experiments/model_2_dense/assets\n",
      "18/18 [==============================] - 0s 14ms/step - loss: 155.0777 - mae: 155.0777 - mse: 121220.2500 - val_loss: 772.1080 - val_mae: 772.1080 - val_mse: 1955231.6250\n",
      "Epoch 27/100\n",
      "18/18 [==============================] - 0s 6ms/step - loss: 154.9244 - mae: 154.9244 - mse: 121856.0625 - val_loss: 792.6577 - val_mae: 792.6577 - val_mse: 2008679.0000\n",
      "Epoch 28/100\n",
      "13/18 [====================>.........] - ETA: 0s - loss: 158.1732 - mae: 158.1732 - mse: 124556.3125INFO:tensorflow:Assets written to: model_experiments/model_2_dense/assets\n",
      "18/18 [==============================] - 0s 14ms/step - loss: 173.4475 - mae: 173.4475 - mse: 147847.9844 - val_loss: 760.0099 - val_mae: 760.0099 - val_mse: 1963021.5000\n",
      "Epoch 29/100\n",
      "18/18 [==============================] - 0s 6ms/step - loss: 159.3727 - mae: 159.3727 - mse: 125588.5625 - val_loss: 1209.3605 - val_mae: 1209.3605 - val_mse: 4038393.5000\n",
      "Epoch 30/100\n",
      "18/18 [==============================] - 0s 6ms/step - loss: 181.8515 - mae: 181.8515 - mse: 148306.8750 - val_loss: 1117.4796 - val_mae: 1117.4796 - val_mse: 3225609.0000\n",
      "Epoch 31/100\n",
      "18/18 [==============================] - 0s 6ms/step - loss: 180.4354 - mae: 180.4354 - mse: 144324.3906 - val_loss: 951.0432 - val_mae: 951.0432 - val_mse: 2753057.5000\n",
      "Epoch 32/100\n",
      "18/18 [==============================] - 0s 6ms/step - loss: 165.5105 - mae: 165.5105 - mse: 136013.8125 - val_loss: 788.0322 - val_mae: 788.0322 - val_mse: 1956782.3750\n",
      "Epoch 33/100\n",
      "18/18 [==============================] - 0s 6ms/step - loss: 154.4203 - mae: 154.4203 - mse: 121117.7188 - val_loss: 844.2233 - val_mae: 844.2233 - val_mse: 2139552.7500\n",
      "Epoch 34/100\n",
      "18/18 [==============================] - 0s 6ms/step - loss: 141.2496 - mae: 141.2496 - mse: 107641.3906 - val_loss: 792.6945 - val_mae: 792.6945 - val_mse: 1952945.0000\n",
      "Epoch 35/100\n",
      "13/18 [====================>.........] - ETA: 0s - loss: 141.9239 - mae: 141.9239 - mse: 97767.8984 INFO:tensorflow:Assets written to: model_experiments/model_2_dense/assets\n",
      "18/18 [==============================] - 0s 14ms/step - loss: 143.9577 - mae: 143.9577 - mse: 107874.3750 - val_loss: 733.1760 - val_mae: 733.1760 - val_mse: 1799830.1250\n",
      "Epoch 36/100\n",
      "18/18 [==============================] - 0s 6ms/step - loss: 137.5064 - mae: 137.5064 - mse: 104714.3047 - val_loss: 766.7219 - val_mae: 766.7218 - val_mse: 1869803.0000\n",
      "Epoch 37/100\n",
      "18/18 [==============================] - 0s 6ms/step - loss: 137.8550 - mae: 137.8550 - mse: 104606.3828 - val_loss: 778.5358 - val_mae: 778.5358 - val_mse: 2063742.0000\n",
      "Epoch 38/100\n",
      "18/18 [==============================] - 0s 6ms/step - loss: 144.5837 - mae: 144.5837 - mse: 108512.3750 - val_loss: 787.0226 - val_mae: 787.0226 - val_mse: 2084375.2500\n",
      "Epoch 39/100\n",
      "12/18 [===================>..........] - ETA: 0s - loss: 147.8905 - mae: 147.8905 - mse: 102306.9062INFO:tensorflow:Assets written to: model_experiments/model_2_dense/assets\n",
      "18/18 [==============================] - 0s 14ms/step - loss: 149.8562 - mae: 149.8562 - mse: 117299.2812 - val_loss: 724.9265 - val_mae: 724.9265 - val_mse: 1742430.7500\n",
      "Epoch 40/100\n",
      "18/18 [==============================] - 0s 6ms/step - loss: 139.3260 - mae: 139.3260 - mse: 106049.0625 - val_loss: 855.5701 - val_mae: 855.5701 - val_mse: 2155322.0000\n",
      "Epoch 41/100\n",
      "11/18 [=================>............] - ETA: 0s - loss: 147.1410 - mae: 147.1410 - mse: 113570.8750INFO:tensorflow:Assets written to: model_experiments/model_2_dense/assets\n",
      "18/18 [==============================] - 0s 15ms/step - loss: 144.6515 - mae: 144.6515 - mse: 107759.1953 - val_loss: 717.2577 - val_mae: 717.2577 - val_mse: 1708956.5000\n",
      "Epoch 42/100\n",
      "18/18 [==============================] - 0s 6ms/step - loss: 135.8600 - mae: 135.8600 - mse: 102888.2500 - val_loss: 720.0521 - val_mae: 720.0521 - val_mse: 1718959.6250\n",
      "Epoch 43/100\n",
      "18/18 [==============================] - 0s 6ms/step - loss: 137.0649 - mae: 137.0649 - mse: 101421.3906 - val_loss: 852.1094 - val_mae: 852.1094 - val_mse: 2125103.0000\n",
      "Epoch 44/100\n",
      "18/18 [==============================] - 0s 6ms/step - loss: 146.6467 - mae: 146.6467 - mse: 109357.8672 - val_loss: 790.5798 - val_mae: 790.5798 - val_mse: 2042266.5000\n",
      "Epoch 45/100\n",
      "18/18 [==============================] - 0s 6ms/step - loss: 154.1968 - mae: 154.1968 - mse: 113856.6406 - val_loss: 770.3091 - val_mae: 770.3091 - val_mse: 1982152.8750\n",
      "Epoch 46/100\n",
      "12/18 [===================>..........] - ETA: 0s - loss: 139.8703 - mae: 139.8703 - mse: 107724.0938INFO:tensorflow:Assets written to: model_experiments/model_2_dense/assets\n",
      "18/18 [==============================] - 0s 19ms/step - loss: 136.6392 - mae: 136.6392 - mse: 102560.2422 - val_loss: 701.5364 - val_mae: 701.5364 - val_mse: 1645433.2500\n",
      "Epoch 47/100\n",
      "12/18 [===================>..........] - ETA: 0s - loss: 129.7632 - mae: 129.7632 - mse: 89674.5625 INFO:tensorflow:Assets written to: model_experiments/model_2_dense/assets\n",
      "18/18 [==============================] - 0s 15ms/step - loss: 134.1329 - mae: 134.1329 - mse: 99448.3125 - val_loss: 695.9338 - val_mae: 695.9338 - val_mse: 1639691.6250\n",
      "Epoch 48/100\n",
      "18/18 [==============================] - 0s 7ms/step - loss: 135.1361 - mae: 135.1361 - mse: 98760.5391 - val_loss: 738.8373 - val_mae: 738.8373 - val_mse: 1729465.6250\n",
      "Epoch 49/100\n",
      "18/18 [==============================] - 0s 6ms/step - loss: 139.6447 - mae: 139.6447 - mse: 103266.5156 - val_loss: 844.4701 - val_mae: 844.4701 - val_mse: 2257255.7500\n",
      "Epoch 50/100\n",
      "18/18 [==============================] - 0s 6ms/step - loss: 159.5446 - mae: 159.5446 - mse: 125418.6250 - val_loss: 748.9396 - val_mae: 748.9396 - val_mse: 1873683.2500\n",
      "Epoch 51/100\n",
      "12/18 [===================>..........] - ETA: 0s - loss: 156.1500 - mae: 156.1500 - mse: 115963.2656INFO:tensorflow:Assets written to: model_experiments/model_2_dense/assets\n",
      "18/18 [==============================] - 0s 15ms/step - loss: 148.6531 - mae: 148.6531 - mse: 111010.2578 - val_loss: 688.2344 - val_mae: 688.2344 - val_mse: 1583330.3750\n",
      "Epoch 52/100\n",
      "18/18 [==============================] - 0s 6ms/step - loss: 136.5452 - mae: 136.5452 - mse: 101040.3281 - val_loss: 727.4131 - val_mae: 727.4131 - val_mse: 1693223.1250\n",
      "Epoch 53/100\n",
      "18/18 [==============================] - 0s 6ms/step - loss: 135.8092 - mae: 135.8092 - mse: 99744.1250 - val_loss: 820.4069 - val_mae: 820.4069 - val_mse: 2132308.5000\n",
      "Epoch 54/100\n",
      "18/18 [==============================] - 0s 6ms/step - loss: 154.3943 - mae: 154.3943 - mse: 116080.7656 - val_loss: 728.3107 - val_mae: 728.3107 - val_mse: 1774951.3750\n",
      "Epoch 55/100\n",
      "18/18 [==============================] - 0s 6ms/step - loss: 129.1662 - mae: 129.1662 - mse: 94869.4141 - val_loss: 838.5590 - val_mae: 838.5590 - val_mse: 2025577.3750\n",
      "Epoch 56/100\n",
      "18/18 [==============================] - 0s 6ms/step - loss: 134.4630 - mae: 134.4630 - mse: 95129.8516 - val_loss: 839.6472 - val_mae: 839.6472 - val_mse: 2164242.2500\n",
      "Epoch 57/100\n",
      "18/18 [==============================] - 0s 7ms/step - loss: 136.9494 - mae: 136.9494 - mse: 102046.3125 - val_loss: 805.4454 - val_mae: 805.4454 - val_mse: 1919226.8750\n",
      "Epoch 58/100\n",
      "11/18 [=================>............] - ETA: 0s - loss: 150.5506 - mae: 150.5506 - mse: 114156.4844INFO:tensorflow:Assets written to: model_experiments/model_2_dense/assets\n",
      "18/18 [==============================] - 0s 15ms/step - loss: 139.2911 - mae: 139.2911 - mse: 100370.6250 - val_loss: 676.6459 - val_mae: 676.6459 - val_mse: 1549704.8750\n",
      "Epoch 59/100\n",
      "18/18 [==============================] - 0s 6ms/step - loss: 128.4753 - mae: 128.4753 - mse: 94005.5312 - val_loss: 679.2960 - val_mae: 679.2960 - val_mse: 1557445.8750\n",
      "Epoch 60/100\n",
      "18/18 [==============================] - 0s 6ms/step - loss: 126.8481 - mae: 126.8481 - mse: 92497.0312 - val_loss: 968.1805 - val_mae: 968.1805 - val_mse: 2477475.2500\n",
      "Epoch 61/100\n",
      "18/18 [==============================] - 0s 6ms/step - loss: 135.9018 - mae: 135.9018 - mse: 97142.7734 - val_loss: 970.9387 - val_mae: 970.9387 - val_mse: 2484231.5000\n",
      "Epoch 62/100\n",
      "18/18 [==============================] - 0s 6ms/step - loss: 138.0572 - mae: 138.0572 - mse: 97242.6094 - val_loss: 982.7548 - val_mae: 982.7548 - val_mse: 2537624.2500\n",
      "Epoch 63/100\n",
      "12/18 [===================>..........] - ETA: 0s - loss: 152.1252 - mae: 152.1252 - mse: 110444.1484INFO:tensorflow:Assets written to: model_experiments/model_2_dense/assets\n",
      "18/18 [==============================] - 0s 14ms/step - loss: 151.0787 - mae: 151.0787 - mse: 107563.5000 - val_loss: 672.5773 - val_mae: 672.5773 - val_mse: 1513069.5000\n",
      "Epoch 64/100\n",
      "18/18 [==============================] - 0s 6ms/step - loss: 138.7974 - mae: 138.7974 - mse: 101533.7891 - val_loss: 719.3965 - val_mae: 719.3965 - val_mse: 1622156.7500\n",
      "Epoch 65/100\n",
      "18/18 [==============================] - 0s 6ms/step - loss: 134.7869 - mae: 134.7869 - mse: 97286.3125 - val_loss: 814.9578 - val_mae: 814.9578 - val_mse: 1926328.1250\n",
      "Epoch 66/100\n",
      "18/18 [==============================] - 0s 6ms/step - loss: 129.2127 - mae: 129.2127 - mse: 92096.6953 - val_loss: 847.5193 - val_mae: 847.5193 - val_mse: 2033199.6250\n",
      "Epoch 67/100\n",
      "18/18 [==============================] - 0s 6ms/step - loss: 125.5516 - mae: 125.5516 - mse: 90177.0078 - val_loss: 746.1916 - val_mae: 746.1916 - val_mse: 1707205.5000\n",
      "Epoch 68/100\n",
      "12/18 [===================>..........] - ETA: 0s - loss: 141.1240 - mae: 141.1240 - mse: 104544.8984INFO:tensorflow:Assets written to: model_experiments/model_2_dense/assets\n",
      "18/18 [==============================] - 0s 14ms/step - loss: 139.0519 - mae: 139.0519 - mse: 94882.3516 - val_loss: 660.1301 - val_mae: 660.1301 - val_mse: 1479365.0000\n",
      "Epoch 69/100\n",
      "18/18 [==============================] - 0s 7ms/step - loss: 134.7976 - mae: 134.7976 - mse: 97384.0078 - val_loss: 676.5120 - val_mae: 676.5120 - val_mse: 1553917.8750\n",
      "Epoch 70/100\n",
      "18/18 [==============================] - 0s 7ms/step - loss: 131.0074 - mae: 131.0074 - mse: 92783.4844 - val_loss: 677.3911 - val_mae: 677.3911 - val_mse: 1557433.7500\n",
      "Epoch 71/100\n",
      "18/18 [==============================] - 0s 6ms/step - loss: 133.4951 - mae: 133.4951 - mse: 97438.2656 - val_loss: 721.8589 - val_mae: 721.8589 - val_mse: 1634681.5000\n",
      "Epoch 72/100\n",
      "18/18 [==============================] - 0s 6ms/step - loss: 129.5350 - mae: 129.5350 - mse: 92559.8438 - val_loss: 718.8405 - val_mae: 718.8405 - val_mse: 1623792.7500\n",
      "Epoch 73/100\n",
      "18/18 [==============================] - 0s 6ms/step - loss: 127.8637 - mae: 127.8637 - mse: 88884.5312 - val_loss: 702.7366 - val_mae: 702.7366 - val_mse: 1567292.8750\n",
      "Epoch 74/100\n",
      "18/18 [==============================] - 0s 6ms/step - loss: 131.1224 - mae: 131.1224 - mse: 92388.3750 - val_loss: 1252.0037 - val_mae: 1252.0037 - val_mse: 3637459.0000\n",
      "Epoch 75/100\n",
      "12/18 [===================>..........] - ETA: 0s - loss: 162.7111 - mae: 162.7111 - mse: 118440.0000INFO:tensorflow:Assets written to: model_experiments/model_2_dense/assets\n",
      "18/18 [==============================] - 0s 14ms/step - loss: 151.0970 - mae: 151.0970 - mse: 107211.1016 - val_loss: 652.1482 - val_mae: 652.1482 - val_mse: 1419042.0000\n",
      "Epoch 76/100\n",
      "18/18 [==============================] - 0s 6ms/step - loss: 129.5737 - mae: 129.5737 - mse: 90443.5781 - val_loss: 664.5348 - val_mae: 664.5348 - val_mse: 1463866.7500\n",
      "Epoch 77/100\n",
      "18/18 [==============================] - 0s 6ms/step - loss: 128.0307 - mae: 128.0307 - mse: 89174.0703 - val_loss: 656.6112 - val_mae: 656.6112 - val_mse: 1464118.0000\n",
      "Epoch 78/100\n",
      "18/18 [==============================] - 0s 6ms/step - loss: 125.5498 - mae: 125.5498 - mse: 88787.8438 - val_loss: 662.3701 - val_mae: 662.3701 - val_mse: 1489177.3750\n",
      "Epoch 79/100\n",
      "18/18 [==============================] - 0s 6ms/step - loss: 134.4945 - mae: 134.4945 - mse: 97656.4453 - val_loss: 720.2499 - val_mae: 720.2499 - val_mse: 1610852.6250\n",
      "Epoch 80/100\n",
      "18/18 [==============================] - 0s 6ms/step - loss: 132.5242 - mae: 132.5242 - mse: 95851.6875 - val_loss: 690.3878 - val_mae: 690.3878 - val_mse: 1525895.3750\n",
      "Epoch 81/100\n",
      "18/18 [==============================] - 0s 6ms/step - loss: 120.3848 - mae: 120.3848 - mse: 84321.3984 - val_loss: 652.4482 - val_mae: 652.4482 - val_mse: 1418421.1250\n",
      "Epoch 82/100\n",
      "18/18 [==============================] - 0s 6ms/step - loss: 124.3456 - mae: 124.3456 - mse: 86731.4375 - val_loss: 658.3622 - val_mae: 658.3622 - val_mse: 1465630.6250\n",
      "Epoch 83/100\n",
      "18/18 [==============================] - 0s 6ms/step - loss: 133.0206 - mae: 133.0206 - mse: 96034.4219 - val_loss: 750.1553 - val_mae: 750.1553 - val_mse: 1769413.8750\n",
      "Epoch 84/100\n",
      "18/18 [==============================] - 0s 6ms/step - loss: 135.3725 - mae: 135.3725 - mse: 92707.1016 - val_loss: 703.2154 - val_mae: 703.2154 - val_mse: 1538848.0000\n",
      "Epoch 85/100\n",
      "18/18 [==============================] - 0s 6ms/step - loss: 124.7956 - mae: 124.7956 - mse: 86431.7734 - val_loss: 674.6138 - val_mae: 674.6138 - val_mse: 1466595.7500\n",
      "Epoch 86/100\n",
      "18/18 [==============================] - 0s 6ms/step - loss: 130.5449 - mae: 130.5449 - mse: 91342.6797 - val_loss: 913.0977 - val_mae: 913.0977 - val_mse: 2356656.2500\n",
      "Epoch 87/100\n",
      "11/18 [=================>............] - ETA: 0s - loss: 148.4324 - mae: 148.4324 - mse: 107676.4141INFO:tensorflow:Assets written to: model_experiments/model_2_dense/assets\n",
      "18/18 [==============================] - 0s 15ms/step - loss: 139.5293 - mae: 139.5293 - mse: 97157.4453 - val_loss: 638.9929 - val_mae: 638.9929 - val_mse: 1381931.6250\n",
      "Epoch 88/100\n",
      "18/18 [==============================] - 0s 7ms/step - loss: 119.6761 - mae: 119.6761 - mse: 82809.6562 - val_loss: 690.2507 - val_mae: 690.2507 - val_mse: 1571796.8750\n",
      "Epoch 89/100\n",
      "18/18 [==============================] - 0s 6ms/step - loss: 125.4248 - mae: 125.4248 - mse: 87079.5703 - val_loss: 654.3480 - val_mae: 654.3480 - val_mse: 1410871.6250\n",
      "Epoch 90/100\n",
      "18/18 [==============================] - 0s 6ms/step - loss: 129.6135 - mae: 129.6135 - mse: 91927.3984 - val_loss: 702.6973 - val_mae: 702.6973 - val_mse: 1629605.1250\n",
      "Epoch 91/100\n",
      "18/18 [==============================] - 0s 6ms/step - loss: 126.7947 - mae: 126.7947 - mse: 89883.1797 - val_loss: 739.0048 - val_mae: 739.0048 - val_mse: 1643578.0000\n",
      "Epoch 92/100\n",
      "18/18 [==============================] - 0s 6ms/step - loss: 121.7435 - mae: 121.7435 - mse: 84770.9375 - val_loss: 643.4003 - val_mae: 643.4003 - val_mse: 1388067.5000\n",
      "Epoch 93/100\n",
      "18/18 [==============================] - 0s 7ms/step - loss: 118.7968 - mae: 118.7968 - mse: 81427.4922 - val_loss: 639.6715 - val_mae: 639.6715 - val_mse: 1366673.0000\n",
      "Epoch 94/100\n",
      "18/18 [==============================] - 0s 7ms/step - loss: 117.6567 - mae: 117.6567 - mse: 79889.0312 - val_loss: 722.3596 - val_mae: 722.3596 - val_mse: 1578602.2500\n",
      "Epoch 95/100\n",
      "18/18 [==============================] - 0s 7ms/step - loss: 120.1215 - mae: 120.1215 - mse: 83229.3672 - val_loss: 720.3844 - val_mae: 720.3844 - val_mse: 1575440.1250\n",
      "Epoch 96/100\n",
      "18/18 [==============================] - 0s 7ms/step - loss: 125.6336 - mae: 125.6336 - mse: 90546.7422 - val_loss: 869.4565 - val_mae: 869.4565 - val_mse: 2170778.0000\n",
      "Epoch 97/100\n",
      "11/18 [=================>............] - ETA: 0s - loss: 135.2191 - mae: 135.2191 - mse: 85350.6719INFO:tensorflow:Assets written to: model_experiments/model_2_dense/assets\n",
      "18/18 [==============================] - 0s 15ms/step - loss: 133.6430 - mae: 133.6430 - mse: 90903.3516 - val_loss: 627.4996 - val_mae: 627.4996 - val_mse: 1333843.1250\n",
      "Epoch 98/100\n",
      "18/18 [==============================] - 0s 7ms/step - loss: 134.1451 - mae: 134.1451 - mse: 94919.4141 - val_loss: 757.8824 - val_mae: 757.8824 - val_mse: 1689463.6250\n",
      "Epoch 99/100\n",
      "18/18 [==============================] - 0s 7ms/step - loss: 130.2355 - mae: 130.2355 - mse: 90912.6406 - val_loss: 712.9722 - val_mae: 712.9722 - val_mse: 1554170.5000\n",
      "Epoch 100/100\n",
      "18/18 [==============================] - 0s 6ms/step - loss: 123.1947 - mae: 123.1947 - mse: 84005.0625 - val_loss: 646.2136 - val_mae: 646.2136 - val_mse: 1370515.3750\n"
     ]
    },
    {
     "data": {
      "text/plain": [
       "<keras.callbacks.History at 0x1548677c0>"
      ]
     },
     "execution_count": 53,
     "metadata": {},
     "output_type": "execute_result"
    }
   ],
   "source": [
    "# 1. create model 2\n",
    "model_2 = tf.keras.Sequential(name='model_2_dense')\n",
    "model_2.add(layers.Dense(128,activation='relu'))\n",
    "model_2.add(layers.Dense(1,activation='linear'))\n",
    "\n",
    "# 2. compile the model\n",
    "model_2.compile(\n",
    "    loss='mae',\n",
    "    optimizer=tf.keras.optimizers.Adam(),\n",
    "    metrics=['mae','mse']\n",
    ")\n",
    "\n",
    "# 3. fit the model\n",
    "model_2.fit(\n",
    "    train_windows,\n",
    "    train_labels,\n",
    "    epochs=100,\n",
    "    verbose=1,\n",
    "    batch_size=128,\n",
    "    validation_data=(test_windows,test_labels),\n",
    "    callbacks=[create_model_checkpoint(model_name=model_2.name)]\n",
    ")"
   ]
  },
  {
   "cell_type": "code",
   "execution_count": 54,
   "id": "dddc1245-d888-4584-8580-4dbd8ec148e3",
   "metadata": {},
   "outputs": [
    {
     "name": "stdout",
     "output_type": "stream",
     "text": [
      "18/18 [==============================] - 0s 4ms/step - loss: 646.2136 - mae: 646.2136 - mse: 1370515.2500\n"
     ]
    },
    {
     "data": {
      "text/plain": [
       "[646.2135620117188, 646.2135620117188, 1370515.25]"
      ]
     },
     "execution_count": 54,
     "metadata": {},
     "output_type": "execute_result"
    }
   ],
   "source": [
    "# evaluate model 2\n",
    "model_2.evaluate(test_windows, test_labels)"
   ]
  },
  {
   "cell_type": "code",
   "execution_count": 55,
   "id": "f024cb12-fe1b-4637-bdc4-38364276a1e9",
   "metadata": {},
   "outputs": [],
   "source": [
    "model_2 = tf.keras.models.load_model(\"model_experiments/model_2_dense\")"
   ]
  },
  {
   "cell_type": "code",
   "execution_count": 56,
   "id": "0f2d43fe-e24a-4f47-915c-26fbd988fd0a",
   "metadata": {},
   "outputs": [
    {
     "name": "stdout",
     "output_type": "stream",
     "text": [
      "18/18 [==============================] - 0s 5ms/step - loss: 627.4996 - mae: 627.4996 - mse: 1333843.3750\n"
     ]
    },
    {
     "name": "stderr",
     "output_type": "stream",
     "text": [
      "2022-02-16 19:12:10.299136: I tensorflow/core/grappler/optimizers/custom_graph_optimizer_registry.cc:112] Plugin optimizer for device_type GPU is enabled.\n"
     ]
    },
    {
     "data": {
      "text/plain": [
       "[627.4995727539062, 627.4995727539062, 1333843.375]"
      ]
     },
     "execution_count": 56,
     "metadata": {},
     "output_type": "execute_result"
    }
   ],
   "source": [
    "# evaluate best performing model 2\n",
    "model_2.evaluate(test_windows, test_labels)"
   ]
  },
  {
   "cell_type": "code",
   "execution_count": 57,
   "id": "f3857298-454f-42ab-bb29-ddddaf9526d0",
   "metadata": {},
   "outputs": [
    {
     "name": "stderr",
     "output_type": "stream",
     "text": [
      "2022-02-16 19:12:10.441231: I tensorflow/core/grappler/optimizers/custom_graph_optimizer_registry.cc:112] Plugin optimizer for device_type GPU is enabled.\n"
     ]
    }
   ],
   "source": [
    "model_2_preds = model_2.predict(test_windows)"
   ]
  },
  {
   "cell_type": "code",
   "execution_count": 58,
   "id": "d37e2907-77ac-4ce4-9b6c-d0e7da7bdbf7",
   "metadata": {},
   "outputs": [],
   "source": [
    "model_2_results = make_preds(model_2,test_windows, test_labels)"
   ]
  },
  {
   "cell_type": "code",
   "execution_count": 59,
   "id": "8cab08ee-0d69-4e91-8f66-4ad7b403f6fa",
   "metadata": {},
   "outputs": [
    {
     "data": {
      "text/plain": [
       "{'mae': 627.4996,\n",
       " 'mse': 1333843.4,\n",
       " 'rmse': 1154.9214,\n",
       " 'mape': 2.8698852,\n",
       " 'mase': 1.0968753}"
      ]
     },
     "execution_count": 59,
     "metadata": {},
     "output_type": "execute_result"
    }
   ],
   "source": [
    "model_2_results"
   ]
  },
  {
   "cell_type": "code",
   "execution_count": 60,
   "id": "6e95f4d6-4e59-42fc-9c72-d034cc26e078",
   "metadata": {},
   "outputs": [
    {
     "data": {
      "text/plain": [
       "{'mae': 590.7833,\n",
       " 'mse': 1223174.8,\n",
       " 'rmse': 1105.9723,\n",
       " 'mape': 2.6623483,\n",
       " 'mase': 1.0378426}"
      ]
     },
     "execution_count": 60,
     "metadata": {},
     "output_type": "execute_result"
    }
   ],
   "source": [
    "model_1_results"
   ]
  },
  {
   "cell_type": "code",
   "execution_count": 61,
   "id": "ce34c5e3-95f3-4691-b23d-acad929da758",
   "metadata": {},
   "outputs": [
    {
     "data": {
      "image/png": "[encoded data removed]",
      "text/plain": [
       "<Figure size 720x504 with 1 Axes>"
      ]
     },
     "metadata": {
      "needs_background": "light"
     },
     "output_type": "display_data"
    }
   ],
   "source": [
    "# Lets plot our model 1 predictions\n",
    "\n",
    "offset = 500\n",
    "plt.figure(figsize=(10,7))\n",
    "\n",
    "plot_time_series(\n",
    "    timestamp=X_test[-len(test_windows):],\n",
    "    values=test_labels[:,0],\n",
    "    start=offset,\n",
    "    label=\"test data\"\n",
    "                \n",
    ")\n",
    "plot_time_series(\n",
    "    timestamp=X_test[-len(test_windows):],\n",
    "    values=model_2_preds[:,0],\n",
    "    formated='-',\n",
    "    start=offset,\n",
    "    label=\"predictions\"          \n",
    ")"
   ]
  },
  {
   "cell_type": "markdown",
   "id": "3f914aa5-0033-48fb-9b44-de4ca1101ed7",
   "metadata": {},
   "source": [
    "# Model 3 - Dense Model (window = 30, horizon = 7)"
   ]
  },
  {
   "cell_type": "code",
   "execution_count": 62,
   "id": "b4933515-61ab-4988-b249-2b2b39d40be9",
   "metadata": {},
   "outputs": [],
   "source": [
    "HORIZON = 7\n",
    "WINDOW_SIZE = 30\n",
    "\n",
    "full_windows, full_labels = make_windows(np.array(prices), window_size=WINDOW_SIZE, horizon=HORIZON)"
   ]
  },
  {
   "cell_type": "code",
   "execution_count": 63,
   "id": "16e43912-06c5-4322-b488-cc24405f8616",
   "metadata": {},
   "outputs": [],
   "source": [
    "train_windows, test_windows, train_labels, test_labels = make_train_test_splits(full_windows, full_labels)"
   ]
  },
  {
   "cell_type": "code",
   "execution_count": 75,
   "id": "5fb04896-a2bf-4413-a237-132e16a612d3",
   "metadata": {
    "scrolled": true,
    "tags": []
   },
   "outputs": [
    {
     "name": "stdout",
     "output_type": "stream",
     "text": [
      "Epoch 1/100\n",
      "13/18 [====================>.........] - ETA: 0s - loss: 2247.3481"
     ]
    },
    {
     "name": "stderr",
     "output_type": "stream",
     "text": [
      "2022-02-16 19:16:15.294445: I tensorflow/core/grappler/optimizers/custom_graph_optimizer_registry.cc:112] Plugin optimizer for device_type GPU is enabled.\n",
      "2022-02-16 19:16:15.468284: I tensorflow/core/grappler/optimizers/custom_graph_optimizer_registry.cc:112] Plugin optimizer for device_type GPU is enabled.\n"
     ]
    },
    {
     "name": "stdout",
     "output_type": "stream",
     "text": [
      "INFO:tensorflow:Assets written to: model_experiments/model_3_dense/assets\n",
      "18/18 [==============================] - 0s 17ms/step - loss: 1912.5952 - val_loss: 3857.1384\n",
      "Epoch 2/100\n",
      "13/18 [====================>.........] - ETA: 0s - loss: 604.9070INFO:tensorflow:Assets written to: model_experiments/model_3_dense/assets\n",
      "18/18 [==============================] - 0s 13ms/step - loss: 586.9622 - val_loss: 2356.7285\n",
      "Epoch 3/100\n",
      "13/18 [====================>.........] - ETA: 0s - loss: 453.5780INFO:tensorflow:Assets written to: model_experiments/model_3_dense/assets\n",
      "18/18 [==============================] - 0s 13ms/step - loss: 433.1997 - val_loss: 2191.5439\n",
      "Epoch 4/100\n",
      "14/18 [======================>.......] - ETA: 0s - loss: 382.1270INFO:tensorflow:Assets written to: model_experiments/model_3_dense/assets\n",
      "18/18 [==============================] - 0s 14ms/step - loss: 383.5013 - val_loss: 1825.2434\n",
      "Epoch 5/100\n",
      "18/18 [==============================] - 0s 6ms/step - loss: 351.1441 - val_loss: 2047.9197\n",
      "Epoch 6/100\n",
      "12/18 [===================>..........] - ETA: 0s - loss: 334.7522INFO:tensorflow:Assets written to: model_experiments/model_3_dense/assets\n",
      "18/18 [==============================] - 0s 13ms/step - loss: 339.9492 - val_loss: 1674.6641\n",
      "Epoch 7/100\n",
      "13/18 [====================>.........] - ETA: 0s - loss: 321.8605INFO:tensorflow:Assets written to: model_experiments/model_3_dense/assets\n",
      "18/18 [==============================] - 0s 13ms/step - loss: 320.1236 - val_loss: 1573.8925\n",
      "Epoch 8/100\n",
      "18/18 [==============================] - 0s 6ms/step - loss: 302.1782 - val_loss: 1624.6162\n",
      "Epoch 9/100\n",
      "13/18 [====================>.........] - ETA: 0s - loss: 295.4553INFO:tensorflow:Assets written to: model_experiments/model_3_dense/assets\n",
      "18/18 [==============================] - 0s 13ms/step - loss: 293.3203 - val_loss: 1489.5721\n",
      "Epoch 10/100\n",
      "18/18 [==============================] - 0s 6ms/step - loss: 285.5056 - val_loss: 1533.6165\n",
      "Epoch 11/100\n",
      "18/18 [==============================] - 0s 6ms/step - loss: 279.9319 - val_loss: 1535.5923\n",
      "Epoch 12/100\n",
      "18/18 [==============================] - 0s 6ms/step - loss: 273.9329 - val_loss: 1490.7983\n",
      "Epoch 13/100\n",
      "13/18 [====================>.........] - ETA: 0s - loss: 270.2756INFO:tensorflow:Assets written to: model_experiments/model_3_dense/assets\n",
      "18/18 [==============================] - 0s 14ms/step - loss: 268.0940 - val_loss: 1453.8037\n",
      "Epoch 14/100\n",
      "18/18 [==============================] - 0s 6ms/step - loss: 270.4752 - val_loss: 1465.3217\n",
      "Epoch 15/100\n",
      "13/18 [====================>.........] - ETA: 0s - loss: 263.5440INFO:tensorflow:Assets written to: model_experiments/model_3_dense/assets\n",
      "18/18 [==============================] - 0s 13ms/step - loss: 263.8173 - val_loss: 1436.5846\n",
      "Epoch 16/100\n",
      "18/18 [==============================] - 0s 6ms/step - loss: 261.4529 - val_loss: 1491.3871\n",
      "Epoch 17/100\n",
      "18/18 [==============================] - 0s 6ms/step - loss: 276.6727 - val_loss: 1546.3533\n",
      "Epoch 18/100\n",
      "18/18 [==============================] - 0s 6ms/step - loss: 259.2489 - val_loss: 1575.3086\n",
      "Epoch 19/100\n",
      "18/18 [==============================] - 0s 6ms/step - loss: 257.5177 - val_loss: 1449.2726\n",
      "Epoch 20/100\n",
      "18/18 [==============================] - 0s 6ms/step - loss: 256.1416 - val_loss: 1445.2761\n",
      "Epoch 21/100\n",
      "13/18 [====================>.........] - ETA: 0s - loss: 253.6623INFO:tensorflow:Assets written to: model_experiments/model_3_dense/assets\n",
      "18/18 [==============================] - 0s 19ms/step - loss: 252.5338 - val_loss: 1416.8054\n",
      "Epoch 22/100\n",
      "13/18 [====================>.........] - ETA: 0s - loss: 248.5699INFO:tensorflow:Assets written to: model_experiments/model_3_dense/assets\n",
      "18/18 [==============================] - 0s 14ms/step - loss: 247.7466 - val_loss: 1379.4127\n",
      "Epoch 23/100\n",
      "13/18 [====================>.........] - ETA: 0s - loss: 256.1864INFO:tensorflow:Assets written to: model_experiments/model_3_dense/assets\n",
      "18/18 [==============================] - 0s 14ms/step - loss: 251.3252 - val_loss: 1351.6268\n",
      "Epoch 24/100\n",
      "18/18 [==============================] - 0s 6ms/step - loss: 247.8889 - val_loss: 1380.4467\n",
      "Epoch 25/100\n",
      "18/18 [==============================] - 0s 6ms/step - loss: 253.1983 - val_loss: 1455.0465\n",
      "Epoch 26/100\n",
      "18/18 [==============================] - 0s 6ms/step - loss: 245.0285 - val_loss: 1372.4269\n",
      "Epoch 27/100\n",
      "12/18 [===================>..........] - ETA: 0s - loss: 238.4471INFO:tensorflow:Assets written to: model_experiments/model_3_dense/assets\n",
      "18/18 [==============================] - 0s 14ms/step - loss: 242.2547 - val_loss: 1324.0214\n",
      "Epoch 28/100\n",
      "18/18 [==============================] - 0s 6ms/step - loss: 243.1023 - val_loss: 1331.1755\n",
      "Epoch 29/100\n",
      "18/18 [==============================] - 0s 6ms/step - loss: 246.9934 - val_loss: 1461.0499\n",
      "Epoch 30/100\n",
      "18/18 [==============================] - 0s 6ms/step - loss: 241.3530 - val_loss: 1532.6400\n",
      "Epoch 31/100\n",
      "12/18 [===================>..........] - ETA: 0s - loss: 247.7388INFO:tensorflow:Assets written to: model_experiments/model_3_dense/assets\n",
      "18/18 [==============================] - 0s 14ms/step - loss: 242.8142 - val_loss: 1315.2728\n",
      "Epoch 32/100\n",
      "18/18 [==============================] - 0s 6ms/step - loss: 237.1687 - val_loss: 1340.3646\n",
      "Epoch 33/100\n",
      "18/18 [==============================] - 0s 6ms/step - loss: 235.2841 - val_loss: 1322.3237\n",
      "Epoch 34/100\n",
      "13/18 [====================>.........] - ETA: 0s - loss: 233.1400INFO:tensorflow:Assets written to: model_experiments/model_3_dense/assets\n",
      "18/18 [==============================] - 0s 14ms/step - loss: 238.5978 - val_loss: 1308.6472\n",
      "Epoch 35/100\n",
      "18/18 [==============================] - 0s 6ms/step - loss: 236.1861 - val_loss: 1346.7493\n",
      "Epoch 36/100\n",
      "14/18 [======================>.......] - ETA: 0s - loss: 233.3586INFO:tensorflow:Assets written to: model_experiments/model_3_dense/assets\n",
      "18/18 [==============================] - 0s 14ms/step - loss: 236.1691 - val_loss: 1304.5333\n",
      "Epoch 37/100\n",
      "18/18 [==============================] - 0s 6ms/step - loss: 238.4814 - val_loss: 1323.8002\n",
      "Epoch 38/100\n",
      "18/18 [==============================] - 0s 6ms/step - loss: 239.1422 - val_loss: 1395.4109\n",
      "Epoch 39/100\n",
      "18/18 [==============================] - 0s 6ms/step - loss: 236.8673 - val_loss: 1346.0935\n",
      "Epoch 40/100\n",
      "18/18 [==============================] - 0s 6ms/step - loss: 239.0009 - val_loss: 1416.2369\n",
      "Epoch 41/100\n",
      "18/18 [==============================] - 0s 5ms/step - loss: 235.4418 - val_loss: 1381.2355\n",
      "Epoch 42/100\n",
      "18/18 [==============================] - 0s 6ms/step - loss: 230.7137 - val_loss: 1357.5153\n",
      "Epoch 43/100\n",
      "13/18 [====================>.........] - ETA: 0s - loss: 233.6118INFO:tensorflow:Assets written to: model_experiments/model_3_dense/assets\n",
      "18/18 [==============================] - 0s 13ms/step - loss: 230.5724 - val_loss: 1279.9978\n",
      "Epoch 44/100\n",
      "18/18 [==============================] - 0s 5ms/step - loss: 231.1023 - val_loss: 1304.6644\n",
      "Epoch 45/100\n",
      "18/18 [==============================] - 0s 5ms/step - loss: 230.5476 - val_loss: 1394.3037\n",
      "Epoch 46/100\n",
      "18/18 [==============================] - 0s 6ms/step - loss: 231.3884 - val_loss: 1335.6627\n",
      "Epoch 47/100\n",
      "13/18 [====================>.........] - ETA: 0s - loss: 231.5631INFO:tensorflow:Assets written to: model_experiments/model_3_dense/assets\n",
      "18/18 [==============================] - 0s 13ms/step - loss: 236.6308 - val_loss: 1278.4816\n",
      "Epoch 48/100\n",
      "18/18 [==============================] - 0s 6ms/step - loss: 228.7755 - val_loss: 1424.5153\n",
      "Epoch 49/100\n",
      "18/18 [==============================] - 0s 6ms/step - loss: 231.8781 - val_loss: 1317.7975\n",
      "Epoch 50/100\n",
      "18/18 [==============================] - 0s 6ms/step - loss: 234.6920 - val_loss: 1476.7253\n",
      "Epoch 51/100\n",
      "13/18 [====================>.........] - ETA: 0s - loss: 240.1919INFO:tensorflow:Assets written to: model_experiments/model_3_dense/assets\n",
      "18/18 [==============================] - 0s 13ms/step - loss: 234.8410 - val_loss: 1273.4169\n",
      "Epoch 52/100\n",
      "18/18 [==============================] - 0s 6ms/step - loss: 231.4604 - val_loss: 1306.2572\n",
      "Epoch 53/100\n",
      "18/18 [==============================] - 0s 6ms/step - loss: 233.1549 - val_loss: 1288.9147\n",
      "Epoch 54/100\n",
      "18/18 [==============================] - 0s 6ms/step - loss: 234.2429 - val_loss: 1304.0868\n",
      "Epoch 55/100\n",
      "14/18 [======================>.......] - ETA: 0s - loss: 234.8927INFO:tensorflow:Assets written to: model_experiments/model_3_dense/assets\n",
      "18/18 [==============================] - 0s 14ms/step - loss: 229.6665 - val_loss: 1263.4768\n",
      "Epoch 56/100\n",
      "18/18 [==============================] - 0s 6ms/step - loss: 228.6954 - val_loss: 1292.2360\n",
      "Epoch 57/100\n",
      "18/18 [==============================] - 0s 6ms/step - loss: 225.8429 - val_loss: 1291.1760\n",
      "Epoch 58/100\n",
      "18/18 [==============================] - 0s 6ms/step - loss: 228.7399 - val_loss: 1601.6013\n",
      "Epoch 59/100\n",
      "18/18 [==============================] - 0s 6ms/step - loss: 233.9688 - val_loss: 1279.5206\n",
      "Epoch 60/100\n",
      "18/18 [==============================] - 0s 6ms/step - loss: 229.7166 - val_loss: 1297.4263\n",
      "Epoch 61/100\n",
      "18/18 [==============================] - 0s 6ms/step - loss: 233.2195 - val_loss: 1279.8446\n",
      "Epoch 62/100\n",
      "18/18 [==============================] - 0s 6ms/step - loss: 225.4450 - val_loss: 1304.6400\n",
      "Epoch 63/100\n",
      "18/18 [==============================] - 0s 6ms/step - loss: 227.7891 - val_loss: 1517.2418\n",
      "Epoch 64/100\n",
      "13/18 [====================>.........] - ETA: 0s - loss: 238.6127INFO:tensorflow:Assets written to: model_experiments/model_3_dense/assets\n",
      "18/18 [==============================] - 0s 13ms/step - loss: 234.6857 - val_loss: 1257.7648\n",
      "Epoch 65/100\n",
      "18/18 [==============================] - 0s 6ms/step - loss: 230.2907 - val_loss: 1302.6561\n",
      "Epoch 66/100\n",
      "18/18 [==============================] - 0s 6ms/step - loss: 227.2248 - val_loss: 1453.3351\n",
      "Epoch 67/100\n",
      "13/18 [====================>.........] - ETA: 0s - loss: 233.5464INFO:tensorflow:Assets written to: model_experiments/model_3_dense/assets\n",
      "18/18 [==============================] - 0s 13ms/step - loss: 230.1959 - val_loss: 1251.7565\n",
      "Epoch 68/100\n",
      "18/18 [==============================] - 0s 6ms/step - loss: 231.4319 - val_loss: 1306.2433\n",
      "Epoch 69/100\n",
      "18/18 [==============================] - 0s 6ms/step - loss: 224.6631 - val_loss: 1304.0533\n",
      "Epoch 70/100\n",
      "18/18 [==============================] - 0s 6ms/step - loss: 227.1479 - val_loss: 1324.1667\n",
      "Epoch 71/100\n",
      "18/18 [==============================] - 0s 6ms/step - loss: 222.5745 - val_loss: 1312.6606\n",
      "Epoch 72/100\n",
      "18/18 [==============================] - 0s 6ms/step - loss: 224.4895 - val_loss: 1304.0417\n",
      "Epoch 73/100\n",
      "18/18 [==============================] - 0s 6ms/step - loss: 225.9448 - val_loss: 1309.7529\n",
      "Epoch 74/100\n",
      "18/18 [==============================] - 0s 6ms/step - loss: 227.6758 - val_loss: 1642.2015\n",
      "Epoch 75/100\n",
      "18/18 [==============================] - 0s 6ms/step - loss: 236.5009 - val_loss: 1493.2767\n",
      "Epoch 76/100\n",
      "18/18 [==============================] - 0s 6ms/step - loss: 232.3491 - val_loss: 1277.1985\n",
      "Epoch 77/100\n",
      "18/18 [==============================] - 0s 6ms/step - loss: 227.0753 - val_loss: 1389.0872\n",
      "Epoch 78/100\n",
      "18/18 [==============================] - 0s 6ms/step - loss: 227.6303 - val_loss: 1263.4244\n",
      "Epoch 79/100\n",
      "18/18 [==============================] - 0s 6ms/step - loss: 224.1592 - val_loss: 1380.4648\n",
      "Epoch 80/100\n",
      "18/18 [==============================] - 0s 6ms/step - loss: 224.7960 - val_loss: 1579.1117\n",
      "Epoch 81/100\n",
      "18/18 [==============================] - 0s 6ms/step - loss: 237.5074 - val_loss: 1612.7191\n",
      "Epoch 82/100\n",
      "18/18 [==============================] - 0s 6ms/step - loss: 228.5121 - val_loss: 1266.2937\n",
      "Epoch 83/100\n",
      "18/18 [==============================] - 0s 6ms/step - loss: 227.2491 - val_loss: 1694.8514\n",
      "Epoch 84/100\n",
      "18/18 [==============================] - 0s 6ms/step - loss: 236.6146 - val_loss: 1301.2620\n",
      "Epoch 85/100\n",
      "18/18 [==============================] - 0s 5ms/step - loss: 226.6431 - val_loss: 1388.2590\n",
      "Epoch 86/100\n",
      "18/18 [==============================] - 0s 6ms/step - loss: 224.3950 - val_loss: 1290.3630\n",
      "Epoch 87/100\n",
      "13/18 [====================>.........] - ETA: 0s - loss: 228.7080INFO:tensorflow:Assets written to: model_experiments/model_3_dense/assets\n",
      "18/18 [==============================] - 0s 14ms/step - loss: 233.9785 - val_loss: 1243.0631\n",
      "Epoch 88/100\n",
      "18/18 [==============================] - 0s 6ms/step - loss: 223.9506 - val_loss: 1294.3650\n",
      "Epoch 89/100\n",
      "18/18 [==============================] - 0s 6ms/step - loss: 223.9405 - val_loss: 1272.1483\n",
      "Epoch 90/100\n",
      "18/18 [==============================] - 0s 6ms/step - loss: 222.1616 - val_loss: 1266.9596\n",
      "Epoch 91/100\n",
      "18/18 [==============================] - 0s 5ms/step - loss: 221.7148 - val_loss: 1262.4121\n",
      "Epoch 92/100\n",
      "18/18 [==============================] - 0s 6ms/step - loss: 223.2634 - val_loss: 1374.7913\n",
      "Epoch 93/100\n",
      "18/18 [==============================] - 0s 6ms/step - loss: 222.0996 - val_loss: 1266.2838\n",
      "Epoch 94/100\n",
      "18/18 [==============================] - 0s 5ms/step - loss: 234.9356 - val_loss: 1266.8425\n",
      "Epoch 95/100\n",
      "18/18 [==============================] - 0s 5ms/step - loss: 224.8313 - val_loss: 1255.8890\n",
      "Epoch 96/100\n",
      "18/18 [==============================] - 0s 6ms/step - loss: 225.2860 - val_loss: 1250.6368\n",
      "Epoch 97/100\n",
      "18/18 [==============================] - 0s 5ms/step - loss: 225.4093 - val_loss: 1257.7455\n",
      "Epoch 98/100\n",
      "18/18 [==============================] - 0s 6ms/step - loss: 223.0545 - val_loss: 1289.5233\n",
      "Epoch 99/100\n",
      "18/18 [==============================] - 0s 5ms/step - loss: 220.8384 - val_loss: 1278.5756\n",
      "Epoch 100/100\n",
      "18/18 [==============================] - 0s 6ms/step - loss: 222.2592 - val_loss: 1269.3173\n"
     ]
    },
    {
     "data": {
      "text/plain": [
       "<keras.callbacks.History at 0x15271c9d0>"
      ]
     },
     "execution_count": 75,
     "metadata": {},
     "output_type": "execute_result"
    }
   ],
   "source": [
    "# 1. Create the model\n",
    "model_3 = tf.keras.Sequential(name='model_3_dense')\n",
    "model_3.add(layers.Dense(128, activation='relu'))\n",
    "model_3.add(layers.Dense(HORIZON))\n",
    "\n",
    "# 2. Compile the model\n",
    "model_3.compile(\n",
    "    loss='MAE',\n",
    "    optimizer=tf.keras.optimizers.Adam()\n",
    ")\n",
    "\n",
    "# 3. Fit the Model\n",
    "model_3.fit(\n",
    "    train_windows, \n",
    "    train_labels, \n",
    "    epochs=100,\n",
    "    batch_size = 128, \n",
    "    validation_data = (test_windows, test_labels),\n",
    "    callbacks=[create_model_checkpoint(model_name = model_3.name)]\n",
    ")"
   ]
  },
  {
   "cell_type": "code",
   "execution_count": 76,
   "id": "205639da-c403-4e3b-8eb2-9ed0a5a7376a",
   "metadata": {},
   "outputs": [
    {
     "name": "stdout",
     "output_type": "stream",
     "text": [
      "18/18 [==============================] - 0s 3ms/step - loss: 1269.3174\n"
     ]
    },
    {
     "data": {
      "text/plain": [
       "1269.3173828125"
      ]
     },
     "execution_count": 76,
     "metadata": {},
     "output_type": "execute_result"
    }
   ],
   "source": [
    "# Evaluate the model\n",
    "model_3.evaluate(test_windows, test_labels)"
   ]
  },
  {
   "cell_type": "code",
   "execution_count": 77,
   "id": "a2b0ec5d-4477-4fca-aeae-746ab2e7ac73",
   "metadata": {},
   "outputs": [],
   "source": [
    "model_3 = tf.keras.models.load_model('model_experiments/model_3_dense')"
   ]
  },
  {
   "cell_type": "code",
   "execution_count": 78,
   "id": "80bc45c7-39d8-4e99-ad1f-8a1a3dc0ae73",
   "metadata": {},
   "outputs": [
    {
     "name": "stderr",
     "output_type": "stream",
     "text": [
      "2022-02-16 19:16:48.405238: I tensorflow/core/grappler/optimizers/custom_graph_optimizer_registry.cc:112] Plugin optimizer for device_type GPU is enabled.\n"
     ]
    }
   ],
   "source": [
    "model_3_preds = model_3.predict(test_windows)"
   ]
  },
  {
   "cell_type": "code",
   "execution_count": 79,
   "id": "e4063588-92f4-4c90-99ab-c6800fb94921",
   "metadata": {},
   "outputs": [
    {
     "data": {
      "text/plain": [
       "(551, 7)"
      ]
     },
     "execution_count": 79,
     "metadata": {},
     "output_type": "execute_result"
    }
   ],
   "source": [
    "model_3_preds.shape"
   ]
  },
  {
   "cell_type": "code",
   "execution_count": 80,
   "id": "1ada97c4-20c4-425a-9064-1212419a37ff",
   "metadata": {},
   "outputs": [
    {
     "data": {
      "text/plain": [
       "(552, 1)"
      ]
     },
     "execution_count": 80,
     "metadata": {},
     "output_type": "execute_result"
    }
   ],
   "source": [
    "model_2_preds.shape"
   ]
  },
  {
   "cell_type": "code",
   "execution_count": 81,
   "id": "8e945c96-0336-46d5-9283-ff873e001359",
   "metadata": {},
   "outputs": [],
   "source": [
    "model_3_results = make_preds(model_3,test_windows, test_labels)"
   ]
  },
  {
   "cell_type": "code",
   "execution_count": 82,
   "id": "80860057-d0d9-48b9-a389-6549e7743728",
   "metadata": {},
   "outputs": [
    {
     "data": {
      "text/plain": [
       "{'mae': 1243.063,\n",
       " 'mse': 5494930.0,\n",
       " 'rmse': 2344.1267,\n",
       " 'mape': 5.6025004,\n",
       " 'mase': 1.8110542}"
      ]
     },
     "execution_count": 82,
     "metadata": {},
     "output_type": "execute_result"
    }
   ],
   "source": [
    "model_3_results"
   ]
  },
  {
   "cell_type": "code",
   "execution_count": 83,
   "id": "8b754066-98fe-4648-a9e4-9e5bf9393b89",
   "metadata": {},
   "outputs": [
    {
     "data": {
      "image/png": "[encoded data removed]",
      "text/plain": [
       "<Figure size 720x504 with 1 Axes>"
      ]
     },
     "metadata": {
      "needs_background": "light"
     },
     "output_type": "display_data"
    }
   ],
   "source": [
    "offset = 500\n",
    "plt.figure(figsize=(10,7))\n",
    "\n",
    "plot_time_series(\n",
    "    timestamp=X_test[-len(test_windows):],\n",
    "    values=test_labels[:,0],\n",
    "    start=offset,\n",
    "    label=\"test data\"\n",
    "                \n",
    ")\n",
    "plot_time_series(\n",
    "    timestamp=X_test[-len(test_windows):],\n",
    "    values=model_3_preds,\n",
    "    formated='-',\n",
    "    start=offset,\n",
    "    label=\"model_3_predictions\"          \n",
    ")"
   ]
  },
  {
   "cell_type": "code",
   "execution_count": 84,
   "id": "85dd3252-d786-49dc-b5bd-0adcaa4f6274",
   "metadata": {},
   "outputs": [
    {
     "data": {
      "text/plain": [
       "array([9506.354, 9469.95 , 9477.526, 9595.571, 9616.154, 9315.   ,\n",
       "       9734.593], dtype=float32)"
      ]
     },
     "execution_count": 84,
     "metadata": {},
     "output_type": "execute_result"
    }
   ],
   "source": [
    "model_3_preds[0]ddç"
   ]
  },
  {
   "cell_type": "code",
   "execution_count": null,
   "id": "70661c2e-4ebc-476e-b426-6856572e2129",
   "metadata": {},
   "outputs": [],
   "source": [
    "offset = 500\n",
    "plt.figure(figsize=(10,7))\n",
    "\n",
    "plot_time_series(\n",
    "    timestamp=X_test[-len(test_windows):],\n",
    "    values=test_labels[:,0],\n",
    "    start=offset,\n",
    "    label=\"test data\"\n",
    "                \n",
    ")\n",
    "plot_time_series(\n",
    "    timestamp=X_test[-len(test_windows):],\n",
    "    values=model_3_preds,\n",
    "    formated='-',\n",
    "    start=offset,\n",
    "    label=\"model_3_predictions\"          \n",
    ")"
   ]
  },
  {
   "cell_type": "markdown",
   "id": "67b79655-72f0-47f5-a241-c710cf072c32",
   "metadata": {},
   "source": [
    "# Comparing our models trained so far"
   ]
  },
  {
   "cell_type": "code",
   "execution_count": 87,
   "id": "a997bd98-ea1b-4ebf-a386-f762f6317828",
   "metadata": {},
   "outputs": [
    {
     "data": {
      "text/plain": [
       "{'mae': 567.9803,\n",
       " 'mse': 1147547.1,\n",
       " 'rmse': 1071.2362,\n",
       " 'mape': 2.516525,\n",
       " 'mase': 0.99957}"
      ]
     },
     "execution_count": 87,
     "metadata": {},
     "output_type": "execute_result"
    }
   ],
   "source": [
    "naive_results"
   ]
  },
  {
   "cell_type": "code",
   "execution_count": 89,
   "id": "89a1ae1d-99ce-46a3-a7a2-2c7a628b3e27",
   "metadata": {},
   "outputs": [],
   "source": [
    "df_results = pd.DataFrame(\n",
    "    {\n",
    "        \"Naive Model\": naive_results,\n",
    "        \"Model 1\": model_1_results,\n",
    "        \"Model 2\": model_2_results,\n",
    "        \"Model 3\": model_3_results\n",
    "    }\n",
    ")"
   ]
  },
  {
   "cell_type": "code",
   "execution_count": 102,
   "id": "16ae0e08-f071-4947-9de1-3cd00b5a7aeb",
   "metadata": {},
   "outputs": [
    {
     "data": {
      "image/png": "[encoded data removed]",
      "text/plain": [
       "<Figure size 720x1080 with 5 Axes>"
      ]
     },
     "metadata": {
      "needs_background": "light"
     },
     "output_type": "display_data"
    }
   ],
   "source": [
    "df_results.T.plot(kind='barh',subplots=True, figsize=(10,15),sharex=False)\n",
    "plt.show()"
   ]
  },
  {
   "cell_type": "code",
   "execution_count": null,
   "id": "96731784-4292-438c-83a7-381cde7a38df",
   "metadata": {},
   "outputs": [],
   "source": []
  }
 ],
 "metadata": {
  "kernelspec": {
   "display_name": "Python 3 (ipykernel)",
   "language": "python",
   "name": "python3"
  },
  "language_info": {
   "codemirror_mode": {
    "name": "ipython",
    "version": 3
   },
   "file_extension": ".py",
   "mimetype": "text/x-python",
   "name": "python",
   "nbconvert_exporter": "python",
   "pygments_lexer": "ipython3",
   "version": "3.9.5"
  },
  "toc": {
   "base_numbering": 1,
   "nav_menu": {
    "height": "212px",
    "width": "406px"
   },
   "number_sections": true,
   "sideBar": true,
   "skip_h1_title": false,
   "title_cell": "Table of Contents",
   "title_sidebar": "Contents",
   "toc_cell": false,
   "toc_position": {
    "height": "602px",
    "left": "563px",
    "top": "149px",
    "width": "231.39999389648438px"
   },
   "toc_section_display": true,
   "toc_window_display": true
  }
 },
 "nbformat": 4,
 "nbformat_minor": 5
}
