{
 "cells": [
  {
   "cell_type": "markdown",
   "id": "508e4404",
   "metadata": {},
   "source": [
    "# Get the data"
   ]
  },
  {
   "cell_type": "markdown",
   "id": "0d788b80",
   "metadata": {},
   "source": [
    "## clone the data from the authors git repo"
   ]
  },
  {
   "cell_type": "code",
   "execution_count": 1,
   "id": "ab2836cf",
   "metadata": {},
   "outputs": [],
   "source": [
    "#!wget https://raw.githubusercontent.com/mrdbourke/tensorflow-deep-learning/main/extras/helper_functions.py"
   ]
  },
  {
   "cell_type": "code",
   "execution_count": 2,
   "id": "2b573bfa",
   "metadata": {},
   "outputs": [],
   "source": [
    "#!git clone https://github.com/Franck-Dernoncourt/pubmed-rct.git"
   ]
  },
  {
   "cell_type": "markdown",
   "id": "1356753b",
   "metadata": {},
   "source": [
    "### explore the structure of the repo"
   ]
  },
  {
   "cell_type": "code",
   "execution_count": 3,
   "id": "4bc2bf7c",
   "metadata": {},
   "outputs": [
    {
     "data": {
      "text/plain": [
       "['pubmed-rct',\n",
       " '.DS_Store',\n",
       " 'helper_functions.py',\n",
       " 'Untitled.ipynb',\n",
       " 'SkimLit.ipynb',\n",
       " 'model.png',\n",
       " '__pycache__',\n",
       " 'Tensorboard',\n",
       " '.ipynb_checkpoints']"
      ]
     },
     "execution_count": 3,
     "metadata": {},
     "output_type": "execute_result"
    }
   ],
   "source": [
    "import os\n",
    "os.listdir()"
   ]
  },
  {
   "cell_type": "code",
   "execution_count": 4,
   "id": "f9eb2d82",
   "metadata": {},
   "outputs": [],
   "source": [
    "os.chdir('pubmed-rct')"
   ]
  },
  {
   "cell_type": "code",
   "execution_count": 5,
   "id": "cbcee2e8",
   "metadata": {},
   "outputs": [
    {
     "data": {
      "text/plain": [
       "['.DS_Store',\n",
       " 'PubMed_20k_RCT_numbers_replaced_with_at_sign',\n",
       " 'README.md',\n",
       " 'PubMed_200k_RCT_numbers_replaced_with_at_sign',\n",
       " 'PubMed_20k_RCT',\n",
       " '.git',\n",
       " 'PubMed_200k_RCT']"
      ]
     },
     "execution_count": 5,
     "metadata": {},
     "output_type": "execute_result"
    }
   ],
   "source": [
    "os.listdir()"
   ]
  },
  {
   "cell_type": "code",
   "execution_count": 6,
   "id": "c1625904",
   "metadata": {},
   "outputs": [],
   "source": [
    "os.chdir('PubMed_20k_RCT_numbers_replaced_with_at_sign')"
   ]
  },
  {
   "cell_type": "code",
   "execution_count": 7,
   "id": "485ab96c",
   "metadata": {},
   "outputs": [
    {
     "data": {
      "text/plain": [
       "['.DS_Store', 'dev.txt', 'train.txt', 'test.txt']"
      ]
     },
     "execution_count": 7,
     "metadata": {},
     "output_type": "execute_result"
    }
   ],
   "source": [
    "os.listdir()"
   ]
  },
  {
   "cell_type": "markdown",
   "id": "f2d232c2",
   "metadata": {},
   "source": [
    "#### First look at the dev dataset from 20k samples -> Start small"
   ]
  },
  {
   "cell_type": "code",
   "execution_count": 8,
   "id": "13800589",
   "metadata": {},
   "outputs": [],
   "source": [
    "# read in all lines of the dev.txt file\n",
    "with open('dev.txt') as f:\n",
    "    lines = f.readlines()"
   ]
  },
  {
   "cell_type": "code",
   "execution_count": 9,
   "id": "0fe11ded",
   "metadata": {},
   "outputs": [
    {
     "data": {
      "text/plain": [
       "['###24290286\\n',\n",
       " 'BACKGROUND\\tIgE sensitization to Aspergillus fumigatus and a positive sputum fungal culture result are common in patients with refractory asthma .\\n',\n",
       " 'BACKGROUND\\tIt is not clear whether these patients would benefit from antifungal treatment .\\n',\n",
       " 'OBJECTIVE\\tWe sought to determine whether a @-month course of voriconazole improved asthma-related outcomes in patients with asthma who are IgE sensitized to A fumigatus .\\n',\n",
       " 'METHODS\\tAsthmatic patients who were IgE sensitized to A fumigatus with a history of at least @ severe exacerbations in the previous @ months were treated for @ months with @ mg of voriconazole twice daily , followed by observation for @ months , in a double-blind , placebo-controlled , randomized design .\\n',\n",
       " 'METHODS\\tPrimary outcomes were improvement in quality of life at the end of the treatment period and a reduction in the number of severe exacerbations over the @ months of the study .\\n',\n",
       " 'RESULTS\\tSixty-five patients were randomized .\\n',\n",
       " 'RESULTS\\tFifty-nine patients started treatment ( @ receiving voriconazole and @ receiving placebo ) and were included in an intention-to-treat analysis .\\n',\n",
       " 'RESULTS\\tFifty-six patients took the full @ months of medication .\\n',\n",
       " 'RESULTS\\tBetween the voriconazole and placebo groups , there were no significant differences in the number of severe exacerbations ( @ vs @ per patient per year , respectively ; mean difference , @ ; @ % CI , @-@ @ ) , quality of life ( change in Asthma Quality of Life Questionnaire score , @ vs @ ; mean difference between groups , @ ; @ % CI , -@ to -@ ) , or any of our secondary outcome measures .\\n']"
      ]
     },
     "execution_count": 9,
     "metadata": {},
     "output_type": "execute_result"
    }
   ],
   "source": [
    "# visualize the first ten outputs\n",
    "lines[:10]"
   ]
  },
  {
   "cell_type": "markdown",
   "id": "54be9063",
   "metadata": {},
   "source": [
    "#### extract the labels and data from our dataset"
   ]
  },
  {
   "cell_type": "code",
   "execution_count": 10,
   "id": "7e2ce620",
   "metadata": {},
   "outputs": [],
   "source": [
    "labels = []\n",
    "sentences = []\n",
    "for line in lines:\n",
    "    if \"###\" in line:\n",
    "        continue\n",
    "    elif \"\\t\" in line:\n",
    "        split = line.split('\\t')\n",
    "        labels.append(split[0])\n",
    "        sentences.append(split[1].replace(\"\\n\", \"\"))\n",
    "    else:\n",
    "        continue"
   ]
  },
  {
   "cell_type": "code",
   "execution_count": 11,
   "id": "3405d0eb",
   "metadata": {},
   "outputs": [
    {
     "data": {
      "text/plain": [
       "(['BACKGROUND',\n",
       "  'BACKGROUND',\n",
       "  'OBJECTIVE',\n",
       "  'METHODS',\n",
       "  'METHODS',\n",
       "  'RESULTS',\n",
       "  'RESULTS',\n",
       "  'RESULTS',\n",
       "  'RESULTS',\n",
       "  'CONCLUSIONS'],\n",
       " ['IgE sensitization to Aspergillus fumigatus and a positive sputum fungal culture result are common in patients with refractory asthma .',\n",
       "  'It is not clear whether these patients would benefit from antifungal treatment .',\n",
       "  'We sought to determine whether a @-month course of voriconazole improved asthma-related outcomes in patients with asthma who are IgE sensitized to A fumigatus .',\n",
       "  'Asthmatic patients who were IgE sensitized to A fumigatus with a history of at least @ severe exacerbations in the previous @ months were treated for @ months with @ mg of voriconazole twice daily , followed by observation for @ months , in a double-blind , placebo-controlled , randomized design .',\n",
       "  'Primary outcomes were improvement in quality of life at the end of the treatment period and a reduction in the number of severe exacerbations over the @ months of the study .',\n",
       "  'Sixty-five patients were randomized .',\n",
       "  'Fifty-nine patients started treatment ( @ receiving voriconazole and @ receiving placebo ) and were included in an intention-to-treat analysis .',\n",
       "  'Fifty-six patients took the full @ months of medication .',\n",
       "  'Between the voriconazole and placebo groups , there were no significant differences in the number of severe exacerbations ( @ vs @ per patient per year , respectively ; mean difference , @ ; @ % CI , @-@ @ ) , quality of life ( change in Asthma Quality of Life Questionnaire score , @ vs @ ; mean difference between groups , @ ; @ % CI , -@ to -@ ) , or any of our secondary outcome measures .',\n",
       "  'We were unable to show a beneficial effect of @ months of treatment with voriconazole in patients with moderate-to-severe asthma who were IgE sensitized to A fumigatus on either the rate of severe exacerbations , quality of life , or other markers of asthma control .'])"
      ]
     },
     "execution_count": 11,
     "metadata": {},
     "output_type": "execute_result"
    }
   ],
   "source": [
    "labels[:10],sentences[:10]"
   ]
  },
  {
   "cell_type": "code",
   "execution_count": 12,
   "id": "00299d56",
   "metadata": {},
   "outputs": [
    {
     "data": {
      "text/plain": [
       "(30212, 30212)"
      ]
     },
     "execution_count": 12,
     "metadata": {},
     "output_type": "execute_result"
    }
   ],
   "source": [
    "len(labels), len(sentences)"
   ]
  },
  {
   "cell_type": "markdown",
   "id": "377716d6",
   "metadata": {},
   "source": [
    "## Functionize the reading of data"
   ]
  },
  {
   "cell_type": "code",
   "execution_count": 13,
   "id": "343a1232",
   "metadata": {},
   "outputs": [],
   "source": [
    "import pandas as pd"
   ]
  },
  {
   "cell_type": "code",
   "execution_count": 14,
   "id": "b36c8c6b",
   "metadata": {},
   "outputs": [],
   "source": [
    "def get_sentences_and_labels(path):\n",
    "    '''A function that takes in a path where the data is stored as a text file and extracts the labels and sentences and returns this as a tuple'''\n",
    "    if (not os.path.exists(path)):\n",
    "        print('path doesnt exit')\n",
    "        return;\n",
    "    # read in all lines of the dev.txt file\n",
    "    with open(path,'r') as f:\n",
    "        lines = f.readlines()\n",
    "    labels = []\n",
    "    sentences = []\n",
    "    line_counts = []\n",
    "    max_lines = []\n",
    "    for line in lines:\n",
    "        if line.startswith('###'): # id line\n",
    "            line_counter = 0\n",
    "            continue\n",
    "        elif \"\\t\" in line:\n",
    "            line_counts += [line_counter]\n",
    "            line_counter += 1\n",
    "            split = line.split('\\t')\n",
    "            labels.append(split[0])\n",
    "            sentences.append(split[1].replace(\"\\n\", \"\").lower())\n",
    "        else: # line is space\n",
    "            max_line = line_counter - 1\n",
    "            max_lines += [max_line for _ in range(max_line+1)]\n",
    "            continue\n",
    "    return pd.DataFrame({'line_number':line_counts,'max_line':max_lines,'sentences':sentences,'target':labels})"
   ]
  },
  {
   "cell_type": "code",
   "execution_count": 15,
   "id": "14f300e9",
   "metadata": {},
   "outputs": [
    {
     "data": {
      "text/plain": [
       "['.DS_Store', 'dev.txt', 'train.txt', 'test.txt']"
      ]
     },
     "execution_count": 15,
     "metadata": {},
     "output_type": "execute_result"
    }
   ],
   "source": [
    "os.listdir()"
   ]
  },
  {
   "cell_type": "code",
   "execution_count": 16,
   "id": "d7144f02",
   "metadata": {},
   "outputs": [],
   "source": [
    "df_train = get_sentences_and_labels('train.txt')"
   ]
  },
  {
   "cell_type": "code",
   "execution_count": 17,
   "id": "fc220120",
   "metadata": {},
   "outputs": [],
   "source": [
    "df_val = get_sentences_and_labels('dev.txt')"
   ]
  },
  {
   "cell_type": "code",
   "execution_count": 18,
   "id": "c382b5c9",
   "metadata": {},
   "outputs": [],
   "source": [
    "df_test = get_sentences_and_labels('test.txt')"
   ]
  },
  {
   "cell_type": "code",
   "execution_count": 19,
   "id": "20da53c1",
   "metadata": {},
   "outputs": [
    {
     "data": {
      "text/html": [
       "<div>\n",
       "<style scoped>\n",
       "    .dataframe tbody tr th:only-of-type {\n",
       "        vertical-align: middle;\n",
       "    }\n",
       "\n",
       "    .dataframe tbody tr th {\n",
       "        vertical-align: top;\n",
       "    }\n",
       "\n",
       "    .dataframe thead th {\n",
       "        text-align: right;\n",
       "    }\n",
       "</style>\n",
       "<table border=\"1\" class=\"dataframe\">\n",
       "  <thead>\n",
       "    <tr style=\"text-align: right;\">\n",
       "      <th></th>\n",
       "      <th>line_number</th>\n",
       "      <th>max_line</th>\n",
       "      <th>sentences</th>\n",
       "      <th>target</th>\n",
       "    </tr>\n",
       "  </thead>\n",
       "  <tbody>\n",
       "    <tr>\n",
       "      <th>0</th>\n",
       "      <td>0</td>\n",
       "      <td>11</td>\n",
       "      <td>to investigate the efficacy of @ weeks of dail...</td>\n",
       "      <td>OBJECTIVE</td>\n",
       "    </tr>\n",
       "    <tr>\n",
       "      <th>1</th>\n",
       "      <td>1</td>\n",
       "      <td>11</td>\n",
       "      <td>a total of @ patients with primary knee oa wer...</td>\n",
       "      <td>METHODS</td>\n",
       "    </tr>\n",
       "    <tr>\n",
       "      <th>2</th>\n",
       "      <td>2</td>\n",
       "      <td>11</td>\n",
       "      <td>outcome measures included pain reduction and i...</td>\n",
       "      <td>METHODS</td>\n",
       "    </tr>\n",
       "    <tr>\n",
       "      <th>3</th>\n",
       "      <td>3</td>\n",
       "      <td>11</td>\n",
       "      <td>pain was assessed using the visual analog pain...</td>\n",
       "      <td>METHODS</td>\n",
       "    </tr>\n",
       "    <tr>\n",
       "      <th>4</th>\n",
       "      <td>4</td>\n",
       "      <td>11</td>\n",
       "      <td>secondary outcome measures included the wester...</td>\n",
       "      <td>METHODS</td>\n",
       "    </tr>\n",
       "    <tr>\n",
       "      <th>5</th>\n",
       "      <td>5</td>\n",
       "      <td>11</td>\n",
       "      <td>serum levels of interleukin @ ( il-@ ) , il-@ ...</td>\n",
       "      <td>METHODS</td>\n",
       "    </tr>\n",
       "    <tr>\n",
       "      <th>6</th>\n",
       "      <td>6</td>\n",
       "      <td>11</td>\n",
       "      <td>there was a clinically relevant reduction in t...</td>\n",
       "      <td>RESULTS</td>\n",
       "    </tr>\n",
       "    <tr>\n",
       "      <th>7</th>\n",
       "      <td>7</td>\n",
       "      <td>11</td>\n",
       "      <td>the mean difference between treatment arms ( @...</td>\n",
       "      <td>RESULTS</td>\n",
       "    </tr>\n",
       "    <tr>\n",
       "      <th>8</th>\n",
       "      <td>8</td>\n",
       "      <td>11</td>\n",
       "      <td>further , there was a clinically relevant redu...</td>\n",
       "      <td>RESULTS</td>\n",
       "    </tr>\n",
       "    <tr>\n",
       "      <th>9</th>\n",
       "      <td>9</td>\n",
       "      <td>11</td>\n",
       "      <td>these differences remained significant at @ we...</td>\n",
       "      <td>RESULTS</td>\n",
       "    </tr>\n",
       "    <tr>\n",
       "      <th>10</th>\n",
       "      <td>10</td>\n",
       "      <td>11</td>\n",
       "      <td>the outcome measures in rheumatology clinical ...</td>\n",
       "      <td>RESULTS</td>\n",
       "    </tr>\n",
       "    <tr>\n",
       "      <th>11</th>\n",
       "      <td>11</td>\n",
       "      <td>11</td>\n",
       "      <td>low-dose oral prednisolone had both a short-te...</td>\n",
       "      <td>CONCLUSIONS</td>\n",
       "    </tr>\n",
       "    <tr>\n",
       "      <th>12</th>\n",
       "      <td>0</td>\n",
       "      <td>10</td>\n",
       "      <td>emotional eating is associated with overeating...</td>\n",
       "      <td>BACKGROUND</td>\n",
       "    </tr>\n",
       "  </tbody>\n",
       "</table>\n",
       "</div>"
      ],
      "text/plain": [
       "    line_number  max_line                                          sentences  \\\n",
       "0             0        11  to investigate the efficacy of @ weeks of dail...   \n",
       "1             1        11  a total of @ patients with primary knee oa wer...   \n",
       "2             2        11  outcome measures included pain reduction and i...   \n",
       "3             3        11  pain was assessed using the visual analog pain...   \n",
       "4             4        11  secondary outcome measures included the wester...   \n",
       "5             5        11  serum levels of interleukin @ ( il-@ ) , il-@ ...   \n",
       "6             6        11  there was a clinically relevant reduction in t...   \n",
       "7             7        11  the mean difference between treatment arms ( @...   \n",
       "8             8        11  further , there was a clinically relevant redu...   \n",
       "9             9        11  these differences remained significant at @ we...   \n",
       "10           10        11  the outcome measures in rheumatology clinical ...   \n",
       "11           11        11  low-dose oral prednisolone had both a short-te...   \n",
       "12            0        10  emotional eating is associated with overeating...   \n",
       "\n",
       "         target  \n",
       "0     OBJECTIVE  \n",
       "1       METHODS  \n",
       "2       METHODS  \n",
       "3       METHODS  \n",
       "4       METHODS  \n",
       "5       METHODS  \n",
       "6       RESULTS  \n",
       "7       RESULTS  \n",
       "8       RESULTS  \n",
       "9       RESULTS  \n",
       "10      RESULTS  \n",
       "11  CONCLUSIONS  \n",
       "12   BACKGROUND  "
      ]
     },
     "execution_count": 19,
     "metadata": {},
     "output_type": "execute_result"
    }
   ],
   "source": [
    "df_train.iloc[:13]"
   ]
  },
  {
   "cell_type": "code",
   "execution_count": 20,
   "id": "5c8dd2a6",
   "metadata": {},
   "outputs": [
    {
     "data": {
      "text/plain": [
       "(180040, 30212, 30135)"
      ]
     },
     "execution_count": 20,
     "metadata": {},
     "output_type": "execute_result"
    }
   ],
   "source": [
    "len(df_train), len(df_val), len(df_test)"
   ]
  },
  {
   "cell_type": "markdown",
   "id": "7748a747",
   "metadata": {},
   "source": [
    "### Change back to the original directory"
   ]
  },
  {
   "cell_type": "code",
   "execution_count": 21,
   "id": "db563b4a",
   "metadata": {},
   "outputs": [],
   "source": [
    "os.chdir('..')"
   ]
  },
  {
   "cell_type": "code",
   "execution_count": 22,
   "id": "7150f709",
   "metadata": {},
   "outputs": [],
   "source": [
    "os.chdir('..')"
   ]
  },
  {
   "cell_type": "code",
   "execution_count": 23,
   "id": "395f955b",
   "metadata": {},
   "outputs": [
    {
     "data": {
      "text/plain": [
       "['pubmed-rct',\n",
       " '.DS_Store',\n",
       " 'helper_functions.py',\n",
       " 'Untitled.ipynb',\n",
       " 'SkimLit.ipynb',\n",
       " 'model.png',\n",
       " '__pycache__',\n",
       " 'Tensorboard',\n",
       " '.ipynb_checkpoints']"
      ]
     },
     "execution_count": 23,
     "metadata": {},
     "output_type": "execute_result"
    }
   ],
   "source": [
    "os.listdir()"
   ]
  },
  {
   "cell_type": "markdown",
   "id": "c4547293",
   "metadata": {},
   "source": [
    "### Visual data exploration"
   ]
  },
  {
   "cell_type": "code",
   "execution_count": 24,
   "id": "f97483fb",
   "metadata": {},
   "outputs": [],
   "source": [
    "import matplotlib.pyplot as plt\n",
    "import re"
   ]
  },
  {
   "cell_type": "code",
   "execution_count": 25,
   "id": "f5a4eba3",
   "metadata": {},
   "outputs": [],
   "source": [
    "# function to plot the distributions of maximal lines in the df\n",
    "def plot_distribution(df,naming):\n",
    "    '''\n",
    "    Function that plots the distribution of the df data, label is training, test or validation set\n",
    "    '''\n",
    "    fig, [(ax1, ax2), (ax3, ax4)] = plt.subplots(nrows=2,ncols=2,figsize=(20,15))\n",
    "    plt.rcParams.update({'font.size': 15})\n",
    "    # plot function - distribution of max lines\n",
    "    df[['max_line']].value_counts().reset_index().sort_values('max_line',ascending=True).set_index('max_line').plot(kind='bar',ax=ax1,title='Distribution of max lines in %s data'%naming,legend=False)\n",
    "    ax1.set_xlabel('Maximal number of lines in a Document',fontsize=17)\n",
    "    ax1.set_ylabel('Number of Documents',fontsize=17)\n",
    "    # plot function - distribution of labels\n",
    "    df[['target']].value_counts().reset_index().sort_values('target',ascending=False).set_index('target').plot(kind='barh',ax=ax2,title='Distribution of the labels in %s data'%naming,legend=False)\n",
    "    ax2.set_xlabel('Number of Documents',fontsize=17)\n",
    "    ax2.set_ylabel('')\n",
    "    \n",
    "    # plot function - distribution of tokens per sentence\n",
    "    df['tokens_per_sentence'] = [len(x) for x in df.sentences.str.split()]\n",
    "    df.tokens_per_sentence.plot(kind='hist',bins=150,ax=ax3,title='Distribution of tokens per sentence')\n",
    "    ax3.set_xlim([0,150])\n",
    "    ax3.set_xlabel('Number of tokens per sentence',fontsize=17)\n",
    "    ax3.set_ylabel('Number of occurences',fontsize=17)\n",
    "    \n",
    "    ax4.axis('off') # do not show this subplot axis\n",
    "    fig.tight_layout(pad=1.0) # add space between the figures\n",
    "    plt.show()"
   ]
  },
  {
   "cell_type": "code",
   "execution_count": 26,
   "id": "55cc515b",
   "metadata": {},
   "outputs": [
    {
     "data": {
      "image/png": "[encoded data removed]",
      "text/plain": [
       "<Figure size 1440x1080 with 4 Axes>"
      ]
     },
     "metadata": {
      "needs_background": "light"
     },
     "output_type": "display_data"
    }
   ],
   "source": [
    "plot_distribution(df_train.copy(),'TRAINING')"
   ]
  },
  {
   "cell_type": "code",
   "execution_count": 27,
   "id": "057be19a",
   "metadata": {},
   "outputs": [
    {
     "data": {
      "image/png": "[encoded data removed]",
      "text/plain": [
       "<Figure size 1440x1080 with 4 Axes>"
      ]
     },
     "metadata": {
      "needs_background": "light"
     },
     "output_type": "display_data"
    }
   ],
   "source": [
    "plot_distribution(df_val,'VALIDATION')"
   ]
  },
  {
   "cell_type": "code",
   "execution_count": 28,
   "id": "f833c524",
   "metadata": {},
   "outputs": [
    {
     "data": {
      "image/png": "[encoded data removed]",
      "text/plain": [
       "<Figure size 1440x1080 with 4 Axes>"
      ]
     },
     "metadata": {
      "needs_background": "light"
     },
     "output_type": "display_data"
    }
   ],
   "source": [
    "plot_distribution(df_val,'TEST')"
   ]
  },
  {
   "cell_type": "markdown",
   "id": "6b650e51",
   "metadata": {},
   "source": [
    "## Numerical encoding of labels"
   ]
  },
  {
   "cell_type": "markdown",
   "id": "038e6847",
   "metadata": {},
   "source": [
    "### One Hot Encoding"
   ]
  },
  {
   "cell_type": "code",
   "execution_count": 29,
   "id": "43c43d8f",
   "metadata": {},
   "outputs": [],
   "source": [
    "import tensorflow as tf\n",
    "from sklearn.preprocessing import OneHotEncoder"
   ]
  },
  {
   "cell_type": "code",
   "execution_count": 30,
   "id": "efbc3d7f",
   "metadata": {},
   "outputs": [
    {
     "data": {
      "text/html": [
       "<div>\n",
       "<style scoped>\n",
       "    .dataframe tbody tr th:only-of-type {\n",
       "        vertical-align: middle;\n",
       "    }\n",
       "\n",
       "    .dataframe tbody tr th {\n",
       "        vertical-align: top;\n",
       "    }\n",
       "\n",
       "    .dataframe thead th {\n",
       "        text-align: right;\n",
       "    }\n",
       "</style>\n",
       "<table border=\"1\" class=\"dataframe\">\n",
       "  <thead>\n",
       "    <tr style=\"text-align: right;\">\n",
       "      <th></th>\n",
       "      <th>line_number</th>\n",
       "      <th>max_line</th>\n",
       "      <th>sentences</th>\n",
       "      <th>target</th>\n",
       "    </tr>\n",
       "  </thead>\n",
       "  <tbody>\n",
       "    <tr>\n",
       "      <th>0</th>\n",
       "      <td>0</td>\n",
       "      <td>11</td>\n",
       "      <td>to investigate the efficacy of @ weeks of dail...</td>\n",
       "      <td>OBJECTIVE</td>\n",
       "    </tr>\n",
       "    <tr>\n",
       "      <th>1</th>\n",
       "      <td>1</td>\n",
       "      <td>11</td>\n",
       "      <td>a total of @ patients with primary knee oa wer...</td>\n",
       "      <td>METHODS</td>\n",
       "    </tr>\n",
       "    <tr>\n",
       "      <th>2</th>\n",
       "      <td>2</td>\n",
       "      <td>11</td>\n",
       "      <td>outcome measures included pain reduction and i...</td>\n",
       "      <td>METHODS</td>\n",
       "    </tr>\n",
       "    <tr>\n",
       "      <th>3</th>\n",
       "      <td>3</td>\n",
       "      <td>11</td>\n",
       "      <td>pain was assessed using the visual analog pain...</td>\n",
       "      <td>METHODS</td>\n",
       "    </tr>\n",
       "    <tr>\n",
       "      <th>4</th>\n",
       "      <td>4</td>\n",
       "      <td>11</td>\n",
       "      <td>secondary outcome measures included the wester...</td>\n",
       "      <td>METHODS</td>\n",
       "    </tr>\n",
       "  </tbody>\n",
       "</table>\n",
       "</div>"
      ],
      "text/plain": [
       "   line_number  max_line                                          sentences  \\\n",
       "0            0        11  to investigate the efficacy of @ weeks of dail...   \n",
       "1            1        11  a total of @ patients with primary knee oa wer...   \n",
       "2            2        11  outcome measures included pain reduction and i...   \n",
       "3            3        11  pain was assessed using the visual analog pain...   \n",
       "4            4        11  secondary outcome measures included the wester...   \n",
       "\n",
       "      target  \n",
       "0  OBJECTIVE  \n",
       "1    METHODS  \n",
       "2    METHODS  \n",
       "3    METHODS  \n",
       "4    METHODS  "
      ]
     },
     "execution_count": 30,
     "metadata": {},
     "output_type": "execute_result"
    }
   ],
   "source": [
    "df_train.head()"
   ]
  },
  {
   "cell_type": "code",
   "execution_count": 31,
   "id": "86a813c2",
   "metadata": {},
   "outputs": [],
   "source": [
    "# one hot encoder\n",
    "onehot_encoder = OneHotEncoder(sparse=False) # use sparse to be able to turn it into a tf tensor\n",
    "train_labels_one_hot = onehot_encoder.fit_transform(df_train['target'].to_numpy().reshape(-1,1))\n",
    "val_labels_one_hot = onehot_encoder.transform(df_val['target'].to_numpy().reshape(-1,1))\n",
    "test_labels_one_hot = onehot_encoder.transform(df_test['target'].to_numpy().reshape(-1,1))"
   ]
  },
  {
   "cell_type": "code",
   "execution_count": 32,
   "id": "6c1075ab",
   "metadata": {},
   "outputs": [
    {
     "data": {
      "text/plain": [
       "array([[0., 0., 0., 1., 0.],\n",
       "       [0., 0., 1., 0., 0.],\n",
       "       [0., 0., 1., 0., 0.],\n",
       "       ...,\n",
       "       [0., 0., 0., 0., 1.],\n",
       "       [0., 1., 0., 0., 0.],\n",
       "       [0., 1., 0., 0., 0.]])"
      ]
     },
     "execution_count": 32,
     "metadata": {},
     "output_type": "execute_result"
    }
   ],
   "source": [
    "train_labels_one_hot"
   ]
  },
  {
   "cell_type": "code",
   "execution_count": 33,
   "id": "cdd370ed",
   "metadata": {},
   "outputs": [],
   "source": [
    "# or use pandas get_dummies method\n",
    "# pd.get_dummies(df_train.target).values"
   ]
  },
  {
   "cell_type": "markdown",
   "id": "7eecca25",
   "metadata": {},
   "source": [
    "### Label Encode Labels"
   ]
  },
  {
   "cell_type": "code",
   "execution_count": 34,
   "id": "e9395fed",
   "metadata": {},
   "outputs": [],
   "source": [
    "from sklearn.preprocessing import LabelEncoder"
   ]
  },
  {
   "cell_type": "code",
   "execution_count": 35,
   "id": "eda843b7",
   "metadata": {},
   "outputs": [],
   "source": [
    "# label encoder\n",
    "label_encoder = LabelEncoder()\n",
    "train_labels_labelencoded = label_encoder.fit_transform(df_train['target'].to_numpy())\n",
    "val_labels_labelencoded = label_encoder.transform(df_val['target'].to_numpy())\n",
    "test_labels_labelencoded = label_encoder.transform(df_test['target'].to_numpy())"
   ]
  },
  {
   "cell_type": "code",
   "execution_count": 36,
   "id": "a3acafb2",
   "metadata": {},
   "outputs": [
    {
     "data": {
      "text/plain": [
       "array([3, 2, 2, ..., 4, 1, 1])"
      ]
     },
     "execution_count": 36,
     "metadata": {},
     "output_type": "execute_result"
    }
   ],
   "source": [
    "train_labels_labelencoded"
   ]
  },
  {
   "cell_type": "code",
   "execution_count": 37,
   "id": "2ee53aae",
   "metadata": {},
   "outputs": [],
   "source": [
    "num_classes = len(label_encoder.classes_)\n",
    "class_names = label_encoder.classes_"
   ]
  },
  {
   "cell_type": "code",
   "execution_count": 38,
   "id": "582d4aaf",
   "metadata": {},
   "outputs": [],
   "source": [
    "# define the data that will be passed to the model\n",
    "train_sentences = df_train.sentences.values\n",
    "val_sentences = df_val.sentences.values\n",
    "test_sentences = df_test.sentences.values"
   ]
  },
  {
   "cell_type": "markdown",
   "id": "3f1a0b38",
   "metadata": {},
   "source": [
    "# Model 0 - creating a baseline model"
   ]
  },
  {
   "cell_type": "markdown",
   "id": "46bcb666",
   "metadata": {},
   "source": [
    "## build & fit a naive bayes baseline model"
   ]
  },
  {
   "cell_type": "code",
   "execution_count": 39,
   "id": "6fd091a7",
   "metadata": {},
   "outputs": [],
   "source": [
    "from sklearn.naive_bayes import MultinomialNB\n",
    "from sklearn.feature_extraction.text import TfidfVectorizer\n",
    "from sklearn.pipeline import Pipeline"
   ]
  },
  {
   "cell_type": "code",
   "execution_count": 40,
   "id": "e381cf00",
   "metadata": {},
   "outputs": [],
   "source": [
    "# create the model Pipeline\n",
    "model_0 = Pipeline([\n",
    "    ('tfidf',TfidfVectorizer()),\n",
    "    ('clf',MultinomialNB())\n",
    "])"
   ]
  },
  {
   "cell_type": "code",
   "execution_count": 41,
   "id": "029e2188",
   "metadata": {},
   "outputs": [
    {
     "data": {
      "text/plain": [
       "Pipeline(steps=[('tfidf', TfidfVectorizer()), ('clf', MultinomialNB())])"
      ]
     },
     "execution_count": 41,
     "metadata": {},
     "output_type": "execute_result"
    }
   ],
   "source": [
    "# fit the model\n",
    "# MulinomialNB requires label encoded labels, so we have to use train_labels_labelencoded\n",
    "model_0.fit(X=train_sentences,\n",
    "            y=train_labels_labelencoded\n",
    ")"
   ]
  },
  {
   "cell_type": "markdown",
   "id": "ad3ad6a3",
   "metadata": {},
   "source": [
    "## Evaluate the model"
   ]
  },
  {
   "cell_type": "code",
   "execution_count": 42,
   "id": "744e4e91",
   "metadata": {},
   "outputs": [
    {
     "data": {
      "text/plain": [
       "0.7218323844829869"
      ]
     },
     "execution_count": 42,
     "metadata": {},
     "output_type": "execute_result"
    }
   ],
   "source": [
    "# evaluate the model\n",
    "model_0.score(val_sentences,val_labels_labelencoded)"
   ]
  },
  {
   "cell_type": "code",
   "execution_count": 43,
   "id": "0f6b7003",
   "metadata": {},
   "outputs": [],
   "source": [
    "# make predictions using basline model\n",
    "model_0_preds = model_0.predict(val_sentences)"
   ]
  },
  {
   "cell_type": "code",
   "execution_count": 44,
   "id": "6b6ed2cf",
   "metadata": {},
   "outputs": [],
   "source": [
    "# Function to evaluate: accuracy, precision, recall, f1-score\n",
    "from sklearn.metrics import accuracy_score, precision_recall_fscore_support\n",
    "\n",
    "def calculate_results(y_true, y_pred):\n",
    "    \"\"\"\n",
    "    Calculates model accuracy, precision, recall and f1 score of a binary classification model.\n",
    "\n",
    "    Args:\n",
    "      y_true: true labels in the form of a 1D array\n",
    "      y_pred: predicted labels in the form of a 1D array\n",
    "\n",
    "    Returns a dictionary of accuracy, precision, recall, f1-score.\n",
    "    \"\"\"\n",
    "    # Calculate model accuracy\n",
    "    model_accuracy = accuracy_score(y_true, y_pred) * 100\n",
    "    # Calculate model precision, recall and f1 score using \"weighted average\n",
    "    model_precision, model_recall, model_f1, _ = precision_recall_fscore_support(y_true, y_pred, average=\"weighted\")\n",
    "    model_results = {\"accuracy\": model_accuracy,\n",
    "                  \"precision\": model_precision,\n",
    "                  \"recall\": model_recall,\n",
    "                  \"f1\": model_f1}\n",
    "    return model_results"
   ]
  },
  {
   "cell_type": "code",
   "execution_count": 45,
   "id": "28f26512",
   "metadata": {},
   "outputs": [
    {
     "data": {
      "text/plain": [
       "{'accuracy': 72.1832384482987,\n",
       " 'precision': 0.7186466952323352,\n",
       " 'recall': 0.7218323844829869,\n",
       " 'f1': 0.6989250353450294}"
      ]
     },
     "execution_count": 45,
     "metadata": {},
     "output_type": "execute_result"
    }
   ],
   "source": [
    "model_0_results = calculate_results(val_labels_labelencoded,model_0_preds)\n",
    "model_0_results"
   ]
  },
  {
   "cell_type": "markdown",
   "id": "034d87ea",
   "metadata": {},
   "source": [
    "# Model 1 - Conv1D Model with Embedding"
   ]
  },
  {
   "cell_type": "markdown",
   "id": "459c551e",
   "metadata": {},
   "source": [
    "## Build the model"
   ]
  },
  {
   "cell_type": "code",
   "execution_count": 46,
   "id": "8af7d794",
   "metadata": {},
   "outputs": [],
   "source": [
    "# make the neccessary imports\n",
    "from tensorflow.keras import layers\n",
    "from helper_functions import create_tensorboard_callback"
   ]
  },
  {
   "cell_type": "markdown",
   "id": "8b18f491",
   "metadata": {},
   "source": [
    "### Create TextVectorization Layer"
   ]
  },
  {
   "cell_type": "code",
   "execution_count": 47,
   "id": "dd20f2e0",
   "metadata": {},
   "outputs": [],
   "source": [
    "import numpy as np"
   ]
  },
  {
   "cell_type": "code",
   "execution_count": 48,
   "id": "59597b27",
   "metadata": {},
   "outputs": [],
   "source": [
    "max_tokens = 68000 # got that value from the paper"
   ]
  },
  {
   "cell_type": "code",
   "execution_count": 49,
   "id": "0f562f6b",
   "metadata": {},
   "outputs": [],
   "source": [
    "# calculate mean token length in each sentence\n",
    "mean_token_length = int(np.mean([len(x) for x in df_train.sentences.str.split()]))\n",
    "q90 = int(np.quantile([len(x) for x in df_train.sentences.str.split()],0.9))"
   ]
  },
  {
   "cell_type": "code",
   "execution_count": 50,
   "id": "435eaaca",
   "metadata": {},
   "outputs": [
    {
     "data": {
      "text/plain": [
       "(26, 45)"
      ]
     },
     "execution_count": 50,
     "metadata": {},
     "output_type": "execute_result"
    }
   ],
   "source": [
    "mean_token_length, q90"
   ]
  },
  {
   "cell_type": "code",
   "execution_count": 51,
   "id": "cea89ee8",
   "metadata": {},
   "outputs": [
    {
     "name": "stdout",
     "output_type": "stream",
     "text": [
      "Metal device set to: Apple M1\n"
     ]
    },
    {
     "name": "stderr",
     "output_type": "stream",
     "text": [
      "2021-11-24 12:34:54.693289: I tensorflow/core/common_runtime/pluggable_device/pluggable_device_factory.cc:305] Could not identify NUMA node of platform GPU ID 0, defaulting to 0. Your kernel may not have been built with NUMA support.\n",
      "2021-11-24 12:34:54.693374: I tensorflow/core/common_runtime/pluggable_device/pluggable_device_factory.cc:271] Created TensorFlow device (/job:localhost/replica:0/task:0/device:GPU:0 with 0 MB memory) -> physical PluggableDevice (device: 0, name: METAL, pci bus id: <undefined>)\n"
     ]
    }
   ],
   "source": [
    "# create the text vectorization layer\n",
    "text_vectorizer = layers.TextVectorization(\n",
    "    max_tokens = max_tokens, # maximal number of different words in the vocab\n",
    "    standardize = 'lower_and_strip_punctuation',\n",
    "    split = 'whitespace',\n",
    "    output_sequence_length = q90\n",
    ")"
   ]
  },
  {
   "cell_type": "code",
   "execution_count": 52,
   "id": "39f5ef73",
   "metadata": {},
   "outputs": [
    {
     "name": "stderr",
     "output_type": "stream",
     "text": [
      "2021-11-24 12:34:54.731819: I tensorflow/compiler/mlir/mlir_graph_optimization_pass.cc:185] None of the MLIR Optimization Passes are enabled (registered 2)\n",
      "2021-11-24 12:34:54.731983: W tensorflow/core/platform/profile_utils/cpu_utils.cc:128] Failed to get CPU frequency: 0 Hz\n",
      "2021-11-24 12:34:54.759842: I tensorflow/core/grappler/optimizers/custom_graph_optimizer_registry.cc:112] Plugin optimizer for device_type GPU is enabled.\n"
     ]
    }
   ],
   "source": [
    "# adapt the vectorizer to the train sentences\n",
    "text_vectorizer.adapt(train_sentences)"
   ]
  },
  {
   "cell_type": "code",
   "execution_count": 53,
   "id": "01ee9afd",
   "metadata": {},
   "outputs": [
    {
     "name": "stdout",
     "output_type": "stream",
     "text": [
      "number of unique words in the vocabulary: 64841\n",
      "First ten words in the vocab are ['', '[UNK]', 'the', 'and', 'of', 'in', 'to', 'with', 'a', 'were']\n",
      "Last ten words in the vocab are ['aarm', 'aaqol', 'aaq', 'aanhui', 'aana', 'aainduced', 'aaigroup', 'aachener', 'aachen', 'aaacp']\n"
     ]
    }
   ],
   "source": [
    "vocab_tv = text_vectorizer.get_vocabulary()\n",
    "print(\"number of unique words in the vocabulary: %d\"%len(vocab_tv))\n",
    "print(f\"First ten words in the vocab are {vocab_tv[:10]}\")\n",
    "print(f\"Last ten words in the vocab are {vocab_tv[-10:]}\")"
   ]
  },
  {
   "cell_type": "markdown",
   "id": "f22791b5",
   "metadata": {},
   "source": [
    "### Create Embedding Layer"
   ]
  },
  {
   "cell_type": "code",
   "execution_count": 54,
   "id": "20990c14",
   "metadata": {},
   "outputs": [],
   "source": [
    "embedding = layers.Embedding(\n",
    "    input_dim = len(vocab_tv),\n",
    "    output_dim = 128, \n",
    "    mask_zero=True,\n",
    "    input_length=mean_token_length\n",
    ")"
   ]
  },
  {
   "cell_type": "code",
   "execution_count": 55,
   "id": "5d8f2fa4",
   "metadata": {},
   "outputs": [
    {
     "data": {
      "text/plain": [
       "<tf.Tensor: shape=(1, 45, 128), dtype=float32, numpy=\n",
       "array([[[ 0.04848984, -0.02641311, -0.00251706, ..., -0.02433475,\n",
       "          0.0469701 , -0.04174625],\n",
       "        [-0.0301468 ,  0.01664257,  0.00698966, ...,  0.03302902,\n",
       "          0.02761017,  0.04779518],\n",
       "        [-0.01707444,  0.00020711, -0.01951962, ..., -0.02331528,\n",
       "         -0.01623024, -0.04338765],\n",
       "        ...,\n",
       "        [-0.0071764 ,  0.02066778, -0.02866557, ...,  0.03387885,\n",
       "          0.00563985,  0.02436881],\n",
       "        [-0.0071764 ,  0.02066778, -0.02866557, ...,  0.03387885,\n",
       "          0.00563985,  0.02436881],\n",
       "        [-0.0071764 ,  0.02066778, -0.02866557, ...,  0.03387885,\n",
       "          0.00563985,  0.02436881]]], dtype=float32)>"
      ]
     },
     "execution_count": 55,
     "metadata": {},
     "output_type": "execute_result"
    }
   ],
   "source": [
    "embedding(text_vectorizer(['This is a sample sentence we want to classify']))"
   ]
  },
  {
   "cell_type": "markdown",
   "id": "714a679c",
   "metadata": {},
   "source": [
    "### Create a TF Dataset for better performance"
   ]
  },
  {
   "cell_type": "code",
   "execution_count": 56,
   "id": "3848be70",
   "metadata": {},
   "outputs": [],
   "source": [
    "train_dataset = tf.data.Dataset.from_tensor_slices((train_sentences, train_labels_one_hot))\n",
    "val_dataset = tf.data.Dataset.from_tensor_slices((val_sentences, val_labels_one_hot))\n",
    "test_dataset = tf.data.Dataset.from_tensor_slices((test_sentences, test_labels_one_hot))"
   ]
  },
  {
   "cell_type": "code",
   "execution_count": 57,
   "id": "247afe09",
   "metadata": {},
   "outputs": [],
   "source": [
    "# turn our datasets into prefetched datasets\n",
    "train_dataset = train_dataset.batch(32).prefetch(tf.data.AUTOTUNE)\n",
    "val_dataset = val_dataset.batch(32).prefetch(tf.data.AUTOTUNE)\n",
    "test_dataset = test_dataset.batch(32).prefetch(tf.data.AUTOTUNE)"
   ]
  },
  {
   "cell_type": "markdown",
   "id": "5cd129ca",
   "metadata": {},
   "source": [
    "### Build & Fit the model 1"
   ]
  },
  {
   "cell_type": "code",
   "execution_count": 58,
   "id": "60dcfa66",
   "metadata": {},
   "outputs": [],
   "source": [
    "# define the input layer\n",
    "inputs = layers.Input(shape=(1,),dtype=tf.string,name='input_layer')\n",
    "\n",
    "# hand inputs to vectorizer\n",
    "x = text_vectorizer(inputs)\n",
    "\n",
    "# create the embedding\n",
    "x = embedding(x)\n",
    "\n",
    "# pass it to the conv1d layer\n",
    "x = layers.Conv1D(64,3,activation='relu')(x)\n",
    "\n",
    "# define max pooling layer\n",
    "x = layers.GlobalMaxPooling1D(name='max_pool')(x)\n",
    "\n",
    "# define the outputs => one hot encoded\n",
    "outputs = layers.Dense(num_classes,activation='softmax',name='output_layer')(x)\n",
    "\n",
    "# create the model\n",
    "model_1 = tf.keras.Model(inputs,outputs,name='model_1')"
   ]
  },
  {
   "cell_type": "code",
   "execution_count": 59,
   "id": "15489c4a",
   "metadata": {},
   "outputs": [
    {
     "name": "stdout",
     "output_type": "stream",
     "text": [
      "Model: \"model_1\"\n",
      "_________________________________________________________________\n",
      "Layer (type)                 Output Shape              Param #   \n",
      "=================================================================\n",
      "input_layer (InputLayer)     [(None, 1)]               0         \n",
      "_________________________________________________________________\n",
      "text_vectorization (TextVect (None, 45)                0         \n",
      "_________________________________________________________________\n",
      "embedding (Embedding)        (None, 45, 128)           8299648   \n",
      "_________________________________________________________________\n",
      "conv1d (Conv1D)              (None, 43, 64)            24640     \n",
      "_________________________________________________________________\n",
      "max_pool (GlobalMaxPooling1D (None, 64)                0         \n",
      "_________________________________________________________________\n",
      "output_layer (Dense)         (None, 5)                 325       \n",
      "=================================================================\n",
      "Total params: 8,324,613\n",
      "Trainable params: 8,324,613\n",
      "Non-trainable params: 0\n",
      "_________________________________________________________________\n"
     ]
    }
   ],
   "source": [
    "model_1.summary()"
   ]
  },
  {
   "cell_type": "code",
   "execution_count": 60,
   "id": "dcaba3a5",
   "metadata": {},
   "outputs": [],
   "source": [
    "# compile the model\n",
    "model_1.compile(\n",
    "    optimizer = tf.keras.optimizers.Adam(),\n",
    "    loss = tf.keras.losses.CategoricalCrossentropy(),\n",
    "    metrics='accuracy'\n",
    ")"
   ]
  },
  {
   "cell_type": "code",
   "execution_count": 61,
   "id": "46325d78",
   "metadata": {},
   "outputs": [
    {
     "name": "stdout",
     "output_type": "stream",
     "text": [
      "Saving TensorBoard log files to: Tensorboard/model_1/20211124-123457\n"
     ]
    },
    {
     "name": "stderr",
     "output_type": "stream",
     "text": [
      "2021-11-24 12:34:57.310001: I tensorflow/core/profiler/lib/profiler_session.cc:131] Profiler session initializing.\n",
      "2021-11-24 12:34:57.310008: I tensorflow/core/profiler/lib/profiler_session.cc:146] Profiler session started.\n",
      "2021-11-24 12:34:57.310044: I tensorflow/core/profiler/lib/profiler_session.cc:164] Profiler session tear down.\n",
      "2021-11-24 12:34:57.460394: I tensorflow/core/grappler/optimizers/custom_graph_optimizer_registry.cc:112] Plugin optimizer for device_type GPU is enabled.\n"
     ]
    },
    {
     "name": "stdout",
     "output_type": "stream",
     "text": [
      "  5/562 [..............................] - ETA: 22s - loss: 1.5973 - accuracy: 0.3187"
     ]
    },
    {
     "name": "stderr",
     "output_type": "stream",
     "text": [
      "2021-11-24 12:34:57.603251: I tensorflow/core/profiler/lib/profiler_session.cc:131] Profiler session initializing.\n",
      "2021-11-24 12:34:57.603263: I tensorflow/core/profiler/lib/profiler_session.cc:146] Profiler session started.\n",
      "2021-11-24 12:34:57.643551: I tensorflow/core/profiler/lib/profiler_session.cc:66] Profiler session collecting data.\n",
      "2021-11-24 12:34:57.644226: I tensorflow/core/profiler/lib/profiler_session.cc:164] Profiler session tear down.\n",
      "2021-11-24 12:34:57.645334: I tensorflow/core/profiler/rpc/client/save_profile.cc:136] Creating directory: Tensorboard/model_1/20211124-123457/train/plugins/profile/2021_11_24_12_34_57\n",
      "\n",
      "2021-11-24 12:34:57.645786: I tensorflow/core/profiler/rpc/client/save_profile.cc:142] Dumped gzipped tool data for trace.json.gz to Tensorboard/model_1/20211124-123457/train/plugins/profile/2021_11_24_12_34_57/MacBook-Air-von-Johannes.local.trace.json.gz\n",
      "2021-11-24 12:34:57.647060: I tensorflow/core/profiler/rpc/client/save_profile.cc:136] Creating directory: Tensorboard/model_1/20211124-123457/train/plugins/profile/2021_11_24_12_34_57\n",
      "\n",
      "2021-11-24 12:34:57.647262: I tensorflow/core/profiler/rpc/client/save_profile.cc:142] Dumped gzipped tool data for memory_profile.json.gz to Tensorboard/model_1/20211124-123457/train/plugins/profile/2021_11_24_12_34_57/MacBook-Air-von-Johannes.local.memory_profile.json.gz\n",
      "2021-11-24 12:34:57.647651: I tensorflow/core/profiler/rpc/client/capture_profile.cc:251] Creating directory: Tensorboard/model_1/20211124-123457/train/plugins/profile/2021_11_24_12_34_57\n",
      "Dumped tool data for xplane.pb to Tensorboard/model_1/20211124-123457/train/plugins/profile/2021_11_24_12_34_57/MacBook-Air-von-Johannes.local.xplane.pb\n",
      "Dumped tool data for overview_page.pb to Tensorboard/model_1/20211124-123457/train/plugins/profile/2021_11_24_12_34_57/MacBook-Air-von-Johannes.local.overview_page.pb\n",
      "Dumped tool data for input_pipeline.pb to Tensorboard/model_1/20211124-123457/train/plugins/profile/2021_11_24_12_34_57/MacBook-Air-von-Johannes.local.input_pipeline.pb\n",
      "Dumped tool data for tensorflow_stats.pb to Tensorboard/model_1/20211124-123457/train/plugins/profile/2021_11_24_12_34_57/MacBook-Air-von-Johannes.local.tensorflow_stats.pb\n",
      "Dumped tool data for kernel_stats.pb to Tensorboard/model_1/20211124-123457/train/plugins/profile/2021_11_24_12_34_57/MacBook-Air-von-Johannes.local.kernel_stats.pb\n",
      "\n"
     ]
    },
    {
     "name": "stdout",
     "output_type": "stream",
     "text": [
      "561/562 [============================>.] - ETA: 0s - loss: 0.8640 - accuracy: 0.6774"
     ]
    },
    {
     "name": "stderr",
     "output_type": "stream",
     "text": [
      "2021-11-24 12:35:17.481589: I tensorflow/core/grappler/optimizers/custom_graph_optimizer_registry.cc:112] Plugin optimizer for device_type GPU is enabled.\n"
     ]
    },
    {
     "name": "stdout",
     "output_type": "stream",
     "text": [
      "562/562 [==============================] - 21s 37ms/step - loss: 0.8632 - accuracy: 0.6777 - val_loss: 0.6206 - val_accuracy: 0.7735\n",
      "CPU times: user 8.25 s, sys: 5.06 s, total: 13.3 s\n",
      "Wall time: 21.1 s\n"
     ]
    }
   ],
   "source": [
    "%%time\n",
    "model_1_history = model_1.fit(\n",
    "    train_dataset,\n",
    "    steps_per_epoch=int(0.1*len(train_dataset)),\n",
    "    epochs=1,\n",
    "    validation_data=(val_sentences,val_labels_one_hot),\n",
    "    validation_steps=int(0.1*len(val_dataset)),\n",
    "    callbacks=[create_tensorboard_callback('Tensorboard','model_1')]\n",
    ")"
   ]
  },
  {
   "cell_type": "markdown",
   "id": "93be7aa5",
   "metadata": {},
   "source": [
    "## Evaluate the model"
   ]
  },
  {
   "cell_type": "code",
   "execution_count": 62,
   "id": "12293e3f",
   "metadata": {},
   "outputs": [
    {
     "name": "stdout",
     "output_type": "stream",
     "text": [
      " 13/945 [..............................] - ETA: 7s - loss: 0.6872 - accuracy: 0.7284"
     ]
    },
    {
     "name": "stderr",
     "output_type": "stream",
     "text": [
      "2021-11-24 12:35:18.474556: I tensorflow/core/grappler/optimizers/custom_graph_optimizer_registry.cc:112] Plugin optimizer for device_type GPU is enabled.\n"
     ]
    },
    {
     "name": "stdout",
     "output_type": "stream",
     "text": [
      "945/945 [==============================] - 7s 7ms/step - loss: 0.6206 - accuracy: 0.7735\n"
     ]
    },
    {
     "data": {
      "text/plain": [
       "[0.620641827583313, 0.7735005617141724]"
      ]
     },
     "execution_count": 62,
     "metadata": {},
     "output_type": "execute_result"
    }
   ],
   "source": [
    "model_1.evaluate(val_dataset)"
   ]
  },
  {
   "cell_type": "code",
   "execution_count": 63,
   "id": "41cc7ebf",
   "metadata": {},
   "outputs": [
    {
     "name": "stderr",
     "output_type": "stream",
     "text": [
      "2021-11-24 12:35:25.478479: I tensorflow/core/grappler/optimizers/custom_graph_optimizer_registry.cc:112] Plugin optimizer for device_type GPU is enabled.\n"
     ]
    }
   ],
   "source": [
    "# get prediction\n",
    "model_1_preds = model_1.predict(val_dataset)"
   ]
  },
  {
   "cell_type": "code",
   "execution_count": 64,
   "id": "2f3d661f",
   "metadata": {},
   "outputs": [],
   "source": [
    "# convert to classes\n",
    "model_1_preds_classes = np.argmax(model_1_preds,axis=1)"
   ]
  },
  {
   "cell_type": "code",
   "execution_count": 65,
   "id": "c2591e4a",
   "metadata": {},
   "outputs": [
    {
     "data": {
      "text/plain": [
       "{'accuracy': 77.35005957897523,\n",
       " 'precision': 0.7752719358558394,\n",
       " 'recall': 0.7735005957897524,\n",
       " 'f1': 0.7708692598111563}"
      ]
     },
     "execution_count": 65,
     "metadata": {},
     "output_type": "execute_result"
    }
   ],
   "source": [
    "model_1_results = calculate_results(val_labels_labelencoded,model_1_preds_classes)\n",
    "model_1_results"
   ]
  },
  {
   "cell_type": "markdown",
   "id": "09ce4497",
   "metadata": {},
   "source": [
    "# Model 2 - pretrained TF feature extractor layer"
   ]
  },
  {
   "cell_type": "markdown",
   "id": "484b6a5e",
   "metadata": {},
   "source": [
    "## Lets get the embedding layer from tf-hub"
   ]
  },
  {
   "cell_type": "code",
   "execution_count": 66,
   "id": "3e8fad15",
   "metadata": {},
   "outputs": [],
   "source": [
    "#!conda install -c conda-forge tensorflow-estimator"
   ]
  },
  {
   "cell_type": "code",
   "execution_count": 67,
   "id": "1ec32e48",
   "metadata": {},
   "outputs": [],
   "source": [
    "import tensorflow_hub as hub"
   ]
  },
  {
   "cell_type": "code",
   "execution_count": 68,
   "id": "42d4e7d4",
   "metadata": {},
   "outputs": [
    {
     "name": "stderr",
     "output_type": "stream",
     "text": [
      "2021-11-24 12:35:30.071934: I tensorflow/core/grappler/optimizers/custom_graph_optimizer_registry.cc:112] Plugin optimizer for device_type GPU is enabled.\n",
      "2021-11-24 12:35:30.238866: I tensorflow/core/grappler/optimizers/custom_graph_optimizer_registry.cc:112] Plugin optimizer for device_type GPU is enabled.\n"
     ]
    }
   ],
   "source": [
    "embed = hub.load(\"https://tfhub.dev/google/Wiki-words-250/2\")\n",
    "embeddings = embed([\"cat is on the mat\", \"dog is in the fog\"])"
   ]
  },
  {
   "cell_type": "code",
   "execution_count": 69,
   "id": "936e55a1",
   "metadata": {},
   "outputs": [
    {
     "data": {
      "text/plain": [
       "<tf.Tensor: shape=(2, 250), dtype=float32, numpy=\n",
       "array([[-5.14805540e-02, -1.92053974e-01,  4.53008525e-02,\n",
       "        -9.96370390e-02,  5.38923480e-02,  8.34979564e-02,\n",
       "         7.27996677e-02, -1.27169073e-01,  6.24356270e-02,\n",
       "         9.81895104e-02, -5.33969402e-02,  1.61190659e-01,\n",
       "        -1.36027522e-02, -2.72708107e-03,  1.71537384e-01,\n",
       "         1.24906197e-01,  1.15381563e-02, -2.77321301e-02,\n",
       "         6.66442439e-02, -1.28565924e-02,  3.95655632e-02,\n",
       "         1.61706526e-02,  3.44905234e-03, -3.30653414e-02,\n",
       "         1.13467865e-01, -3.23929265e-02,  6.64588250e-03,\n",
       "         5.34387156e-02,  1.19479060e-01,  4.63577174e-02,\n",
       "         8.30192715e-02, -5.91111630e-02,  8.59290361e-02,\n",
       "        -1.01532824e-01,  7.54378317e-03,  4.15412569e-03,\n",
       "         5.89248538e-03, -2.51556151e-02,  1.13079183e-01,\n",
       "        -4.36960533e-02, -1.68391705e-01,  2.92641334e-02,\n",
       "        -1.40178025e-01, -8.40619281e-02,  1.48394153e-01,\n",
       "         9.07467008e-02, -5.67608029e-02, -1.04004763e-01,\n",
       "        -8.44553933e-02,  8.50597844e-02,  7.93245584e-02,\n",
       "         2.39145532e-02, -1.19153991e-01,  2.17635736e-01,\n",
       "        -2.18595695e-02, -4.27431203e-02, -1.75292030e-01,\n",
       "        -5.83514608e-02,  1.50858937e-02, -9.78629012e-03,\n",
       "        -8.74623880e-02, -1.32550955e-01,  2.55552512e-02,\n",
       "         1.07006066e-01,  1.12839080e-01, -1.16539821e-01,\n",
       "        -1.15803346e-01, -9.23949555e-02, -1.55965701e-01,\n",
       "        -1.25600128e-02,  1.27804086e-01, -8.76564384e-02,\n",
       "         1.16007529e-01,  6.24112086e-03,  1.30231380e-01,\n",
       "        -1.41361311e-01, -3.13660502e-02,  3.92044894e-02,\n",
       "         7.72149563e-02,  3.57291549e-02, -1.36040106e-01,\n",
       "         1.53127965e-02,  2.75261067e-02, -2.27289833e-02,\n",
       "         5.95712326e-02,  5.23981899e-02, -1.40063182e-01,\n",
       "         1.72593407e-02, -2.35673296e-03, -7.02513158e-02,\n",
       "        -7.38211796e-02,  6.78406060e-02,  5.90462275e-02,\n",
       "        -2.17459753e-01,  1.00375796e-02, -6.83509782e-02,\n",
       "        -1.23797124e-02,  7.79274926e-02,  1.04184868e-02,\n",
       "         1.41857594e-01,  7.24928230e-02,  2.46292517e-01,\n",
       "        -3.59483659e-02,  1.62022024e-01, -1.50000408e-01,\n",
       "        -9.25377309e-02, -4.19961512e-02, -9.46031958e-02,\n",
       "         2.76161823e-02, -1.09871207e-02, -3.49864885e-02,\n",
       "         4.51841466e-02, -7.94047564e-02,  8.44308510e-02,\n",
       "        -4.68707383e-02, -8.34897235e-02,  4.67144698e-02,\n",
       "        -7.21751899e-02, -5.00164255e-02,  1.04081437e-01,\n",
       "        -7.09523037e-02,  8.75777751e-03, -5.74923567e-02,\n",
       "        -8.34990889e-02, -1.51603907e-01, -2.02851165e-02,\n",
       "         4.97076288e-02,  4.43479270e-02,  1.08668441e-02,\n",
       "        -3.65434177e-02, -1.01520300e-01,  1.92980785e-02,\n",
       "        -1.36454344e-01, -1.15060814e-01, -1.10561118e-01,\n",
       "         1.38415426e-01, -3.99996638e-02, -1.77849039e-01,\n",
       "        -8.19661990e-02,  9.55137536e-02, -9.80283469e-02,\n",
       "         1.43974379e-01,  5.12305871e-02, -1.10613359e-02,\n",
       "        -1.90055877e-01, -1.05548039e-01, -1.42569527e-01,\n",
       "         8.44379961e-02, -4.24651764e-02,  4.21115346e-02,\n",
       "        -1.32614896e-01,  1.02103554e-01,  1.42481253e-02,\n",
       "        -6.34568781e-02,  2.46955410e-01,  3.76058854e-02,\n",
       "        -1.04515105e-02, -7.69199878e-02, -1.54456109e-01,\n",
       "        -1.20300665e-01, -5.90700842e-02, -7.97084570e-02,\n",
       "        -2.31975708e-02, -8.30314383e-02, -2.94809602e-02,\n",
       "        -5.13250194e-02, -4.06575063e-03, -3.15318778e-02,\n",
       "        -1.58679813e-01,  4.93728593e-02,  8.36367458e-02,\n",
       "        -5.56040816e-02, -7.06130266e-02,  5.93846776e-02,\n",
       "         1.13773033e-01, -1.12850167e-01, -2.53451038e-02,\n",
       "         1.08597308e-01, -3.03113423e-02,  2.62488741e-02,\n",
       "         2.13127434e-02, -1.37437638e-02,  1.07634570e-02,\n",
       "         6.83074072e-02,  3.59260999e-02, -1.11502111e-01,\n",
       "         1.69730946e-01, -1.84150953e-02, -3.01484372e-02,\n",
       "        -7.22651258e-02, -6.68040067e-02, -1.08581156e-01,\n",
       "        -1.00931711e-01, -7.28405192e-02,  1.61406845e-02,\n",
       "         9.04831439e-02, -3.44998240e-02, -2.40977496e-01,\n",
       "        -5.30240797e-02, -1.83831275e-01, -1.43227801e-01,\n",
       "        -2.02962443e-01,  3.72830480e-02, -4.00139838e-02,\n",
       "        -4.15076502e-02,  3.96549664e-02, -1.10272486e-02,\n",
       "        -9.24990773e-02, -3.76625569e-03,  4.04605269e-02,\n",
       "        -1.46804318e-01,  1.93112597e-01,  1.56502590e-01,\n",
       "        -2.90726442e-02,  3.44817862e-02, -2.69006155e-02,\n",
       "         7.67113641e-02, -1.31876603e-01,  4.48632054e-02,\n",
       "        -2.07781326e-02, -1.95184365e-01,  1.18942313e-01,\n",
       "         8.37401897e-02,  9.91679281e-02, -1.55249387e-02,\n",
       "        -4.14389074e-02, -5.73545583e-02, -1.85933243e-02,\n",
       "        -9.22037810e-02, -1.43051758e-01,  1.63320199e-01,\n",
       "        -6.69484288e-02,  3.75847029e-03,  1.25531867e-01,\n",
       "        -4.98161390e-02,  2.47667041e-02,  8.08210373e-02,\n",
       "        -6.45470023e-02,  4.49435078e-02, -7.30039030e-02,\n",
       "        -8.17290470e-02,  7.16652721e-02,  9.40659493e-02,\n",
       "         1.05818257e-01,  4.76032160e-02,  2.29408387e-02,\n",
       "         1.86813064e-02, -3.97252887e-02,  4.66078706e-02,\n",
       "        -2.14025918e-02],\n",
       "       [-4.90834862e-02, -1.92501843e-01,  3.44199799e-02,\n",
       "        -9.22896042e-02,  5.11599742e-02,  9.83831435e-02,\n",
       "         6.42347410e-02, -1.02402449e-01,  9.86967981e-02,\n",
       "         7.74201974e-02, -3.32175642e-02,  2.11305290e-01,\n",
       "         1.23026466e-03,  1.73791610e-02,  2.22730383e-01,\n",
       "         8.80247876e-02,  4.09213044e-02, -5.96682988e-02,\n",
       "         2.84035858e-02, -2.43242998e-02, -7.63693359e-03,\n",
       "         3.32714356e-02, -1.45280007e-02, -1.20431688e-02,\n",
       "         1.69583365e-01, -2.29338873e-02,  2.40131281e-02,\n",
       "         5.33250794e-02,  9.64692459e-02, -7.13237794e-03,\n",
       "         1.29198104e-01, -4.13112007e-02,  3.38644646e-02,\n",
       "        -6.81935996e-02, -2.74378806e-02,  3.74797694e-02,\n",
       "         4.49599363e-02,  1.01271173e-04,  7.54172802e-02,\n",
       "        -3.60669568e-02, -1.52953312e-01,  3.27563286e-02,\n",
       "        -9.06520188e-02, -7.68132284e-02,  1.31952941e-01,\n",
       "         7.19337538e-02, -1.43044349e-02, -1.41986534e-01,\n",
       "        -7.92862400e-02,  8.43317509e-02,  6.32385015e-02,\n",
       "         2.15219148e-02, -1.29151717e-01,  2.28310734e-01,\n",
       "        -1.93848903e-03, -2.66604163e-02, -1.72565684e-01,\n",
       "        -1.31059632e-01,  1.18483286e-02, -7.56401345e-02,\n",
       "        -4.16046232e-02, -1.88196853e-01,  4.23484342e-03,\n",
       "         1.17097348e-01,  1.12343758e-01, -1.37415335e-01,\n",
       "        -1.52081832e-01, -1.51745500e-02, -1.62981674e-01,\n",
       "        -5.11911102e-02,  1.41583815e-01, -1.06537178e-01,\n",
       "         9.38424766e-02, -3.41891758e-02,  1.24699444e-01,\n",
       "        -8.52890909e-02, -7.86762983e-02,  4.60332492e-03,\n",
       "         1.60032153e-01,  6.34751990e-02, -5.35540991e-02,\n",
       "        -5.45015708e-02, -4.62419279e-02, -4.67503928e-02,\n",
       "        -4.78331652e-03,  6.59239069e-02, -8.65595788e-02,\n",
       "         2.11016685e-02,  2.78320145e-02, -3.90114598e-02,\n",
       "        -1.05121046e-01,  1.29501699e-02,  7.35502690e-02,\n",
       "        -2.22989887e-01,  6.14241026e-02, -9.01509598e-02,\n",
       "        -4.54522856e-02,  3.03926790e-04,  6.64951727e-02,\n",
       "         1.17857873e-01,  1.36409134e-01,  2.42008820e-01,\n",
       "         6.79863468e-02,  1.44027218e-01, -1.75988004e-01,\n",
       "        -6.41002879e-02,  1.04202628e-02, -1.63391441e-01,\n",
       "         1.50122335e-02, -2.26823557e-02,  3.28446589e-02,\n",
       "         8.60559791e-02, -1.11321844e-01,  1.81739420e-01,\n",
       "        -2.12864019e-02, -1.27982423e-01,  9.21708047e-02,\n",
       "        -8.73714462e-02, -1.08871013e-02,  7.32275173e-02,\n",
       "        -5.90953268e-02,  5.64154275e-02,  2.10358790e-04,\n",
       "        -1.05335545e-02, -1.50393009e-01, -1.32049182e-02,\n",
       "         6.46500736e-02,  4.29323427e-02, -2.56085284e-02,\n",
       "        -1.22220591e-02, -1.98739190e-02,  8.68388489e-02,\n",
       "        -1.36133403e-01, -1.04459457e-01, -7.65426457e-02,\n",
       "         7.00254738e-02, -2.70330403e-02, -1.09238043e-01,\n",
       "        -5.63438684e-02,  1.46447808e-01, -1.30440407e-02,\n",
       "         1.73229232e-01,  1.17582195e-01, -1.64050702e-02,\n",
       "        -1.45072743e-01, -1.68262467e-01, -1.72306195e-01,\n",
       "         1.42596766e-01, -3.44661362e-02,  9.59188342e-02,\n",
       "        -9.69441980e-02,  1.59867913e-01,  3.46682705e-02,\n",
       "        -9.72564295e-02,  2.26368517e-01, -2.95973103e-02,\n",
       "        -5.36005311e-02, -1.84635833e-01, -1.35354936e-01,\n",
       "        -8.57472047e-02, -2.35953275e-02, -5.57621829e-02,\n",
       "        -6.81652874e-02, -9.57283303e-02, -3.29389237e-02,\n",
       "         9.06050019e-03, -4.14397605e-02,  6.33496838e-03,\n",
       "        -1.16808981e-01,  5.53597771e-02,  7.91453943e-02,\n",
       "        -2.09468920e-02, -5.84308878e-02,  4.63613681e-02,\n",
       "         1.14610516e-01, -8.96398723e-02, -5.75708114e-02,\n",
       "         3.72248068e-02,  6.41966611e-03,  1.29925057e-01,\n",
       "        -1.11452667e-02, -4.93423901e-02,  9.23694577e-03,\n",
       "         6.63545877e-02,  2.83413529e-02, -3.98032218e-02,\n",
       "         1.64440036e-01, -7.54786432e-02, -4.15586829e-02,\n",
       "        -2.89991070e-02, -1.48291051e-01, -9.35698152e-02,\n",
       "        -1.57595024e-01, -8.49729776e-02,  3.50814797e-02,\n",
       "         1.53514028e-01, -4.16372046e-02, -2.58114845e-01,\n",
       "        -6.24542907e-02, -1.63867801e-01, -1.66515052e-01,\n",
       "        -2.10753486e-01,  6.97400570e-02, -8.67846161e-02,\n",
       "         1.04903718e-02, -6.40646443e-02, -1.61009151e-02,\n",
       "        -1.07494242e-01,  3.59885618e-02,  1.73700936e-02,\n",
       "        -1.21493898e-01,  9.51213911e-02,  1.60704851e-01,\n",
       "        -2.94284988e-02,  1.00445367e-01,  5.46565838e-02,\n",
       "         1.01177692e-01, -5.73262610e-02,  8.55331570e-02,\n",
       "        -6.67720735e-02, -1.21846996e-01,  8.17713663e-02,\n",
       "         5.77049777e-02,  8.29316899e-02,  2.65797768e-02,\n",
       "        -6.34832159e-02, -4.75401990e-02,  1.10519854e-02,\n",
       "        -3.84447947e-02, -1.89950809e-01,  1.80076092e-01,\n",
       "        -1.07012495e-01, -1.47798592e-02,  1.74499620e-02,\n",
       "        -1.16555206e-02,  5.66635616e-02,  6.13736324e-02,\n",
       "        -2.60588508e-02,  5.64857237e-02, -8.21306929e-02,\n",
       "        -4.93706204e-02,  9.70475525e-02,  9.40935165e-02,\n",
       "         7.04464391e-02,  5.40836453e-02,  1.57957692e-02,\n",
       "        -1.62651837e-02, -4.83019724e-02,  4.38446663e-02,\n",
       "        -1.85574591e-02]], dtype=float32)>"
      ]
     },
     "execution_count": 69,
     "metadata": {},
     "output_type": "execute_result"
    }
   ],
   "source": [
    "embeddings"
   ]
  },
  {
   "cell_type": "code",
   "execution_count": 70,
   "id": "59d9236b",
   "metadata": {},
   "outputs": [],
   "source": [
    "# create a keras layer of the \n",
    "emb_hub_layer = hub.KerasLayer(embed,\n",
    "                           input_shape=[], dtype=tf.string, trainable=False)"
   ]
  },
  {
   "cell_type": "markdown",
   "id": "05fe8861",
   "metadata": {},
   "source": [
    "## Build and fit the model"
   ]
  },
  {
   "cell_type": "code",
   "execution_count": 71,
   "id": "1f9047ca",
   "metadata": {},
   "outputs": [],
   "source": [
    "# define the input layer\n",
    "inputs = layers.Input(shape=(),dtype=tf.string,name='input_layer')\n",
    "\n",
    "# hand the inputs to the keras pretrained embedding layer\n",
    "x = emb_hub_layer(inputs)\n",
    "\n",
    "# feed to a Dense layer\n",
    "x = layers.Dense(128,activation='relu',name='dense1')(x)\n",
    "\n",
    "# feed to a Dense layer\n",
    "x = layers.Dense(64,activation='relu',name='dense2')(x)\n",
    "\n",
    "# define the outputs => one hot encoded\n",
    "outputs = layers.Dense(num_classes,activation='softmax',name='output_layer')(x)\n",
    "\n",
    "# create the model\n",
    "model_2 = tf.keras.Model(inputs,outputs,name='model_2')"
   ]
  },
  {
   "cell_type": "code",
   "execution_count": 72,
   "id": "373bb019",
   "metadata": {},
   "outputs": [],
   "source": [
    "# compile the model\n",
    "model_2.compile(\n",
    "    optimizer = tf.keras.optimizers.Adam(),\n",
    "    loss = tf.keras.losses.CategoricalCrossentropy(),\n",
    "    metrics='accuracy'\n",
    ")"
   ]
  },
  {
   "cell_type": "code",
   "execution_count": 73,
   "id": "da5ae062",
   "metadata": {},
   "outputs": [
    {
     "name": "stdout",
     "output_type": "stream",
     "text": [
      "Model: \"model_2\"\n",
      "_________________________________________________________________\n",
      "Layer (type)                 Output Shape              Param #   \n",
      "=================================================================\n",
      "input_layer (InputLayer)     [(None,)]                 0         \n",
      "_________________________________________________________________\n",
      "keras_layer (KerasLayer)     (None, 250)               252343750 \n",
      "_________________________________________________________________\n",
      "dense1 (Dense)               (None, 128)               32128     \n",
      "_________________________________________________________________\n",
      "dense2 (Dense)               (None, 64)                8256      \n",
      "_________________________________________________________________\n",
      "output_layer (Dense)         (None, 5)                 325       \n",
      "=================================================================\n",
      "Total params: 252,384,459\n",
      "Trainable params: 40,709\n",
      "Non-trainable params: 252,343,750\n",
      "_________________________________________________________________\n"
     ]
    }
   ],
   "source": [
    "model_2.summary()"
   ]
  },
  {
   "cell_type": "code",
   "execution_count": 74,
   "id": "2e982973",
   "metadata": {},
   "outputs": [
    {
     "name": "stdout",
     "output_type": "stream",
     "text": [
      "CPU times: user 1e+03 ns, sys: 1 µs, total: 2 µs\n",
      "Wall time: 4.05 µs\n"
     ]
    },
    {
     "data": {
      "text/plain": [
       "\"model_2_history = model_2.fit(\\n    train_dataset,\\n    steps_per_epoch=int(0.1*len(train_dataset)),\\n    epochs=5,\\n    validation_data=(val_sentences,val_labels_one_hot),\\n    validation_steps=int(0.1*len(val_dataset)),\\n    callbacks=[create_tensorboard_callback('Tensorboard','model_2')]\\n)\""
      ]
     },
     "execution_count": 74,
     "metadata": {},
     "output_type": "execute_result"
    }
   ],
   "source": [
    "%%time\n",
    "'''model_2_history = model_2.fit(\n",
    "    train_dataset,\n",
    "    steps_per_epoch=int(0.1*len(train_dataset)),\n",
    "    epochs=5,\n",
    "    validation_data=(val_sentences,val_labels_one_hot),\n",
    "    validation_steps=int(0.1*len(val_dataset)),\n",
    "    callbacks=[create_tensorboard_callback('Tensorboard','model_2')]\n",
    ")'''"
   ]
  },
  {
   "cell_type": "markdown",
   "id": "437868d0",
   "metadata": {},
   "source": [
    "## Evaluate the model 2"
   ]
  },
  {
   "cell_type": "code",
   "execution_count": 75,
   "id": "69eacb8e",
   "metadata": {},
   "outputs": [
    {
     "name": "stdout",
     "output_type": "stream",
     "text": [
      " 15/945 [..............................] - ETA: 7s - loss: 1.6325 - accuracy: 0.1083"
     ]
    },
    {
     "name": "stderr",
     "output_type": "stream",
     "text": [
      "2021-11-24 12:35:30.601749: I tensorflow/core/grappler/optimizers/custom_graph_optimizer_registry.cc:112] Plugin optimizer for device_type GPU is enabled.\n"
     ]
    },
    {
     "name": "stdout",
     "output_type": "stream",
     "text": [
      "945/945 [==============================] - 6s 6ms/step - loss: 1.6324 - accuracy: 0.1138\n"
     ]
    },
    {
     "data": {
      "text/plain": [
       "[1.632442593574524, 0.11379583925008774]"
      ]
     },
     "execution_count": 75,
     "metadata": {},
     "output_type": "execute_result"
    }
   ],
   "source": [
    "model_2.evaluate(val_dataset)"
   ]
  },
  {
   "cell_type": "code",
   "execution_count": 76,
   "id": "b24d3430",
   "metadata": {},
   "outputs": [
    {
     "name": "stderr",
     "output_type": "stream",
     "text": [
      "2021-11-24 12:35:36.742019: I tensorflow/core/grappler/optimizers/custom_graph_optimizer_registry.cc:112] Plugin optimizer for device_type GPU is enabled.\n"
     ]
    }
   ],
   "source": [
    "# get prediction\n",
    "model_2_preds = model_2.predict(val_dataset)"
   ]
  },
  {
   "cell_type": "code",
   "execution_count": 77,
   "id": "61ff2f86",
   "metadata": {},
   "outputs": [],
   "source": [
    "# convert to classes\n",
    "model_2_preds_classes = np.argmax(model_2_preds,axis=1)"
   ]
  },
  {
   "cell_type": "code",
   "execution_count": 78,
   "id": "66e6c0a8",
   "metadata": {},
   "outputs": [
    {
     "data": {
      "text/plain": [
       "{'accuracy': 11.379584271150536,\n",
       " 'precision': 0.2529414200320633,\n",
       " 'recall': 0.11379584271150536,\n",
       " 'f1': 0.09216813841856604}"
      ]
     },
     "execution_count": 78,
     "metadata": {},
     "output_type": "execute_result"
    }
   ],
   "source": [
    "model_2_results = calculate_results(val_labels_labelencoded,model_2_preds_classes)\n",
    "model_2_results"
   ]
  },
  {
   "cell_type": "code",
   "execution_count": 79,
   "id": "ec998232",
   "metadata": {},
   "outputs": [
    {
     "data": {
      "text/plain": [
       "{'accuracy': 72.1832384482987,\n",
       " 'precision': 0.7186466952323352,\n",
       " 'recall': 0.7218323844829869,\n",
       " 'f1': 0.6989250353450294}"
      ]
     },
     "execution_count": 79,
     "metadata": {},
     "output_type": "execute_result"
    }
   ],
   "source": [
    "model_0_results"
   ]
  },
  {
   "cell_type": "markdown",
   "id": "c5b1625e",
   "metadata": {},
   "source": [
    "# Model 3 - Conv1D for Character Embeddings"
   ]
  },
  {
   "cell_type": "markdown",
   "id": "c1a0ffa3",
   "metadata": {},
   "source": [
    "## Create a character level tokenizer"
   ]
  },
  {
   "cell_type": "code",
   "execution_count": 80,
   "id": "4caee6e5",
   "metadata": {},
   "outputs": [
    {
     "data": {
      "text/plain": [
       "'T h i s   i s   a   t e s t'"
      ]
     },
     "execution_count": 80,
     "metadata": {},
     "output_type": "execute_result"
    }
   ],
   "source": [
    "# make function to split text (e.g. string) into chars\n",
    "def split_chars(text):\n",
    "    return \" \".join(list(text))\n",
    "\n",
    "split_chars('This is a test')"
   ]
  },
  {
   "cell_type": "code",
   "execution_count": 81,
   "id": "8fd4ea4c",
   "metadata": {},
   "outputs": [],
   "source": [
    "# split data into chars\n",
    "train_chars = [split_chars(sentence) for sentence in train_sentences]\n",
    "val_chars = [split_chars(sentence) for sentence in val_sentences]\n",
    "test_chars = [split_chars(sentence) for sentence in test_sentences]"
   ]
  },
  {
   "cell_type": "code",
   "execution_count": 82,
   "id": "fa82999e",
   "metadata": {},
   "outputs": [
    {
     "data": {
      "text/plain": [
       "'t o   i n v e s t i g a t e   t h e   e f f i c a c y   o f   @   w e e k s   o f   d a i l y   l o w - d o s e   o r a l   p r e d n i s o l o n e   i n   i m p r o v i n g   p a i n   ,   m o b i l i t y   ,   a n d   s y s t e m i c   l o w - g r a d e   i n f l a m m a t i o n   i n   t h e   s h o r t   t e r m   a n d   w h e t h e r   t h e   e f f e c t   w o u l d   b e   s u s t a i n e d   a t   @   w e e k s   i n   o l d e r   a d u l t s   w i t h   m o d e r a t e   t o   s e v e r e   k n e e   o s t e o a r t h r i t i s   (   o a   )   .'"
      ]
     },
     "execution_count": 82,
     "metadata": {},
     "output_type": "execute_result"
    }
   ],
   "source": [
    "# print example\n",
    "train_chars[0]"
   ]
  },
  {
   "cell_type": "code",
   "execution_count": 83,
   "id": "75e6bbfc",
   "metadata": {},
   "outputs": [],
   "source": [
    "# what is the average character length in a sentence?\n",
    "char_lens = [len(ex) for ex in train_sentences]\n",
    "avg_char_len = int(np.mean(char_lens))\n",
    "q95_char_len = int(np.quantile(char_lens,0.95))"
   ]
  },
  {
   "cell_type": "code",
   "execution_count": 84,
   "id": "3dd9de28",
   "metadata": {},
   "outputs": [
    {
     "data": {
      "text/plain": [
       "290"
      ]
     },
     "execution_count": 84,
     "metadata": {},
     "output_type": "execute_result"
    }
   ],
   "source": [
    "q95_char_len"
   ]
  },
  {
   "cell_type": "code",
   "execution_count": 85,
   "id": "915d6a26",
   "metadata": {},
   "outputs": [
    {
     "data": {
      "image/png": "[encoded data removed]",
      "text/plain": [
       "<Figure size 432x288 with 1 Axes>"
      ]
     },
     "metadata": {
      "needs_background": "light"
     },
     "output_type": "display_data"
    }
   ],
   "source": [
    "# check distribution\n",
    "plt.hist(char_lens,bins=40)\n",
    "plt.vlines(q95_char_len,0,10000,color='red')\n",
    "plt.show()"
   ]
  },
  {
   "cell_type": "code",
   "execution_count": 86,
   "id": "a0bed3a5",
   "metadata": {},
   "outputs": [
    {
     "data": {
      "text/plain": [
       "('abcdefghijklmnopqrstuvwxyz0123456789!\"#$%&\\'()*+,-./:;<=>?@[\\\\]^_`{|}~', 68)"
      ]
     },
     "execution_count": 86,
     "metadata": {},
     "output_type": "execute_result"
    }
   ],
   "source": [
    "# get all keyboard characters for the max_tokens var in text_vectorizer\n",
    "import string\n",
    "alphabet = string.ascii_lowercase + string.digits + string.punctuation\n",
    "alphabet, len(alphabet)"
   ]
  },
  {
   "cell_type": "code",
   "execution_count": 87,
   "id": "8d331ccd",
   "metadata": {},
   "outputs": [],
   "source": [
    "NUM_CHAR_TOKENS = len(alphabet) + 2 # add two for space and OOV"
   ]
  },
  {
   "cell_type": "code",
   "execution_count": 88,
   "id": "5ef14685",
   "metadata": {},
   "outputs": [],
   "source": [
    "# define the char vectorizer\n",
    "char_vectorizer = layers.TextVectorization(\n",
    "    max_tokens = NUM_CHAR_TOKENS,\n",
    "    standardize = 'lower_and_strip_punctuation',\n",
    "    split = 'whitespace',\n",
    "    output_sequence_length = q95_char_len\n",
    ")"
   ]
  },
  {
   "cell_type": "code",
   "execution_count": 89,
   "id": "90780a1e",
   "metadata": {},
   "outputs": [
    {
     "name": "stderr",
     "output_type": "stream",
     "text": [
      "2021-11-24 12:35:40.656792: I tensorflow/core/grappler/optimizers/custom_graph_optimizer_registry.cc:112] Plugin optimizer for device_type GPU is enabled.\n"
     ]
    }
   ],
   "source": [
    "# adapt the vectorizer\n",
    "char_vectorizer.adapt(train_chars)"
   ]
  },
  {
   "cell_type": "code",
   "execution_count": 90,
   "id": "c2bcd2eb",
   "metadata": {},
   "outputs": [],
   "source": [
    "len_char_vocab = len(char_vectorizer.get_vocabulary())"
   ]
  },
  {
   "cell_type": "code",
   "execution_count": 91,
   "id": "a4ed4ccb",
   "metadata": {},
   "outputs": [
    {
     "data": {
      "text/plain": [
       "['',\n",
       " '[UNK]',\n",
       " 'e',\n",
       " 't',\n",
       " 'i',\n",
       " 'a',\n",
       " 'n',\n",
       " 'o',\n",
       " 'r',\n",
       " 's',\n",
       " 'd',\n",
       " 'c',\n",
       " 'l',\n",
       " 'h',\n",
       " 'p',\n",
       " 'm',\n",
       " 'u',\n",
       " 'f',\n",
       " 'g',\n",
       " 'y',\n",
       " 'w',\n",
       " 'v',\n",
       " 'b',\n",
       " 'k',\n",
       " 'x',\n",
       " 'z',\n",
       " 'q',\n",
       " 'j']"
      ]
     },
     "execution_count": 91,
     "metadata": {},
     "output_type": "execute_result"
    }
   ],
   "source": [
    "# get the vocabulary\n",
    "char_vectorizer.get_vocabulary()"
   ]
  },
  {
   "cell_type": "code",
   "execution_count": 92,
   "id": "3732116b",
   "metadata": {},
   "outputs": [],
   "source": [
    "import random"
   ]
  },
  {
   "cell_type": "code",
   "execution_count": 93,
   "id": "10c5bb06",
   "metadata": {},
   "outputs": [
    {
     "data": {
      "text/plain": [
       "<tf.Tensor: shape=(290,), dtype=int64, numpy=\n",
       "array([15, 16, 12,  3,  4, 21,  5,  8,  4,  5, 22, 12,  2, 15,  7, 10,  2,\n",
       "       12,  4,  6, 18, 20,  5,  9, 16,  9,  2, 10,  3,  7,  5,  9,  9,  2,\n",
       "        9,  9,  3, 13,  2,  2, 17, 17,  2, 11,  3,  7, 17, 11,  7, 12, 12,\n",
       "        5,  3,  2,  8,  5, 12,  9,  3,  5,  3, 16,  9,  5,  6, 10,  3,  8,\n",
       "        2,  5,  3, 15,  2,  6,  3,  3, 19, 14,  2,  7,  6, 11, 12,  4,  6,\n",
       "        4, 11,  5, 12,  7, 16,  3, 11,  7, 15,  2, 22, 19, 15,  7, 10,  4,\n",
       "       17,  4,  2, 10,  8,  5,  6, 23,  4,  6,  9, 11,  5, 12,  2, 15,  8,\n",
       "        9, 15,  8,  9,  5,  6, 10,  3, 13,  2,  7,  8, 10,  4,  6,  5, 12,\n",
       "       15,  8,  9,  0,  0,  0,  0,  0,  0,  0,  0,  0,  0,  0,  0,  0,  0,\n",
       "        0,  0,  0,  0,  0,  0,  0,  0,  0,  0,  0,  0,  0,  0,  0,  0,  0,\n",
       "        0,  0,  0,  0,  0,  0,  0,  0,  0,  0,  0,  0,  0,  0,  0,  0,  0,\n",
       "        0,  0,  0,  0,  0,  0,  0,  0,  0,  0,  0,  0,  0,  0,  0,  0,  0,\n",
       "        0,  0,  0,  0,  0,  0,  0,  0,  0,  0,  0,  0,  0,  0,  0,  0,  0,\n",
       "        0,  0,  0,  0,  0,  0,  0,  0,  0,  0,  0,  0,  0,  0,  0,  0,  0,\n",
       "        0,  0,  0,  0,  0,  0,  0,  0,  0,  0,  0,  0,  0,  0,  0,  0,  0,\n",
       "        0,  0,  0,  0,  0,  0,  0,  0,  0,  0,  0,  0,  0,  0,  0,  0,  0,\n",
       "        0,  0,  0,  0,  0,  0,  0,  0,  0,  0,  0,  0,  0,  0,  0,  0,  0,\n",
       "        0])>"
      ]
     },
     "execution_count": 93,
     "metadata": {},
     "output_type": "execute_result"
    }
   ],
   "source": [
    "char_vectorizer(random.choice(train_chars))"
   ]
  },
  {
   "cell_type": "markdown",
   "id": "0909e020",
   "metadata": {},
   "source": [
    "## Create a char level embedding"
   ]
  },
  {
   "cell_type": "code",
   "execution_count": 94,
   "id": "1f77b97d",
   "metadata": {},
   "outputs": [],
   "source": [
    "char_embed = layers.Embedding(\n",
    "    input_dim = len_char_vocab,\n",
    "    output_dim = 25, #from papaer\n",
    "    mask_zero=True\n",
    ")"
   ]
  },
  {
   "cell_type": "code",
   "execution_count": 95,
   "id": "5ba59d1e",
   "metadata": {},
   "outputs": [
    {
     "data": {
      "text/plain": [
       "<tf.Tensor: shape=(1, 290, 25), dtype=float32, numpy=\n",
       "array([[[-0.00703323, -0.01321829,  0.00135789, ...,  0.01969553,\n",
       "         -0.04036635, -0.02171596],\n",
       "        [ 0.03363099,  0.03370085, -0.00262179, ...,  0.01619575,\n",
       "         -0.02147888,  0.0047858 ],\n",
       "        [ 0.03387885,  0.00563985,  0.02436881, ..., -0.03067978,\n",
       "         -0.00077651,  0.01864156],\n",
       "        ...,\n",
       "        [-0.0071764 ,  0.02066778, -0.02866557, ...,  0.0076903 ,\n",
       "         -0.04405048,  0.01774101],\n",
       "        [-0.0071764 ,  0.02066778, -0.02866557, ...,  0.0076903 ,\n",
       "         -0.04405048,  0.01774101],\n",
       "        [-0.0071764 ,  0.02066778, -0.02866557, ...,  0.0076903 ,\n",
       "         -0.04405048,  0.01774101]]], dtype=float32)>"
      ]
     },
     "execution_count": 95,
     "metadata": {},
     "output_type": "execute_result"
    }
   ],
   "source": [
    "char_embed(char_vectorizer([random.choice(train_chars)]))"
   ]
  },
  {
   "cell_type": "markdown",
   "id": "07d2bd05",
   "metadata": {},
   "source": [
    "## Build the Character Embedding Model 3 with a Conv1D layer"
   ]
  },
  {
   "cell_type": "code",
   "execution_count": 96,
   "id": "eaf8b875",
   "metadata": {},
   "outputs": [],
   "source": [
    "# define the inputs\n",
    "inputs = layers.Input(shape=(1,),dtype=tf.string,name='input_layer')\n",
    "\n",
    "# hand the input string to the char vectorizer\n",
    "x = char_vectorizer(inputs)\n",
    "\n",
    "# pass the vectorized inputs to the char embedding layer\n",
    "x = char_embed(x)\n",
    "\n",
    "# pass the output of the embedding to the conv1d layer\n",
    "x = layers.Conv1D(64,3,activation='relu',name='conv1d_layer')(x)\n",
    "\n",
    "# globalaveragepooling1d\n",
    "x = layers.GlobalMaxPooling1D(name='avg_pooling')(x)\n",
    "\n",
    "# create the output layer\n",
    "outputs = layers.Dense(num_classes,activation='softmax',name='output_layer')(x)\n",
    "\n",
    "# create the output layer\n",
    "model_3 = tf.keras.Model(inputs,outputs,name='model_3')"
   ]
  },
  {
   "cell_type": "code",
   "execution_count": 97,
   "id": "cefbe8dc",
   "metadata": {},
   "outputs": [
    {
     "name": "stdout",
     "output_type": "stream",
     "text": [
      "Model: \"model_3\"\n",
      "_________________________________________________________________\n",
      "Layer (type)                 Output Shape              Param #   \n",
      "=================================================================\n",
      "input_layer (InputLayer)     [(None, 1)]               0         \n",
      "_________________________________________________________________\n",
      "text_vectorization_1 (TextVe (None, 290)               0         \n",
      "_________________________________________________________________\n",
      "embedding_1 (Embedding)      (None, 290, 25)           700       \n",
      "_________________________________________________________________\n",
      "conv1d_layer (Conv1D)        (None, 288, 64)           4864      \n",
      "_________________________________________________________________\n",
      "avg_pooling (GlobalMaxPoolin (None, 64)                0         \n",
      "_________________________________________________________________\n",
      "output_layer (Dense)         (None, 5)                 325       \n",
      "=================================================================\n",
      "Total params: 5,889\n",
      "Trainable params: 5,889\n",
      "Non-trainable params: 0\n",
      "_________________________________________________________________\n"
     ]
    }
   ],
   "source": [
    "# get a summary\n",
    "model_3.summary()"
   ]
  },
  {
   "cell_type": "code",
   "execution_count": 98,
   "id": "cf95413d",
   "metadata": {},
   "outputs": [],
   "source": [
    "# compile the model\n",
    "model_3.compile(\n",
    "    optimizer = tf.keras.optimizers.Adam(),\n",
    "    loss = tf.keras.losses.CategoricalCrossentropy(),\n",
    "    metrics='accuracy'\n",
    ")"
   ]
  },
  {
   "cell_type": "code",
   "execution_count": 99,
   "id": "bed9521b",
   "metadata": {},
   "outputs": [],
   "source": [
    "train_char_dataset = tf.data.Dataset.from_tensor_slices((train_chars, train_labels_one_hot))\n",
    "val_char_dataset = tf.data.Dataset.from_tensor_slices((val_chars, val_labels_one_hot))\n",
    "test_char_dataset = tf.data.Dataset.from_tensor_slices((test_chars, test_labels_one_hot))"
   ]
  },
  {
   "cell_type": "code",
   "execution_count": 100,
   "id": "254c5e54",
   "metadata": {},
   "outputs": [],
   "source": [
    "# turn our datasets into prefetched datasets\n",
    "train_char_dataset = train_char_dataset.batch(32).prefetch(tf.data.AUTOTUNE)\n",
    "val_char_dataset = val_char_dataset.batch(32).prefetch(tf.data.AUTOTUNE)\n",
    "test_char_dataset = test_char_dataset.batch(32).prefetch(tf.data.AUTOTUNE)"
   ]
  },
  {
   "cell_type": "code",
   "execution_count": 101,
   "id": "2be89c10",
   "metadata": {},
   "outputs": [
    {
     "name": "stdout",
     "output_type": "stream",
     "text": [
      "Epoch 1/3\n",
      "  4/562 [..............................] - ETA: 12s - loss: 1.5966 - accuracy: 0.2891 "
     ]
    },
    {
     "name": "stderr",
     "output_type": "stream",
     "text": [
      "2021-11-24 12:35:43.467044: I tensorflow/core/grappler/optimizers/custom_graph_optimizer_registry.cc:112] Plugin optimizer for device_type GPU is enabled.\n"
     ]
    },
    {
     "name": "stdout",
     "output_type": "stream",
     "text": [
      "560/562 [============================>.] - ETA: 0s - loss: 1.3386 - accuracy: 0.4589"
     ]
    },
    {
     "name": "stderr",
     "output_type": "stream",
     "text": [
      "2021-11-24 12:35:54.847435: I tensorflow/core/grappler/optimizers/custom_graph_optimizer_registry.cc:112] Plugin optimizer for device_type GPU is enabled.\n"
     ]
    },
    {
     "name": "stdout",
     "output_type": "stream",
     "text": [
      "562/562 [==============================] - 12s 21ms/step - loss: 1.3370 - accuracy: 0.4597 - val_loss: 1.1415 - val_accuracy: 0.5419\n",
      "Epoch 2/3\n",
      "562/562 [==============================] - 11s 20ms/step - loss: 1.1002 - accuracy: 0.5510 - val_loss: 1.0344 - val_accuracy: 0.5894\n",
      "Epoch 3/3\n",
      "562/562 [==============================] - 12s 22ms/step - loss: 1.0279 - accuracy: 0.5887 - val_loss: 0.9710 - val_accuracy: 0.6107\n",
      "CPU times: user 20.5 s, sys: 10.6 s, total: 31.1 s\n",
      "Wall time: 35.4 s\n"
     ]
    }
   ],
   "source": [
    "%%time\n",
    "model_3_history = model_3.fit(\n",
    "    train_char_dataset,\n",
    "    steps_per_epoch=int(0.1*len(train_char_dataset)),\n",
    "    epochs=3,\n",
    "    validation_data=val_char_dataset,\n",
    "    validation_steps=int(0.1*len(val_char_dataset))\n",
    ")"
   ]
  },
  {
   "cell_type": "markdown",
   "id": "f4c142bf",
   "metadata": {},
   "source": [
    "## Evaluate the model"
   ]
  },
  {
   "cell_type": "code",
   "execution_count": 102,
   "id": "8e713198",
   "metadata": {},
   "outputs": [
    {
     "name": "stdout",
     "output_type": "stream",
     "text": [
      "945/945 [==============================] - 7s 7ms/step - loss: 0.9894 - accuracy: 0.6079\n"
     ]
    },
    {
     "data": {
      "text/plain": [
       "[0.9893648028373718, 0.6079041361808777]"
      ]
     },
     "execution_count": 102,
     "metadata": {},
     "output_type": "execute_result"
    }
   ],
   "source": [
    "model_3.evaluate(val_char_dataset)"
   ]
  },
  {
   "cell_type": "code",
   "execution_count": 103,
   "id": "801265c1",
   "metadata": {},
   "outputs": [
    {
     "name": "stderr",
     "output_type": "stream",
     "text": [
      "2021-11-24 12:36:25.308061: I tensorflow/core/grappler/optimizers/custom_graph_optimizer_registry.cc:112] Plugin optimizer for device_type GPU is enabled.\n"
     ]
    },
    {
     "data": {
      "text/plain": [
       "array([[0.16599467, 0.27252522, 0.20759068, 0.19078448, 0.16310495],\n",
       "       [0.25547928, 0.40855977, 0.10241961, 0.15999596, 0.07354545],\n",
       "       [0.11659583, 0.3702069 , 0.15571427, 0.2182858 , 0.13919729],\n",
       "       ...,\n",
       "       [0.04107411, 0.0934499 , 0.24775557, 0.0879386 , 0.52978176],\n",
       "       [0.03392501, 0.2553882 , 0.40761217, 0.03865816, 0.2644164 ],\n",
       "       [0.34054157, 0.42945004, 0.09534112, 0.10505561, 0.02961169]],\n",
       "      dtype=float32)"
      ]
     },
     "execution_count": 103,
     "metadata": {},
     "output_type": "execute_result"
    }
   ],
   "source": [
    "model_3_preds = model_3.predict(val_char_dataset)\n",
    "model_3_preds"
   ]
  },
  {
   "cell_type": "code",
   "execution_count": 104,
   "id": "1459108b",
   "metadata": {},
   "outputs": [
    {
     "data": {
      "text/plain": [
       "{'accuracy': 60.79041440487224,\n",
       " 'precision': 0.5992959961385964,\n",
       " 'recall': 0.6079041440487224,\n",
       " 'f1': 0.5923150370241353}"
      ]
     },
     "execution_count": 104,
     "metadata": {},
     "output_type": "execute_result"
    }
   ],
   "source": [
    "model_3_results = calculate_results(val_labels_labelencoded,np.argmax(model_3_preds,axis=1))\n",
    "model_3_results"
   ]
  },
  {
   "cell_type": "markdown",
   "id": "12ca9ffd",
   "metadata": {},
   "source": [
    "# Model 4 - Multi Input Model"
   ]
  },
  {
   "cell_type": "markdown",
   "id": "6c6b54cb",
   "metadata": {},
   "source": [
    "## Create token model"
   ]
  },
  {
   "cell_type": "code",
   "execution_count": 105,
   "id": "7f77b8a9",
   "metadata": {},
   "outputs": [],
   "source": [
    "# setup the token inputs\n",
    "token_inputs = layers.Input(shape=(),dtype=tf.string,name='token_input_layer')\n",
    "token_embeddings = emb_hub_layer(token_inputs)\n",
    "token_output = layers.Dense(128,activation='relu')(token_embeddings)\n",
    "token_model = tf.keras.Model(token_inputs,token_output,name='token_model')"
   ]
  },
  {
   "cell_type": "markdown",
   "id": "11030f0a",
   "metadata": {},
   "source": [
    "## Create char model"
   ]
  },
  {
   "cell_type": "code",
   "execution_count": 106,
   "id": "c2578ce3",
   "metadata": {},
   "outputs": [],
   "source": [
    "char_inputs = layers.Input(shape=(1,),dtype=tf.string,name='char_input_layer')\n",
    "char_vectors = char_vectorizer(char_inputs)\n",
    "char_embeddings = char_embed(char_vectors)\n",
    "char_bi_lstm = layers.Bidirectional(layers.LSTM(32))(char_embeddings)\n",
    "char_model = tf.keras.Model(char_inputs,char_bi_lstm,name='char_model')"
   ]
  },
  {
   "cell_type": "markdown",
   "id": "9fe5506a",
   "metadata": {},
   "source": [
    "## Concatenate the layers"
   ]
  },
  {
   "cell_type": "code",
   "execution_count": 107,
   "id": "0853570d",
   "metadata": {},
   "outputs": [],
   "source": [
    "token_char_concat = layers.Concatenate(name='token_char_hybrid')([token_model.output,char_model.output])"
   ]
  },
  {
   "cell_type": "markdown",
   "id": "f369acc1",
   "metadata": {},
   "source": [
    "## Create Output Layers and add Dropout"
   ]
  },
  {
   "cell_type": "code",
   "execution_count": 108,
   "id": "a8634221",
   "metadata": {},
   "outputs": [],
   "source": [
    "combined_dropout = layers.Dropout(0.5)(token_char_concat)\n",
    "combined_dense = layers.Dense(128,activation='relu')(combined_dropout)\n",
    "final_dropout = layers.Dropout(0.5)(combined_dense)\n",
    "outputs = layers.Dense(num_classes,activation='softmax',name='output_layer')(final_dropout)"
   ]
  },
  {
   "cell_type": "markdown",
   "id": "74e13659",
   "metadata": {},
   "source": [
    "## Combining everything for model 4"
   ]
  },
  {
   "cell_type": "code",
   "execution_count": 109,
   "id": "adf00b4c",
   "metadata": {},
   "outputs": [],
   "source": [
    "model_4 = tf.keras.Model([token_model.input,char_model.input],outputs,name='model_4')"
   ]
  },
  {
   "cell_type": "code",
   "execution_count": 110,
   "id": "d90c49ac",
   "metadata": {},
   "outputs": [
    {
     "name": "stdout",
     "output_type": "stream",
     "text": [
      "Model: \"model_4\"\n",
      "__________________________________________________________________________________________________\n",
      "Layer (type)                    Output Shape         Param #     Connected to                     \n",
      "==================================================================================================\n",
      "char_input_layer (InputLayer)   [(None, 1)]          0                                            \n",
      "__________________________________________________________________________________________________\n",
      "token_input_layer (InputLayer)  [(None,)]            0                                            \n",
      "__________________________________________________________________________________________________\n",
      "text_vectorization_1 (TextVecto (None, 290)          0           char_input_layer[0][0]           \n",
      "__________________________________________________________________________________________________\n",
      "keras_layer (KerasLayer)        (None, 250)          252343750   token_input_layer[0][0]          \n",
      "__________________________________________________________________________________________________\n",
      "embedding_1 (Embedding)         (None, 290, 25)      700         text_vectorization_1[1][0]       \n",
      "__________________________________________________________________________________________________\n",
      "dense (Dense)                   (None, 128)          32128       keras_layer[1][0]                \n",
      "__________________________________________________________________________________________________\n",
      "bidirectional (Bidirectional)   (None, 64)           14848       embedding_1[1][0]                \n",
      "__________________________________________________________________________________________________\n",
      "token_char_hybrid (Concatenate) (None, 192)          0           dense[0][0]                      \n",
      "                                                                 bidirectional[0][0]              \n",
      "__________________________________________________________________________________________________\n",
      "dropout (Dropout)               (None, 192)          0           token_char_hybrid[0][0]          \n",
      "__________________________________________________________________________________________________\n",
      "dense_1 (Dense)                 (None, 128)          24704       dropout[0][0]                    \n",
      "__________________________________________________________________________________________________\n",
      "dropout_1 (Dropout)             (None, 128)          0           dense_1[0][0]                    \n",
      "__________________________________________________________________________________________________\n",
      "output_layer (Dense)            (None, 5)            645         dropout_1[0][0]                  \n",
      "==================================================================================================\n",
      "Total params: 252,416,775\n",
      "Trainable params: 73,025\n",
      "Non-trainable params: 252,343,750\n",
      "__________________________________________________________________________________________________\n"
     ]
    }
   ],
   "source": [
    "model_4.summary()"
   ]
  },
  {
   "cell_type": "markdown",
   "id": "c5b41ca1",
   "metadata": {},
   "source": [
    "## Plot the summary of our model"
   ]
  },
  {
   "cell_type": "code",
   "execution_count": 111,
   "id": "38b8df20",
   "metadata": {},
   "outputs": [],
   "source": [
    "from tensorflow.keras.utils import plot_model"
   ]
  },
  {
   "cell_type": "code",
   "execution_count": 112,
   "id": "288203af",
   "metadata": {},
   "outputs": [
    {
     "data": {
      "image/png": "[encoded data removed]",
      "text/plain": [
       "<IPython.core.display.Image object>"
      ]
     },
     "execution_count": 112,
     "metadata": {},
     "output_type": "execute_result"
    }
   ],
   "source": [
    "plot_model(model_4, show_shapes=True)"
   ]
  },
  {
   "cell_type": "markdown",
   "id": "cf3dcea0",
   "metadata": {},
   "source": [
    "## Compile the model"
   ]
  },
  {
   "cell_type": "code",
   "execution_count": 113,
   "id": "4e3e120f",
   "metadata": {},
   "outputs": [],
   "source": [
    "model_4.compile(\n",
    "    optimizer=tf.keras.optimizers.Adam(),\n",
    "    loss=tf.keras.losses.CategoricalCrossentropy(),\n",
    "    metrics='accuracy'\n",
    ")"
   ]
  },
  {
   "cell_type": "markdown",
   "id": "1388c648",
   "metadata": {},
   "source": [
    "## Prepare the data with tf.data API"
   ]
  },
  {
   "cell_type": "code",
   "execution_count": 114,
   "id": "e3c8ca52",
   "metadata": {},
   "outputs": [
    {
     "data": {
      "text/plain": [
       "array(['to investigate the efficacy of @ weeks of daily low-dose oral prednisolone in improving pain , mobility , and systemic low-grade inflammation in the short term and whether the effect would be sustained at @ weeks in older adults with moderate to severe knee osteoarthritis ( oa ) .',\n",
       "       'a total of @ patients with primary knee oa were randomized @:@ ; @ received @ mg/day of prednisolone and @ received placebo for @ weeks .',\n",
       "       'outcome measures included pain reduction and improvement in function scores and systemic inflammation markers .',\n",
       "       'pain was assessed using the visual analog pain scale ( @-@ mm ) .',\n",
       "       'secondary outcome measures included the western ontario and mcmaster universities osteoarthritis index scores , patient global assessment ( pga ) of the severity of knee oa , and @-min walk distance ( @mwd ) .',\n",
       "       'serum levels of interleukin @ ( il-@ ) , il-@ , tumor necrosis factor ( tnf ) - , and high-sensitivity c-reactive protein ( hscrp ) were measured .',\n",
       "       'there was a clinically relevant reduction in the intervention group compared to the placebo group for knee pain , physical function , pga , and @mwd at @ weeks .',\n",
       "       'the mean difference between treatment arms ( @ % ci ) was @ ( @-@ @ ) , p < @ ; @ ( @-@ @ ) , p < @ ; @ ( @-@ @ ) , p < @ ; and @ ( @-@ @ ) , p < @ , respectively .',\n",
       "       'further , there was a clinically relevant reduction in the serum levels of il-@ , il-@ , tnf - , and hscrp at @ weeks in the intervention group when compared to the placebo group .',\n",
       "       'these differences remained significant at @ weeks .'],\n",
       "      dtype=object)"
      ]
     },
     "execution_count": 114,
     "metadata": {},
     "output_type": "execute_result"
    }
   ],
   "source": [
    "train_sentences[:10]"
   ]
  },
  {
   "cell_type": "code",
   "execution_count": 115,
   "id": "9e6f5561",
   "metadata": {},
   "outputs": [],
   "source": [
    "# prepare train data\n",
    "train_tc_data = tf.data.Dataset.from_tensor_slices((train_sentences,train_chars))\n",
    "train_tc_labels = tf.data.Dataset.from_tensor_slices(train_labels_one_hot)\n",
    "train_tc_dataset = tf.data.Dataset.zip((train_tc_data,train_tc_labels))\n",
    "\n",
    "# prepare val data\n",
    "val_tc_data = tf.data.Dataset.from_tensor_slices((val_sentences,val_chars))\n",
    "val_tc_labels = tf.data.Dataset.from_tensor_slices(val_labels_one_hot)\n",
    "val_tc_dataset = tf.data.Dataset.zip((val_tc_data,val_tc_labels))"
   ]
  },
  {
   "cell_type": "code",
   "execution_count": 116,
   "id": "2a4de1c2",
   "metadata": {},
   "outputs": [],
   "source": [
    "# turn our datasets into prefetched datasets\n",
    "train_tc_dataset = train_tc_dataset.batch(128).prefetch(tf.data.AUTOTUNE)\n",
    "val_tc_dataset = val_tc_dataset.batch(128).prefetch(tf.data.AUTOTUNE)"
   ]
  },
  {
   "cell_type": "code",
   "execution_count": 117,
   "id": "997d5dc6",
   "metadata": {},
   "outputs": [
    {
     "data": {
      "text/plain": [
       "<PrefetchDataset shapes: (((None,), (None,)), (None, 5)), types: ((tf.string, tf.string), tf.float64)>"
      ]
     },
     "execution_count": 117,
     "metadata": {},
     "output_type": "execute_result"
    }
   ],
   "source": [
    "train_tc_dataset"
   ]
  },
  {
   "cell_type": "markdown",
   "id": "e79b42ff",
   "metadata": {},
   "source": [
    "## Fit and Evaluate the Model"
   ]
  },
  {
   "cell_type": "code",
   "execution_count": 118,
   "id": "376d408f",
   "metadata": {},
   "outputs": [
    {
     "name": "stdout",
     "output_type": "stream",
     "text": [
      "Epoch 1/3\n"
     ]
    },
    {
     "name": "stderr",
     "output_type": "stream",
     "text": [
      "2021-11-24 12:36:31.997680: I tensorflow/core/grappler/optimizers/custom_graph_optimizer_registry.cc:112] Plugin optimizer for device_type GPU is enabled.\n"
     ]
    },
    {
     "name": "stdout",
     "output_type": "stream",
     "text": [
      "140/140 [==============================] - ETA: 0s - loss: 1.1943 - accuracy: 0.5047"
     ]
    },
    {
     "name": "stderr",
     "output_type": "stream",
     "text": [
      "2021-11-24 12:36:49.990848: I tensorflow/core/grappler/optimizers/custom_graph_optimizer_registry.cc:112] Plugin optimizer for device_type GPU is enabled.\n"
     ]
    },
    {
     "name": "stdout",
     "output_type": "stream",
     "text": [
      "140/140 [==============================] - 21s 133ms/step - loss: 1.1943 - accuracy: 0.5047 - val_loss: 0.9287 - val_accuracy: 0.6410\n",
      "Epoch 2/3\n",
      "140/140 [==============================] - 19s 135ms/step - loss: 0.9318 - accuracy: 0.6282 - val_loss: 0.8420 - val_accuracy: 0.6776\n",
      "Epoch 3/3\n",
      "140/140 [==============================] - 19s 136ms/step - loss: 0.8674 - accuracy: 0.6632 - val_loss: 0.7776 - val_accuracy: 0.6997\n"
     ]
    }
   ],
   "source": [
    "with tf.device(\"/cpu:0\"):# fit the model\n",
    "    model_4_history = model_4.fit(\n",
    "        train_tc_dataset,\n",
    "        steps_per_epoch=int(0.1*len(train_tc_dataset)),\n",
    "        epochs=3,\n",
    "        validation_data = val_tc_dataset,\n",
    "        validation_steps = int(0.1*len(val_tc_dataset)),\n",
    "        verbose=1\n",
    "    )"
   ]
  },
  {
   "cell_type": "code",
   "execution_count": 119,
   "id": "8ec3e3a5",
   "metadata": {},
   "outputs": [
    {
     "name": "stderr",
     "output_type": "stream",
     "text": [
      "2021-11-24 12:37:29.356965: I tensorflow/core/grappler/optimizers/custom_graph_optimizer_registry.cc:112] Plugin optimizer for device_type GPU is enabled.\n"
     ]
    }
   ],
   "source": [
    "with tf.device(\"/cpu:0\"):# fit the model\n",
    "    model_4_preds = model_4.predict(val_tc_dataset)"
   ]
  },
  {
   "cell_type": "code",
   "execution_count": 120,
   "id": "3ef3d45b",
   "metadata": {},
   "outputs": [],
   "source": [
    "model_4_preds_classes = np.argmax(model_4_preds,axis=1)"
   ]
  },
  {
   "cell_type": "code",
   "execution_count": 124,
   "id": "96d56188",
   "metadata": {},
   "outputs": [
    {
     "data": {
      "text/plain": [
       "{'accuracy': 69.77028995101284,\n",
       " 'precision': 0.7065205043704781,\n",
       " 'recall': 0.6977028995101284,\n",
       " 'f1': 0.6868376822885847}"
      ]
     },
     "execution_count": 124,
     "metadata": {},
     "output_type": "execute_result"
    }
   ],
   "source": [
    "model_4_results = calculate_results(val_labels_labelencoded,model_4_preds_classes)\n",
    "model_4_results"
   ]
  },
  {
   "cell_type": "code",
   "execution_count": 125,
   "id": "f1bdc158",
   "metadata": {},
   "outputs": [
    {
     "data": {
      "text/plain": [
       "{'accuracy': 77.35005957897523,\n",
       " 'precision': 0.7752719358558394,\n",
       " 'recall': 0.7735005957897524,\n",
       " 'f1': 0.7708692598111563}"
      ]
     },
     "execution_count": 125,
     "metadata": {},
     "output_type": "execute_result"
    }
   ],
   "source": [
    "model_1_results"
   ]
  },
  {
   "cell_type": "markdown",
   "id": "081c61d8",
   "metadata": {},
   "source": [
    "# Model 5 - Label Sequence Optimization Layer"
   ]
  },
  {
   "cell_type": "markdown",
   "id": "679ae779",
   "metadata": {},
   "source": [
    "## Create positional embedding"
   ]
  },
  {
   "cell_type": "markdown",
   "id": "dafa8b64",
   "metadata": {},
   "source": [
    "### For line_numbers"
   ]
  },
  {
   "cell_type": "code",
   "execution_count": 126,
   "id": "44bb76a4",
   "metadata": {},
   "outputs": [
    {
     "data": {
      "text/html": [
       "<div>\n",
       "<style scoped>\n",
       "    .dataframe tbody tr th:only-of-type {\n",
       "        vertical-align: middle;\n",
       "    }\n",
       "\n",
       "    .dataframe tbody tr th {\n",
       "        vertical-align: top;\n",
       "    }\n",
       "\n",
       "    .dataframe thead th {\n",
       "        text-align: right;\n",
       "    }\n",
       "</style>\n",
       "<table border=\"1\" class=\"dataframe\">\n",
       "  <thead>\n",
       "    <tr style=\"text-align: right;\">\n",
       "      <th></th>\n",
       "      <th>line_number</th>\n",
       "      <th>max_line</th>\n",
       "      <th>sentences</th>\n",
       "      <th>target</th>\n",
       "    </tr>\n",
       "  </thead>\n",
       "  <tbody>\n",
       "    <tr>\n",
       "      <th>0</th>\n",
       "      <td>0</td>\n",
       "      <td>11</td>\n",
       "      <td>to investigate the efficacy of @ weeks of dail...</td>\n",
       "      <td>OBJECTIVE</td>\n",
       "    </tr>\n",
       "    <tr>\n",
       "      <th>1</th>\n",
       "      <td>1</td>\n",
       "      <td>11</td>\n",
       "      <td>a total of @ patients with primary knee oa wer...</td>\n",
       "      <td>METHODS</td>\n",
       "    </tr>\n",
       "    <tr>\n",
       "      <th>2</th>\n",
       "      <td>2</td>\n",
       "      <td>11</td>\n",
       "      <td>outcome measures included pain reduction and i...</td>\n",
       "      <td>METHODS</td>\n",
       "    </tr>\n",
       "    <tr>\n",
       "      <th>3</th>\n",
       "      <td>3</td>\n",
       "      <td>11</td>\n",
       "      <td>pain was assessed using the visual analog pain...</td>\n",
       "      <td>METHODS</td>\n",
       "    </tr>\n",
       "    <tr>\n",
       "      <th>4</th>\n",
       "      <td>4</td>\n",
       "      <td>11</td>\n",
       "      <td>secondary outcome measures included the wester...</td>\n",
       "      <td>METHODS</td>\n",
       "    </tr>\n",
       "  </tbody>\n",
       "</table>\n",
       "</div>"
      ],
      "text/plain": [
       "   line_number  max_line                                          sentences  \\\n",
       "0            0        11  to investigate the efficacy of @ weeks of dail...   \n",
       "1            1        11  a total of @ patients with primary knee oa wer...   \n",
       "2            2        11  outcome measures included pain reduction and i...   \n",
       "3            3        11  pain was assessed using the visual analog pain...   \n",
       "4            4        11  secondary outcome measures included the wester...   \n",
       "\n",
       "      target  \n",
       "0  OBJECTIVE  \n",
       "1    METHODS  \n",
       "2    METHODS  \n",
       "3    METHODS  \n",
       "4    METHODS  "
      ]
     },
     "execution_count": 126,
     "metadata": {},
     "output_type": "execute_result"
    }
   ],
   "source": [
    "df_train.head()"
   ]
  },
  {
   "cell_type": "code",
   "execution_count": 136,
   "id": "6c631fac",
   "metadata": {},
   "outputs": [
    {
     "data": {
      "text/plain": [
       "<AxesSubplot:>"
      ]
     },
     "execution_count": 136,
     "metadata": {},
     "output_type": "execute_result"
    },
    {
     "data": {
      "image/png": "[encoded data removed]",
      "text/plain": [
       "<Figure size 432x288 with 1 Axes>"
      ]
     },
     "metadata": {
      "needs_background": "light"
     },
     "output_type": "display_data"
    }
   ],
   "source": [
    "df_train.line_number.hist()"
   ]
  },
  {
   "cell_type": "code",
   "execution_count": 130,
   "id": "b5120f90",
   "metadata": {},
   "outputs": [],
   "source": [
    "# one hot encode our numbers with a max depth of 15, e.g. max number of lines in abstract is 15\n",
    "train_line_numbers_one_hot = tf.one_hot(df_train.line_number.to_numpy(),depth=15)\n",
    "val_line_numbers_one_hot = tf.one_hot(df_val.line_number.to_numpy(),depth=15)\n",
    "test_line_numbers_one_hot = tf.one_hot(df_test.line_number.to_numpy(),depth=15)"
   ]
  },
  {
   "cell_type": "code",
   "execution_count": 149,
   "id": "c6fcbf8e",
   "metadata": {},
   "outputs": [
    {
     "data": {
      "text/plain": [
       "(TensorShape([180040, 15]), 2)"
      ]
     },
     "execution_count": 149,
     "metadata": {},
     "output_type": "execute_result"
    }
   ],
   "source": [
    "train_line_numbers_one_hot.shape, train_line_numbers_one_hot.ndim"
   ]
  },
  {
   "cell_type": "code",
   "execution_count": 129,
   "id": "50ec0cfb",
   "metadata": {},
   "outputs": [
    {
     "data": {
      "text/plain": [
       "<tf.Tensor: shape=(10, 15), dtype=float32, numpy=\n",
       "array([[1., 0., 0., 0., 0., 0., 0., 0., 0., 0., 0., 0., 0., 0., 0.],\n",
       "       [0., 1., 0., 0., 0., 0., 0., 0., 0., 0., 0., 0., 0., 0., 0.],\n",
       "       [0., 0., 1., 0., 0., 0., 0., 0., 0., 0., 0., 0., 0., 0., 0.],\n",
       "       [0., 0., 0., 1., 0., 0., 0., 0., 0., 0., 0., 0., 0., 0., 0.],\n",
       "       [0., 0., 0., 0., 1., 0., 0., 0., 0., 0., 0., 0., 0., 0., 0.],\n",
       "       [0., 0., 0., 0., 0., 1., 0., 0., 0., 0., 0., 0., 0., 0., 0.],\n",
       "       [0., 0., 0., 0., 0., 0., 1., 0., 0., 0., 0., 0., 0., 0., 0.],\n",
       "       [0., 0., 0., 0., 0., 0., 0., 1., 0., 0., 0., 0., 0., 0., 0.],\n",
       "       [0., 0., 0., 0., 0., 0., 0., 0., 1., 0., 0., 0., 0., 0., 0.],\n",
       "       [0., 0., 0., 0., 0., 0., 0., 0., 0., 1., 0., 0., 0., 0., 0.]],\n",
       "      dtype=float32)>"
      ]
     },
     "execution_count": 129,
     "metadata": {},
     "output_type": "execute_result"
    }
   ],
   "source": [
    "train_line_numbers_one_hot[:10]"
   ]
  },
  {
   "cell_type": "markdown",
   "id": "df67526b",
   "metadata": {},
   "source": [
    "### For max_lines"
   ]
  },
  {
   "cell_type": "code",
   "execution_count": 140,
   "id": "897f7e15",
   "metadata": {},
   "outputs": [
    {
     "data": {
      "text/plain": [
       "<AxesSubplot:>"
      ]
     },
     "execution_count": 140,
     "metadata": {},
     "output_type": "execute_result"
    },
    {
     "data": {
      "image/png": "[encoded data removed]",
      "text/plain": [
       "<Figure size 432x288 with 1 Axes>"
      ]
     },
     "metadata": {
      "needs_background": "light"
     },
     "output_type": "display_data"
    }
   ],
   "source": [
    "# plot distribution\n",
    "df_train.max_line.hist()"
   ]
  },
  {
   "cell_type": "code",
   "execution_count": 141,
   "id": "3f4132cd",
   "metadata": {},
   "outputs": [
    {
     "data": {
      "text/plain": [
       "20.0"
      ]
     },
     "execution_count": 141,
     "metadata": {},
     "output_type": "execute_result"
    }
   ],
   "source": [
    "# check threshold which coveres 98%\n",
    "np.quantile(df_train.max_line,0.98)"
   ]
  },
  {
   "cell_type": "code",
   "execution_count": 142,
   "id": "9163d48a",
   "metadata": {},
   "outputs": [],
   "source": [
    "# one hot encode\n",
    "train_max_line_one_hot = tf.one_hot(df_train.max_line.to_numpy(),depth=20)\n",
    "val_max_line_one_hot = tf.one_hot(df_val.max_line.to_numpy(),depth=20)\n",
    "test_max_line_one_hot = tf.one_hot(df_test.max_line.to_numpy(),depth=20)"
   ]
  },
  {
   "cell_type": "code",
   "execution_count": 144,
   "id": "a34be453",
   "metadata": {},
   "outputs": [
    {
     "data": {
      "text/plain": [
       "<tf.Tensor: shape=(5, 20), dtype=float32, numpy=\n",
       "array([[0., 0., 0., 0., 0., 0., 0., 0., 0., 0., 0., 1., 0., 0., 0., 0.,\n",
       "        0., 0., 0., 0.],\n",
       "       [0., 0., 0., 0., 0., 0., 0., 0., 0., 0., 0., 1., 0., 0., 0., 0.,\n",
       "        0., 0., 0., 0.],\n",
       "       [0., 0., 0., 0., 0., 0., 0., 0., 0., 0., 1., 0., 0., 0., 0., 0.,\n",
       "        0., 0., 0., 0.],\n",
       "       [0., 0., 0., 0., 0., 0., 0., 0., 0., 0., 1., 0., 0., 0., 0., 0.,\n",
       "        0., 0., 0., 0.],\n",
       "       [0., 0., 0., 0., 0., 0., 0., 0., 0., 0., 1., 0., 0., 0., 0., 0.,\n",
       "        0., 0., 0., 0.]], dtype=float32)>"
      ]
     },
     "execution_count": 144,
     "metadata": {},
     "output_type": "execute_result"
    }
   ],
   "source": [
    "train_max_line_one_hot[10:15]"
   ]
  },
  {
   "cell_type": "markdown",
   "id": "9591c943",
   "metadata": {},
   "source": [
    "## Build the tribrid embedding model"
   ]
  },
  {
   "cell_type": "markdown",
   "id": "bb86353d",
   "metadata": {},
   "source": [
    "1. Build token embedding model\n",
    "2. Build character embedding model\n",
    "3. Build line_number embedding model\n",
    "4. Build max_line number embedding model\n",
    "5. Concatenate 1&2 with tf.keras.layers.Concatenate\n",
    "6. Combine 3&4&5 as above\n",
    "7. create an output layer\n",
    "8. Build a model with 1,2,3,4 as inputs and output layer"
   ]
  },
  {
   "cell_type": "markdown",
   "id": "c8b7bb8a",
   "metadata": {},
   "source": [
    "### Build token embedding model"
   ]
  },
  {
   "cell_type": "code",
   "execution_count": 145,
   "id": "bfea5cc1",
   "metadata": {},
   "outputs": [],
   "source": [
    "# setup the token inputs\n",
    "token_inputs = layers.Input(shape=(),dtype=tf.string,name='token_input_layer')\n",
    "token_embeddings = emb_hub_layer(token_inputs)\n",
    "token_output = layers.Dense(128,activation='relu')(token_embeddings)\n",
    "token_model = tf.keras.Model(token_inputs,token_output,name='token_model')"
   ]
  },
  {
   "cell_type": "markdown",
   "id": "ebaf85e2",
   "metadata": {},
   "source": [
    "### Build the char embedding model"
   ]
  },
  {
   "cell_type": "code",
   "execution_count": 146,
   "id": "96d61020",
   "metadata": {},
   "outputs": [],
   "source": [
    "char_inputs = layers.Input(shape=(1,),dtype=tf.string,name='char_input_layer')\n",
    "char_vectors = char_vectorizer(char_inputs)\n",
    "char_embeddings = char_embed(char_vectors)\n",
    "char_bi_lstm = layers.Bidirectional(layers.LSTM(32))(char_embeddings)\n",
    "char_model = tf.keras.Model(char_inputs,char_bi_lstm,name='char_model')"
   ]
  },
  {
   "cell_type": "markdown",
   "id": "4df26fb3",
   "metadata": {},
   "source": [
    "### Build the line_number model"
   ]
  },
  {
   "cell_type": "code",
   "execution_count": 211,
   "id": "0deba8c8",
   "metadata": {},
   "outputs": [],
   "source": [
    "ln_input = layers.Input(shape=[15],dtype=tf.float32,name='line_number_input_layer')\n",
    "ln_output = layers.Dense(32,activation='relu',name='line_number_output_layer')(ln_input)\n",
    "ln_model = tf.keras.Model(ln_input,ln_output,name='line_number_model')"
   ]
  },
  {
   "cell_type": "markdown",
   "id": "92b6eb8d",
   "metadata": {},
   "source": [
    "### Build a max_line model"
   ]
  },
  {
   "cell_type": "code",
   "execution_count": 212,
   "id": "4e2e181c",
   "metadata": {},
   "outputs": [],
   "source": [
    "ml_input = layers.Input(shape=[20],dtype=tf.float32,name='max_line_input_layer')\n",
    "ml_output = layers.Dense(32,activation='relu',name='max_line_output_layer')(ml_input)\n",
    "ml_model = tf.keras.Model(ml_input,ml_output,name='max_line_model')"
   ]
  },
  {
   "cell_type": "markdown",
   "id": "3af3d44a",
   "metadata": {},
   "source": [
    "### Concatenate 1 & 2"
   ]
  },
  {
   "cell_type": "code",
   "execution_count": 213,
   "id": "c8fc0f61",
   "metadata": {},
   "outputs": [],
   "source": [
    "concat_layer1 = layers.Concatenate(name='concat_layer1')([token_model.output,char_model.output])"
   ]
  },
  {
   "cell_type": "markdown",
   "id": "391193cc",
   "metadata": {},
   "source": [
    "### Concat 3&4&5"
   ]
  },
  {
   "cell_type": "code",
   "execution_count": 214,
   "id": "06f9052d",
   "metadata": {},
   "outputs": [],
   "source": [
    "concat_layer2 = layers.Concatenate(name='concat_layer2')([concat_layer1,ln_model.output,ml_model.output])"
   ]
  },
  {
   "cell_type": "markdown",
   "id": "569d639d",
   "metadata": {},
   "source": [
    "### create output layer"
   ]
  },
  {
   "cell_type": "code",
   "execution_count": 215,
   "id": "1694729f",
   "metadata": {},
   "outputs": [],
   "source": [
    "dropout_layer1 = layers.Dropout(0.5)(concat_layer2)\n",
    "layer_dense = layers.Dense(128,activation='relu')(dropout_layer1)\n",
    "final_dropout = layers.Dropout(0.5)(layer_dense)\n",
    "outputs = layers.Dense(num_classes,activation='softmax')(final_dropout)"
   ]
  },
  {
   "cell_type": "markdown",
   "id": "cabea3e0",
   "metadata": {},
   "source": [
    "### Create the model"
   ]
  },
  {
   "cell_type": "code",
   "execution_count": 216,
   "id": "cb1a48ac",
   "metadata": {},
   "outputs": [],
   "source": [
    "model_5 = tf.keras.Model([token_model.input,char_model.input,ln_model.input,ml_model.input],outputs,name='model_5')"
   ]
  },
  {
   "cell_type": "markdown",
   "id": "50a659e8",
   "metadata": {},
   "source": [
    "### Visualize the model"
   ]
  },
  {
   "cell_type": "code",
   "execution_count": 217,
   "id": "169ef8f5",
   "metadata": {},
   "outputs": [
    {
     "data": {
      "image/png": "[encoded data removed]",
      "text/plain": [
       "<IPython.core.display.Image object>"
      ]
     },
     "execution_count": 217,
     "metadata": {},
     "output_type": "execute_result"
    }
   ],
   "source": [
    "plot_model(model_5,show_shapes=True)"
   ]
  },
  {
   "cell_type": "code",
   "execution_count": 218,
   "id": "4880aea2",
   "metadata": {},
   "outputs": [
    {
     "name": "stdout",
     "output_type": "stream",
     "text": [
      "Model: \"model_5\"\n",
      "__________________________________________________________________________________________________\n",
      "Layer (type)                    Output Shape         Param #     Connected to                     \n",
      "==================================================================================================\n",
      "char_input_layer (InputLayer)   [(None, 1)]          0                                            \n",
      "__________________________________________________________________________________________________\n",
      "token_input_layer (InputLayer)  [(None,)]            0                                            \n",
      "__________________________________________________________________________________________________\n",
      "text_vectorization_1 (TextVecto (None, 290)          0           char_input_layer[0][0]           \n",
      "__________________________________________________________________________________________________\n",
      "keras_layer (KerasLayer)        (None, 250)          252343750   token_input_layer[0][0]          \n",
      "__________________________________________________________________________________________________\n",
      "embedding_1 (Embedding)         (None, 290, 25)      700         text_vectorization_1[2][0]       \n",
      "__________________________________________________________________________________________________\n",
      "dense_2 (Dense)                 (None, 128)          32128       keras_layer[2][0]                \n",
      "__________________________________________________________________________________________________\n",
      "bidirectional_1 (Bidirectional) (None, 64)           14848       embedding_1[2][0]                \n",
      "__________________________________________________________________________________________________\n",
      "line_number_input_layer (InputL [(None, 15)]         0                                            \n",
      "__________________________________________________________________________________________________\n",
      "max_line_input_layer (InputLaye [(None, 20)]         0                                            \n",
      "__________________________________________________________________________________________________\n",
      "concat_layer1 (Concatenate)     (None, 192)          0           dense_2[0][0]                    \n",
      "                                                                 bidirectional_1[0][0]            \n",
      "__________________________________________________________________________________________________\n",
      "line_number_output_layer (Dense (None, 32)           512         line_number_input_layer[0][0]    \n",
      "__________________________________________________________________________________________________\n",
      "max_line_output_layer (Dense)   (None, 32)           672         max_line_input_layer[0][0]       \n",
      "__________________________________________________________________________________________________\n",
      "concat_layer2 (Concatenate)     (None, 256)          0           concat_layer1[0][0]              \n",
      "                                                                 line_number_output_layer[0][0]   \n",
      "                                                                 max_line_output_layer[0][0]      \n",
      "__________________________________________________________________________________________________\n",
      "dropout_12 (Dropout)            (None, 256)          0           concat_layer2[0][0]              \n",
      "__________________________________________________________________________________________________\n",
      "dense_13 (Dense)                (None, 128)          32896       dropout_12[0][0]                 \n",
      "__________________________________________________________________________________________________\n",
      "dropout_13 (Dropout)            (None, 128)          0           dense_13[0][0]                   \n",
      "__________________________________________________________________________________________________\n",
      "dense_14 (Dense)                (None, 5)            645         dropout_13[0][0]                 \n",
      "==================================================================================================\n",
      "Total params: 252,426,151\n",
      "Trainable params: 82,401\n",
      "Non-trainable params: 252,343,750\n",
      "__________________________________________________________________________________________________\n"
     ]
    }
   ],
   "source": [
    "model_5.summary()"
   ]
  },
  {
   "cell_type": "markdown",
   "id": "4490e269",
   "metadata": {},
   "source": [
    "### compile the model"
   ]
  },
  {
   "cell_type": "code",
   "execution_count": 219,
   "id": "f1d3166c",
   "metadata": {},
   "outputs": [],
   "source": [
    "model_5.compile(\n",
    "    optimizer=tf.keras.optimizers.Adam(),\n",
    "    loss=tf.keras.losses.CategoricalCrossentropy(label_smoothing=0.2),\n",
    "    metrics='accuracy'\n",
    ")"
   ]
  },
  {
   "cell_type": "markdown",
   "id": "09bc028f",
   "metadata": {},
   "source": [
    "## create the dataset"
   ]
  },
  {
   "cell_type": "code",
   "execution_count": 220,
   "id": "bc5297ea",
   "metadata": {},
   "outputs": [],
   "source": [
    "# prepare train data\n",
    "train_tclnml_data = tf.data.Dataset.from_tensor_slices((train_sentences,train_chars,train_line_numbers_one_hot,train_max_line_one_hot))\n",
    "train_tclnml_labels = tf.data.Dataset.from_tensor_slices(train_labels_one_hot)\n",
    "train_tclnml_dataset = tf.data.Dataset.zip((train_tclnml_data,train_tclnml_labels))\n",
    "\n",
    "# prepare val data\n",
    "val_tclnml_data = tf.data.Dataset.from_tensor_slices((val_sentences,val_chars,val_line_numbers_one_hot,val_max_line_one_hot))\n",
    "val_tclnml_labels = tf.data.Dataset.from_tensor_slices(val_labels_one_hot)\n",
    "val_tclnml_dataset = tf.data.Dataset.zip((val_tclnml_data,val_tclnml_labels))"
   ]
  },
  {
   "cell_type": "code",
   "execution_count": 221,
   "id": "2f86f1f9",
   "metadata": {},
   "outputs": [],
   "source": [
    "# turn our datasets into prefetched datasets\n",
    "train_tclnml_dataset = train_tclnml_dataset.batch(128).prefetch(tf.data.AUTOTUNE)\n",
    "val_tclnml_dataset = val_tclnml_dataset.batch(128).prefetch(tf.data.AUTOTUNE)"
   ]
  },
  {
   "cell_type": "markdown",
   "id": "915e1c31",
   "metadata": {},
   "source": [
    "## Fit the model"
   ]
  },
  {
   "cell_type": "code",
   "execution_count": 222,
   "id": "2fb16ffe",
   "metadata": {},
   "outputs": [
    {
     "name": "stdout",
     "output_type": "stream",
     "text": [
      "Epoch 1/5\n"
     ]
    },
    {
     "name": "stderr",
     "output_type": "stream",
     "text": [
      "2021-11-24 14:36:06.626210: I tensorflow/core/grappler/optimizers/custom_graph_optimizer_registry.cc:112] Plugin optimizer for device_type GPU is enabled.\n"
     ]
    },
    {
     "name": "stdout",
     "output_type": "stream",
     "text": [
      "140/140 [==============================] - ETA: 0s - loss: 0.9232 - accuracy: 0.6412"
     ]
    },
    {
     "name": "stderr",
     "output_type": "stream",
     "text": [
      "2021-11-24 14:36:24.853079: I tensorflow/core/grappler/optimizers/custom_graph_optimizer_registry.cc:112] Plugin optimizer for device_type GPU is enabled.\n"
     ]
    },
    {
     "name": "stdout",
     "output_type": "stream",
     "text": [
      "140/140 [==============================] - 21s 133ms/step - loss: 0.9232 - accuracy: 0.6412 - val_loss: 0.6071 - val_accuracy: 0.7884\n",
      "Epoch 2/5\n",
      "140/140 [==============================] - 17s 124ms/step - loss: 0.6332 - accuracy: 0.7645 - val_loss: 0.5086 - val_accuracy: 0.8091\n",
      "Epoch 3/5\n",
      "140/140 [==============================] - 17s 124ms/step - loss: 0.5781 - accuracy: 0.7822 - val_loss: 0.4871 - val_accuracy: 0.8101\n",
      "Epoch 4/5\n",
      "140/140 [==============================] - 17s 125ms/step - loss: 0.5551 - accuracy: 0.7872 - val_loss: 0.4683 - val_accuracy: 0.8135\n",
      "Epoch 5/5\n",
      "140/140 [==============================] - 18s 129ms/step - loss: 0.5433 - accuracy: 0.7909 - val_loss: 0.4461 - val_accuracy: 0.8244\n"
     ]
    }
   ],
   "source": [
    "with tf.device(\"/cpu:0\"):# fit the model\n",
    "    model_5_history = model_5.fit(\n",
    "        train_tclnml_dataset,\n",
    "        steps_per_epoch=int(0.1*len(train_tclnml_dataset)),\n",
    "        epochs=5,\n",
    "        validation_data = val_tclnml_dataset,\n",
    "        validation_steps = int(0.1*len(val_tclnml_dataset)),\n",
    "        verbose=1\n",
    "    )"
   ]
  },
  {
   "cell_type": "markdown",
   "id": "7c691290",
   "metadata": {},
   "source": [
    "## Evaluate the model"
   ]
  },
  {
   "cell_type": "code",
   "execution_count": 223,
   "id": "90f3a127",
   "metadata": {},
   "outputs": [
    {
     "name": "stderr",
     "output_type": "stream",
     "text": [
      "2021-11-24 14:37:41.658688: I tensorflow/core/grappler/optimizers/custom_graph_optimizer_registry.cc:112] Plugin optimizer for device_type GPU is enabled.\n"
     ]
    }
   ],
   "source": [
    "with tf.device(\"/cpu:0\"):# fit the model\n",
    "    model_5_preds = model_5.predict(val_tclnml_dataset)"
   ]
  },
  {
   "cell_type": "code",
   "execution_count": 224,
   "id": "8c3f9dd0",
   "metadata": {},
   "outputs": [],
   "source": [
    "model_5_preds_classes = np.argmax(model_5_preds,axis=1)"
   ]
  },
  {
   "cell_type": "code",
   "execution_count": 225,
   "id": "2601d777",
   "metadata": {},
   "outputs": [
    {
     "data": {
      "text/plain": [
       "{'accuracy': 82.78829604130809,\n",
       " 'precision': 0.8291194148887439,\n",
       " 'recall': 0.8278829604130808,\n",
       " 'f1': 0.8260516501660519}"
      ]
     },
     "execution_count": 225,
     "metadata": {},
     "output_type": "execute_result"
    }
   ],
   "source": [
    "model_5_results = calculate_results(val_labels_labelencoded,model_5_preds_classes)\n",
    "model_5_results"
   ]
  },
  {
   "cell_type": "code",
   "execution_count": 304,
   "id": "833e063a",
   "metadata": {},
   "outputs": [
    {
     "data": {
      "text/plain": [
       "{'accuracy': 69.77028995101284,\n",
       " 'precision': 0.7065205043704781,\n",
       " 'recall': 0.6977028995101284,\n",
       " 'f1': 0.6868376822885847}"
      ]
     },
     "execution_count": 304,
     "metadata": {},
     "output_type": "execute_result"
    }
   ],
   "source": [
    "model_4_results"
   ]
  },
  {
   "cell_type": "code",
   "execution_count": 226,
   "id": "f435f3c9",
   "metadata": {},
   "outputs": [
    {
     "data": {
      "text/plain": [
       "{'accuracy': 77.35005957897523,\n",
       " 'precision': 0.7752719358558394,\n",
       " 'recall': 0.7735005957897524,\n",
       " 'f1': 0.7708692598111563}"
      ]
     },
     "execution_count": 226,
     "metadata": {},
     "output_type": "execute_result"
    }
   ],
   "source": [
    "model_1_results"
   ]
  },
  {
   "cell_type": "markdown",
   "id": "ebb3d45d",
   "metadata": {},
   "source": [
    "# Understanding CategoricalCrossentropy"
   ]
  },
  {
   "cell_type": "markdown",
   "id": "c5406b7f",
   "metadata": {},
   "source": [
    "## single target vector"
   ]
  },
  {
   "cell_type": "code",
   "execution_count": 299,
   "id": "c48715d6",
   "metadata": {},
   "outputs": [
    {
     "data": {
      "text/plain": [
       "0.10536057"
      ]
     },
     "execution_count": 299,
     "metadata": {},
     "output_type": "execute_result"
    }
   ],
   "source": [
    "y_true = [0, 1, 0]\n",
    "y_pred = [0.05, 0.9, 0.05]\n",
    "# Using 'auto'/'sum_over_batch_size' reduction type.\n",
    "cce = tf.keras.losses.CategoricalCrossentropy(label_smoothing=0.3)\n",
    "cce(y_true, y_pred).numpy()"
   ]
  },
  {
   "cell_type": "code",
   "execution_count": 294,
   "id": "938fbf9f",
   "metadata": {},
   "outputs": [
    {
     "data": {
      "text/plain": [
       "0.6834348672370592"
      ]
     },
     "execution_count": 294,
     "metadata": {},
     "output_type": "execute_result"
    }
   ],
   "source": [
    "-(0.3/3*np.log(0.05)+(0.7+0.3/3)*np.log(0.9)+(0.3/3)*np.log(0.05))"
   ]
  },
  {
   "cell_type": "markdown",
   "id": "21e35c30",
   "metadata": {},
   "source": [
    "## 2 target vectors -> averaged output"
   ]
  },
  {
   "cell_type": "code",
   "execution_count": 300,
   "id": "209a13d0",
   "metadata": {},
   "outputs": [
    {
     "data": {
      "text/plain": [
       "0.10536057"
      ]
     },
     "execution_count": 300,
     "metadata": {},
     "output_type": "execute_result"
    }
   ],
   "source": [
    "y_true = [0, 1, 0]\n",
    "y_pred = [0.05, 0.9, 0.05]\n",
    "# Using 'auto'/'sum_over_batch_size' reduction type.\n",
    "cce = tf.keras.losses.CategoricalCrossentropy()\n",
    "cce(y_true, y_pred).numpy()"
   ]
  },
  {
   "cell_type": "code",
   "execution_count": 302,
   "id": "f156f859",
   "metadata": {},
   "outputs": [
    {
     "data": {
      "text/plain": [
       "2.9957323"
      ]
     },
     "execution_count": 302,
     "metadata": {},
     "output_type": "execute_result"
    }
   ],
   "source": [
    "# batch of size 2\n",
    "y_true = [[1, 0, 0]]\n",
    "y_pred = [[0.05, 0.9, 0.05]]\n",
    "# Using 'auto'/'sum_over_batch_size' reduction type.\n",
    "cce = tf.keras.losses.CategoricalCrossentropy()\n",
    "cce(y_true, y_pred).numpy()"
   ]
  },
  {
   "cell_type": "code",
   "execution_count": 301,
   "id": "99e57504",
   "metadata": {},
   "outputs": [
    {
     "data": {
      "text/plain": [
       "1.5505464"
      ]
     },
     "execution_count": 301,
     "metadata": {},
     "output_type": "execute_result"
    }
   ],
   "source": [
    "# batch of size 2\n",
    "y_true = [[0, 1, 0],[1, 0, 0]]\n",
    "y_pred = [[0.05, 0.9, 0.05],[0.05, 0.9, 0.05]]\n",
    "# Using 'auto'/'sum_over_batch_size' reduction type.\n",
    "cce = tf.keras.losses.CategoricalCrossentropy()\n",
    "cce(y_true, y_pred).numpy()"
   ]
  },
  {
   "cell_type": "code",
   "execution_count": 303,
   "id": "ae54d603",
   "metadata": {},
   "outputs": [
    {
     "data": {
      "text/plain": [
       "1.550546435"
      ]
     },
     "execution_count": 303,
     "metadata": {},
     "output_type": "execute_result"
    }
   ],
   "source": [
    "(2.9957323 + 0.10536057) / 2"
   ]
  },
  {
   "cell_type": "code",
   "execution_count": null,
   "id": "965819ba",
   "metadata": {},
   "outputs": [],
   "source": []
  }
 ],
 "metadata": {
  "kernelspec": {
   "display_name": "Python 3 (ipykernel)",
   "language": "python",
   "name": "python3"
  },
  "language_info": {
   "codemirror_mode": {
    "name": "ipython",
    "version": 3
   },
   "file_extension": ".py",
   "mimetype": "text/x-python",
   "name": "python",
   "nbconvert_exporter": "python",
   "pygments_lexer": "ipython3",
   "version": "3.9.5"
  },
  "toc": {
   "base_numbering": 1,
   "nav_menu": {
    "height": "225px",
    "width": "565px"
   },
   "number_sections": true,
   "sideBar": true,
   "skip_h1_title": false,
   "title_cell": "Table of Contents",
   "title_sidebar": "Contents",
   "toc_cell": false,
   "toc_position": {},
   "toc_section_display": true,
   "toc_window_display": false
  }
 },
 "nbformat": 4,
 "nbformat_minor": 5
}
